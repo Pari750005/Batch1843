{
 "cells": [
  {
   "cell_type": "code",
   "execution_count": 58,
   "id": "e20cb7ee",
   "metadata": {},
   "outputs": [],
   "source": [
    "import pandas as pd\n",
    "import numpy as np\n",
    "import seaborn as sns\n",
    "import matplotlib.pyplot as plt\n",
    "from scipy.stats import zscore\n",
    "from sklearn.preprocessing import StandardScaler\n",
    "from statsmodels.stats.outliers_influence import variance_inflation_factor"
   ]
  },
  {
   "cell_type": "code",
   "execution_count": 13,
   "id": "b6347d8f",
   "metadata": {},
   "outputs": [
    {
     "data": {
      "text/html": [
       "<div>\n",
       "<style scoped>\n",
       "    .dataframe tbody tr th:only-of-type {\n",
       "        vertical-align: middle;\n",
       "    }\n",
       "\n",
       "    .dataframe tbody tr th {\n",
       "        vertical-align: top;\n",
       "    }\n",
       "\n",
       "    .dataframe thead th {\n",
       "        text-align: right;\n",
       "    }\n",
       "</style>\n",
       "<table border=\"1\" class=\"dataframe\">\n",
       "  <thead>\n",
       "    <tr style=\"text-align: right;\">\n",
       "      <th></th>\n",
       "      <th>Unnamed: 0</th>\n",
       "      <th>TV</th>\n",
       "      <th>radio</th>\n",
       "      <th>newspaper</th>\n",
       "      <th>sales</th>\n",
       "    </tr>\n",
       "  </thead>\n",
       "  <tbody>\n",
       "    <tr>\n",
       "      <th>0</th>\n",
       "      <td>1</td>\n",
       "      <td>230.1</td>\n",
       "      <td>37.8</td>\n",
       "      <td>69.2</td>\n",
       "      <td>22.1</td>\n",
       "    </tr>\n",
       "    <tr>\n",
       "      <th>1</th>\n",
       "      <td>2</td>\n",
       "      <td>44.5</td>\n",
       "      <td>39.3</td>\n",
       "      <td>45.1</td>\n",
       "      <td>10.4</td>\n",
       "    </tr>\n",
       "    <tr>\n",
       "      <th>2</th>\n",
       "      <td>3</td>\n",
       "      <td>17.2</td>\n",
       "      <td>45.9</td>\n",
       "      <td>69.3</td>\n",
       "      <td>9.3</td>\n",
       "    </tr>\n",
       "    <tr>\n",
       "      <th>3</th>\n",
       "      <td>4</td>\n",
       "      <td>151.5</td>\n",
       "      <td>41.3</td>\n",
       "      <td>58.5</td>\n",
       "      <td>18.5</td>\n",
       "    </tr>\n",
       "    <tr>\n",
       "      <th>4</th>\n",
       "      <td>5</td>\n",
       "      <td>180.8</td>\n",
       "      <td>10.8</td>\n",
       "      <td>58.4</td>\n",
       "      <td>12.9</td>\n",
       "    </tr>\n",
       "    <tr>\n",
       "      <th>...</th>\n",
       "      <td>...</td>\n",
       "      <td>...</td>\n",
       "      <td>...</td>\n",
       "      <td>...</td>\n",
       "      <td>...</td>\n",
       "    </tr>\n",
       "    <tr>\n",
       "      <th>195</th>\n",
       "      <td>196</td>\n",
       "      <td>38.2</td>\n",
       "      <td>3.7</td>\n",
       "      <td>13.8</td>\n",
       "      <td>7.6</td>\n",
       "    </tr>\n",
       "    <tr>\n",
       "      <th>196</th>\n",
       "      <td>197</td>\n",
       "      <td>94.2</td>\n",
       "      <td>4.9</td>\n",
       "      <td>8.1</td>\n",
       "      <td>9.7</td>\n",
       "    </tr>\n",
       "    <tr>\n",
       "      <th>197</th>\n",
       "      <td>198</td>\n",
       "      <td>177.0</td>\n",
       "      <td>9.3</td>\n",
       "      <td>6.4</td>\n",
       "      <td>12.8</td>\n",
       "    </tr>\n",
       "    <tr>\n",
       "      <th>198</th>\n",
       "      <td>199</td>\n",
       "      <td>283.6</td>\n",
       "      <td>42.0</td>\n",
       "      <td>66.2</td>\n",
       "      <td>25.5</td>\n",
       "    </tr>\n",
       "    <tr>\n",
       "      <th>199</th>\n",
       "      <td>200</td>\n",
       "      <td>232.1</td>\n",
       "      <td>8.6</td>\n",
       "      <td>8.7</td>\n",
       "      <td>13.4</td>\n",
       "    </tr>\n",
       "  </tbody>\n",
       "</table>\n",
       "<p>200 rows × 5 columns</p>\n",
       "</div>"
      ],
      "text/plain": [
       "     Unnamed: 0     TV  radio  newspaper  sales\n",
       "0             1  230.1   37.8       69.2   22.1\n",
       "1             2   44.5   39.3       45.1   10.4\n",
       "2             3   17.2   45.9       69.3    9.3\n",
       "3             4  151.5   41.3       58.5   18.5\n",
       "4             5  180.8   10.8       58.4   12.9\n",
       "..          ...    ...    ...        ...    ...\n",
       "195         196   38.2    3.7       13.8    7.6\n",
       "196         197   94.2    4.9        8.1    9.7\n",
       "197         198  177.0    9.3        6.4   12.8\n",
       "198         199  283.6   42.0       66.2   25.5\n",
       "199         200  232.1    8.6        8.7   13.4\n",
       "\n",
       "[200 rows x 5 columns]"
      ]
     },
     "execution_count": 13,
     "metadata": {},
     "output_type": "execute_result"
    }
   ],
   "source": [
    "df=pd.read_csv('https://raw.githubusercontent.com/dsrscientist/DSData/master/Advertising.csv')\n",
    "df"
   ]
  },
  {
   "cell_type": "code",
   "execution_count": 3,
   "id": "142d00d8",
   "metadata": {},
   "outputs": [
    {
     "data": {
      "text/plain": [
       "Index(['Unnamed: 0', 'TV', 'radio', 'newspaper', 'sales'], dtype='object')"
      ]
     },
     "execution_count": 3,
     "metadata": {},
     "output_type": "execute_result"
    }
   ],
   "source": [
    "df.columns"
   ]
  },
  {
   "cell_type": "code",
   "execution_count": 5,
   "id": "c002a1ab",
   "metadata": {},
   "outputs": [
    {
     "data": {
      "text/html": [
       "<div>\n",
       "<style scoped>\n",
       "    .dataframe tbody tr th:only-of-type {\n",
       "        vertical-align: middle;\n",
       "    }\n",
       "\n",
       "    .dataframe tbody tr th {\n",
       "        vertical-align: top;\n",
       "    }\n",
       "\n",
       "    .dataframe thead th {\n",
       "        text-align: right;\n",
       "    }\n",
       "</style>\n",
       "<table border=\"1\" class=\"dataframe\">\n",
       "  <thead>\n",
       "    <tr style=\"text-align: right;\">\n",
       "      <th></th>\n",
       "      <th>Unnamed: 0</th>\n",
       "      <th>TV</th>\n",
       "      <th>radio</th>\n",
       "      <th>newspaper</th>\n",
       "      <th>sales</th>\n",
       "    </tr>\n",
       "  </thead>\n",
       "  <tbody>\n",
       "    <tr>\n",
       "      <th>0</th>\n",
       "      <td>1</td>\n",
       "      <td>230.1</td>\n",
       "      <td>37.8</td>\n",
       "      <td>69.2</td>\n",
       "      <td>22.1</td>\n",
       "    </tr>\n",
       "    <tr>\n",
       "      <th>1</th>\n",
       "      <td>2</td>\n",
       "      <td>44.5</td>\n",
       "      <td>39.3</td>\n",
       "      <td>45.1</td>\n",
       "      <td>10.4</td>\n",
       "    </tr>\n",
       "    <tr>\n",
       "      <th>2</th>\n",
       "      <td>3</td>\n",
       "      <td>17.2</td>\n",
       "      <td>45.9</td>\n",
       "      <td>69.3</td>\n",
       "      <td>9.3</td>\n",
       "    </tr>\n",
       "    <tr>\n",
       "      <th>3</th>\n",
       "      <td>4</td>\n",
       "      <td>151.5</td>\n",
       "      <td>41.3</td>\n",
       "      <td>58.5</td>\n",
       "      <td>18.5</td>\n",
       "    </tr>\n",
       "    <tr>\n",
       "      <th>4</th>\n",
       "      <td>5</td>\n",
       "      <td>180.8</td>\n",
       "      <td>10.8</td>\n",
       "      <td>58.4</td>\n",
       "      <td>12.9</td>\n",
       "    </tr>\n",
       "  </tbody>\n",
       "</table>\n",
       "</div>"
      ],
      "text/plain": [
       "   Unnamed: 0     TV  radio  newspaper  sales\n",
       "0           1  230.1   37.8       69.2   22.1\n",
       "1           2   44.5   39.3       45.1   10.4\n",
       "2           3   17.2   45.9       69.3    9.3\n",
       "3           4  151.5   41.3       58.5   18.5\n",
       "4           5  180.8   10.8       58.4   12.9"
      ]
     },
     "execution_count": 5,
     "metadata": {},
     "output_type": "execute_result"
    }
   ],
   "source": [
    "df.head()"
   ]
  },
  {
   "cell_type": "code",
   "execution_count": 6,
   "id": "b2e85278",
   "metadata": {},
   "outputs": [
    {
     "data": {
      "text/plain": [
       "Unnamed: 0      int64\n",
       "TV            float64\n",
       "radio         float64\n",
       "newspaper     float64\n",
       "sales         float64\n",
       "dtype: object"
      ]
     },
     "execution_count": 6,
     "metadata": {},
     "output_type": "execute_result"
    }
   ],
   "source": [
    "df.dtypes"
   ]
  },
  {
   "cell_type": "code",
   "execution_count": 7,
   "id": "85f68bdf",
   "metadata": {},
   "outputs": [
    {
     "data": {
      "text/plain": [
       "Unnamed: 0    0\n",
       "TV            0\n",
       "radio         0\n",
       "newspaper     0\n",
       "sales         0\n",
       "dtype: int64"
      ]
     },
     "execution_count": 7,
     "metadata": {},
     "output_type": "execute_result"
    }
   ],
   "source": [
    "df.isnull().sum()"
   ]
  },
  {
   "cell_type": "markdown",
   "id": "609cc14a",
   "metadata": {},
   "source": [
    "EDA"
   ]
  },
  {
   "cell_type": "code",
   "execution_count": 34,
   "id": "f832738c",
   "metadata": {},
   "outputs": [
    {
     "data": {
      "text/plain": [
       "<AxesSubplot:xlabel='TV', ylabel='sales'>"
      ]
     },
     "execution_count": 34,
     "metadata": {},
     "output_type": "execute_result"
    },
    {
     "data": {
      "image/png": "[encoded data removed]",
      "text/plain": [
       "<Figure size 432x288 with 1 Axes>"
      ]
     },
     "metadata": {
      "needs_background": "light"
     },
     "output_type": "display_data"
    }
   ],
   "source": [
    "sns.scatterplot(x='TV', y='sales',data=df)"
   ]
  },
  {
   "cell_type": "markdown",
   "id": "8791fade",
   "metadata": {},
   "source": [
    "We can observe sales increases as money investment in TV increases. "
   ]
  },
  {
   "cell_type": "code",
   "execution_count": 27,
   "id": "c9aec32e",
   "metadata": {},
   "outputs": [
    {
     "data": {
      "text/plain": [
       "<AxesSubplot:xlabel='radio', ylabel='sales'>"
      ]
     },
     "execution_count": 27,
     "metadata": {},
     "output_type": "execute_result"
    },
    {
     "data": {
      "image/png": "[encoded data removed]",
      "text/plain": [
       "<Figure size 432x288 with 1 Axes>"
      ]
     },
     "metadata": {
      "needs_background": "light"
     },
     "output_type": "display_data"
    }
   ],
   "source": [
    "sns.scatterplot(x='radio', y='sales',data=df)"
   ]
  },
  {
   "cell_type": "markdown",
   "id": "b48fc629",
   "metadata": {},
   "source": [
    "We can observe sales increases as investment in radio increases.  "
   ]
  },
  {
   "cell_type": "code",
   "execution_count": 35,
   "id": "700a091c",
   "metadata": {},
   "outputs": [
    {
     "data": {
      "text/plain": [
       "<AxesSubplot:xlabel='newspaper', ylabel='sales'>"
      ]
     },
     "execution_count": 35,
     "metadata": {},
     "output_type": "execute_result"
    },
    {
     "data": {
      "image/png": "[encoded data removed]",
      "text/plain": [
       "<Figure size 432x288 with 1 Axes>"
      ]
     },
     "metadata": {
      "needs_background": "light"
     },
     "output_type": "display_data"
    }
   ],
   "source": [
    "sns.scatterplot(x='newspaper', y='sales',data=df)"
   ]
  },
  {
   "cell_type": "markdown",
   "id": "89feb12e",
   "metadata": {},
   "source": [
    "we can observe newspaper requires less investment and sales is also not as good as TV and radio."
   ]
  },
  {
   "cell_type": "code",
   "execution_count": 37,
   "id": "f9939800",
   "metadata": {},
   "outputs": [
    {
     "data": {
      "text/html": [
       "<div>\n",
       "<style scoped>\n",
       "    .dataframe tbody tr th:only-of-type {\n",
       "        vertical-align: middle;\n",
       "    }\n",
       "\n",
       "    .dataframe tbody tr th {\n",
       "        vertical-align: top;\n",
       "    }\n",
       "\n",
       "    .dataframe thead th {\n",
       "        text-align: right;\n",
       "    }\n",
       "</style>\n",
       "<table border=\"1\" class=\"dataframe\">\n",
       "  <thead>\n",
       "    <tr style=\"text-align: right;\">\n",
       "      <th></th>\n",
       "      <th>Unnamed: 0</th>\n",
       "      <th>TV</th>\n",
       "      <th>radio</th>\n",
       "      <th>newspaper</th>\n",
       "      <th>sales</th>\n",
       "    </tr>\n",
       "  </thead>\n",
       "  <tbody>\n",
       "    <tr>\n",
       "      <th>count</th>\n",
       "      <td>200.000000</td>\n",
       "      <td>200.000000</td>\n",
       "      <td>200.000000</td>\n",
       "      <td>200.000000</td>\n",
       "      <td>200.000000</td>\n",
       "    </tr>\n",
       "    <tr>\n",
       "      <th>mean</th>\n",
       "      <td>100.500000</td>\n",
       "      <td>147.042500</td>\n",
       "      <td>23.264000</td>\n",
       "      <td>30.554000</td>\n",
       "      <td>14.022500</td>\n",
       "    </tr>\n",
       "    <tr>\n",
       "      <th>std</th>\n",
       "      <td>57.879185</td>\n",
       "      <td>85.854236</td>\n",
       "      <td>14.846809</td>\n",
       "      <td>21.778621</td>\n",
       "      <td>5.217457</td>\n",
       "    </tr>\n",
       "    <tr>\n",
       "      <th>min</th>\n",
       "      <td>1.000000</td>\n",
       "      <td>0.700000</td>\n",
       "      <td>0.000000</td>\n",
       "      <td>0.300000</td>\n",
       "      <td>1.600000</td>\n",
       "    </tr>\n",
       "    <tr>\n",
       "      <th>25%</th>\n",
       "      <td>50.750000</td>\n",
       "      <td>74.375000</td>\n",
       "      <td>9.975000</td>\n",
       "      <td>12.750000</td>\n",
       "      <td>10.375000</td>\n",
       "    </tr>\n",
       "    <tr>\n",
       "      <th>50%</th>\n",
       "      <td>100.500000</td>\n",
       "      <td>149.750000</td>\n",
       "      <td>22.900000</td>\n",
       "      <td>25.750000</td>\n",
       "      <td>12.900000</td>\n",
       "    </tr>\n",
       "    <tr>\n",
       "      <th>75%</th>\n",
       "      <td>150.250000</td>\n",
       "      <td>218.825000</td>\n",
       "      <td>36.525000</td>\n",
       "      <td>45.100000</td>\n",
       "      <td>17.400000</td>\n",
       "    </tr>\n",
       "    <tr>\n",
       "      <th>max</th>\n",
       "      <td>200.000000</td>\n",
       "      <td>296.400000</td>\n",
       "      <td>49.600000</td>\n",
       "      <td>114.000000</td>\n",
       "      <td>27.000000</td>\n",
       "    </tr>\n",
       "  </tbody>\n",
       "</table>\n",
       "</div>"
      ],
      "text/plain": [
       "       Unnamed: 0          TV       radio   newspaper       sales\n",
       "count  200.000000  200.000000  200.000000  200.000000  200.000000\n",
       "mean   100.500000  147.042500   23.264000   30.554000   14.022500\n",
       "std     57.879185   85.854236   14.846809   21.778621    5.217457\n",
       "min      1.000000    0.700000    0.000000    0.300000    1.600000\n",
       "25%     50.750000   74.375000    9.975000   12.750000   10.375000\n",
       "50%    100.500000  149.750000   22.900000   25.750000   12.900000\n",
       "75%    150.250000  218.825000   36.525000   45.100000   17.400000\n",
       "max    200.000000  296.400000   49.600000  114.000000   27.000000"
      ]
     },
     "execution_count": 37,
     "metadata": {},
     "output_type": "execute_result"
    }
   ],
   "source": [
    "df.describe()"
   ]
  },
  {
   "cell_type": "code",
   "execution_count": 38,
   "id": "4f352a79",
   "metadata": {},
   "outputs": [
    {
     "data": {
      "text/plain": [
       "<AxesSubplot:>"
      ]
     },
     "execution_count": 38,
     "metadata": {},
     "output_type": "execute_result"
    },
    {
     "data": {
      "image/png": "[encoded data removed]",
      "text/plain": [
       "<Figure size 1584x504 with 2 Axes>"
      ]
     },
     "metadata": {
      "needs_background": "light"
     },
     "output_type": "display_data"
    }
   ],
   "source": [
    "plt.figure(figsize=(22,7))\n",
    "sns.heatmap(df.describe(),annot=True,linewidths=0.1,linecolor=\"black\",fmt=\"0.2f\")"
   ]
  },
  {
   "cell_type": "code",
   "execution_count": 43,
   "id": "81aa2b45",
   "metadata": {},
   "outputs": [
    {
     "data": {
      "text/html": [
       "<div>\n",
       "<style scoped>\n",
       "    .dataframe tbody tr th:only-of-type {\n",
       "        vertical-align: middle;\n",
       "    }\n",
       "\n",
       "    .dataframe tbody tr th {\n",
       "        vertical-align: top;\n",
       "    }\n",
       "\n",
       "    .dataframe thead th {\n",
       "        text-align: right;\n",
       "    }\n",
       "</style>\n",
       "<table border=\"1\" class=\"dataframe\">\n",
       "  <thead>\n",
       "    <tr style=\"text-align: right;\">\n",
       "      <th></th>\n",
       "      <th>TV</th>\n",
       "      <th>radio</th>\n",
       "      <th>newspaper</th>\n",
       "      <th>sales</th>\n",
       "    </tr>\n",
       "  </thead>\n",
       "  <tbody>\n",
       "    <tr>\n",
       "      <th>0</th>\n",
       "      <td>230.1</td>\n",
       "      <td>37.8</td>\n",
       "      <td>69.2</td>\n",
       "      <td>22.1</td>\n",
       "    </tr>\n",
       "    <tr>\n",
       "      <th>1</th>\n",
       "      <td>44.5</td>\n",
       "      <td>39.3</td>\n",
       "      <td>45.1</td>\n",
       "      <td>10.4</td>\n",
       "    </tr>\n",
       "    <tr>\n",
       "      <th>2</th>\n",
       "      <td>17.2</td>\n",
       "      <td>45.9</td>\n",
       "      <td>69.3</td>\n",
       "      <td>9.3</td>\n",
       "    </tr>\n",
       "    <tr>\n",
       "      <th>3</th>\n",
       "      <td>151.5</td>\n",
       "      <td>41.3</td>\n",
       "      <td>58.5</td>\n",
       "      <td>18.5</td>\n",
       "    </tr>\n",
       "    <tr>\n",
       "      <th>4</th>\n",
       "      <td>180.8</td>\n",
       "      <td>10.8</td>\n",
       "      <td>58.4</td>\n",
       "      <td>12.9</td>\n",
       "    </tr>\n",
       "    <tr>\n",
       "      <th>...</th>\n",
       "      <td>...</td>\n",
       "      <td>...</td>\n",
       "      <td>...</td>\n",
       "      <td>...</td>\n",
       "    </tr>\n",
       "    <tr>\n",
       "      <th>195</th>\n",
       "      <td>38.2</td>\n",
       "      <td>3.7</td>\n",
       "      <td>13.8</td>\n",
       "      <td>7.6</td>\n",
       "    </tr>\n",
       "    <tr>\n",
       "      <th>196</th>\n",
       "      <td>94.2</td>\n",
       "      <td>4.9</td>\n",
       "      <td>8.1</td>\n",
       "      <td>9.7</td>\n",
       "    </tr>\n",
       "    <tr>\n",
       "      <th>197</th>\n",
       "      <td>177.0</td>\n",
       "      <td>9.3</td>\n",
       "      <td>6.4</td>\n",
       "      <td>12.8</td>\n",
       "    </tr>\n",
       "    <tr>\n",
       "      <th>198</th>\n",
       "      <td>283.6</td>\n",
       "      <td>42.0</td>\n",
       "      <td>66.2</td>\n",
       "      <td>25.5</td>\n",
       "    </tr>\n",
       "    <tr>\n",
       "      <th>199</th>\n",
       "      <td>232.1</td>\n",
       "      <td>8.6</td>\n",
       "      <td>8.7</td>\n",
       "      <td>13.4</td>\n",
       "    </tr>\n",
       "  </tbody>\n",
       "</table>\n",
       "<p>200 rows × 4 columns</p>\n",
       "</div>"
      ],
      "text/plain": [
       "        TV  radio  newspaper  sales\n",
       "0    230.1   37.8       69.2   22.1\n",
       "1     44.5   39.3       45.1   10.4\n",
       "2     17.2   45.9       69.3    9.3\n",
       "3    151.5   41.3       58.5   18.5\n",
       "4    180.8   10.8       58.4   12.9\n",
       "..     ...    ...        ...    ...\n",
       "195   38.2    3.7       13.8    7.6\n",
       "196   94.2    4.9        8.1    9.7\n",
       "197  177.0    9.3        6.4   12.8\n",
       "198  283.6   42.0       66.2   25.5\n",
       "199  232.1    8.6        8.7   13.4\n",
       "\n",
       "[200 rows x 4 columns]"
      ]
     },
     "execution_count": 43,
     "metadata": {},
     "output_type": "execute_result"
    }
   ],
   "source": [
    "df_new=df.drop([\"Unnamed: 0\"],axis=1)\n",
    "df_new"
   ]
  },
  {
   "cell_type": "markdown",
   "id": "06886d6c",
   "metadata": {},
   "source": [
    "Correlation of the columns with Target column"
   ]
  },
  {
   "cell_type": "code",
   "execution_count": 44,
   "id": "449687ec",
   "metadata": {},
   "outputs": [
    {
     "data": {
      "text/plain": [
       "newspaper    0.228299\n",
       "radio        0.576223\n",
       "TV           0.782224\n",
       "sales        1.000000\n",
       "Name: sales, dtype: float64"
      ]
     },
     "execution_count": 44,
     "metadata": {},
     "output_type": "execute_result"
    }
   ],
   "source": [
    "df_new.corr()['sales'].sort_values()"
   ]
  },
  {
   "cell_type": "code",
   "execution_count": 47,
   "id": "7ec46c78",
   "metadata": {},
   "outputs": [
    {
     "data": {
      "image/png": "[encoded data removed]",
      "text/plain": [
       "<Figure size 1584x504 with 1 Axes>"
      ]
     },
     "metadata": {
      "needs_background": "light"
     },
     "output_type": "display_data"
    }
   ],
   "source": [
    "plt.figure(figsize=(22,7))\n",
    "df_new.corr()['sales'].sort_values(ascending=False).drop(['sales']).plot(kind='bar',color='c')\n",
    "plt.xlabel('Features',fontsize=14)\n",
    "plt.ylabel('Sales',fontsize=14)\n",
    "plt.title('correlation',fontsize=18)\n",
    "plt.show()"
   ]
  },
  {
   "cell_type": "markdown",
   "id": "0c343467",
   "metadata": {},
   "source": [
    "Outliers check"
   ]
  },
  {
   "cell_type": "code",
   "execution_count": 48,
   "id": "dc98ed3e",
   "metadata": {},
   "outputs": [
    {
     "data": {
      "text/plain": [
       "<AxesSubplot:>"
      ]
     },
     "execution_count": 48,
     "metadata": {},
     "output_type": "execute_result"
    },
    {
     "data": {
      "image/png": "[encoded data removed]",
      "text/plain": [
       "<Figure size 432x288 with 1 Axes>"
      ]
     },
     "metadata": {
      "needs_background": "light"
     },
     "output_type": "display_data"
    }
   ],
   "source": [
    "df['sales'].plot.box()"
   ]
  },
  {
   "cell_type": "code",
   "execution_count": 49,
   "id": "6f9f43ad",
   "metadata": {},
   "outputs": [
    {
     "data": {
      "text/plain": [
       "<AxesSubplot:>"
      ]
     },
     "execution_count": 49,
     "metadata": {},
     "output_type": "execute_result"
    },
    {
     "data": {
      "image/png": "[encoded data removed]",
      "text/plain": [
       "<Figure size 432x288 with 1 Axes>"
      ]
     },
     "metadata": {
      "needs_background": "light"
     },
     "output_type": "display_data"
    }
   ],
   "source": [
    "df['TV'].plot.box()"
   ]
  },
  {
   "cell_type": "code",
   "execution_count": 50,
   "id": "ddbf9228",
   "metadata": {},
   "outputs": [
    {
     "data": {
      "text/plain": [
       "<AxesSubplot:>"
      ]
     },
     "execution_count": 50,
     "metadata": {},
     "output_type": "execute_result"
    },
    {
     "data": {
      "image/png": "[encoded data removed]",
      "text/plain": [
       "<Figure size 432x288 with 1 Axes>"
      ]
     },
     "metadata": {
      "needs_background": "light"
     },
     "output_type": "display_data"
    }
   ],
   "source": [
    "df['radio'].plot.box()"
   ]
  },
  {
   "cell_type": "code",
   "execution_count": 51,
   "id": "1866c431",
   "metadata": {},
   "outputs": [
    {
     "data": {
      "text/plain": [
       "<AxesSubplot:>"
      ]
     },
     "execution_count": 51,
     "metadata": {},
     "output_type": "execute_result"
    },
    {
     "data": {
      "image/png": "[encoded data removed]",
      "text/plain": [
       "<Figure size 432x288 with 1 Axes>"
      ]
     },
     "metadata": {
      "needs_background": "light"
     },
     "output_type": "display_data"
    }
   ],
   "source": [
    "df['newspaper'].plot.box()"
   ]
  },
  {
   "cell_type": "markdown",
   "id": "89084cb0",
   "metadata": {},
   "source": [
    "Removing outliers"
   ]
  },
  {
   "cell_type": "code",
   "execution_count": 54,
   "id": "c6279ea7",
   "metadata": {},
   "outputs": [
    {
     "data": {
      "text/plain": [
       "(array([ 16, 101], dtype=int64), array([2, 2], dtype=int64))"
      ]
     },
     "execution_count": 54,
     "metadata": {},
     "output_type": "execute_result"
    }
   ],
   "source": [
    "z=np.abs(zscore(df_new))\n",
    "threshold=3\n",
    "np.where(z>3)"
   ]
  },
  {
   "cell_type": "code",
   "execution_count": 55,
   "id": "6f2248bd",
   "metadata": {},
   "outputs": [
    {
     "data": {
      "text/html": [
       "<div>\n",
       "<style scoped>\n",
       "    .dataframe tbody tr th:only-of-type {\n",
       "        vertical-align: middle;\n",
       "    }\n",
       "\n",
       "    .dataframe tbody tr th {\n",
       "        vertical-align: top;\n",
       "    }\n",
       "\n",
       "    .dataframe thead th {\n",
       "        text-align: right;\n",
       "    }\n",
       "</style>\n",
       "<table border=\"1\" class=\"dataframe\">\n",
       "  <thead>\n",
       "    <tr style=\"text-align: right;\">\n",
       "      <th></th>\n",
       "      <th>TV</th>\n",
       "      <th>radio</th>\n",
       "      <th>newspaper</th>\n",
       "      <th>sales</th>\n",
       "    </tr>\n",
       "  </thead>\n",
       "  <tbody>\n",
       "    <tr>\n",
       "      <th>0</th>\n",
       "      <td>230.1</td>\n",
       "      <td>37.8</td>\n",
       "      <td>69.2</td>\n",
       "      <td>22.1</td>\n",
       "    </tr>\n",
       "    <tr>\n",
       "      <th>1</th>\n",
       "      <td>44.5</td>\n",
       "      <td>39.3</td>\n",
       "      <td>45.1</td>\n",
       "      <td>10.4</td>\n",
       "    </tr>\n",
       "    <tr>\n",
       "      <th>2</th>\n",
       "      <td>17.2</td>\n",
       "      <td>45.9</td>\n",
       "      <td>69.3</td>\n",
       "      <td>9.3</td>\n",
       "    </tr>\n",
       "    <tr>\n",
       "      <th>3</th>\n",
       "      <td>151.5</td>\n",
       "      <td>41.3</td>\n",
       "      <td>58.5</td>\n",
       "      <td>18.5</td>\n",
       "    </tr>\n",
       "    <tr>\n",
       "      <th>4</th>\n",
       "      <td>180.8</td>\n",
       "      <td>10.8</td>\n",
       "      <td>58.4</td>\n",
       "      <td>12.9</td>\n",
       "    </tr>\n",
       "    <tr>\n",
       "      <th>...</th>\n",
       "      <td>...</td>\n",
       "      <td>...</td>\n",
       "      <td>...</td>\n",
       "      <td>...</td>\n",
       "    </tr>\n",
       "    <tr>\n",
       "      <th>195</th>\n",
       "      <td>38.2</td>\n",
       "      <td>3.7</td>\n",
       "      <td>13.8</td>\n",
       "      <td>7.6</td>\n",
       "    </tr>\n",
       "    <tr>\n",
       "      <th>196</th>\n",
       "      <td>94.2</td>\n",
       "      <td>4.9</td>\n",
       "      <td>8.1</td>\n",
       "      <td>9.7</td>\n",
       "    </tr>\n",
       "    <tr>\n",
       "      <th>197</th>\n",
       "      <td>177.0</td>\n",
       "      <td>9.3</td>\n",
       "      <td>6.4</td>\n",
       "      <td>12.8</td>\n",
       "    </tr>\n",
       "    <tr>\n",
       "      <th>198</th>\n",
       "      <td>283.6</td>\n",
       "      <td>42.0</td>\n",
       "      <td>66.2</td>\n",
       "      <td>25.5</td>\n",
       "    </tr>\n",
       "    <tr>\n",
       "      <th>199</th>\n",
       "      <td>232.1</td>\n",
       "      <td>8.6</td>\n",
       "      <td>8.7</td>\n",
       "      <td>13.4</td>\n",
       "    </tr>\n",
       "  </tbody>\n",
       "</table>\n",
       "<p>198 rows × 4 columns</p>\n",
       "</div>"
      ],
      "text/plain": [
       "        TV  radio  newspaper  sales\n",
       "0    230.1   37.8       69.2   22.1\n",
       "1     44.5   39.3       45.1   10.4\n",
       "2     17.2   45.9       69.3    9.3\n",
       "3    151.5   41.3       58.5   18.5\n",
       "4    180.8   10.8       58.4   12.9\n",
       "..     ...    ...        ...    ...\n",
       "195   38.2    3.7       13.8    7.6\n",
       "196   94.2    4.9        8.1    9.7\n",
       "197  177.0    9.3        6.4   12.8\n",
       "198  283.6   42.0       66.2   25.5\n",
       "199  232.1    8.6        8.7   13.4\n",
       "\n",
       "[198 rows x 4 columns]"
      ]
     },
     "execution_count": 55,
     "metadata": {},
     "output_type": "execute_result"
    }
   ],
   "source": [
    "df_new_z = df_new[(z<3).all(axis=1)]\n",
    "df_new_z"
   ]
  },
  {
   "cell_type": "code",
   "execution_count": 56,
   "id": "97c4f27d",
   "metadata": {},
   "outputs": [
    {
     "data": {
      "text/plain": [
       "(198, 4)"
      ]
     },
     "execution_count": 56,
     "metadata": {},
     "output_type": "execute_result"
    }
   ],
   "source": [
    "df_new_z.shape"
   ]
  },
  {
   "cell_type": "markdown",
   "id": "83a141fb",
   "metadata": {},
   "source": [
    "Percentage data loss"
   ]
  },
  {
   "cell_type": "code",
   "execution_count": 57,
   "id": "094c7a0f",
   "metadata": {},
   "outputs": [
    {
     "data": {
      "text/plain": [
       "1.0"
      ]
     },
     "execution_count": 57,
     "metadata": {},
     "output_type": "execute_result"
    }
   ],
   "source": [
    "Data_loss=((200-198)/200)*100\n",
    "Data_loss"
   ]
  },
  {
   "cell_type": "markdown",
   "id": "6afcb012",
   "metadata": {},
   "source": [
    "Checking Multicolinearity"
   ]
  },
  {
   "cell_type": "code",
   "execution_count": 61,
   "id": "533b409b",
   "metadata": {},
   "outputs": [],
   "source": [
    "x = df_new_z.drop(['sales'],axis=1)\n",
    "y = df_new_z['sales']"
   ]
  },
  {
   "cell_type": "code",
   "execution_count": 62,
   "id": "37b082ad",
   "metadata": {},
   "outputs": [],
   "source": [
    "scaler = StandardScaler()\n",
    "X_scaled = scaler.fit_transform(x)"
   ]
  },
  {
   "cell_type": "code",
   "execution_count": 63,
   "id": "1551c8b2",
   "metadata": {},
   "outputs": [
    {
     "data": {
      "text/plain": [
       "array([[ 0.97869734,  0.98952135,  1.93299778],\n",
       "       [-1.19901165,  1.09070498,  0.75131275],\n",
       "       [-1.51933199,  1.53591293,  1.93790103],\n",
       "       [ 0.05645636,  1.22561648,  1.40834924],\n",
       "       [ 0.40024339, -0.83178391,  1.40344598],\n",
       "       [-1.61906543,  1.73828018,  2.2173867 ],\n",
       "       [-1.04647815,  0.6522426 , -0.30779084],\n",
       "       [-0.31079737, -0.23817331, -0.89127846],\n",
       "       [-1.62023876, -1.41864895, -1.41102374],\n",
       "       [ 0.62317696, -1.38492107, -0.42056576],\n",
       "       [-0.94557138, -1.16906267, -0.27346804],\n",
       "       [ 0.79800381,  0.05863199, -1.26392602],\n",
       "       [-1.44189191,  0.80739083,  1.77119028],\n",
       "       [-0.57714432, -1.04764232, -1.10702179],\n",
       "       [ 0.67363035,  0.65898817,  0.79544207],\n",
       "       [ 0.57155024,  1.65733328,  1.13376683],\n",
       "       [ 1.58061798,  1.1109417 ,  1.27596129],\n",
       "       [-0.90919801, -0.17746313, -0.56276022],\n",
       "       [ 0.0071763 ,  0.05188642, -0.52353416],\n",
       "       [ 0.84141719,  0.30821827,  1.15828311],\n",
       "       [ 1.06435076, -1.21628169, -0.30779084],\n",
       "       [-1.56626537, -0.48775959,  0.97195933],\n",
       "       [ 0.95757732, -0.42030384, -0.17540289],\n",
       "       [-0.99015809, -0.71036356, -0.56276022],\n",
       "       [ 1.36355108, -1.32421089, -0.50392113],\n",
       "       [-0.04445042,  0.41614747, -0.84224589],\n",
       "       [ 1.0960308 , -0.43379499, -0.33721038],\n",
       "       [ 1.19811091,  0.26774482, -0.33721038],\n",
       "       [-0.89277132, -0.48101401,  0.54047269],\n",
       "       [ 1.71555146,  0.34869172,  0.65815086],\n",
       "       [-0.39645079, -0.38657596,  0.43260102],\n",
       "       [-0.58066432, -1.4591224 ,  0.01092089],\n",
       "       [ 1.39523112, -0.21119101, -1.44534654],\n",
       "       [-0.59826434, -1.46586797, -1.09721527],\n",
       "       [ 1.6897381 , -1.28373744, -1.04327944],\n",
       "       [ 1.41048447,  1.39425586, -1.21489345],\n",
       "       [-0.8446646 ,  1.77200806,  0.7807323 ],\n",
       "       [-1.21543833,  0.24076252,  0.26098702],\n",
       "       [ 0.95405731,  0.98277578,  0.10898604],\n",
       "       [ 0.65485699, -0.05604278,  0.08937301],\n",
       "       [ 0.35565668,  0.69271605,  0.43750428],\n",
       "       [ 1.7237648 ,  0.30821827, -1.37179768],\n",
       "       [ 0.70648372, -0.99367772, -0.16559637],\n",
       "       [-1.42663856,  0.17330677,  0.66305412],\n",
       "       [ 0.33336332, -0.04255163,  0.08446975],\n",
       "       [-0.66866442, -0.89249409,  0.29040656],\n",
       "       [ 1.09368413,  1.23910763, -0.5529537 ],\n",
       "       [ 0.94467064, -0.49450516,  0.98666911],\n",
       "       [-0.9361847 , -0.77107374,  0.34434239],\n",
       "       [ 0.62317696, -1.35119319,  0.23647073],\n",
       "       [-0.54311762, -0.91273082, -1.28353905],\n",
       "       [ 0.8179505 ,  1.25259878,  0.4816336 ],\n",
       "       [ 0.42136341,  1.55614966,  1.41815575],\n",
       "       [ 1.36120441,  0.3824196 , -0.6804384 ],\n",
       "       [ 0.61261695,  1.77200806,  1.4818981 ],\n",
       "       [-1.63549211,  0.33520057,  0.56989223],\n",
       "       [-0.12306383, -0.26515561, -0.64611559],\n",
       "       [ 0.75224376,  1.78549921,  0.38847171],\n",
       "       [ 0.75107043,  0.42963862, -1.00405338],\n",
       "       [-1.09341154, -1.42539452, -0.41075924],\n",
       "       [ 1.34477773,  1.32005453,  1.22202546],\n",
       "       [ 1.08664412, -0.51474189, -0.12146706],\n",
       "       [-0.51613092,  0.4363842 , -1.0481827 ],\n",
       "       [-0.1829039 ,  1.32680011, -0.04301494],\n",
       "       [-0.91154467, -0.93296754, -1.415927  ],\n",
       "       [-1.35154514,  0.09910544, -1.35218465],\n",
       "       [-0.08669046, -0.58219764, -0.95992407],\n",
       "       [ 1.06435076,  0.29472712, -0.92069801],\n",
       "       [ 0.82264384,  1.40100143, -0.12637031],\n",
       "       [ 0.61496362,  0.50383995,  0.43750428],\n",
       "       [-0.43282416, -0.59568879,  0.09427627],\n",
       "       [-1.40669187,  0.66573375, -0.51372765],\n",
       "       [-0.20285059, -1.17580824,  0.07466324],\n",
       "       [ 0.78275046,  0.09910544, -0.8177296 ],\n",
       "       [-1.52285199,  1.38751028,  2.92345576],\n",
       "       [-1.39847853, -1.45237682, -0.44508204],\n",
       "       [-0.30727736,  0.36218287, -0.76379377],\n",
       "       [-1.65778547,  0.45662092, -0.99915012],\n",
       "       [-0.36007742, -1.04089674, -0.32740387],\n",
       "       [-0.82471792,  0.24076252, -0.36662993],\n",
       "       [ 1.09251079, -1.28373744,  0.34924565],\n",
       "       [-0.8376246 , -0.19095428,  0.13350233],\n",
       "       [-0.91858468,  1.44147488,  0.2855033 ],\n",
       "       [ 0.7839238 ,  1.34029126,  0.19724467],\n",
       "       [ 0.54573688, -0.31912021,  1.76138377],\n",
       "       [-0.82589125,  0.29472712, -0.67553514],\n",
       "       [-0.42226415,  1.17839745,  1.63880233],\n",
       "       [-0.6850911 ,  0.15981562,  2.13893458],\n",
       "       [-0.43282416,  1.66407886,  1.06021797],\n",
       "       [-0.14535719, -1.22977284, -1.00405338],\n",
       "       [-1.38557185, -1.4591224 ,  0.15801861],\n",
       "       [ 0.83320385,  0.69946162,  1.43286552],\n",
       "       [ 1.22275093,  0.90182888,  2.08499875],\n",
       "       [-0.46098419, -0.61592551, -0.92560126],\n",
       "       [ 0.19490984,  0.5712957 ,  1.13376683],\n",
       "       [ 0.5973636 , -1.32421089, -1.17076413],\n",
       "       [ 0.44835011, -0.14373526, -0.3813397 ],\n",
       "       [ 1.67800475,  1.29307223,  1.05041145],\n",
       "       [-0.13479718,  1.25259878,  0.79053881],\n",
       "       [ 0.88835058, -1.27024629,  0.98176585],\n",
       "       [ 1.56653796, -0.87900294, -0.41075924],\n",
       "       [ 0.48355014, -0.40006711, -0.58237325],\n",
       "       [ 1.07373744,  0.75342622, -1.20018368],\n",
       "       [-0.10311715,  1.56964081,  1.43286552],\n",
       "       [-1.42781189, -0.81829276, -0.00378888],\n",
       "       [-0.66045107, -1.5400693 , -0.32250061],\n",
       "       [-1.56743871, -1.53332372, -0.20482243],\n",
       "       [ 1.27555099,  0.25425367, -1.19037716],\n",
       "       [ 0.92824395, -1.00716887,  1.31028409],\n",
       "       [ 1.11480415,  1.0030125 , -0.32250061],\n",
       "       [ 0.34040333, -0.52148746, -1.34237814],\n",
       "       [ 0.73816375, -0.17071756, -0.93540778],\n",
       "       [-0.80359789,  1.59662311,  0.23156747],\n",
       "       [-0.83997127,  0.80064525,  1.12396031],\n",
       "       [-0.0878638 , -0.59568879, -0.20482243],\n",
       "       [-0.82471792, -1.50634142, -0.73437423],\n",
       "       [-0.24626397,  0.92881118,  2.42332351],\n",
       "       [-1.49351863, -0.48101401, -0.36662993],\n",
       "       [-0.06322377,  0.2475081 ,  0.80524858],\n",
       "       [-1.50055864, -0.09651623,  1.01118539],\n",
       "       [ 0.90712393, -1.39841222, -0.69514817],\n",
       "       [-0.27677067,  0.77366295, -0.8520524 ],\n",
       "       [ 0.97165733,  0.61851472,  2.17816064],\n",
       "       [-0.69799778, -0.76432816, -0.19011266],\n",
       "       [-1.62962544,  1.06372268,  1.02099191],\n",
       "       [-0.7801312 , -1.56030602, -1.00895664],\n",
       "       [ 0.86371055,  1.74502576, -1.30315208],\n",
       "       [-1.02183813, -0.75083701,  0.65324761],\n",
       "       [-1.7129322 ,  1.1109417 , -1.03347293],\n",
       "       [ 1.39053778, -1.36468434,  0.64834435],\n",
       "       [-1.62258543,  0.2744904 , -1.35708791],\n",
       "       [ 0.85784388,  0.69946162,  0.75131275],\n",
       "       [-1.28818508,  1.04348595,  1.75648051],\n",
       "       [-1.15442493,  1.61011426, -1.04327944],\n",
       "       [-1.42077188,  1.07046825, -1.00405338],\n",
       "       [ 1.49027122,  0.38916517,  1.46718833],\n",
       "       [-1.21661167,  0.18679792, -0.45488856],\n",
       "       [ 0.44835011,  1.40100143, -1.37670094],\n",
       "       [-0.85991795, -0.41355826, -0.82753612],\n",
       "       [ 0.55160355,  0.82762755,  2.24680625],\n",
       "       [ 0.86605722,  0.6792249 ,  0.39827822],\n",
       "       [-0.49383756, -1.17580824,  0.22666422],\n",
       "       [-0.59239767, -0.56196091,  0.4473108 ],\n",
       "       [-0.07495712, -1.4321401 , -1.01876315],\n",
       "       [ 1.0960308 , -1.06787904, -1.03347293],\n",
       "       [ 1.13240417,  1.74502576,  0.71208669],\n",
       "       [-1.2752784 ,  1.15816073, -0.87656869],\n",
       "       [-1.19666498,  0.18005234, -0.4499853 ],\n",
       "       [ 1.57240464, -0.62267109,  0.35414891],\n",
       "       [-0.30141069, -0.99367772,  0.92783002],\n",
       "       [ 0.5973636 ,  0.01141297, -0.76379377],\n",
       "       [ 0.2887766 ,  1.11768728,  0.38847171],\n",
       "       [ 0.48237681, -0.13698968, -0.99424687],\n",
       "       [-1.67303882, -0.77781931, -1.18057065],\n",
       "       [-0.61938436,  1.37401913,  1.01608865],\n",
       "       [ 0.03650967, -1.47261355, -0.26856478],\n",
       "       [-1.58386539,  0.92881118,  0.75621601],\n",
       "       [-0.17586389, -0.31912021,  0.23647073],\n",
       "       [ 0.30285662, -0.33935694,  0.04524369],\n",
       "       [-0.7155978 ,  0.85460985,  0.95724956],\n",
       "       [ 0.48941682, -0.33935694, -0.20482243],\n",
       "       [ 0.19725651,  0.9220656 , -1.09721527],\n",
       "       [-0.34599741, -0.56870649, -1.19528042],\n",
       "       [ 1.03032406, -1.33095647,  2.69790592],\n",
       "       [-1.51111865,  0.9760302 , -0.40095273],\n",
       "       [ 0.70531038, -1.20953612, -0.50882439],\n",
       "       [ 0.80621716,  0.03164969,  1.36421992],\n",
       "       [ 1.61464468, -0.84527507, -1.14624784],\n",
       "       [-1.13447825, -0.77781931, -0.55785696],\n",
       "       [ 0.20898985, -0.15048083,  0.86408767],\n",
       "       [-1.49117196, -0.20444543, -0.62650256],\n",
       "       [ 0.2547499 , -1.08137019, -0.83243937],\n",
       "       [ 0.88835058, -1.33095647, -0.8177296 ],\n",
       "       [ 1.52781792,  1.73828018,  0.58950526],\n",
       "       [ 1.19341757,  0.47685765, -0.46469507],\n",
       "       [ 0.27586992, -1.03415117,  0.26589027],\n",
       "       [ 1.52547125, -1.4051578 , -0.29798432],\n",
       "       [ 0.22189653, -0.88574852, -0.59708302],\n",
       "       [ 0.11629642, -1.38492107, -1.05308596],\n",
       "       [ 0.84259053, -1.19604497, -0.1165638 ],\n",
       "       [-1.0617315 , -1.17580824, -0.00378888],\n",
       "       [ 1.65336472,  1.34029126,  2.06048247],\n",
       "       [ 1.25677764, -0.12349853,  0.01092089],\n",
       "       [ 0.68419036,  1.48194833, -0.49901787],\n",
       "       [-0.08434379, -1.41864895, -0.15578986],\n",
       "       [ 0.52109685,  0.37567402, -0.56766348],\n",
       "       [ 1.63459137, -0.62267109, -1.27863579],\n",
       "       [-1.50173197, -0.74409144, -0.31269409],\n",
       "       [-1.25767838,  1.21212533, -1.17566739],\n",
       "       [-0.83527793, -0.83178391, -1.16586087],\n",
       "       [-1.51933199, -1.28373744,  0.08937301],\n",
       "       [ 0.23597655,  1.2728355 , -1.28353905],\n",
       "       [ 0.03533633,  0.8411187 , -1.16586087],\n",
       "       [-1.27293173, -1.31071974, -0.7834068 ],\n",
       "       [-0.61586436, -1.22977284, -1.06289247],\n",
       "       [ 0.35565668, -0.93296754, -1.14624784],\n",
       "       [ 1.60643134,  1.2728355 ,  1.78590005],\n",
       "       [ 1.00216403, -0.98018657, -1.03347293]])"
      ]
     },
     "execution_count": 63,
     "metadata": {},
     "output_type": "execute_result"
    }
   ],
   "source": [
    "X_scaled"
   ]
  },
  {
   "cell_type": "code",
   "execution_count": 65,
   "id": "7153351a",
   "metadata": {},
   "outputs": [
    {
     "data": {
      "text/html": [
       "<div>\n",
       "<style scoped>\n",
       "    .dataframe tbody tr th:only-of-type {\n",
       "        vertical-align: middle;\n",
       "    }\n",
       "\n",
       "    .dataframe tbody tr th {\n",
       "        vertical-align: top;\n",
       "    }\n",
       "\n",
       "    .dataframe thead th {\n",
       "        text-align: right;\n",
       "    }\n",
       "</style>\n",
       "<table border=\"1\" class=\"dataframe\">\n",
       "  <thead>\n",
       "    <tr style=\"text-align: right;\">\n",
       "      <th></th>\n",
       "      <th>vif</th>\n",
       "      <th>Features</th>\n",
       "    </tr>\n",
       "  </thead>\n",
       "  <tbody>\n",
       "    <tr>\n",
       "      <th>0</th>\n",
       "      <td>1.003863</td>\n",
       "      <td>TV</td>\n",
       "    </tr>\n",
       "    <tr>\n",
       "      <th>1</th>\n",
       "      <td>1.137887</td>\n",
       "      <td>radio</td>\n",
       "    </tr>\n",
       "    <tr>\n",
       "      <th>2</th>\n",
       "      <td>1.137631</td>\n",
       "      <td>newspaper</td>\n",
       "    </tr>\n",
       "  </tbody>\n",
       "</table>\n",
       "</div>"
      ],
      "text/plain": [
       "        vif   Features\n",
       "0  1.003863         TV\n",
       "1  1.137887      radio\n",
       "2  1.137631  newspaper"
      ]
     },
     "execution_count": 65,
     "metadata": {},
     "output_type": "execute_result"
    }
   ],
   "source": [
    "vif = pd.DataFrame()\n",
    "vif['vif'] = [variance_inflation_factor(X_scaled,i) for i in range(X_scaled.shape[1])]\n",
    "vif['Features'] = x.columns\n",
    "\n",
    "vif"
   ]
  },
  {
   "cell_type": "markdown",
   "id": "08b2730d",
   "metadata": {},
   "source": [
    "All the VIF values are less than 5 and very low. This means no multicollinearity present."
   ]
  },
  {
   "cell_type": "code",
   "execution_count": 66,
   "id": "7b6226b2",
   "metadata": {},
   "outputs": [],
   "source": [
    "from sklearn.linear_model import LinearRegression\n",
    "lr = LinearRegression()\n",
    "from sklearn.metrics import r2_score\n",
    "from sklearn.model_selection import train_test_split"
   ]
  },
  {
   "cell_type": "code",
   "execution_count": 67,
   "id": "cf3da1a5",
   "metadata": {},
   "outputs": [],
   "source": [
    "import warnings\n",
    "warnings.filterwarnings('ignore')"
   ]
  },
  {
   "cell_type": "code",
   "execution_count": 68,
   "id": "7883565c",
   "metadata": {},
   "outputs": [
    {
     "name": "stdout",
     "output_type": "stream",
     "text": [
      "At randon state0, the training accuracy is: 0.8898322019518987\n",
      "At randon state0, the testing accuracy is: 0.9098946359000557\n",
      "\n",
      "\n",
      "At randon state1, the training accuracy is: 0.8946050839431845\n",
      "At randon state1, the testing accuracy is: 0.891219907737298\n",
      "\n",
      "\n",
      "At randon state2, the training accuracy is: 0.9105689646648081\n",
      "At randon state2, the testing accuracy is: 0.8381266733637571\n",
      "\n",
      "\n",
      "At randon state3, the training accuracy is: 0.8944143192604463\n",
      "At randon state3, the testing accuracy is: 0.8980994665131535\n",
      "\n",
      "\n",
      "At randon state4, the training accuracy is: 0.8981805823414822\n",
      "At randon state4, the testing accuracy is: 0.8719021920124683\n",
      "\n",
      "\n",
      "At randon state5, the training accuracy is: 0.8994368014551729\n",
      "At randon state5, the testing accuracy is: 0.8616494043950311\n",
      "\n",
      "\n",
      "At randon state6, the training accuracy is: 0.8993028842288798\n",
      "At randon state6, the testing accuracy is: 0.8760639888444909\n",
      "\n",
      "\n",
      "At randon state7, the training accuracy is: 0.8907422790206732\n",
      "At randon state7, the testing accuracy is: 0.9072259879826814\n",
      "\n",
      "\n",
      "At randon state8, the training accuracy is: 0.9032084965142416\n",
      "At randon state8, the testing accuracy is: 0.8622119821531382\n",
      "\n",
      "\n",
      "At randon state9, the training accuracy is: 0.8896116143369225\n",
      "At randon state9, the testing accuracy is: 0.9148867690563419\n",
      "\n",
      "\n",
      "At randon state10, the training accuracy is: 0.9234109258384534\n",
      "At randon state10, the testing accuracy is: 0.7847276428213539\n",
      "\n",
      "\n",
      "At randon state11, the training accuracy is: 0.8849527337629283\n",
      "At randon state11, the testing accuracy is: 0.9251344460664062\n",
      "\n",
      "\n",
      "At randon state12, the training accuracy is: 0.893155890966673\n",
      "At randon state12, the testing accuracy is: 0.9002147591940638\n",
      "\n",
      "\n",
      "At randon state13, the training accuracy is: 0.9073685036587192\n",
      "At randon state13, the testing accuracy is: 0.8379451608981884\n",
      "\n",
      "\n",
      "At randon state14, the training accuracy is: 0.8856322875906847\n",
      "At randon state14, the testing accuracy is: 0.9137433855890316\n",
      "\n",
      "\n",
      "At randon state15, the training accuracy is: 0.8910311748322177\n",
      "At randon state15, the testing accuracy is: 0.9086681780127939\n",
      "\n",
      "\n",
      "At randon state16, the training accuracy is: 0.8904589451941378\n",
      "At randon state16, the testing accuracy is: 0.9092658921355936\n",
      "\n",
      "\n",
      "At randon state17, the training accuracy is: 0.888899070609342\n",
      "At randon state17, the testing accuracy is: 0.9158107183004832\n",
      "\n",
      "\n",
      "At randon state18, the training accuracy is: 0.9107512319836958\n",
      "At randon state18, the testing accuracy is: 0.8352581054144459\n",
      "\n",
      "\n",
      "At randon state19, the training accuracy is: 0.8952937219888688\n",
      "At randon state19, the testing accuracy is: 0.877794647590169\n",
      "\n",
      "\n",
      "At randon state20, the training accuracy is: 0.8861735393665224\n",
      "At randon state20, the testing accuracy is: 0.9134618213607718\n",
      "\n",
      "\n",
      "At randon state21, the training accuracy is: 0.884565335473425\n",
      "At randon state21, the testing accuracy is: 0.9276910202519096\n",
      "\n",
      "\n",
      "At randon state22, the training accuracy is: 0.8863623904193301\n",
      "At randon state22, the testing accuracy is: 0.927225767417452\n",
      "\n",
      "\n",
      "At randon state23, the training accuracy is: 0.8851633612750962\n",
      "At randon state23, the testing accuracy is: 0.9280846835289062\n",
      "\n",
      "\n",
      "At randon state24, the training accuracy is: 0.8809757910723603\n",
      "At randon state24, the testing accuracy is: 0.9456025807476978\n",
      "\n",
      "\n",
      "At randon state25, the training accuracy is: 0.8829622259449756\n",
      "At randon state25, the testing accuracy is: 0.9371746629622535\n",
      "\n",
      "\n",
      "At randon state26, the training accuracy is: 0.9048077861193833\n",
      "At randon state26, the testing accuracy is: 0.8203780207359679\n",
      "\n",
      "\n",
      "At randon state27, the training accuracy is: 0.9094784686975189\n",
      "At randon state27, the testing accuracy is: 0.8226901107028122\n",
      "\n",
      "\n",
      "At randon state28, the training accuracy is: 0.9151656207216119\n",
      "At randon state28, the testing accuracy is: 0.8242122179832336\n",
      "\n",
      "\n",
      "At randon state29, the training accuracy is: 0.9079314459560758\n",
      "At randon state29, the testing accuracy is: 0.8429744958016214\n",
      "\n",
      "\n",
      "At randon state30, the training accuracy is: 0.9129669348136418\n",
      "At randon state30, the testing accuracy is: 0.8232112840158845\n",
      "\n",
      "\n",
      "At randon state31, the training accuracy is: 0.8807741206684752\n",
      "At randon state31, the testing accuracy is: 0.9322873954829172\n",
      "\n",
      "\n",
      "At randon state32, the training accuracy is: 0.8879237528446708\n",
      "At randon state32, the testing accuracy is: 0.9176590893491934\n",
      "\n",
      "\n",
      "At randon state33, the training accuracy is: 0.888035916659505\n",
      "At randon state33, the testing accuracy is: 0.9168199223474399\n",
      "\n",
      "\n",
      "At randon state34, the training accuracy is: 0.8961381192278818\n",
      "At randon state34, the testing accuracy is: 0.8842687782801527\n",
      "\n",
      "\n",
      "At randon state35, the training accuracy is: 0.8902893064280746\n",
      "At randon state35, the testing accuracy is: 0.9153905766088841\n",
      "\n",
      "\n",
      "At randon state36, the training accuracy is: 0.8896329800738692\n",
      "At randon state36, the testing accuracy is: 0.9127811165767805\n",
      "\n",
      "\n",
      "At randon state37, the training accuracy is: 0.8928441817473719\n",
      "At randon state37, the testing accuracy is: 0.9089901606257966\n",
      "\n",
      "\n",
      "At randon state38, the training accuracy is: 0.8897925916435414\n",
      "At randon state38, the testing accuracy is: 0.9172706638690491\n",
      "\n",
      "\n",
      "At randon state39, the training accuracy is: 0.9035389723312434\n",
      "At randon state39, the testing accuracy is: 0.8548912714848503\n",
      "\n",
      "\n",
      "At randon state40, the training accuracy is: 0.8938865309825034\n",
      "At randon state40, the testing accuracy is: 0.8933223521136454\n",
      "\n",
      "\n",
      "At randon state41, the training accuracy is: 0.8990543250257402\n",
      "At randon state41, the testing accuracy is: 0.8663464679495858\n",
      "\n",
      "\n",
      "At randon state42, the training accuracy is: 0.8935961872087126\n",
      "At randon state42, the testing accuracy is: 0.8989454779619589\n",
      "\n",
      "\n",
      "At randon state43, the training accuracy is: 0.9003196624874754\n",
      "At randon state43, the testing accuracy is: 0.8751484803695657\n",
      "\n",
      "\n",
      "At randon state44, the training accuracy is: 0.9031303879771791\n",
      "At randon state44, the testing accuracy is: 0.8117000632290442\n",
      "\n",
      "\n",
      "At randon state45, the training accuracy is: 0.8978187125535125\n",
      "At randon state45, the testing accuracy is: 0.8747422037972019\n",
      "\n",
      "\n",
      "At randon state46, the training accuracy is: 0.899102111687532\n",
      "At randon state46, the testing accuracy is: 0.8726271917983103\n",
      "\n",
      "\n",
      "At randon state47, the training accuracy is: 0.8948929338032797\n",
      "At randon state47, the testing accuracy is: 0.8922946750347814\n",
      "\n",
      "\n",
      "At randon state48, the training accuracy is: 0.9019155855266181\n",
      "At randon state48, the testing accuracy is: 0.8662378996686708\n",
      "\n",
      "\n",
      "At randon state49, the training accuracy is: 0.910538439235421\n",
      "At randon state49, the testing accuracy is: 0.8351144932670392\n",
      "\n",
      "\n",
      "At randon state50, the training accuracy is: 0.900923146163619\n",
      "At randon state50, the testing accuracy is: 0.8429785403092688\n",
      "\n",
      "\n",
      "At randon state51, the training accuracy is: 0.8929482650783451\n",
      "At randon state51, the testing accuracy is: 0.8969749608189316\n",
      "\n",
      "\n",
      "At randon state52, the training accuracy is: 0.8947789773965512\n",
      "At randon state52, the testing accuracy is: 0.8925145995117166\n",
      "\n",
      "\n",
      "At randon state53, the training accuracy is: 0.9048442016872695\n",
      "At randon state53, the testing accuracy is: 0.8524939615808073\n",
      "\n",
      "\n",
      "At randon state54, the training accuracy is: 0.8982293254785564\n",
      "At randon state54, the testing accuracy is: 0.8776799027550092\n",
      "\n",
      "\n",
      "At randon state55, the training accuracy is: 0.8934732789730451\n",
      "At randon state55, the testing accuracy is: 0.897710913939017\n",
      "\n",
      "\n",
      "At randon state56, the training accuracy is: 0.9062773777328017\n",
      "At randon state56, the testing accuracy is: 0.8436665154822789\n",
      "\n",
      "\n",
      "At randon state57, the training accuracy is: 0.9032862954100991\n",
      "At randon state57, the testing accuracy is: 0.865206036731957\n",
      "\n",
      "\n",
      "At randon state58, the training accuracy is: 0.8815285101634734\n",
      "At randon state58, the testing accuracy is: 0.930113922012518\n",
      "\n",
      "\n",
      "At randon state59, the training accuracy is: 0.8872670373538741\n",
      "At randon state59, the testing accuracy is: 0.9184306555712066\n",
      "\n",
      "\n",
      "At randon state60, the training accuracy is: 0.8985938448584896\n",
      "At randon state60, the testing accuracy is: 0.8823000359749914\n",
      "\n",
      "\n",
      "At randon state61, the training accuracy is: 0.9046156537711098\n",
      "At randon state61, the testing accuracy is: 0.8532975619375341\n",
      "\n",
      "\n",
      "At randon state62, the training accuracy is: 0.9006118694968954\n",
      "At randon state62, the testing accuracy is: 0.8571507573921291\n",
      "\n",
      "\n",
      "At randon state63, the training accuracy is: 0.8939151551704926\n",
      "At randon state63, the testing accuracy is: 0.8972874269449633\n",
      "\n",
      "\n",
      "At randon state64, the training accuracy is: 0.8860385862322467\n",
      "At randon state64, the testing accuracy is: 0.9267279065103222\n",
      "\n",
      "\n",
      "At randon state65, the training accuracy is: 0.8979269961140793\n",
      "At randon state65, the testing accuracy is: 0.8825466552554458\n",
      "\n",
      "\n",
      "At randon state66, the training accuracy is: 0.9005426396871374\n",
      "At randon state66, the testing accuracy is: 0.8744920660734806\n",
      "\n",
      "\n",
      "At randon state67, the training accuracy is: 0.8916079358605493\n",
      "At randon state67, the testing accuracy is: 0.9057874401170471\n",
      "\n",
      "\n",
      "At randon state68, the training accuracy is: 0.9033182509577266\n",
      "At randon state68, the testing accuracy is: 0.8617429493016013\n",
      "\n",
      "\n",
      "At randon state69, the training accuracy is: 0.8914686052810469\n",
      "At randon state69, the testing accuracy is: 0.906070694321867\n",
      "\n",
      "\n",
      "At randon state70, the training accuracy is: 0.8827162954196404\n",
      "At randon state70, the testing accuracy is: 0.9265656652996626\n",
      "\n",
      "\n",
      "At randon state71, the training accuracy is: 0.9094738850819296\n",
      "At randon state71, the testing accuracy is: 0.8071830117377917\n",
      "\n",
      "\n",
      "At randon state72, the training accuracy is: 0.8877647068250816\n",
      "At randon state72, the testing accuracy is: 0.9212755833741662\n",
      "\n",
      "\n",
      "At randon state73, the training accuracy is: 0.8960783562759226\n",
      "At randon state73, the testing accuracy is: 0.8849214355996\n",
      "\n",
      "\n",
      "At randon state74, the training accuracy is: 0.8741050234782155\n",
      "At randon state74, the testing accuracy is: 0.9298308020128561\n",
      "\n",
      "\n",
      "At randon state75, the training accuracy is: 0.8953962394226144\n",
      "At randon state75, the testing accuracy is: 0.8756772369429391\n",
      "\n",
      "\n",
      "At randon state76, the training accuracy is: 0.9038582953449021\n",
      "At randon state76, the testing accuracy is: 0.8516126265709411\n",
      "\n",
      "\n",
      "At randon state77, the training accuracy is: 0.8890301857718985\n",
      "At randon state77, the testing accuracy is: 0.916690556375122\n",
      "\n",
      "\n",
      "At randon state78, the training accuracy is: 0.9134603355273572\n",
      "At randon state78, the testing accuracy is: 0.7902344027203061\n",
      "\n",
      "\n",
      "At randon state79, the training accuracy is: 0.8918146350991454\n",
      "At randon state79, the testing accuracy is: 0.9014406236580842\n",
      "\n",
      "\n",
      "At randon state80, the training accuracy is: 0.8926690585654801\n",
      "At randon state80, the testing accuracy is: 0.9037187128234276\n",
      "\n",
      "\n",
      "At randon state81, the training accuracy is: 0.8877828922449126\n",
      "At randon state81, the testing accuracy is: 0.9199455602534609\n",
      "\n",
      "\n",
      "At randon state82, the training accuracy is: 0.9090696813399116\n",
      "At randon state82, the testing accuracy is: 0.839876824043998\n",
      "\n",
      "\n",
      "At randon state83, the training accuracy is: 0.900459401377182\n",
      "At randon state83, the testing accuracy is: 0.8791148089196504\n",
      "\n",
      "\n",
      "At randon state84, the training accuracy is: 0.8835761124862844\n",
      "At randon state84, the testing accuracy is: 0.9292654473438203\n",
      "\n",
      "\n",
      "At randon state85, the training accuracy is: 0.9132027063640219\n",
      "At randon state85, the testing accuracy is: 0.7705544702687278\n",
      "\n",
      "\n",
      "At randon state86, the training accuracy is: 0.8925903351276707\n",
      "At randon state86, the testing accuracy is: 0.9047661303024037\n",
      "\n",
      "\n",
      "At randon state87, the training accuracy is: 0.9141328363442639\n",
      "At randon state87, the testing accuracy is: 0.8087421010289435\n",
      "\n",
      "\n",
      "At randon state88, the training accuracy is: 0.8972954404318595\n",
      "At randon state88, the testing accuracy is: 0.88373535650173\n",
      "\n",
      "\n",
      "At randon state89, the training accuracy is: 0.9032509605262719\n",
      "At randon state89, the testing accuracy is: 0.845842124811012\n",
      "\n",
      "\n",
      "At randon state90, the training accuracy is: 0.8791542940797823\n",
      "At randon state90, the testing accuracy is: 0.9477136584598764\n",
      "\n",
      "\n",
      "At randon state91, the training accuracy is: 0.8925537988702157\n",
      "At randon state91, the testing accuracy is: 0.8986272987144843\n",
      "\n",
      "\n",
      "At randon state92, the training accuracy is: 0.89370900172804\n",
      "At randon state92, the testing accuracy is: 0.8937806772897252\n",
      "\n",
      "\n",
      "At randon state93, the training accuracy is: 0.9083900499601348\n",
      "At randon state93, the testing accuracy is: 0.8435303584836115\n",
      "\n",
      "\n",
      "At randon state94, the training accuracy is: 0.9035778811399116\n",
      "At randon state94, the testing accuracy is: 0.8679025522688203\n",
      "\n",
      "\n",
      "At randon state95, the training accuracy is: 0.9081470930021118\n",
      "At randon state95, the testing accuracy is: 0.847911640936015\n",
      "\n",
      "\n",
      "At randon state96, the training accuracy is: 0.9025829262386167\n",
      "At randon state96, the testing accuracy is: 0.8549819020058947\n",
      "\n",
      "\n",
      "At randon state97, the training accuracy is: 0.8941951908750971\n",
      "At randon state97, the testing accuracy is: 0.8975724260460941\n",
      "\n",
      "\n",
      "At randon state98, the training accuracy is: 0.9090516361378773\n",
      "At randon state98, the testing accuracy is: 0.8382459156006743\n",
      "\n",
      "\n",
      "At randon state99, the training accuracy is: 0.8832087051413472\n",
      "At randon state99, the testing accuracy is: 0.9300192208914474\n",
      "\n",
      "\n"
     ]
    }
   ],
   "source": [
    "for i in range(0,100):\n",
    "    x_train,x_test,y_train,y_test = train_test_split(x,y,test_size=0.2,random_state=i)\n",
    "    lr.fit(x_train,y_train)\n",
    "    pred_train=lr.predict(x_train)\n",
    "    pred_test = lr.predict(x_test)\n",
    "    print(f\"At randon state{i}, the training accuracy is: {r2_score(y_train,pred_train)}\")\n",
    "    print(f\"At randon state{i}, the testing accuracy is: {r2_score(y_test,pred_test)}\")\n",
    "    print(\"\\n\")"
   ]
  },
  {
   "cell_type": "code",
   "execution_count": 71,
   "id": "382fe7b8",
   "metadata": {},
   "outputs": [
    {
     "data": {
      "text/plain": [
       "LinearRegression()"
      ]
     },
     "execution_count": 71,
     "metadata": {},
     "output_type": "execute_result"
    }
   ],
   "source": [
    "lr.fit(x_train,y_train)"
   ]
  },
  {
   "cell_type": "code",
   "execution_count": 72,
   "id": "5c6040a3",
   "metadata": {},
   "outputs": [],
   "source": [
    "pred_test=lr.predict(x_test)"
   ]
  },
  {
   "cell_type": "code",
   "execution_count": 73,
   "id": "c8021ea0",
   "metadata": {},
   "outputs": [
    {
     "name": "stdout",
     "output_type": "stream",
     "text": [
      "0.9300192208914474\n"
     ]
    }
   ],
   "source": [
    "print(r2_score(y_test,pred_test))"
   ]
  },
  {
   "cell_type": "markdown",
   "id": "a1d2837b",
   "metadata": {},
   "source": [
    "Cross Validation"
   ]
  },
  {
   "cell_type": "code",
   "execution_count": 79,
   "id": "edb76c0e",
   "metadata": {},
   "outputs": [
    {
     "name": "stdout",
     "output_type": "stream",
     "text": [
      "At cross fold 2 the cv score is 0.8886177292201752 and accuracy score for training is 0.8832087051413472 and accuracy for the testing is 0.9300192208914474\n",
      "\n",
      "\n",
      "At cross fold 3 the cv score is 0.8890406332045909 and accuracy score for training is 0.8832087051413472 and accuracy for the testing is 0.9300192208914474\n",
      "\n",
      "\n",
      "At cross fold 4 the cv score is 0.8880501918930908 and accuracy score for training is 0.8832087051413472 and accuracy for the testing is 0.9300192208914474\n",
      "\n",
      "\n",
      "At cross fold 5 the cv score is 0.8853605756683912 and accuracy score for training is 0.8832087051413472 and accuracy for the testing is 0.9300192208914474\n",
      "\n",
      "\n",
      "At cross fold 6 the cv score is 0.8868174285063072 and accuracy score for training is 0.8832087051413472 and accuracy for the testing is 0.9300192208914474\n",
      "\n",
      "\n",
      "At cross fold 7 the cv score is 0.8838282894864758 and accuracy score for training is 0.8832087051413472 and accuracy for the testing is 0.9300192208914474\n",
      "\n",
      "\n",
      "At cross fold 8 the cv score is 0.8880334554150218 and accuracy score for training is 0.8832087051413472 and accuracy for the testing is 0.9300192208914474\n",
      "\n",
      "\n",
      "At cross fold 9 the cv score is 0.8810485430282271 and accuracy score for training is 0.8832087051413472 and accuracy for the testing is 0.9300192208914474\n",
      "\n",
      "\n"
     ]
    }
   ],
   "source": [
    "Train_accuracy = r2_score(y_train,pred_train)\n",
    "Test_accuracy = r2_score(y_test,pred_test)\n",
    "\n",
    "from sklearn.model_selection import cross_val_score\n",
    "\n",
    "for j in range(2,10):\n",
    "    cv_score = cross_val_score(lr,x,y,cv=j)\n",
    "    cv_mean = cv_score.mean()\n",
    "    print(f\"At cross fold {j} the cv score is {cv_mean} and accuracy score for training is {Train_accuracy} and accuracy for the testing is {Test_accuracy}\")\n",
    "    print(\"\\n\")\n"
   ]
  },
  {
   "cell_type": "code",
   "execution_count": 80,
   "id": "e7e4f7b5",
   "metadata": {},
   "outputs": [],
   "source": [
    "from sklearn.model_selection import GridSearchCV\n",
    "from sklearn.model_selection import cross_val_score\n",
    "import warnings\n",
    "warnings.filterwarnings('ignore')"
   ]
  },
  {
   "cell_type": "code",
   "execution_count": 81,
   "id": "2c68c141",
   "metadata": {},
   "outputs": [
    {
     "name": "stdout",
     "output_type": "stream",
     "text": [
      "{'alpha': 1, 'random_state': 0}\n"
     ]
    }
   ],
   "source": [
    "from sklearn.linear_model import Lasso\n",
    "\n",
    "parameters = {'alpha':[.0001,.001,.01,.1,1,10],\n",
    "             'random_state':list(range(0,10))}\n",
    "\n",
    "ls = Lasso()\n",
    "clf=GridSearchCV(ls,parameters)\n",
    "clf.fit(x_train,y_train)\n",
    "\n",
    "print(clf.best_params_)"
   ]
  },
  {
   "cell_type": "code",
   "execution_count": 82,
   "id": "3b69a238",
   "metadata": {},
   "outputs": [
    {
     "data": {
      "text/plain": [
       "88.30088655803894"
      ]
     },
     "execution_count": 82,
     "metadata": {},
     "output_type": "execute_result"
    }
   ],
   "source": [
    "#final model training\n",
    "ls = Lasso(alpha=1,random_state=0)\n",
    "ls.fit(x_train,y_train)\n",
    "ls_score_training=ls.score(x_train,y_train)\n",
    "pred_ls=ls.predict(x_test)\n",
    "ls_score_training*100"
   ]
  },
  {
   "cell_type": "code",
   "execution_count": 83,
   "id": "4ed44a64",
   "metadata": {},
   "outputs": [],
   "source": [
    "pred_ls = ls.predict(x_test)"
   ]
  },
  {
   "cell_type": "code",
   "execution_count": 84,
   "id": "d0c032c8",
   "metadata": {},
   "outputs": [
    {
     "data": {
      "text/plain": [
       "92.72254559437019"
      ]
     },
     "execution_count": 84,
     "metadata": {},
     "output_type": "execute_result"
    }
   ],
   "source": [
    "lss = r2_score(y_test,pred_ls)\n",
    "lss*100"
   ]
  },
  {
   "cell_type": "code",
   "execution_count": 85,
   "id": "66354e40",
   "metadata": {},
   "outputs": [
    {
     "data": {
      "text/plain": [
       "88.66337793995942"
      ]
     },
     "execution_count": 85,
     "metadata": {},
     "output_type": "execute_result"
    }
   ],
   "source": [
    "cv_score = cross_val_score(ls,x,y,cv=5)\n",
    "cv_mean = cv_score.mean()\n",
    "cv_mean*100"
   ]
  },
  {
   "cell_type": "markdown",
   "id": "19905c99",
   "metadata": {},
   "source": [
    "Ensemble Technique"
   ]
  },
  {
   "cell_type": "code",
   "execution_count": 86,
   "id": "64fbce54",
   "metadata": {},
   "outputs": [
    {
     "name": "stdout",
     "output_type": "stream",
     "text": [
      "{'criterion': 'mae', 'max_features': 'auto'}\n"
     ]
    }
   ],
   "source": [
    "from sklearn.model_selection import GridSearchCV\n",
    "from sklearn.ensemble import RandomForestRegressor\n",
    "\n",
    "parameters = {'criterion':['mse','mae'],\n",
    "             'max_features':['auto','sqrt','log2']}\n",
    "\n",
    "rf =RandomForestRegressor()\n",
    "clf = GridSearchCV(rf,parameters)\n",
    "clf.fit(x_train,y_train)\n",
    "\n",
    "print(clf.best_params_)"
   ]
  },
  {
   "cell_type": "code",
   "execution_count": 87,
   "id": "814ff99a",
   "metadata": {},
   "outputs": [
    {
     "name": "stdout",
     "output_type": "stream",
     "text": [
      "r2_score 97.93726075600917\n",
      "Cross Val Sacore 97.81058675343334\n"
     ]
    }
   ],
   "source": [
    "rf = RandomForestRegressor(criterion='mae',max_features='auto')\n",
    "rf.fit(x_train,y_train)\n",
    "rf.score(x_train,y_train)\n",
    "pred_decision = rf.predict(x_test)\n",
    "\n",
    "rfs = r2_score(y_test,pred_decision)\n",
    "print('r2_score', rfs*100)\n",
    "\n",
    "rfscore = cross_val_score(rf,x,y,cv=5)\n",
    "rfc = rfscore.mean()\n",
    "print('Cross Val Sacore', rfc*100)"
   ]
  },
  {
   "cell_type": "code",
   "execution_count": null,
   "id": "f490be97",
   "metadata": {},
   "outputs": [],
   "source": []
  }
 ],
 "metadata": {
  "kernelspec": {
   "display_name": "Python 3 (ipykernel)",
   "language": "python",
   "name": "python3"
  },
  "language_info": {
   "codemirror_mode": {
    "name": "ipython",
    "version": 3
   },
   "file_extension": ".py",
   "mimetype": "text/x-python",
   "name": "python",
   "nbconvert_exporter": "python",
   "pygments_lexer": "ipython3",
   "version": "3.9.7"
  }
 },
 "nbformat": 4,
 "nbformat_minor": 5
}

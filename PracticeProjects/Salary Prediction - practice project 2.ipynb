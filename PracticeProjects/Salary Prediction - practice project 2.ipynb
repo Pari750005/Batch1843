{
 "cells": [
  {
   "cell_type": "code",
   "execution_count": 6,
   "id": "681ed673",
   "metadata": {},
   "outputs": [],
   "source": [
    "import pandas as pd\n",
    "import numpy as np"
   ]
  },
  {
   "cell_type": "markdown",
   "id": "de367573",
   "metadata": {},
   "source": [
    "Importing Data set"
   ]
  },
  {
   "cell_type": "code",
   "execution_count": 7,
   "id": "c6efdc99",
   "metadata": {},
   "outputs": [
    {
     "data": {
      "text/html": [
       "<div>\n",
       "<style scoped>\n",
       "    .dataframe tbody tr th:only-of-type {\n",
       "        vertical-align: middle;\n",
       "    }\n",
       "\n",
       "    .dataframe tbody tr th {\n",
       "        vertical-align: top;\n",
       "    }\n",
       "\n",
       "    .dataframe thead th {\n",
       "        text-align: right;\n",
       "    }\n",
       "</style>\n",
       "<table border=\"1\" class=\"dataframe\">\n",
       "  <thead>\n",
       "    <tr style=\"text-align: right;\">\n",
       "      <th></th>\n",
       "      <th>rank</th>\n",
       "      <th>discipline</th>\n",
       "      <th>yrs.since.phd</th>\n",
       "      <th>yrs.service</th>\n",
       "      <th>sex</th>\n",
       "      <th>salary</th>\n",
       "    </tr>\n",
       "  </thead>\n",
       "  <tbody>\n",
       "    <tr>\n",
       "      <th>0</th>\n",
       "      <td>Prof</td>\n",
       "      <td>B</td>\n",
       "      <td>19</td>\n",
       "      <td>18</td>\n",
       "      <td>Male</td>\n",
       "      <td>139750</td>\n",
       "    </tr>\n",
       "    <tr>\n",
       "      <th>1</th>\n",
       "      <td>Prof</td>\n",
       "      <td>B</td>\n",
       "      <td>20</td>\n",
       "      <td>16</td>\n",
       "      <td>Male</td>\n",
       "      <td>173200</td>\n",
       "    </tr>\n",
       "    <tr>\n",
       "      <th>2</th>\n",
       "      <td>AsstProf</td>\n",
       "      <td>B</td>\n",
       "      <td>4</td>\n",
       "      <td>3</td>\n",
       "      <td>Male</td>\n",
       "      <td>79750</td>\n",
       "    </tr>\n",
       "    <tr>\n",
       "      <th>3</th>\n",
       "      <td>Prof</td>\n",
       "      <td>B</td>\n",
       "      <td>45</td>\n",
       "      <td>39</td>\n",
       "      <td>Male</td>\n",
       "      <td>115000</td>\n",
       "    </tr>\n",
       "    <tr>\n",
       "      <th>4</th>\n",
       "      <td>Prof</td>\n",
       "      <td>B</td>\n",
       "      <td>40</td>\n",
       "      <td>41</td>\n",
       "      <td>Male</td>\n",
       "      <td>141500</td>\n",
       "    </tr>\n",
       "    <tr>\n",
       "      <th>...</th>\n",
       "      <td>...</td>\n",
       "      <td>...</td>\n",
       "      <td>...</td>\n",
       "      <td>...</td>\n",
       "      <td>...</td>\n",
       "      <td>...</td>\n",
       "    </tr>\n",
       "    <tr>\n",
       "      <th>392</th>\n",
       "      <td>Prof</td>\n",
       "      <td>A</td>\n",
       "      <td>33</td>\n",
       "      <td>30</td>\n",
       "      <td>Male</td>\n",
       "      <td>103106</td>\n",
       "    </tr>\n",
       "    <tr>\n",
       "      <th>393</th>\n",
       "      <td>Prof</td>\n",
       "      <td>A</td>\n",
       "      <td>31</td>\n",
       "      <td>19</td>\n",
       "      <td>Male</td>\n",
       "      <td>150564</td>\n",
       "    </tr>\n",
       "    <tr>\n",
       "      <th>394</th>\n",
       "      <td>Prof</td>\n",
       "      <td>A</td>\n",
       "      <td>42</td>\n",
       "      <td>25</td>\n",
       "      <td>Male</td>\n",
       "      <td>101738</td>\n",
       "    </tr>\n",
       "    <tr>\n",
       "      <th>395</th>\n",
       "      <td>Prof</td>\n",
       "      <td>A</td>\n",
       "      <td>25</td>\n",
       "      <td>15</td>\n",
       "      <td>Male</td>\n",
       "      <td>95329</td>\n",
       "    </tr>\n",
       "    <tr>\n",
       "      <th>396</th>\n",
       "      <td>AsstProf</td>\n",
       "      <td>A</td>\n",
       "      <td>8</td>\n",
       "      <td>4</td>\n",
       "      <td>Male</td>\n",
       "      <td>81035</td>\n",
       "    </tr>\n",
       "  </tbody>\n",
       "</table>\n",
       "<p>397 rows × 6 columns</p>\n",
       "</div>"
      ],
      "text/plain": [
       "         rank discipline  yrs.since.phd  yrs.service   sex  salary\n",
       "0        Prof          B             19           18  Male  139750\n",
       "1        Prof          B             20           16  Male  173200\n",
       "2    AsstProf          B              4            3  Male   79750\n",
       "3        Prof          B             45           39  Male  115000\n",
       "4        Prof          B             40           41  Male  141500\n",
       "..        ...        ...            ...          ...   ...     ...\n",
       "392      Prof          A             33           30  Male  103106\n",
       "393      Prof          A             31           19  Male  150564\n",
       "394      Prof          A             42           25  Male  101738\n",
       "395      Prof          A             25           15  Male   95329\n",
       "396  AsstProf          A              8            4  Male   81035\n",
       "\n",
       "[397 rows x 6 columns]"
      ]
     },
     "execution_count": 7,
     "metadata": {},
     "output_type": "execute_result"
    }
   ],
   "source": [
    "df = pd.read_csv(\"https://raw.githubusercontent.com/dsrscientist/dataset3/main/Salaries.csv\")\n",
    "df"
   ]
  },
  {
   "cell_type": "code",
   "execution_count": 8,
   "id": "add167b6",
   "metadata": {},
   "outputs": [
    {
     "data": {
      "text/plain": [
       "Index(['rank', 'discipline', 'yrs.since.phd', 'yrs.service', 'sex', 'salary'], dtype='object')"
      ]
     },
     "execution_count": 8,
     "metadata": {},
     "output_type": "execute_result"
    }
   ],
   "source": [
    "df.columns"
   ]
  },
  {
   "cell_type": "code",
   "execution_count": 9,
   "id": "d031fe71",
   "metadata": {},
   "outputs": [
    {
     "data": {
      "text/plain": [
       "<bound method NDFrame.head of          rank discipline  yrs.since.phd  yrs.service   sex  salary\n",
       "0        Prof          B             19           18  Male  139750\n",
       "1        Prof          B             20           16  Male  173200\n",
       "2    AsstProf          B              4            3  Male   79750\n",
       "3        Prof          B             45           39  Male  115000\n",
       "4        Prof          B             40           41  Male  141500\n",
       "..        ...        ...            ...          ...   ...     ...\n",
       "392      Prof          A             33           30  Male  103106\n",
       "393      Prof          A             31           19  Male  150564\n",
       "394      Prof          A             42           25  Male  101738\n",
       "395      Prof          A             25           15  Male   95329\n",
       "396  AsstProf          A              8            4  Male   81035\n",
       "\n",
       "[397 rows x 6 columns]>"
      ]
     },
     "execution_count": 9,
     "metadata": {},
     "output_type": "execute_result"
    }
   ],
   "source": [
    "df.head"
   ]
  },
  {
   "cell_type": "markdown",
   "id": "87db7bc2",
   "metadata": {},
   "source": [
    "Checking Null values in DataFrame"
   ]
  },
  {
   "cell_type": "code",
   "execution_count": 10,
   "id": "0f4e69a8",
   "metadata": {},
   "outputs": [
    {
     "data": {
      "text/plain": [
       "rank             0\n",
       "discipline       0\n",
       "yrs.since.phd    0\n",
       "yrs.service      0\n",
       "sex              0\n",
       "salary           0\n",
       "dtype: int64"
      ]
     },
     "execution_count": 10,
     "metadata": {},
     "output_type": "execute_result"
    }
   ],
   "source": [
    "df.isnull().sum()"
   ]
  },
  {
   "cell_type": "markdown",
   "id": "07a24dd2",
   "metadata": {},
   "source": [
    "Checking Data Types of columns"
   ]
  },
  {
   "cell_type": "code",
   "execution_count": 11,
   "id": "b284b83e",
   "metadata": {},
   "outputs": [
    {
     "data": {
      "text/plain": [
       "rank             object\n",
       "discipline       object\n",
       "yrs.since.phd     int64\n",
       "yrs.service       int64\n",
       "sex              object\n",
       "salary            int64\n",
       "dtype: object"
      ]
     },
     "execution_count": 11,
     "metadata": {},
     "output_type": "execute_result"
    }
   ],
   "source": [
    "df.dtypes"
   ]
  },
  {
   "cell_type": "markdown",
   "id": "c92c62eb",
   "metadata": {},
   "source": [
    "Making DataFrame for nominal data"
   ]
  },
  {
   "cell_type": "code",
   "execution_count": 12,
   "id": "47ceece3",
   "metadata": {},
   "outputs": [],
   "source": [
    "df_visualization_nominal = df[[\"rank\",\"discipline\",\"sex\"]].copy()"
   ]
  },
  {
   "cell_type": "code",
   "execution_count": 13,
   "id": "24ab58b1",
   "metadata": {},
   "outputs": [
    {
     "data": {
      "text/plain": [
       "Index(['rank', 'discipline', 'sex'], dtype='object')"
      ]
     },
     "execution_count": 13,
     "metadata": {},
     "output_type": "execute_result"
    }
   ],
   "source": [
    "df_visualization_nominal.columns"
   ]
  },
  {
   "cell_type": "markdown",
   "id": "a56028a2",
   "metadata": {},
   "source": [
    "Visualization of Data"
   ]
  },
  {
   "cell_type": "code",
   "execution_count": 14,
   "id": "5618b0df",
   "metadata": {},
   "outputs": [],
   "source": [
    "import seaborn as sns"
   ]
  },
  {
   "cell_type": "code",
   "execution_count": 15,
   "id": "7946f641",
   "metadata": {},
   "outputs": [
    {
     "name": "stdout",
     "output_type": "stream",
     "text": [
      "B    216\n",
      "A    181\n",
      "Name: discipline, dtype: int64\n"
     ]
    },
    {
     "data": {
      "image/png": "[encoded data removed]",
      "text/plain": [
       "<Figure size 432x288 with 1 Axes>"
      ]
     },
     "metadata": {
      "needs_background": "light"
     },
     "output_type": "display_data"
    }
   ],
   "source": [
    "ax = sns.countplot(x=\"discipline\", data=df_visualization_nominal)\n",
    "print(df_visualization_nominal[\"discipline\"].value_counts())"
   ]
  },
  {
   "cell_type": "code",
   "execution_count": 16,
   "id": "8598eb00",
   "metadata": {},
   "outputs": [
    {
     "name": "stdout",
     "output_type": "stream",
     "text": [
      "Prof         266\n",
      "AsstProf      67\n",
      "AssocProf     64\n",
      "Name: rank, dtype: int64\n"
     ]
    },
    {
     "data": {
      "image/png": "[encoded data removed]",
      "text/plain": [
       "<Figure size 432x288 with 1 Axes>"
      ]
     },
     "metadata": {
      "needs_background": "light"
     },
     "output_type": "display_data"
    }
   ],
   "source": [
    "ax = sns.countplot(x=\"rank\", data=df_visualization_nominal)\n",
    "print(df_visualization_nominal[\"rank\"].value_counts())"
   ]
  },
  {
   "cell_type": "code",
   "execution_count": 17,
   "id": "1f80a81a",
   "metadata": {},
   "outputs": [
    {
     "name": "stdout",
     "output_type": "stream",
     "text": [
      "Male      358\n",
      "Female     39\n",
      "Name: sex, dtype: int64\n"
     ]
    },
    {
     "data": {
      "image/png": "[encoded data removed]",
      "text/plain": [
       "<Figure size 432x288 with 1 Axes>"
      ]
     },
     "metadata": {
      "needs_background": "light"
     },
     "output_type": "display_data"
    }
   ],
   "source": [
    "ax = sns.countplot(x=\"sex\", data=df_visualization_nominal)\n",
    "print(df_visualization_nominal[\"sex\"].value_counts())"
   ]
  },
  {
   "cell_type": "markdown",
   "id": "915c596d",
   "metadata": {},
   "source": [
    "Making DataFrame for ordinal data"
   ]
  },
  {
   "cell_type": "code",
   "execution_count": 18,
   "id": "fe298dce",
   "metadata": {},
   "outputs": [],
   "source": [
    "df_visualization_ordinal = df[[\"yrs.since.phd\",\"yrs.service\",\"salary\"]].copy()"
   ]
  },
  {
   "cell_type": "code",
   "execution_count": 19,
   "id": "33c1b45c",
   "metadata": {},
   "outputs": [
    {
     "data": {
      "text/plain": [
       "Index(['yrs.since.phd', 'yrs.service', 'salary'], dtype='object')"
      ]
     },
     "execution_count": 19,
     "metadata": {},
     "output_type": "execute_result"
    }
   ],
   "source": [
    "df_visualization_ordinal.columns"
   ]
  },
  {
   "cell_type": "code",
   "execution_count": 20,
   "id": "78763328",
   "metadata": {},
   "outputs": [
    {
     "data": {
      "text/plain": [
       "<seaborn.axisgrid.FacetGrid at 0x1dbd41e1c70>"
      ]
     },
     "execution_count": 20,
     "metadata": {},
     "output_type": "execute_result"
    },
    {
     "data": {
      "image/png": "[encoded data removed]",
      "text/plain": [
       "<Figure size 360x360 with 1 Axes>"
      ]
     },
     "metadata": {
      "needs_background": "light"
     },
     "output_type": "display_data"
    }
   ],
   "source": [
    "sns.catplot(x=\"rank\",y=\"yrs.since.phd\",data=df)"
   ]
  },
  {
   "cell_type": "code",
   "execution_count": 21,
   "id": "248aa3fd",
   "metadata": {},
   "outputs": [
    {
     "data": {
      "text/plain": [
       "<seaborn.axisgrid.FacetGrid at 0x1dbd424a310>"
      ]
     },
     "execution_count": 21,
     "metadata": {},
     "output_type": "execute_result"
    },
    {
     "data": {
      "image/png": "[encoded data removed]",
      "text/plain": [
       "<Figure size 360x360 with 1 Axes>"
      ]
     },
     "metadata": {
      "needs_background": "light"
     },
     "output_type": "display_data"
    }
   ],
   "source": [
    "sns.catplot(x=\"rank\",y=\"yrs.service\",data=df)"
   ]
  },
  {
   "cell_type": "markdown",
   "id": "f60f18e5",
   "metadata": {},
   "source": [
    "Checking distribution of continuouse data"
   ]
  },
  {
   "cell_type": "code",
   "execution_count": 22,
   "id": "10d72ab8",
   "metadata": {},
   "outputs": [],
   "source": [
    "df_visualization_continuous=df[[\"yrs.since.phd\",\"yrs.service\",\"salary\"]].copy()"
   ]
  },
  {
   "cell_type": "code",
   "execution_count": 23,
   "id": "111acda8",
   "metadata": {},
   "outputs": [
    {
     "data": {
      "text/plain": [
       "<seaborn.axisgrid.FacetGrid at 0x1dbd399fa00>"
      ]
     },
     "execution_count": 23,
     "metadata": {},
     "output_type": "execute_result"
    },
    {
     "data": {
      "image/png": "[encoded data removed]",
      "text/plain": [
       "<Figure size 360x360 with 1 Axes>"
      ]
     },
     "metadata": {
      "needs_background": "light"
     },
     "output_type": "display_data"
    }
   ],
   "source": [
    "sns.displot(df_visualization_continuous[\"salary\"],kde=True)"
   ]
  },
  {
   "cell_type": "code",
   "execution_count": 24,
   "id": "d84295e1",
   "metadata": {},
   "outputs": [
    {
     "data": {
      "text/plain": [
       "<seaborn.axisgrid.FacetGrid at 0x1dbd4322040>"
      ]
     },
     "execution_count": 24,
     "metadata": {},
     "output_type": "execute_result"
    },
    {
     "data": {
      "image/png": "[encoded data removed]",
      "text/plain": [
       "<Figure size 360x360 with 1 Axes>"
      ]
     },
     "metadata": {
      "needs_background": "light"
     },
     "output_type": "display_data"
    }
   ],
   "source": [
    "sns.displot(df_visualization_continuous[\"yrs.since.phd\"],kde=True)"
   ]
  },
  {
   "cell_type": "code",
   "execution_count": 25,
   "id": "5d0d564e",
   "metadata": {},
   "outputs": [
    {
     "data": {
      "text/plain": [
       "<seaborn.axisgrid.FacetGrid at 0x1dbd38b5490>"
      ]
     },
     "execution_count": 25,
     "metadata": {},
     "output_type": "execute_result"
    },
    {
     "data": {
      "image/png": "[encoded data removed]",
      "text/plain": [
       "<Figure size 360x360 with 1 Axes>"
      ]
     },
     "metadata": {
      "needs_background": "light"
     },
     "output_type": "display_data"
    }
   ],
   "source": [
    "sns.displot(df_visualization_continuous[\"yrs.service\"],kde=True)"
   ]
  },
  {
   "cell_type": "markdown",
   "id": "affe2a8f",
   "metadata": {},
   "source": [
    "Encoding Srting data"
   ]
  },
  {
   "cell_type": "code",
   "execution_count": 26,
   "id": "ed24bd02",
   "metadata": {},
   "outputs": [],
   "source": [
    "from sklearn.preprocessing import OrdinalEncoder\n",
    "enc=OrdinalEncoder()"
   ]
  },
  {
   "cell_type": "code",
   "execution_count": 27,
   "id": "f057e07b",
   "metadata": {},
   "outputs": [],
   "source": [
    "for i in df.columns:\n",
    "    if df[i].dtypes==\"object\":\n",
    "        df[i]=enc.fit_transform(df[i].values.reshape(-1,1))"
   ]
  },
  {
   "cell_type": "code",
   "execution_count": 28,
   "id": "747f51db",
   "metadata": {},
   "outputs": [
    {
     "data": {
      "text/html": [
       "<div>\n",
       "<style scoped>\n",
       "    .dataframe tbody tr th:only-of-type {\n",
       "        vertical-align: middle;\n",
       "    }\n",
       "\n",
       "    .dataframe tbody tr th {\n",
       "        vertical-align: top;\n",
       "    }\n",
       "\n",
       "    .dataframe thead th {\n",
       "        text-align: right;\n",
       "    }\n",
       "</style>\n",
       "<table border=\"1\" class=\"dataframe\">\n",
       "  <thead>\n",
       "    <tr style=\"text-align: right;\">\n",
       "      <th></th>\n",
       "      <th>rank</th>\n",
       "      <th>discipline</th>\n",
       "      <th>yrs.since.phd</th>\n",
       "      <th>yrs.service</th>\n",
       "      <th>sex</th>\n",
       "      <th>salary</th>\n",
       "    </tr>\n",
       "  </thead>\n",
       "  <tbody>\n",
       "    <tr>\n",
       "      <th>0</th>\n",
       "      <td>2.0</td>\n",
       "      <td>1.0</td>\n",
       "      <td>19</td>\n",
       "      <td>18</td>\n",
       "      <td>1.0</td>\n",
       "      <td>139750</td>\n",
       "    </tr>\n",
       "    <tr>\n",
       "      <th>1</th>\n",
       "      <td>2.0</td>\n",
       "      <td>1.0</td>\n",
       "      <td>20</td>\n",
       "      <td>16</td>\n",
       "      <td>1.0</td>\n",
       "      <td>173200</td>\n",
       "    </tr>\n",
       "    <tr>\n",
       "      <th>2</th>\n",
       "      <td>1.0</td>\n",
       "      <td>1.0</td>\n",
       "      <td>4</td>\n",
       "      <td>3</td>\n",
       "      <td>1.0</td>\n",
       "      <td>79750</td>\n",
       "    </tr>\n",
       "    <tr>\n",
       "      <th>3</th>\n",
       "      <td>2.0</td>\n",
       "      <td>1.0</td>\n",
       "      <td>45</td>\n",
       "      <td>39</td>\n",
       "      <td>1.0</td>\n",
       "      <td>115000</td>\n",
       "    </tr>\n",
       "    <tr>\n",
       "      <th>4</th>\n",
       "      <td>2.0</td>\n",
       "      <td>1.0</td>\n",
       "      <td>40</td>\n",
       "      <td>41</td>\n",
       "      <td>1.0</td>\n",
       "      <td>141500</td>\n",
       "    </tr>\n",
       "    <tr>\n",
       "      <th>...</th>\n",
       "      <td>...</td>\n",
       "      <td>...</td>\n",
       "      <td>...</td>\n",
       "      <td>...</td>\n",
       "      <td>...</td>\n",
       "      <td>...</td>\n",
       "    </tr>\n",
       "    <tr>\n",
       "      <th>392</th>\n",
       "      <td>2.0</td>\n",
       "      <td>0.0</td>\n",
       "      <td>33</td>\n",
       "      <td>30</td>\n",
       "      <td>1.0</td>\n",
       "      <td>103106</td>\n",
       "    </tr>\n",
       "    <tr>\n",
       "      <th>393</th>\n",
       "      <td>2.0</td>\n",
       "      <td>0.0</td>\n",
       "      <td>31</td>\n",
       "      <td>19</td>\n",
       "      <td>1.0</td>\n",
       "      <td>150564</td>\n",
       "    </tr>\n",
       "    <tr>\n",
       "      <th>394</th>\n",
       "      <td>2.0</td>\n",
       "      <td>0.0</td>\n",
       "      <td>42</td>\n",
       "      <td>25</td>\n",
       "      <td>1.0</td>\n",
       "      <td>101738</td>\n",
       "    </tr>\n",
       "    <tr>\n",
       "      <th>395</th>\n",
       "      <td>2.0</td>\n",
       "      <td>0.0</td>\n",
       "      <td>25</td>\n",
       "      <td>15</td>\n",
       "      <td>1.0</td>\n",
       "      <td>95329</td>\n",
       "    </tr>\n",
       "    <tr>\n",
       "      <th>396</th>\n",
       "      <td>1.0</td>\n",
       "      <td>0.0</td>\n",
       "      <td>8</td>\n",
       "      <td>4</td>\n",
       "      <td>1.0</td>\n",
       "      <td>81035</td>\n",
       "    </tr>\n",
       "  </tbody>\n",
       "</table>\n",
       "<p>397 rows × 6 columns</p>\n",
       "</div>"
      ],
      "text/plain": [
       "     rank  discipline  yrs.since.phd  yrs.service  sex  salary\n",
       "0     2.0         1.0             19           18  1.0  139750\n",
       "1     2.0         1.0             20           16  1.0  173200\n",
       "2     1.0         1.0              4            3  1.0   79750\n",
       "3     2.0         1.0             45           39  1.0  115000\n",
       "4     2.0         1.0             40           41  1.0  141500\n",
       "..    ...         ...            ...          ...  ...     ...\n",
       "392   2.0         0.0             33           30  1.0  103106\n",
       "393   2.0         0.0             31           19  1.0  150564\n",
       "394   2.0         0.0             42           25  1.0  101738\n",
       "395   2.0         0.0             25           15  1.0   95329\n",
       "396   1.0         0.0              8            4  1.0   81035\n",
       "\n",
       "[397 rows x 6 columns]"
      ]
     },
     "execution_count": 28,
     "metadata": {},
     "output_type": "execute_result"
    }
   ],
   "source": [
    "df"
   ]
  },
  {
   "cell_type": "markdown",
   "id": "aed60078",
   "metadata": {},
   "source": [
    "Describe Data sheet"
   ]
  },
  {
   "cell_type": "code",
   "execution_count": 29,
   "id": "7ef9b917",
   "metadata": {},
   "outputs": [
    {
     "data": {
      "text/html": [
       "<div>\n",
       "<style scoped>\n",
       "    .dataframe tbody tr th:only-of-type {\n",
       "        vertical-align: middle;\n",
       "    }\n",
       "\n",
       "    .dataframe tbody tr th {\n",
       "        vertical-align: top;\n",
       "    }\n",
       "\n",
       "    .dataframe thead th {\n",
       "        text-align: right;\n",
       "    }\n",
       "</style>\n",
       "<table border=\"1\" class=\"dataframe\">\n",
       "  <thead>\n",
       "    <tr style=\"text-align: right;\">\n",
       "      <th></th>\n",
       "      <th>rank</th>\n",
       "      <th>discipline</th>\n",
       "      <th>yrs.since.phd</th>\n",
       "      <th>yrs.service</th>\n",
       "      <th>sex</th>\n",
       "      <th>salary</th>\n",
       "    </tr>\n",
       "  </thead>\n",
       "  <tbody>\n",
       "    <tr>\n",
       "      <th>count</th>\n",
       "      <td>397.000000</td>\n",
       "      <td>397.000000</td>\n",
       "      <td>397.000000</td>\n",
       "      <td>397.000000</td>\n",
       "      <td>397.000000</td>\n",
       "      <td>397.000000</td>\n",
       "    </tr>\n",
       "    <tr>\n",
       "      <th>mean</th>\n",
       "      <td>1.508816</td>\n",
       "      <td>0.544081</td>\n",
       "      <td>22.314861</td>\n",
       "      <td>17.614610</td>\n",
       "      <td>0.901763</td>\n",
       "      <td>113706.458438</td>\n",
       "    </tr>\n",
       "    <tr>\n",
       "      <th>std</th>\n",
       "      <td>0.757486</td>\n",
       "      <td>0.498682</td>\n",
       "      <td>12.887003</td>\n",
       "      <td>13.006024</td>\n",
       "      <td>0.298010</td>\n",
       "      <td>30289.038695</td>\n",
       "    </tr>\n",
       "    <tr>\n",
       "      <th>min</th>\n",
       "      <td>0.000000</td>\n",
       "      <td>0.000000</td>\n",
       "      <td>1.000000</td>\n",
       "      <td>0.000000</td>\n",
       "      <td>0.000000</td>\n",
       "      <td>57800.000000</td>\n",
       "    </tr>\n",
       "    <tr>\n",
       "      <th>25%</th>\n",
       "      <td>1.000000</td>\n",
       "      <td>0.000000</td>\n",
       "      <td>12.000000</td>\n",
       "      <td>7.000000</td>\n",
       "      <td>1.000000</td>\n",
       "      <td>91000.000000</td>\n",
       "    </tr>\n",
       "    <tr>\n",
       "      <th>50%</th>\n",
       "      <td>2.000000</td>\n",
       "      <td>1.000000</td>\n",
       "      <td>21.000000</td>\n",
       "      <td>16.000000</td>\n",
       "      <td>1.000000</td>\n",
       "      <td>107300.000000</td>\n",
       "    </tr>\n",
       "    <tr>\n",
       "      <th>75%</th>\n",
       "      <td>2.000000</td>\n",
       "      <td>1.000000</td>\n",
       "      <td>32.000000</td>\n",
       "      <td>27.000000</td>\n",
       "      <td>1.000000</td>\n",
       "      <td>134185.000000</td>\n",
       "    </tr>\n",
       "    <tr>\n",
       "      <th>max</th>\n",
       "      <td>2.000000</td>\n",
       "      <td>1.000000</td>\n",
       "      <td>56.000000</td>\n",
       "      <td>60.000000</td>\n",
       "      <td>1.000000</td>\n",
       "      <td>231545.000000</td>\n",
       "    </tr>\n",
       "  </tbody>\n",
       "</table>\n",
       "</div>"
      ],
      "text/plain": [
       "             rank  discipline  yrs.since.phd  yrs.service         sex  \\\n",
       "count  397.000000  397.000000     397.000000   397.000000  397.000000   \n",
       "mean     1.508816    0.544081      22.314861    17.614610    0.901763   \n",
       "std      0.757486    0.498682      12.887003    13.006024    0.298010   \n",
       "min      0.000000    0.000000       1.000000     0.000000    0.000000   \n",
       "25%      1.000000    0.000000      12.000000     7.000000    1.000000   \n",
       "50%      2.000000    1.000000      21.000000    16.000000    1.000000   \n",
       "75%      2.000000    1.000000      32.000000    27.000000    1.000000   \n",
       "max      2.000000    1.000000      56.000000    60.000000    1.000000   \n",
       "\n",
       "              salary  \n",
       "count     397.000000  \n",
       "mean   113706.458438  \n",
       "std     30289.038695  \n",
       "min     57800.000000  \n",
       "25%     91000.000000  \n",
       "50%    107300.000000  \n",
       "75%    134185.000000  \n",
       "max    231545.000000  "
      ]
     },
     "execution_count": 29,
     "metadata": {},
     "output_type": "execute_result"
    }
   ],
   "source": [
    "df.describe()"
   ]
  },
  {
   "cell_type": "code",
   "execution_count": 30,
   "id": "c64d19e1",
   "metadata": {},
   "outputs": [
    {
     "data": {
      "text/plain": [
       "<AxesSubplot:>"
      ]
     },
     "execution_count": 30,
     "metadata": {},
     "output_type": "execute_result"
    },
    {
     "data": {
      "image/png": "[encoded data removed]",
      "text/plain": [
       "<Figure size 1584x504 with 2 Axes>"
      ]
     },
     "metadata": {
      "needs_background": "light"
     },
     "output_type": "display_data"
    }
   ],
   "source": [
    "import matplotlib.pyplot as plt\n",
    "plt.figure(figsize=(22,7))\n",
    "sns.heatmap(df.describe(),annot=True,linewidths=0.1,linecolor=\"black\",fmt=\"0.2f\")"
   ]
  },
  {
   "cell_type": "markdown",
   "id": "e0a9fec6",
   "metadata": {},
   "source": [
    "Correlation of columns with Target column"
   ]
  },
  {
   "cell_type": "code",
   "execution_count": 31,
   "id": "e40c5f97",
   "metadata": {},
   "outputs": [
    {
     "data": {
      "text/plain": [
       "sex              0.138610\n",
       "discipline       0.156084\n",
       "yrs.service      0.334745\n",
       "yrs.since.phd    0.419231\n",
       "rank             0.522207\n",
       "salary           1.000000\n",
       "Name: salary, dtype: float64"
      ]
     },
     "execution_count": 31,
     "metadata": {},
     "output_type": "execute_result"
    }
   ],
   "source": [
    "df.corr()['salary'].sort_values()"
   ]
  },
  {
   "cell_type": "markdown",
   "id": "da198b0a",
   "metadata": {},
   "source": [
    "Keeping +/-0.5 as the range of the skewness ony rank column does not lie within this range.\n",
    "Range is catogorical column\n",
    "Hence no column has skewness and we will not treat them."
   ]
  },
  {
   "cell_type": "markdown",
   "id": "829a7101",
   "metadata": {},
   "source": [
    "Outliers check"
   ]
  },
  {
   "cell_type": "code",
   "execution_count": 32,
   "id": "5849019f",
   "metadata": {},
   "outputs": [
    {
     "data": {
      "text/plain": [
       "rank             float64\n",
       "discipline       float64\n",
       "yrs.since.phd      int64\n",
       "yrs.service        int64\n",
       "sex              float64\n",
       "salary             int64\n",
       "dtype: object"
      ]
     },
     "execution_count": 32,
     "metadata": {},
     "output_type": "execute_result"
    }
   ],
   "source": [
    "df.dtypes"
   ]
  },
  {
   "cell_type": "markdown",
   "id": "e43210a5",
   "metadata": {},
   "source": [
    "Checking outliers on int and float data"
   ]
  },
  {
   "cell_type": "code",
   "execution_count": 33,
   "id": "e71d0348",
   "metadata": {},
   "outputs": [
    {
     "data": {
      "text/plain": [
       "<AxesSubplot:>"
      ]
     },
     "execution_count": 33,
     "metadata": {},
     "output_type": "execute_result"
    },
    {
     "data": {
      "image/png": "[encoded data removed]",
      "text/plain": [
       "<Figure size 432x288 with 1 Axes>"
      ]
     },
     "metadata": {
      "needs_background": "light"
     },
     "output_type": "display_data"
    }
   ],
   "source": [
    "df['rank'].plot.box()"
   ]
  },
  {
   "cell_type": "code",
   "execution_count": 34,
   "id": "aef123f7",
   "metadata": {},
   "outputs": [
    {
     "data": {
      "text/plain": [
       "<AxesSubplot:>"
      ]
     },
     "execution_count": 34,
     "metadata": {},
     "output_type": "execute_result"
    },
    {
     "data": {
      "image/png": "[encoded data removed]",
      "text/plain": [
       "<Figure size 432x288 with 1 Axes>"
      ]
     },
     "metadata": {
      "needs_background": "light"
     },
     "output_type": "display_data"
    }
   ],
   "source": [
    "df['salary'].plot.box()"
   ]
  },
  {
   "cell_type": "code",
   "execution_count": 35,
   "id": "53cad7db",
   "metadata": {},
   "outputs": [
    {
     "data": {
      "text/plain": [
       "<AxesSubplot:>"
      ]
     },
     "execution_count": 35,
     "metadata": {},
     "output_type": "execute_result"
    },
    {
     "data": {
      "image/png": "[encoded data removed]",
      "text/plain": [
       "<Figure size 432x288 with 1 Axes>"
      ]
     },
     "metadata": {
      "needs_background": "light"
     },
     "output_type": "display_data"
    }
   ],
   "source": [
    "df['yrs.since.phd'].plot.box()"
   ]
  },
  {
   "cell_type": "code",
   "execution_count": 36,
   "id": "5eeafc6b",
   "metadata": {},
   "outputs": [
    {
     "data": {
      "text/plain": [
       "<AxesSubplot:>"
      ]
     },
     "execution_count": 36,
     "metadata": {},
     "output_type": "execute_result"
    },
    {
     "data": {
      "image/png": "[encoded data removed]",
      "text/plain": [
       "<Figure size 432x288 with 1 Axes>"
      ]
     },
     "metadata": {
      "needs_background": "light"
     },
     "output_type": "display_data"
    }
   ],
   "source": [
    "df['yrs.service'].plot.box()"
   ]
  },
  {
   "cell_type": "markdown",
   "id": "c662b7f7",
   "metadata": {},
   "source": [
    "Outlier Removal"
   ]
  },
  {
   "cell_type": "code",
   "execution_count": 37,
   "id": "85ee9cc0",
   "metadata": {},
   "outputs": [
    {
     "data": {
      "text/plain": [
       "(397, 6)"
      ]
     },
     "execution_count": 37,
     "metadata": {},
     "output_type": "execute_result"
    }
   ],
   "source": [
    "df.shape"
   ]
  },
  {
   "cell_type": "code",
   "execution_count": 38,
   "id": "5ed49855",
   "metadata": {},
   "outputs": [
    {
     "data": {
      "text/plain": [
       "(array([  9,  19,  24,  34,  35,  43,  47,  48,  52,  63,  68,  84,  90,\n",
       "        103, 114, 119, 123, 127, 131, 132, 133, 148, 153, 179, 186, 218,\n",
       "        230, 231, 233, 237, 245, 253, 254, 274, 316, 323, 330, 332, 334,\n",
       "        341, 358, 361, 364], dtype=int64),\n",
       " array([4, 4, 4, 4, 4, 5, 4, 4, 4, 4, 4, 4, 4, 4, 4, 4, 4, 4, 3, 4, 4, 4,\n",
       "        4, 4, 4, 4, 4, 4, 4, 4, 4, 4, 4, 4, 4, 4, 3, 4, 4, 4, 4, 4, 5],\n",
       "       dtype=int64))"
      ]
     },
     "execution_count": 38,
     "metadata": {},
     "output_type": "execute_result"
    }
   ],
   "source": [
    "from scipy.stats import zscore\n",
    "z=np.abs(zscore(df))\n",
    "threshold=3\n",
    "np.where(z>3)"
   ]
  },
  {
   "cell_type": "code",
   "execution_count": 39,
   "id": "e616cab2",
   "metadata": {},
   "outputs": [
    {
     "data": {
      "text/html": [
       "<div>\n",
       "<style scoped>\n",
       "    .dataframe tbody tr th:only-of-type {\n",
       "        vertical-align: middle;\n",
       "    }\n",
       "\n",
       "    .dataframe tbody tr th {\n",
       "        vertical-align: top;\n",
       "    }\n",
       "\n",
       "    .dataframe thead th {\n",
       "        text-align: right;\n",
       "    }\n",
       "</style>\n",
       "<table border=\"1\" class=\"dataframe\">\n",
       "  <thead>\n",
       "    <tr style=\"text-align: right;\">\n",
       "      <th></th>\n",
       "      <th>rank</th>\n",
       "      <th>discipline</th>\n",
       "      <th>yrs.since.phd</th>\n",
       "      <th>yrs.service</th>\n",
       "      <th>sex</th>\n",
       "      <th>salary</th>\n",
       "    </tr>\n",
       "  </thead>\n",
       "  <tbody>\n",
       "    <tr>\n",
       "      <th>0</th>\n",
       "      <td>2.0</td>\n",
       "      <td>1.0</td>\n",
       "      <td>19</td>\n",
       "      <td>18</td>\n",
       "      <td>1.0</td>\n",
       "      <td>139750</td>\n",
       "    </tr>\n",
       "    <tr>\n",
       "      <th>1</th>\n",
       "      <td>2.0</td>\n",
       "      <td>1.0</td>\n",
       "      <td>20</td>\n",
       "      <td>16</td>\n",
       "      <td>1.0</td>\n",
       "      <td>173200</td>\n",
       "    </tr>\n",
       "    <tr>\n",
       "      <th>2</th>\n",
       "      <td>1.0</td>\n",
       "      <td>1.0</td>\n",
       "      <td>4</td>\n",
       "      <td>3</td>\n",
       "      <td>1.0</td>\n",
       "      <td>79750</td>\n",
       "    </tr>\n",
       "    <tr>\n",
       "      <th>3</th>\n",
       "      <td>2.0</td>\n",
       "      <td>1.0</td>\n",
       "      <td>45</td>\n",
       "      <td>39</td>\n",
       "      <td>1.0</td>\n",
       "      <td>115000</td>\n",
       "    </tr>\n",
       "    <tr>\n",
       "      <th>4</th>\n",
       "      <td>2.0</td>\n",
       "      <td>1.0</td>\n",
       "      <td>40</td>\n",
       "      <td>41</td>\n",
       "      <td>1.0</td>\n",
       "      <td>141500</td>\n",
       "    </tr>\n",
       "    <tr>\n",
       "      <th>...</th>\n",
       "      <td>...</td>\n",
       "      <td>...</td>\n",
       "      <td>...</td>\n",
       "      <td>...</td>\n",
       "      <td>...</td>\n",
       "      <td>...</td>\n",
       "    </tr>\n",
       "    <tr>\n",
       "      <th>392</th>\n",
       "      <td>2.0</td>\n",
       "      <td>0.0</td>\n",
       "      <td>33</td>\n",
       "      <td>30</td>\n",
       "      <td>1.0</td>\n",
       "      <td>103106</td>\n",
       "    </tr>\n",
       "    <tr>\n",
       "      <th>393</th>\n",
       "      <td>2.0</td>\n",
       "      <td>0.0</td>\n",
       "      <td>31</td>\n",
       "      <td>19</td>\n",
       "      <td>1.0</td>\n",
       "      <td>150564</td>\n",
       "    </tr>\n",
       "    <tr>\n",
       "      <th>394</th>\n",
       "      <td>2.0</td>\n",
       "      <td>0.0</td>\n",
       "      <td>42</td>\n",
       "      <td>25</td>\n",
       "      <td>1.0</td>\n",
       "      <td>101738</td>\n",
       "    </tr>\n",
       "    <tr>\n",
       "      <th>395</th>\n",
       "      <td>2.0</td>\n",
       "      <td>0.0</td>\n",
       "      <td>25</td>\n",
       "      <td>15</td>\n",
       "      <td>1.0</td>\n",
       "      <td>95329</td>\n",
       "    </tr>\n",
       "    <tr>\n",
       "      <th>396</th>\n",
       "      <td>1.0</td>\n",
       "      <td>0.0</td>\n",
       "      <td>8</td>\n",
       "      <td>4</td>\n",
       "      <td>1.0</td>\n",
       "      <td>81035</td>\n",
       "    </tr>\n",
       "  </tbody>\n",
       "</table>\n",
       "<p>354 rows × 6 columns</p>\n",
       "</div>"
      ],
      "text/plain": [
       "     rank  discipline  yrs.since.phd  yrs.service  sex  salary\n",
       "0     2.0         1.0             19           18  1.0  139750\n",
       "1     2.0         1.0             20           16  1.0  173200\n",
       "2     1.0         1.0              4            3  1.0   79750\n",
       "3     2.0         1.0             45           39  1.0  115000\n",
       "4     2.0         1.0             40           41  1.0  141500\n",
       "..    ...         ...            ...          ...  ...     ...\n",
       "392   2.0         0.0             33           30  1.0  103106\n",
       "393   2.0         0.0             31           19  1.0  150564\n",
       "394   2.0         0.0             42           25  1.0  101738\n",
       "395   2.0         0.0             25           15  1.0   95329\n",
       "396   1.0         0.0              8            4  1.0   81035\n",
       "\n",
       "[354 rows x 6 columns]"
      ]
     },
     "execution_count": 39,
     "metadata": {},
     "output_type": "execute_result"
    }
   ],
   "source": [
    "df_new_z = df[(z<3).all(axis=1)]\n",
    "df_new_z"
   ]
  },
  {
   "cell_type": "code",
   "execution_count": 40,
   "id": "a82520f6",
   "metadata": {},
   "outputs": [
    {
     "data": {
      "text/plain": [
       "(354, 6)"
      ]
     },
     "execution_count": 40,
     "metadata": {},
     "output_type": "execute_result"
    }
   ],
   "source": [
    "df_new_z.shape"
   ]
  },
  {
   "cell_type": "markdown",
   "id": "be164f0b",
   "metadata": {},
   "source": [
    "Percentage loss of data"
   ]
  },
  {
   "cell_type": "code",
   "execution_count": 41,
   "id": "406f1d3a",
   "metadata": {},
   "outputs": [
    {
     "data": {
      "text/plain": [
       "10.831234256926953"
      ]
     },
     "execution_count": 41,
     "metadata": {},
     "output_type": "execute_result"
    }
   ],
   "source": [
    "Data_loss=((397-354)/397)*100\n",
    "Data_loss"
   ]
  },
  {
   "cell_type": "markdown",
   "id": "ff4c35b0",
   "metadata": {},
   "source": [
    "Separating columns into features and target"
   ]
  },
  {
   "cell_type": "code",
   "execution_count": 42,
   "id": "8a543da8",
   "metadata": {},
   "outputs": [],
   "source": [
    "features = df.drop(\"salary\",axis=1)\n",
    "target=df['salary']"
   ]
  },
  {
   "cell_type": "markdown",
   "id": "30c5fc24",
   "metadata": {},
   "source": [
    "Scaling data using MInMax scaler"
   ]
  },
  {
   "cell_type": "code",
   "execution_count": 43,
   "id": "b2faa9dd",
   "metadata": {},
   "outputs": [],
   "source": [
    "from sklearn.preprocessing import MinMaxScaler\n",
    "mms = MinMaxScaler()\n",
    "from sklearn.linear_model import LinearRegression\n",
    "lr = LinearRegression()\n",
    "from sklearn.metrics import r2_score\n",
    "from sklearn.model_selection import train_test_split"
   ]
  },
  {
   "cell_type": "code",
   "execution_count": 44,
   "id": "9c437691",
   "metadata": {},
   "outputs": [],
   "source": [
    "import warnings\n",
    "warnings.filterwarnings('ignore')"
   ]
  },
  {
   "cell_type": "code",
   "execution_count": 45,
   "id": "a9eda92f",
   "metadata": {},
   "outputs": [
    {
     "name": "stdout",
     "output_type": "stream",
     "text": [
      "At randon state0, the training accuracy is: 0.35238978918304\n",
      "At randon state0, the testing accuracy is: 0.39447050069954415\n",
      "\n",
      "\n",
      "At randon state1, the training accuracy is: 0.37981683378332454\n",
      "At randon state1, the testing accuracy is: 0.3175095677056927\n",
      "\n",
      "\n",
      "At randon state2, the training accuracy is: 0.41023070933432815\n",
      "At randon state2, the testing accuracy is: 0.23211121140557933\n",
      "\n",
      "\n",
      "At randon state3, the training accuracy is: 0.3849700365272738\n",
      "At randon state3, the testing accuracy is: 0.337852991940501\n",
      "\n",
      "\n",
      "At randon state4, the training accuracy is: 0.38484712069927296\n",
      "At randon state4, the testing accuracy is: 0.3074550051668904\n",
      "\n",
      "\n",
      "At randon state5, the training accuracy is: 0.4197135328568442\n",
      "At randon state5, the testing accuracy is: 0.2189167456223685\n",
      "\n",
      "\n",
      "At randon state6, the training accuracy is: 0.3770581841035514\n",
      "At randon state6, the testing accuracy is: 0.3513506580306238\n",
      "\n",
      "\n",
      "At randon state7, the training accuracy is: 0.3526070609258284\n",
      "At randon state7, the testing accuracy is: 0.42319715080493936\n",
      "\n",
      "\n",
      "At randon state8, the training accuracy is: 0.4063090336204741\n",
      "At randon state8, the testing accuracy is: 0.21035260210730644\n",
      "\n",
      "\n",
      "At randon state9, the training accuracy is: 0.3902509360477865\n",
      "At randon state9, the testing accuracy is: 0.32105342796869496\n",
      "\n",
      "\n",
      "At randon state10, the training accuracy is: 0.3736660312816864\n",
      "At randon state10, the testing accuracy is: 0.35898880473314587\n",
      "\n",
      "\n",
      "At randon state11, the training accuracy is: 0.41313937945331336\n",
      "At randon state11, the testing accuracy is: 0.27654308171801145\n",
      "\n",
      "\n",
      "At randon state12, the training accuracy is: 0.3824949062394384\n",
      "At randon state12, the testing accuracy is: 0.34245959683980254\n",
      "\n",
      "\n",
      "At randon state13, the training accuracy is: 0.38528135146697995\n",
      "At randon state13, the testing accuracy is: 0.26664129968469374\n",
      "\n",
      "\n",
      "At randon state14, the training accuracy is: 0.4221984546477987\n",
      "At randon state14, the testing accuracy is: 0.19245710855609377\n",
      "\n",
      "\n",
      "At randon state15, the training accuracy is: 0.37717937779538224\n",
      "At randon state15, the testing accuracy is: 0.3203972940529709\n",
      "\n",
      "\n",
      "At randon state16, the training accuracy is: 0.3828607929404554\n",
      "At randon state16, the testing accuracy is: 0.3291314313157916\n",
      "\n",
      "\n",
      "At randon state17, the training accuracy is: 0.37626212801310366\n",
      "At randon state17, the testing accuracy is: 0.3409727056591967\n",
      "\n",
      "\n",
      "At randon state18, the training accuracy is: 0.3613942342205101\n",
      "At randon state18, the testing accuracy is: 0.3850454507591021\n",
      "\n",
      "\n",
      "At randon state19, the training accuracy is: 0.36639792493628054\n",
      "At randon state19, the testing accuracy is: 0.3797036122088471\n",
      "\n",
      "\n",
      "At randon state20, the training accuracy is: 0.36761275233465796\n",
      "At randon state20, the testing accuracy is: 0.37318098275665856\n",
      "\n",
      "\n",
      "At randon state21, the training accuracy is: 0.36871454017004246\n",
      "At randon state21, the testing accuracy is: 0.3732911130249684\n",
      "\n",
      "\n",
      "At randon state22, the training accuracy is: 0.3783462544682885\n",
      "At randon state22, the testing accuracy is: 0.34503628354317106\n",
      "\n",
      "\n",
      "At randon state23, the training accuracy is: 0.40120809273372005\n",
      "At randon state23, the testing accuracy is: 0.3019336236940452\n",
      "\n",
      "\n",
      "At randon state24, the training accuracy is: 0.41906207075990476\n",
      "At randon state24, the testing accuracy is: 0.24370493269115834\n",
      "\n",
      "\n",
      "At randon state25, the training accuracy is: 0.4063538106282182\n",
      "At randon state25, the testing accuracy is: 0.2541412613278682\n",
      "\n",
      "\n",
      "At randon state26, the training accuracy is: 0.3710058621860578\n",
      "At randon state26, the testing accuracy is: 0.3455986469642951\n",
      "\n",
      "\n",
      "At randon state27, the training accuracy is: 0.3834192366224449\n",
      "At randon state27, the testing accuracy is: 0.338672015018478\n",
      "\n",
      "\n",
      "At randon state28, the training accuracy is: 0.4063499002959333\n",
      "At randon state28, the testing accuracy is: 0.2711669886369381\n",
      "\n",
      "\n",
      "At randon state29, the training accuracy is: 0.40163062393703075\n",
      "At randon state29, the testing accuracy is: 0.27952785328959184\n",
      "\n",
      "\n",
      "At randon state30, the training accuracy is: 0.3756743871844712\n",
      "At randon state30, the testing accuracy is: 0.35416031708075213\n",
      "\n",
      "\n",
      "At randon state31, the training accuracy is: 0.38022624873559296\n",
      "At randon state31, the testing accuracy is: 0.34093360554946106\n",
      "\n",
      "\n",
      "At randon state32, the training accuracy is: 0.39391762040280875\n",
      "At randon state32, the testing accuracy is: 0.2839658049170227\n",
      "\n",
      "\n",
      "At randon state33, the training accuracy is: 0.3833105069379912\n",
      "At randon state33, the testing accuracy is: 0.33865344326739255\n",
      "\n",
      "\n",
      "At randon state34, the training accuracy is: 0.39533382456775823\n",
      "At randon state34, the testing accuracy is: 0.30820643823510596\n",
      "\n",
      "\n",
      "At randon state35, the training accuracy is: 0.3780069676987222\n",
      "At randon state35, the testing accuracy is: 0.32786012523417185\n",
      "\n",
      "\n",
      "At randon state36, the training accuracy is: 0.3938567971804119\n",
      "At randon state36, the testing accuracy is: 0.24106796584507184\n",
      "\n",
      "\n",
      "At randon state37, the training accuracy is: 0.32839435637495396\n",
      "At randon state37, the testing accuracy is: 0.42086962436250974\n",
      "\n",
      "\n",
      "At randon state38, the training accuracy is: 0.38567145030370686\n",
      "At randon state38, the testing accuracy is: 0.31421546122073374\n",
      "\n",
      "\n",
      "At randon state39, the training accuracy is: 0.36879962571552105\n",
      "At randon state39, the testing accuracy is: 0.3769398895870114\n",
      "\n",
      "\n",
      "At randon state40, the training accuracy is: 0.3813386151958189\n",
      "At randon state40, the testing accuracy is: 0.34838031661306856\n",
      "\n",
      "\n",
      "At randon state41, the training accuracy is: 0.3609973399448273\n",
      "At randon state41, the testing accuracy is: 0.3886893104465404\n",
      "\n",
      "\n",
      "At randon state42, the training accuracy is: 0.41796329470233706\n",
      "At randon state42, the testing accuracy is: 0.22334860140435875\n",
      "\n",
      "\n",
      "At randon state43, the training accuracy is: 0.38702534954523304\n",
      "At randon state43, the testing accuracy is: 0.3346126156925928\n",
      "\n",
      "\n",
      "At randon state44, the training accuracy is: 0.3833191470773497\n",
      "At randon state44, the testing accuracy is: 0.3272759349547312\n",
      "\n",
      "\n",
      "At randon state45, the training accuracy is: 0.4271394320002466\n",
      "At randon state45, the testing accuracy is: 0.24469269295805196\n",
      "\n",
      "\n",
      "At randon state46, the training accuracy is: 0.3595297955435315\n",
      "At randon state46, the testing accuracy is: 0.3740063297785161\n",
      "\n",
      "\n",
      "At randon state47, the training accuracy is: 0.3515072259823706\n",
      "At randon state47, the testing accuracy is: 0.403754171258613\n",
      "\n",
      "\n",
      "At randon state48, the training accuracy is: 0.40898908716597593\n",
      "At randon state48, the testing accuracy is: 0.23684621143786833\n",
      "\n",
      "\n",
      "At randon state49, the training accuracy is: 0.36692349531482304\n",
      "At randon state49, the testing accuracy is: 0.34717851999122973\n",
      "\n",
      "\n",
      "At randon state50, the training accuracy is: 0.3886271511226549\n",
      "At randon state50, the testing accuracy is: 0.3203640569515228\n",
      "\n",
      "\n",
      "At randon state51, the training accuracy is: 0.3633247409346534\n",
      "At randon state51, the testing accuracy is: 0.38465772197691084\n",
      "\n",
      "\n",
      "At randon state52, the training accuracy is: 0.4065640660192177\n",
      "At randon state52, the testing accuracy is: 0.28941123400373014\n",
      "\n",
      "\n",
      "At randon state53, the training accuracy is: 0.3870723242842212\n",
      "At randon state53, the testing accuracy is: 0.3044729866265431\n",
      "\n",
      "\n",
      "At randon state54, the training accuracy is: 0.3869991207336053\n",
      "At randon state54, the testing accuracy is: 0.31053594480835567\n",
      "\n",
      "\n",
      "At randon state55, the training accuracy is: 0.4032246327424487\n",
      "At randon state55, the testing accuracy is: 0.28628502412429513\n",
      "\n",
      "\n",
      "At randon state56, the training accuracy is: 0.3890093993680066\n",
      "At randon state56, the testing accuracy is: 0.31536916733706377\n",
      "\n",
      "\n",
      "At randon state57, the training accuracy is: 0.3614359333953241\n",
      "At randon state57, the testing accuracy is: 0.3926397423173146\n",
      "\n",
      "\n",
      "At randon state58, the training accuracy is: 0.37451265993025395\n",
      "At randon state58, the testing accuracy is: 0.36050754623185133\n",
      "\n",
      "\n",
      "At randon state59, the training accuracy is: 0.3725326589313568\n",
      "At randon state59, the testing accuracy is: 0.35900657741316155\n",
      "\n",
      "\n",
      "At randon state60, the training accuracy is: 0.36437455019972\n",
      "At randon state60, the testing accuracy is: 0.3908071495456905\n",
      "\n",
      "\n",
      "At randon state61, the training accuracy is: 0.35784298749923593\n",
      "At randon state61, the testing accuracy is: 0.40296866912403917\n",
      "\n",
      "\n",
      "At randon state62, the training accuracy is: 0.3732730923231322\n",
      "At randon state62, the testing accuracy is: 0.3416721477479471\n",
      "\n",
      "\n",
      "At randon state63, the training accuracy is: 0.366461829801902\n",
      "At randon state63, the testing accuracy is: 0.3831424305999045\n",
      "\n",
      "\n",
      "At randon state64, the training accuracy is: 0.3367235737616394\n",
      "At randon state64, the testing accuracy is: 0.44344625038013297\n",
      "\n",
      "\n",
      "At randon state65, the training accuracy is: 0.37874973449052385\n",
      "At randon state65, the testing accuracy is: 0.3346032770901739\n",
      "\n",
      "\n",
      "At randon state66, the training accuracy is: 0.3583066945698872\n",
      "At randon state66, the testing accuracy is: 0.39366919579078863\n",
      "\n",
      "\n",
      "At randon state67, the training accuracy is: 0.34917326389052006\n",
      "At randon state67, the testing accuracy is: 0.41329598297747494\n",
      "\n",
      "\n",
      "At randon state68, the training accuracy is: 0.4333326545785259\n",
      "At randon state68, the testing accuracy is: 0.1748218988583028\n",
      "\n",
      "\n",
      "At randon state69, the training accuracy is: 0.37524421622223625\n",
      "At randon state69, the testing accuracy is: 0.29259254608280894\n",
      "\n",
      "\n",
      "At randon state70, the training accuracy is: 0.421539166877159\n",
      "At randon state70, the testing accuracy is: 0.20258445566161887\n",
      "\n",
      "\n",
      "At randon state71, the training accuracy is: 0.40659727587132843\n",
      "At randon state71, the testing accuracy is: 0.2805780808615964\n",
      "\n",
      "\n",
      "At randon state72, the training accuracy is: 0.3620125024176082\n",
      "At randon state72, the testing accuracy is: 0.35648733011725064\n",
      "\n",
      "\n",
      "At randon state73, the training accuracy is: 0.3734940085509464\n",
      "At randon state73, the testing accuracy is: 0.3610462709919996\n",
      "\n",
      "\n",
      "At randon state74, the training accuracy is: 0.35178076306101547\n",
      "At randon state74, the testing accuracy is: 0.4105825393470304\n",
      "\n",
      "\n",
      "At randon state75, the training accuracy is: 0.3836854141219733\n",
      "At randon state75, the testing accuracy is: 0.3458347888566228\n",
      "\n",
      "\n",
      "At randon state76, the training accuracy is: 0.39619691936532064\n",
      "At randon state76, the testing accuracy is: 0.26978294895376065\n",
      "\n",
      "\n",
      "At randon state77, the training accuracy is: 0.3849378488209084\n",
      "At randon state77, the testing accuracy is: 0.30338042715875924\n",
      "\n",
      "\n",
      "At randon state78, the training accuracy is: 0.3809094001399287\n",
      "At randon state78, the testing accuracy is: 0.33766300533281823\n",
      "\n",
      "\n",
      "At randon state79, the training accuracy is: 0.34838108023623193\n",
      "At randon state79, the testing accuracy is: 0.4154693397639079\n",
      "\n",
      "\n",
      "At randon state80, the training accuracy is: 0.3481987236486287\n",
      "At randon state80, the testing accuracy is: 0.4450787110648239\n",
      "\n",
      "\n",
      "At randon state81, the training accuracy is: 0.3472333600608518\n",
      "At randon state81, the testing accuracy is: 0.42279186237072386\n",
      "\n",
      "\n",
      "At randon state82, the training accuracy is: 0.38597750796388186\n",
      "At randon state82, the testing accuracy is: 0.31263128406241325\n",
      "\n",
      "\n",
      "At randon state83, the training accuracy is: 0.3844153336701148\n",
      "At randon state83, the testing accuracy is: 0.31039226634228156\n",
      "\n",
      "\n",
      "At randon state84, the training accuracy is: 0.37658595598127076\n",
      "At randon state84, the testing accuracy is: 0.33354521570488727\n",
      "\n",
      "\n",
      "At randon state85, the training accuracy is: 0.382391831388314\n",
      "At randon state85, the testing accuracy is: 0.34517546064212135\n",
      "\n",
      "\n",
      "At randon state86, the training accuracy is: 0.4077608695452156\n",
      "At randon state86, the testing accuracy is: 0.28678159559717586\n",
      "\n",
      "\n",
      "At randon state87, the training accuracy is: 0.3891905126218418\n",
      "At randon state87, the testing accuracy is: 0.3204870645218717\n",
      "\n",
      "\n",
      "At randon state88, the training accuracy is: 0.3352156293348948\n",
      "At randon state88, the testing accuracy is: 0.45906849618811174\n",
      "\n",
      "\n",
      "At randon state89, the training accuracy is: 0.4059562181967351\n",
      "At randon state89, the testing accuracy is: 0.23821827511857674\n",
      "\n",
      "\n",
      "At randon state90, the training accuracy is: 0.3804937399669519\n",
      "At randon state90, the testing accuracy is: 0.3522538659663259\n",
      "\n",
      "\n",
      "At randon state91, the training accuracy is: 0.3919156135170364\n",
      "At randon state91, the testing accuracy is: 0.32098088875593855\n",
      "\n",
      "\n",
      "At randon state92, the training accuracy is: 0.35696910921827607\n",
      "At randon state92, the testing accuracy is: 0.4068888552331891\n",
      "\n",
      "\n",
      "At randon state93, the training accuracy is: 0.3945594073293691\n",
      "At randon state93, the testing accuracy is: 0.30721099859938705\n",
      "\n",
      "\n",
      "At randon state94, the training accuracy is: 0.43004805699785964\n",
      "At randon state94, the testing accuracy is: 0.18359451123624582\n",
      "\n",
      "\n",
      "At randon state95, the training accuracy is: 0.3940468105442184\n",
      "At randon state95, the testing accuracy is: 0.3130720755855222\n",
      "\n",
      "\n",
      "At randon state96, the training accuracy is: 0.37076477686302134\n",
      "At randon state96, the testing accuracy is: 0.37143503196128413\n",
      "\n",
      "\n",
      "At randon state97, the training accuracy is: 0.36531500861282895\n",
      "At randon state97, the testing accuracy is: 0.3418821473719247\n",
      "\n",
      "\n",
      "At randon state98, the training accuracy is: 0.33471672800626895\n",
      "At randon state98, the testing accuracy is: 0.4320260326583315\n",
      "\n",
      "\n",
      "At randon state99, the training accuracy is: 0.3767393671050667\n",
      "At randon state99, the testing accuracy is: 0.3537511005851165\n",
      "\n",
      "\n"
     ]
    }
   ],
   "source": [
    "for i in range(0,100):\n",
    "    features_train,features_test,target_train,target_test = train_test_split(features,target,test_size=0.3,random_state=i)\n",
    "    lr.fit(features_train,target_train)\n",
    "    pred_train=lr.predict(features_train)\n",
    "    pred_test = lr.predict(features_test)\n",
    "    print(f\"At randon state{i}, the training accuracy is: {r2_score(target_train,pred_train)}\")\n",
    "    print(f\"At randon state{i}, the testing accuracy is: {r2_score(target_test,pred_test)}\")\n",
    "    print(\"\\n\")"
   ]
  },
  {
   "cell_type": "markdown",
   "id": "c8cb22ca",
   "metadata": {},
   "source": [
    "Train model"
   ]
  },
  {
   "cell_type": "code",
   "execution_count": 46,
   "id": "40089a1f",
   "metadata": {},
   "outputs": [
    {
     "data": {
      "text/plain": [
       "LinearRegression()"
      ]
     },
     "execution_count": 46,
     "metadata": {},
     "output_type": "execute_result"
    }
   ],
   "source": [
    "lr.fit(features_train,target_train)"
   ]
  },
  {
   "cell_type": "code",
   "execution_count": 47,
   "id": "8c265755",
   "metadata": {},
   "outputs": [],
   "source": [
    "pred_test=lr.predict(features_test)"
   ]
  },
  {
   "cell_type": "code",
   "execution_count": 48,
   "id": "7931f089",
   "metadata": {},
   "outputs": [
    {
     "name": "stdout",
     "output_type": "stream",
     "text": [
      "0.3537511005851165\n"
     ]
    }
   ],
   "source": [
    "print(r2_score(target_test,pred_test))"
   ]
  },
  {
   "cell_type": "markdown",
   "id": "386c5d63",
   "metadata": {},
   "source": [
    "Cross validation of model"
   ]
  },
  {
   "cell_type": "code",
   "execution_count": 50,
   "id": "bab2f61f",
   "metadata": {},
   "outputs": [
    {
     "name": "stdout",
     "output_type": "stream",
     "text": [
      "At cross fold 2 the cv score is 0.32708011674065085 and accuracy score for training is 0.3767393671050667 and accuracy for the testing is 0.3537511005851165\n",
      "\n",
      "\n",
      "At cross fold 3 the cv score is 0.32033286730598814 and accuracy score for training is 0.3767393671050667 and accuracy for the testing is 0.3537511005851165\n",
      "\n",
      "\n",
      "At cross fold 4 the cv score is 0.32181966937683604 and accuracy score for training is 0.3767393671050667 and accuracy for the testing is 0.3537511005851165\n",
      "\n",
      "\n",
      "At cross fold 5 the cv score is 0.29569928663871764 and accuracy score for training is 0.3767393671050667 and accuracy for the testing is 0.3537511005851165\n",
      "\n",
      "\n",
      "At cross fold 6 the cv score is 0.33096341839295573 and accuracy score for training is 0.3767393671050667 and accuracy for the testing is 0.3537511005851165\n",
      "\n",
      "\n",
      "At cross fold 7 the cv score is 0.3257704419996536 and accuracy score for training is 0.3767393671050667 and accuracy for the testing is 0.3537511005851165\n",
      "\n",
      "\n",
      "At cross fold 8 the cv score is 0.33100605845135816 and accuracy score for training is 0.3767393671050667 and accuracy for the testing is 0.3537511005851165\n",
      "\n",
      "\n",
      "At cross fold 9 the cv score is 0.3043911239889372 and accuracy score for training is 0.3767393671050667 and accuracy for the testing is 0.3537511005851165\n",
      "\n",
      "\n"
     ]
    }
   ],
   "source": [
    "Train_accuracy=r2_score(target_train,pred_train)\n",
    "Test_accuracy=r2_score(target_test,pred_test)\n",
    "\n",
    "from sklearn.model_selection import cross_val_score\n",
    "for j in range(2,10):\n",
    "    cv_score=cross_val_score(lr,features,target,cv=j)\n",
    "    cv_mean=cv_score.mean()\n",
    "    print(f\"At cross fold {j} the cv score is {cv_mean} and accuracy score for training is {Train_accuracy} and accuracy for the testing is {Test_accuracy}\")\n",
    "    print(\"\\n\")"
   ]
  },
  {
   "cell_type": "code",
   "execution_count": 51,
   "id": "55a5c857",
   "metadata": {},
   "outputs": [],
   "source": [
    "from sklearn.model_selection import GridSearchCV\n",
    "from sklearn.model_selection import cross_val_score\n",
    "import warnings\n",
    "warnings.filterwarnings('ignore')"
   ]
  },
  {
   "cell_type": "code",
   "execution_count": 52,
   "id": "8ab6709b",
   "metadata": {},
   "outputs": [
    {
     "name": "stdout",
     "output_type": "stream",
     "text": [
      "{'alpha': 10, 'random_state': 0}\n"
     ]
    }
   ],
   "source": [
    "from sklearn.linear_model import Lasso\n",
    "\n",
    "parameters = {'alpha':[.0001,.001,.01,.1,1,10],\n",
    "             'random_state':list(range(0,10))}\n",
    "\n",
    "ls = Lasso()\n",
    "clf=GridSearchCV(ls,parameters)\n",
    "clf.fit(features_train,target_train)\n",
    "\n",
    "print(clf.best_params_)"
   ]
  },
  {
   "cell_type": "code",
   "execution_count": 53,
   "id": "9485d324",
   "metadata": {},
   "outputs": [
    {
     "data": {
      "text/plain": [
       "37.673762094262464"
      ]
     },
     "execution_count": 53,
     "metadata": {},
     "output_type": "execute_result"
    }
   ],
   "source": [
    "#final model training\n",
    "ls = Lasso(alpha=10,random_state=0)\n",
    "ls.fit(features_train,target_train)\n",
    "ls_score_training=ls.score(features_train,target_train)\n",
    "pred_ls=ls.predict(features_test)\n",
    "ls_score_training*100"
   ]
  },
  {
   "cell_type": "code",
   "execution_count": 54,
   "id": "129c080a",
   "metadata": {},
   "outputs": [],
   "source": [
    "pred_ls = ls.predict(features_test)"
   ]
  },
  {
   "cell_type": "code",
   "execution_count": 55,
   "id": "ca0f62b5",
   "metadata": {},
   "outputs": [
    {
     "data": {
      "text/plain": [
       "35.385022222648246"
      ]
     },
     "execution_count": 55,
     "metadata": {},
     "output_type": "execute_result"
    }
   ],
   "source": [
    "lss = r2_score(target_test,pred_ls)\n",
    "lss*100"
   ]
  },
  {
   "cell_type": "code",
   "execution_count": 56,
   "id": "4d87901b",
   "metadata": {},
   "outputs": [
    {
     "data": {
      "text/plain": [
       "29.575407060855923"
      ]
     },
     "execution_count": 56,
     "metadata": {},
     "output_type": "execute_result"
    }
   ],
   "source": [
    "cv_score = cross_val_score(ls,features,target,cv=5)\n",
    "cv_mean = cv_score.mean()\n",
    "cv_mean*100"
   ]
  },
  {
   "cell_type": "code",
   "execution_count": null,
   "id": "508a1d7b",
   "metadata": {},
   "outputs": [],
   "source": []
  }
 ],
 "metadata": {
  "kernelspec": {
   "display_name": "Python 3 (ipykernel)",
   "language": "python",
   "name": "python3"
  },
  "language_info": {
   "codemirror_mode": {
    "name": "ipython",
    "version": 3
   },
   "file_extension": ".py",
   "mimetype": "text/x-python",
   "name": "python",
   "nbconvert_exporter": "python",
   "pygments_lexer": "ipython3",
   "version": "3.9.7"
  }
 },
 "nbformat": 4,
 "nbformat_minor": 5
}

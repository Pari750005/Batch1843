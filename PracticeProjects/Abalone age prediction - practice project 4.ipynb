{
 "cells": [
  {
   "cell_type": "code",
   "execution_count": 1,
   "id": "7051f30a",
   "metadata": {},
   "outputs": [],
   "source": [
    "import pandas as pd\n",
    "import numpy as np\n",
    "import matplotlib.pyplot as plt\n",
    "import seaborn as sns"
   ]
  },
  {
   "cell_type": "code",
   "execution_count": 54,
   "id": "1721e790",
   "metadata": {},
   "outputs": [
    {
     "data": {
      "text/html": [
       "<div>\n",
       "<style scoped>\n",
       "    .dataframe tbody tr th:only-of-type {\n",
       "        vertical-align: middle;\n",
       "    }\n",
       "\n",
       "    .dataframe tbody tr th {\n",
       "        vertical-align: top;\n",
       "    }\n",
       "\n",
       "    .dataframe thead th {\n",
       "        text-align: right;\n",
       "    }\n",
       "</style>\n",
       "<table border=\"1\" class=\"dataframe\">\n",
       "  <thead>\n",
       "    <tr style=\"text-align: right;\">\n",
       "      <th></th>\n",
       "      <th>Sex</th>\n",
       "      <th>Length</th>\n",
       "      <th>Diameter</th>\n",
       "      <th>Height</th>\n",
       "      <th>Whole weight</th>\n",
       "      <th>Shucked weight</th>\n",
       "      <th>Viscera weight</th>\n",
       "      <th>Shell weight</th>\n",
       "      <th>Rings</th>\n",
       "    </tr>\n",
       "  </thead>\n",
       "  <tbody>\n",
       "    <tr>\n",
       "      <th>0</th>\n",
       "      <td>M</td>\n",
       "      <td>0.455</td>\n",
       "      <td>0.365</td>\n",
       "      <td>0.095</td>\n",
       "      <td>0.5140</td>\n",
       "      <td>0.2245</td>\n",
       "      <td>0.1010</td>\n",
       "      <td>0.1500</td>\n",
       "      <td>15</td>\n",
       "    </tr>\n",
       "    <tr>\n",
       "      <th>1</th>\n",
       "      <td>M</td>\n",
       "      <td>0.350</td>\n",
       "      <td>0.265</td>\n",
       "      <td>0.090</td>\n",
       "      <td>0.2255</td>\n",
       "      <td>0.0995</td>\n",
       "      <td>0.0485</td>\n",
       "      <td>0.0700</td>\n",
       "      <td>7</td>\n",
       "    </tr>\n",
       "    <tr>\n",
       "      <th>2</th>\n",
       "      <td>F</td>\n",
       "      <td>0.530</td>\n",
       "      <td>0.420</td>\n",
       "      <td>0.135</td>\n",
       "      <td>0.6770</td>\n",
       "      <td>0.2565</td>\n",
       "      <td>0.1415</td>\n",
       "      <td>0.2100</td>\n",
       "      <td>9</td>\n",
       "    </tr>\n",
       "    <tr>\n",
       "      <th>3</th>\n",
       "      <td>M</td>\n",
       "      <td>0.440</td>\n",
       "      <td>0.365</td>\n",
       "      <td>0.125</td>\n",
       "      <td>0.5160</td>\n",
       "      <td>0.2155</td>\n",
       "      <td>0.1140</td>\n",
       "      <td>0.1550</td>\n",
       "      <td>10</td>\n",
       "    </tr>\n",
       "    <tr>\n",
       "      <th>4</th>\n",
       "      <td>I</td>\n",
       "      <td>0.330</td>\n",
       "      <td>0.255</td>\n",
       "      <td>0.080</td>\n",
       "      <td>0.2050</td>\n",
       "      <td>0.0895</td>\n",
       "      <td>0.0395</td>\n",
       "      <td>0.0550</td>\n",
       "      <td>7</td>\n",
       "    </tr>\n",
       "    <tr>\n",
       "      <th>...</th>\n",
       "      <td>...</td>\n",
       "      <td>...</td>\n",
       "      <td>...</td>\n",
       "      <td>...</td>\n",
       "      <td>...</td>\n",
       "      <td>...</td>\n",
       "      <td>...</td>\n",
       "      <td>...</td>\n",
       "      <td>...</td>\n",
       "    </tr>\n",
       "    <tr>\n",
       "      <th>4172</th>\n",
       "      <td>F</td>\n",
       "      <td>0.565</td>\n",
       "      <td>0.450</td>\n",
       "      <td>0.165</td>\n",
       "      <td>0.8870</td>\n",
       "      <td>0.3700</td>\n",
       "      <td>0.2390</td>\n",
       "      <td>0.2490</td>\n",
       "      <td>11</td>\n",
       "    </tr>\n",
       "    <tr>\n",
       "      <th>4173</th>\n",
       "      <td>M</td>\n",
       "      <td>0.590</td>\n",
       "      <td>0.440</td>\n",
       "      <td>0.135</td>\n",
       "      <td>0.9660</td>\n",
       "      <td>0.4390</td>\n",
       "      <td>0.2145</td>\n",
       "      <td>0.2605</td>\n",
       "      <td>10</td>\n",
       "    </tr>\n",
       "    <tr>\n",
       "      <th>4174</th>\n",
       "      <td>M</td>\n",
       "      <td>0.600</td>\n",
       "      <td>0.475</td>\n",
       "      <td>0.205</td>\n",
       "      <td>1.1760</td>\n",
       "      <td>0.5255</td>\n",
       "      <td>0.2875</td>\n",
       "      <td>0.3080</td>\n",
       "      <td>9</td>\n",
       "    </tr>\n",
       "    <tr>\n",
       "      <th>4175</th>\n",
       "      <td>F</td>\n",
       "      <td>0.625</td>\n",
       "      <td>0.485</td>\n",
       "      <td>0.150</td>\n",
       "      <td>1.0945</td>\n",
       "      <td>0.5310</td>\n",
       "      <td>0.2610</td>\n",
       "      <td>0.2960</td>\n",
       "      <td>10</td>\n",
       "    </tr>\n",
       "    <tr>\n",
       "      <th>4176</th>\n",
       "      <td>M</td>\n",
       "      <td>0.710</td>\n",
       "      <td>0.555</td>\n",
       "      <td>0.195</td>\n",
       "      <td>1.9485</td>\n",
       "      <td>0.9455</td>\n",
       "      <td>0.3765</td>\n",
       "      <td>0.4950</td>\n",
       "      <td>12</td>\n",
       "    </tr>\n",
       "  </tbody>\n",
       "</table>\n",
       "<p>4177 rows × 9 columns</p>\n",
       "</div>"
      ],
      "text/plain": [
       "     Sex  Length  Diameter  Height  Whole weight  Shucked weight  \\\n",
       "0      M   0.455     0.365   0.095        0.5140          0.2245   \n",
       "1      M   0.350     0.265   0.090        0.2255          0.0995   \n",
       "2      F   0.530     0.420   0.135        0.6770          0.2565   \n",
       "3      M   0.440     0.365   0.125        0.5160          0.2155   \n",
       "4      I   0.330     0.255   0.080        0.2050          0.0895   \n",
       "...   ..     ...       ...     ...           ...             ...   \n",
       "4172   F   0.565     0.450   0.165        0.8870          0.3700   \n",
       "4173   M   0.590     0.440   0.135        0.9660          0.4390   \n",
       "4174   M   0.600     0.475   0.205        1.1760          0.5255   \n",
       "4175   F   0.625     0.485   0.150        1.0945          0.5310   \n",
       "4176   M   0.710     0.555   0.195        1.9485          0.9455   \n",
       "\n",
       "      Viscera weight  Shell weight  Rings  \n",
       "0             0.1010        0.1500     15  \n",
       "1             0.0485        0.0700      7  \n",
       "2             0.1415        0.2100      9  \n",
       "3             0.1140        0.1550     10  \n",
       "4             0.0395        0.0550      7  \n",
       "...              ...           ...    ...  \n",
       "4172          0.2390        0.2490     11  \n",
       "4173          0.2145        0.2605     10  \n",
       "4174          0.2875        0.3080      9  \n",
       "4175          0.2610        0.2960     10  \n",
       "4176          0.3765        0.4950     12  \n",
       "\n",
       "[4177 rows x 9 columns]"
      ]
     },
     "execution_count": 54,
     "metadata": {},
     "output_type": "execute_result"
    }
   ],
   "source": [
    "df=pd.read_csv('https://raw.githubusercontent.com/dsrscientist/dataset1/master/abalone.csv')\n",
    "df"
   ]
  },
  {
   "cell_type": "code",
   "execution_count": 55,
   "id": "ed5810e8",
   "metadata": {},
   "outputs": [],
   "source": [
    "df['age'] = df['Rings']+1.5\n",
    "df.drop('Rings', axis = 1, inplace = True)"
   ]
  },
  {
   "cell_type": "code",
   "execution_count": 56,
   "id": "5db0e4cc",
   "metadata": {},
   "outputs": [
    {
     "data": {
      "text/html": [
       "<div>\n",
       "<style scoped>\n",
       "    .dataframe tbody tr th:only-of-type {\n",
       "        vertical-align: middle;\n",
       "    }\n",
       "\n",
       "    .dataframe tbody tr th {\n",
       "        vertical-align: top;\n",
       "    }\n",
       "\n",
       "    .dataframe thead th {\n",
       "        text-align: right;\n",
       "    }\n",
       "</style>\n",
       "<table border=\"1\" class=\"dataframe\">\n",
       "  <thead>\n",
       "    <tr style=\"text-align: right;\">\n",
       "      <th></th>\n",
       "      <th>Sex</th>\n",
       "      <th>Length</th>\n",
       "      <th>Diameter</th>\n",
       "      <th>Height</th>\n",
       "      <th>Whole weight</th>\n",
       "      <th>Shucked weight</th>\n",
       "      <th>Viscera weight</th>\n",
       "      <th>Shell weight</th>\n",
       "      <th>age</th>\n",
       "    </tr>\n",
       "  </thead>\n",
       "  <tbody>\n",
       "    <tr>\n",
       "      <th>0</th>\n",
       "      <td>M</td>\n",
       "      <td>0.455</td>\n",
       "      <td>0.365</td>\n",
       "      <td>0.095</td>\n",
       "      <td>0.5140</td>\n",
       "      <td>0.2245</td>\n",
       "      <td>0.1010</td>\n",
       "      <td>0.1500</td>\n",
       "      <td>16.5</td>\n",
       "    </tr>\n",
       "    <tr>\n",
       "      <th>1</th>\n",
       "      <td>M</td>\n",
       "      <td>0.350</td>\n",
       "      <td>0.265</td>\n",
       "      <td>0.090</td>\n",
       "      <td>0.2255</td>\n",
       "      <td>0.0995</td>\n",
       "      <td>0.0485</td>\n",
       "      <td>0.0700</td>\n",
       "      <td>8.5</td>\n",
       "    </tr>\n",
       "    <tr>\n",
       "      <th>2</th>\n",
       "      <td>F</td>\n",
       "      <td>0.530</td>\n",
       "      <td>0.420</td>\n",
       "      <td>0.135</td>\n",
       "      <td>0.6770</td>\n",
       "      <td>0.2565</td>\n",
       "      <td>0.1415</td>\n",
       "      <td>0.2100</td>\n",
       "      <td>10.5</td>\n",
       "    </tr>\n",
       "    <tr>\n",
       "      <th>3</th>\n",
       "      <td>M</td>\n",
       "      <td>0.440</td>\n",
       "      <td>0.365</td>\n",
       "      <td>0.125</td>\n",
       "      <td>0.5160</td>\n",
       "      <td>0.2155</td>\n",
       "      <td>0.1140</td>\n",
       "      <td>0.1550</td>\n",
       "      <td>11.5</td>\n",
       "    </tr>\n",
       "    <tr>\n",
       "      <th>4</th>\n",
       "      <td>I</td>\n",
       "      <td>0.330</td>\n",
       "      <td>0.255</td>\n",
       "      <td>0.080</td>\n",
       "      <td>0.2050</td>\n",
       "      <td>0.0895</td>\n",
       "      <td>0.0395</td>\n",
       "      <td>0.0550</td>\n",
       "      <td>8.5</td>\n",
       "    </tr>\n",
       "    <tr>\n",
       "      <th>...</th>\n",
       "      <td>...</td>\n",
       "      <td>...</td>\n",
       "      <td>...</td>\n",
       "      <td>...</td>\n",
       "      <td>...</td>\n",
       "      <td>...</td>\n",
       "      <td>...</td>\n",
       "      <td>...</td>\n",
       "      <td>...</td>\n",
       "    </tr>\n",
       "    <tr>\n",
       "      <th>4172</th>\n",
       "      <td>F</td>\n",
       "      <td>0.565</td>\n",
       "      <td>0.450</td>\n",
       "      <td>0.165</td>\n",
       "      <td>0.8870</td>\n",
       "      <td>0.3700</td>\n",
       "      <td>0.2390</td>\n",
       "      <td>0.2490</td>\n",
       "      <td>12.5</td>\n",
       "    </tr>\n",
       "    <tr>\n",
       "      <th>4173</th>\n",
       "      <td>M</td>\n",
       "      <td>0.590</td>\n",
       "      <td>0.440</td>\n",
       "      <td>0.135</td>\n",
       "      <td>0.9660</td>\n",
       "      <td>0.4390</td>\n",
       "      <td>0.2145</td>\n",
       "      <td>0.2605</td>\n",
       "      <td>11.5</td>\n",
       "    </tr>\n",
       "    <tr>\n",
       "      <th>4174</th>\n",
       "      <td>M</td>\n",
       "      <td>0.600</td>\n",
       "      <td>0.475</td>\n",
       "      <td>0.205</td>\n",
       "      <td>1.1760</td>\n",
       "      <td>0.5255</td>\n",
       "      <td>0.2875</td>\n",
       "      <td>0.3080</td>\n",
       "      <td>10.5</td>\n",
       "    </tr>\n",
       "    <tr>\n",
       "      <th>4175</th>\n",
       "      <td>F</td>\n",
       "      <td>0.625</td>\n",
       "      <td>0.485</td>\n",
       "      <td>0.150</td>\n",
       "      <td>1.0945</td>\n",
       "      <td>0.5310</td>\n",
       "      <td>0.2610</td>\n",
       "      <td>0.2960</td>\n",
       "      <td>11.5</td>\n",
       "    </tr>\n",
       "    <tr>\n",
       "      <th>4176</th>\n",
       "      <td>M</td>\n",
       "      <td>0.710</td>\n",
       "      <td>0.555</td>\n",
       "      <td>0.195</td>\n",
       "      <td>1.9485</td>\n",
       "      <td>0.9455</td>\n",
       "      <td>0.3765</td>\n",
       "      <td>0.4950</td>\n",
       "      <td>13.5</td>\n",
       "    </tr>\n",
       "  </tbody>\n",
       "</table>\n",
       "<p>4177 rows × 9 columns</p>\n",
       "</div>"
      ],
      "text/plain": [
       "     Sex  Length  Diameter  Height  Whole weight  Shucked weight  \\\n",
       "0      M   0.455     0.365   0.095        0.5140          0.2245   \n",
       "1      M   0.350     0.265   0.090        0.2255          0.0995   \n",
       "2      F   0.530     0.420   0.135        0.6770          0.2565   \n",
       "3      M   0.440     0.365   0.125        0.5160          0.2155   \n",
       "4      I   0.330     0.255   0.080        0.2050          0.0895   \n",
       "...   ..     ...       ...     ...           ...             ...   \n",
       "4172   F   0.565     0.450   0.165        0.8870          0.3700   \n",
       "4173   M   0.590     0.440   0.135        0.9660          0.4390   \n",
       "4174   M   0.600     0.475   0.205        1.1760          0.5255   \n",
       "4175   F   0.625     0.485   0.150        1.0945          0.5310   \n",
       "4176   M   0.710     0.555   0.195        1.9485          0.9455   \n",
       "\n",
       "      Viscera weight  Shell weight   age  \n",
       "0             0.1010        0.1500  16.5  \n",
       "1             0.0485        0.0700   8.5  \n",
       "2             0.1415        0.2100  10.5  \n",
       "3             0.1140        0.1550  11.5  \n",
       "4             0.0395        0.0550   8.5  \n",
       "...              ...           ...   ...  \n",
       "4172          0.2390        0.2490  12.5  \n",
       "4173          0.2145        0.2605  11.5  \n",
       "4174          0.2875        0.3080  10.5  \n",
       "4175          0.2610        0.2960  11.5  \n",
       "4176          0.3765        0.4950  13.5  \n",
       "\n",
       "[4177 rows x 9 columns]"
      ]
     },
     "execution_count": 56,
     "metadata": {},
     "output_type": "execute_result"
    }
   ],
   "source": [
    "df"
   ]
  },
  {
   "cell_type": "markdown",
   "id": "bdd2e89c",
   "metadata": {},
   "source": [
    "Checking Null Values"
   ]
  },
  {
   "cell_type": "code",
   "execution_count": 57,
   "id": "407def9d",
   "metadata": {},
   "outputs": [
    {
     "data": {
      "text/plain": [
       "Sex               0\n",
       "Length            0\n",
       "Diameter          0\n",
       "Height            0\n",
       "Whole weight      0\n",
       "Shucked weight    0\n",
       "Viscera weight    0\n",
       "Shell weight      0\n",
       "age               0\n",
       "dtype: int64"
      ]
     },
     "execution_count": 57,
     "metadata": {},
     "output_type": "execute_result"
    }
   ],
   "source": [
    "df.isnull().sum()"
   ]
  },
  {
   "cell_type": "code",
   "execution_count": 58,
   "id": "184b261f",
   "metadata": {},
   "outputs": [
    {
     "data": {
      "text/plain": [
       "Sex                object\n",
       "Length            float64\n",
       "Diameter          float64\n",
       "Height            float64\n",
       "Whole weight      float64\n",
       "Shucked weight    float64\n",
       "Viscera weight    float64\n",
       "Shell weight      float64\n",
       "age               float64\n",
       "dtype: object"
      ]
     },
     "execution_count": 58,
     "metadata": {},
     "output_type": "execute_result"
    }
   ],
   "source": [
    "df.dtypes"
   ]
  },
  {
   "cell_type": "code",
   "execution_count": 59,
   "id": "bfc46351",
   "metadata": {},
   "outputs": [
    {
     "data": {
      "text/plain": [
       "Index(['Sex', 'Length', 'Diameter', 'Height', 'Whole weight', 'Shucked weight',\n",
       "       'Viscera weight', 'Shell weight', 'age'],\n",
       "      dtype='object')"
      ]
     },
     "execution_count": 59,
     "metadata": {},
     "output_type": "execute_result"
    }
   ],
   "source": [
    "df.columns"
   ]
  },
  {
   "cell_type": "code",
   "execution_count": 60,
   "id": "34740be1",
   "metadata": {},
   "outputs": [
    {
     "data": {
      "text/html": [
       "<div>\n",
       "<style scoped>\n",
       "    .dataframe tbody tr th:only-of-type {\n",
       "        vertical-align: middle;\n",
       "    }\n",
       "\n",
       "    .dataframe tbody tr th {\n",
       "        vertical-align: top;\n",
       "    }\n",
       "\n",
       "    .dataframe thead th {\n",
       "        text-align: right;\n",
       "    }\n",
       "</style>\n",
       "<table border=\"1\" class=\"dataframe\">\n",
       "  <thead>\n",
       "    <tr style=\"text-align: right;\">\n",
       "      <th></th>\n",
       "      <th>count</th>\n",
       "      <th>mean</th>\n",
       "      <th>std</th>\n",
       "      <th>min</th>\n",
       "      <th>25%</th>\n",
       "      <th>50%</th>\n",
       "      <th>75%</th>\n",
       "      <th>max</th>\n",
       "    </tr>\n",
       "  </thead>\n",
       "  <tbody>\n",
       "    <tr>\n",
       "      <th>Length</th>\n",
       "      <td>4177.0</td>\n",
       "      <td>0.523992</td>\n",
       "      <td>0.120093</td>\n",
       "      <td>0.0750</td>\n",
       "      <td>0.4500</td>\n",
       "      <td>0.5450</td>\n",
       "      <td>0.615</td>\n",
       "      <td>0.8150</td>\n",
       "    </tr>\n",
       "    <tr>\n",
       "      <th>Diameter</th>\n",
       "      <td>4177.0</td>\n",
       "      <td>0.407881</td>\n",
       "      <td>0.099240</td>\n",
       "      <td>0.0550</td>\n",
       "      <td>0.3500</td>\n",
       "      <td>0.4250</td>\n",
       "      <td>0.480</td>\n",
       "      <td>0.6500</td>\n",
       "    </tr>\n",
       "    <tr>\n",
       "      <th>Height</th>\n",
       "      <td>4177.0</td>\n",
       "      <td>0.139516</td>\n",
       "      <td>0.041827</td>\n",
       "      <td>0.0000</td>\n",
       "      <td>0.1150</td>\n",
       "      <td>0.1400</td>\n",
       "      <td>0.165</td>\n",
       "      <td>1.1300</td>\n",
       "    </tr>\n",
       "    <tr>\n",
       "      <th>Whole weight</th>\n",
       "      <td>4177.0</td>\n",
       "      <td>0.828742</td>\n",
       "      <td>0.490389</td>\n",
       "      <td>0.0020</td>\n",
       "      <td>0.4415</td>\n",
       "      <td>0.7995</td>\n",
       "      <td>1.153</td>\n",
       "      <td>2.8255</td>\n",
       "    </tr>\n",
       "    <tr>\n",
       "      <th>Shucked weight</th>\n",
       "      <td>4177.0</td>\n",
       "      <td>0.359367</td>\n",
       "      <td>0.221963</td>\n",
       "      <td>0.0010</td>\n",
       "      <td>0.1860</td>\n",
       "      <td>0.3360</td>\n",
       "      <td>0.502</td>\n",
       "      <td>1.4880</td>\n",
       "    </tr>\n",
       "    <tr>\n",
       "      <th>Viscera weight</th>\n",
       "      <td>4177.0</td>\n",
       "      <td>0.180594</td>\n",
       "      <td>0.109614</td>\n",
       "      <td>0.0005</td>\n",
       "      <td>0.0935</td>\n",
       "      <td>0.1710</td>\n",
       "      <td>0.253</td>\n",
       "      <td>0.7600</td>\n",
       "    </tr>\n",
       "    <tr>\n",
       "      <th>Shell weight</th>\n",
       "      <td>4177.0</td>\n",
       "      <td>0.238831</td>\n",
       "      <td>0.139203</td>\n",
       "      <td>0.0015</td>\n",
       "      <td>0.1300</td>\n",
       "      <td>0.2340</td>\n",
       "      <td>0.329</td>\n",
       "      <td>1.0050</td>\n",
       "    </tr>\n",
       "    <tr>\n",
       "      <th>age</th>\n",
       "      <td>4177.0</td>\n",
       "      <td>11.433684</td>\n",
       "      <td>3.224169</td>\n",
       "      <td>2.5000</td>\n",
       "      <td>9.5000</td>\n",
       "      <td>10.5000</td>\n",
       "      <td>12.500</td>\n",
       "      <td>30.5000</td>\n",
       "    </tr>\n",
       "  </tbody>\n",
       "</table>\n",
       "</div>"
      ],
      "text/plain": [
       "                 count       mean       std     min     25%      50%     75%  \\\n",
       "Length          4177.0   0.523992  0.120093  0.0750  0.4500   0.5450   0.615   \n",
       "Diameter        4177.0   0.407881  0.099240  0.0550  0.3500   0.4250   0.480   \n",
       "Height          4177.0   0.139516  0.041827  0.0000  0.1150   0.1400   0.165   \n",
       "Whole weight    4177.0   0.828742  0.490389  0.0020  0.4415   0.7995   1.153   \n",
       "Shucked weight  4177.0   0.359367  0.221963  0.0010  0.1860   0.3360   0.502   \n",
       "Viscera weight  4177.0   0.180594  0.109614  0.0005  0.0935   0.1710   0.253   \n",
       "Shell weight    4177.0   0.238831  0.139203  0.0015  0.1300   0.2340   0.329   \n",
       "age             4177.0  11.433684  3.224169  2.5000  9.5000  10.5000  12.500   \n",
       "\n",
       "                    max  \n",
       "Length           0.8150  \n",
       "Diameter         0.6500  \n",
       "Height           1.1300  \n",
       "Whole weight     2.8255  \n",
       "Shucked weight   1.4880  \n",
       "Viscera weight   0.7600  \n",
       "Shell weight     1.0050  \n",
       "age             30.5000  "
      ]
     },
     "execution_count": 60,
     "metadata": {},
     "output_type": "execute_result"
    }
   ],
   "source": [
    "df.describe().T"
   ]
  },
  {
   "cell_type": "markdown",
   "id": "3f3841aa",
   "metadata": {},
   "source": [
    "EDA"
   ]
  },
  {
   "cell_type": "code",
   "execution_count": 65,
   "id": "366ac7f7",
   "metadata": {},
   "outputs": [
    {
     "data": {
      "text/plain": [
       "<AxesSubplot:xlabel='Sex', ylabel='age'>"
      ]
     },
     "execution_count": 65,
     "metadata": {},
     "output_type": "execute_result"
    },
    {
     "data": {
      "image/png": "[encoded data removed]",
      "text/plain": [
       "<Figure size 432x288 with 1 Axes>"
      ]
     },
     "metadata": {
      "needs_background": "light"
     },
     "output_type": "display_data"
    }
   ],
   "source": [
    "sns.scatterplot(x='Sex', y='age',data=df)"
   ]
  },
  {
   "cell_type": "markdown",
   "id": "dbd5f81f",
   "metadata": {},
   "source": [
    "We can see data is equally distributed between 5 to 23 number of rings."
   ]
  },
  {
   "cell_type": "code",
   "execution_count": 66,
   "id": "54636af4",
   "metadata": {},
   "outputs": [
    {
     "data": {
      "text/plain": [
       "<AxesSubplot:xlabel='Length', ylabel='age'>"
      ]
     },
     "execution_count": 66,
     "metadata": {},
     "output_type": "execute_result"
    },
    {
     "data": {
      "image/png": "[encoded data removed]",
      "text/plain": [
       "<Figure size 432x288 with 1 Axes>"
      ]
     },
     "metadata": {
      "needs_background": "light"
     },
     "output_type": "display_data"
    }
   ],
   "source": [
    "sns.scatterplot(x='Length', y='age',data=df)"
   ]
  },
  {
   "cell_type": "markdown",
   "id": "e13d1dd7",
   "metadata": {},
   "source": [
    "We can observe length and age are increasing with linear relationship."
   ]
  },
  {
   "cell_type": "code",
   "execution_count": 67,
   "id": "75764f97",
   "metadata": {},
   "outputs": [
    {
     "data": {
      "text/plain": [
       "<AxesSubplot:xlabel='Diameter', ylabel='age'>"
      ]
     },
     "execution_count": 67,
     "metadata": {},
     "output_type": "execute_result"
    },
    {
     "data": {
      "image/png": "[encoded data removed]",
      "text/plain": [
       "<Figure size 432x288 with 1 Axes>"
      ]
     },
     "metadata": {
      "needs_background": "light"
     },
     "output_type": "display_data"
    }
   ],
   "source": [
    "sns.scatterplot(x='Diameter', y='age',data=df)"
   ]
  },
  {
   "cell_type": "markdown",
   "id": "78faedec",
   "metadata": {},
   "source": [
    "We can observe Diameter increases, age also increases."
   ]
  },
  {
   "cell_type": "code",
   "execution_count": 68,
   "id": "5630cdee",
   "metadata": {},
   "outputs": [
    {
     "data": {
      "text/plain": [
       "<AxesSubplot:xlabel='Height', ylabel='age'>"
      ]
     },
     "execution_count": 68,
     "metadata": {},
     "output_type": "execute_result"
    },
    {
     "data": {
      "image/png": "[encoded data removed]",
      "text/plain": [
       "<Figure size 432x288 with 1 Axes>"
      ]
     },
     "metadata": {
      "needs_background": "light"
     },
     "output_type": "display_data"
    }
   ],
   "source": [
    "sns.scatterplot(x='Height', y='age',data=df)"
   ]
  },
  {
   "cell_type": "markdown",
   "id": "daae5086",
   "metadata": {},
   "source": [
    "We can see for height in range 0 to 0.22 has higher age"
   ]
  },
  {
   "cell_type": "code",
   "execution_count": 69,
   "id": "87be77ab",
   "metadata": {},
   "outputs": [
    {
     "data": {
      "text/plain": [
       "<AxesSubplot:xlabel='Whole weight', ylabel='age'>"
      ]
     },
     "execution_count": 69,
     "metadata": {},
     "output_type": "execute_result"
    },
    {
     "data": {
      "image/png": "[encoded data removed]",
      "text/plain": [
       "<Figure size 432x288 with 1 Axes>"
      ]
     },
     "metadata": {
      "needs_background": "light"
     },
     "output_type": "display_data"
    }
   ],
   "source": [
    "sns.scatterplot(x='Whole weight', y='age',data=df)"
   ]
  },
  {
   "cell_type": "markdown",
   "id": "6989bc9d",
   "metadata": {},
   "source": [
    "We can see linear relashionship between whole weight and age."
   ]
  },
  {
   "cell_type": "code",
   "execution_count": 70,
   "id": "0b6bd62d",
   "metadata": {},
   "outputs": [
    {
     "data": {
      "text/plain": [
       "<AxesSubplot:xlabel='Shucked weight', ylabel='age'>"
      ]
     },
     "execution_count": 70,
     "metadata": {},
     "output_type": "execute_result"
    },
    {
     "data": {
      "image/png": "[encoded data removed]",
      "text/plain": [
       "<Figure size 432x288 with 1 Axes>"
      ]
     },
     "metadata": {
      "needs_background": "light"
     },
     "output_type": "display_data"
    }
   ],
   "source": [
    "sns.scatterplot(x='Shucked weight', y='age',data=df)"
   ]
  },
  {
   "cell_type": "markdown",
   "id": "dd78e13b",
   "metadata": {},
   "source": [
    "We can see linear relashionship between Shucked weight and age."
   ]
  },
  {
   "cell_type": "code",
   "execution_count": 71,
   "id": "4fbe0e42",
   "metadata": {},
   "outputs": [
    {
     "data": {
      "text/plain": [
       "<AxesSubplot:xlabel='Viscera weight', ylabel='age'>"
      ]
     },
     "execution_count": 71,
     "metadata": {},
     "output_type": "execute_result"
    },
    {
     "data": {
      "image/png": "[encoded data removed]",
      "text/plain": [
       "<Figure size 432x288 with 1 Axes>"
      ]
     },
     "metadata": {
      "needs_background": "light"
     },
     "output_type": "display_data"
    }
   ],
   "source": [
    "sns.scatterplot(x='Viscera weight', y='age',data=df)"
   ]
  },
  {
   "cell_type": "markdown",
   "id": "e13a0142",
   "metadata": {},
   "source": [
    "We can see linear relashionship between Viscera weight and age."
   ]
  },
  {
   "cell_type": "code",
   "execution_count": 72,
   "id": "32dcf914",
   "metadata": {},
   "outputs": [
    {
     "data": {
      "text/plain": [
       "<AxesSubplot:xlabel='Shell weight', ylabel='age'>"
      ]
     },
     "execution_count": 72,
     "metadata": {},
     "output_type": "execute_result"
    },
    {
     "data": {
      "image/png": "[encoded data removed]",
      "text/plain": [
       "<Figure size 432x288 with 1 Axes>"
      ]
     },
     "metadata": {
      "needs_background": "light"
     },
     "output_type": "display_data"
    }
   ],
   "source": [
    "sns.scatterplot(x='Shell weight', y='age',data=df)"
   ]
  },
  {
   "cell_type": "markdown",
   "id": "a1384656",
   "metadata": {},
   "source": [
    "We can see linear relashionship between shell weight and age."
   ]
  },
  {
   "cell_type": "code",
   "execution_count": 61,
   "id": "712d90d3",
   "metadata": {},
   "outputs": [
    {
     "data": {
      "image/png": "[encoded data removed]",
      "text/plain": [
       "<Figure size 1584x504 with 2 Axes>"
      ]
     },
     "metadata": {
      "needs_background": "light"
     },
     "output_type": "display_data"
    }
   ],
   "source": [
    "corr_mat = df.corr()\n",
    "\n",
    "plt.figure(figsize=[22,7])\n",
    "\n",
    "sns.heatmap(corr_mat,annot=True)\n",
    "plt.title('Correlation Matrix')\n",
    "plt.savefig('Correlation_matrix.jpg')\n",
    "plt.show()"
   ]
  },
  {
   "cell_type": "code",
   "execution_count": 63,
   "id": "792cf419",
   "metadata": {},
   "outputs": [
    {
     "data": {
      "text/plain": [
       "age               1.000000\n",
       "Shell weight      0.627574\n",
       "Diameter          0.574660\n",
       "Height            0.557467\n",
       "Length            0.556720\n",
       "Whole weight      0.540390\n",
       "Viscera weight    0.503819\n",
       "Shucked weight    0.420884\n",
       "Name: age, dtype: float64"
      ]
     },
     "execution_count": 63,
     "metadata": {},
     "output_type": "execute_result"
    }
   ],
   "source": [
    "corr_matrix = df.corr()\n",
    "corr_matrix[\"age\"].sort_values(ascending=False)"
   ]
  },
  {
   "cell_type": "markdown",
   "id": "c636a9ee",
   "metadata": {},
   "source": [
    "Based on above correlation, Shell weight has highet linear proportionality with age and Shucked weight has least  linear proportionality"
   ]
  },
  {
   "cell_type": "code",
   "execution_count": 114,
   "id": "663c8731",
   "metadata": {},
   "outputs": [
    {
     "data": {
      "image/png": "[encoded data removed]",
      "text/plain": [
       "<Figure size 1296x864 with 66 Axes>"
      ]
     },
     "metadata": {
      "needs_background": "light"
     },
     "output_type": "display_data"
    }
   ],
   "source": [
    "df.plot(kind='density',subplots=True, layout=(6,11), sharex=False, legend=False, fontsize=1, figsize=(18,12))\n",
    "plt.show()"
   ]
  },
  {
   "cell_type": "markdown",
   "id": "0b7d661a",
   "metadata": {},
   "source": [
    "Preprocessing"
   ]
  },
  {
   "cell_type": "markdown",
   "id": "4eec58e2",
   "metadata": {},
   "source": [
    "We can observe skewnwess present in few columns"
   ]
  },
  {
   "cell_type": "code",
   "execution_count": 121,
   "id": "7886b3a6",
   "metadata": {},
   "outputs": [],
   "source": [
    "x = df.drop(\"age\",axis=1)\n",
    "y = df[\"age\"]"
   ]
  },
  {
   "cell_type": "code",
   "execution_count": 122,
   "id": "83529f2a",
   "metadata": {},
   "outputs": [
    {
     "data": {
      "text/plain": [
       "2    1528\n",
       "1    1342\n",
       "0    1307\n",
       "Name: Sex, dtype: int64"
      ]
     },
     "execution_count": 122,
     "metadata": {},
     "output_type": "execute_result"
    }
   ],
   "source": [
    "from sklearn.preprocessing import LabelEncoder, StandardScaler\n",
    "LE = LabelEncoder()\n",
    "df[\"Sex\"]=LE.fit_transform(df[\"Sex\"])\n",
    "df[\"Sex\"].value_counts()"
   ]
  },
  {
   "cell_type": "code",
   "execution_count": 123,
   "id": "3d11eee8",
   "metadata": {},
   "outputs": [
    {
     "data": {
      "text/html": [
       "<div>\n",
       "<style scoped>\n",
       "    .dataframe tbody tr th:only-of-type {\n",
       "        vertical-align: middle;\n",
       "    }\n",
       "\n",
       "    .dataframe tbody tr th {\n",
       "        vertical-align: top;\n",
       "    }\n",
       "\n",
       "    .dataframe thead th {\n",
       "        text-align: right;\n",
       "    }\n",
       "</style>\n",
       "<table border=\"1\" class=\"dataframe\">\n",
       "  <thead>\n",
       "    <tr style=\"text-align: right;\">\n",
       "      <th></th>\n",
       "      <th>Sex</th>\n",
       "      <th>Length</th>\n",
       "      <th>Diameter</th>\n",
       "      <th>Height</th>\n",
       "      <th>Whole weight</th>\n",
       "      <th>Shucked weight</th>\n",
       "      <th>Viscera weight</th>\n",
       "      <th>Shell weight</th>\n",
       "    </tr>\n",
       "  </thead>\n",
       "  <tbody>\n",
       "    <tr>\n",
       "      <th>0</th>\n",
       "      <td>2</td>\n",
       "      <td>0.455</td>\n",
       "      <td>0.365</td>\n",
       "      <td>0.095</td>\n",
       "      <td>0.5140</td>\n",
       "      <td>0.2245</td>\n",
       "      <td>0.1010</td>\n",
       "      <td>0.1500</td>\n",
       "    </tr>\n",
       "    <tr>\n",
       "      <th>1</th>\n",
       "      <td>2</td>\n",
       "      <td>0.350</td>\n",
       "      <td>0.265</td>\n",
       "      <td>0.090</td>\n",
       "      <td>0.2255</td>\n",
       "      <td>0.0995</td>\n",
       "      <td>0.0485</td>\n",
       "      <td>0.0700</td>\n",
       "    </tr>\n",
       "    <tr>\n",
       "      <th>2</th>\n",
       "      <td>0</td>\n",
       "      <td>0.530</td>\n",
       "      <td>0.420</td>\n",
       "      <td>0.135</td>\n",
       "      <td>0.6770</td>\n",
       "      <td>0.2565</td>\n",
       "      <td>0.1415</td>\n",
       "      <td>0.2100</td>\n",
       "    </tr>\n",
       "    <tr>\n",
       "      <th>3</th>\n",
       "      <td>2</td>\n",
       "      <td>0.440</td>\n",
       "      <td>0.365</td>\n",
       "      <td>0.125</td>\n",
       "      <td>0.5160</td>\n",
       "      <td>0.2155</td>\n",
       "      <td>0.1140</td>\n",
       "      <td>0.1550</td>\n",
       "    </tr>\n",
       "    <tr>\n",
       "      <th>4</th>\n",
       "      <td>1</td>\n",
       "      <td>0.330</td>\n",
       "      <td>0.255</td>\n",
       "      <td>0.080</td>\n",
       "      <td>0.2050</td>\n",
       "      <td>0.0895</td>\n",
       "      <td>0.0395</td>\n",
       "      <td>0.0550</td>\n",
       "    </tr>\n",
       "    <tr>\n",
       "      <th>...</th>\n",
       "      <td>...</td>\n",
       "      <td>...</td>\n",
       "      <td>...</td>\n",
       "      <td>...</td>\n",
       "      <td>...</td>\n",
       "      <td>...</td>\n",
       "      <td>...</td>\n",
       "      <td>...</td>\n",
       "    </tr>\n",
       "    <tr>\n",
       "      <th>4172</th>\n",
       "      <td>0</td>\n",
       "      <td>0.565</td>\n",
       "      <td>0.450</td>\n",
       "      <td>0.165</td>\n",
       "      <td>0.8870</td>\n",
       "      <td>0.3700</td>\n",
       "      <td>0.2390</td>\n",
       "      <td>0.2490</td>\n",
       "    </tr>\n",
       "    <tr>\n",
       "      <th>4173</th>\n",
       "      <td>2</td>\n",
       "      <td>0.590</td>\n",
       "      <td>0.440</td>\n",
       "      <td>0.135</td>\n",
       "      <td>0.9660</td>\n",
       "      <td>0.4390</td>\n",
       "      <td>0.2145</td>\n",
       "      <td>0.2605</td>\n",
       "    </tr>\n",
       "    <tr>\n",
       "      <th>4174</th>\n",
       "      <td>2</td>\n",
       "      <td>0.600</td>\n",
       "      <td>0.475</td>\n",
       "      <td>0.205</td>\n",
       "      <td>1.1760</td>\n",
       "      <td>0.5255</td>\n",
       "      <td>0.2875</td>\n",
       "      <td>0.3080</td>\n",
       "    </tr>\n",
       "    <tr>\n",
       "      <th>4175</th>\n",
       "      <td>0</td>\n",
       "      <td>0.625</td>\n",
       "      <td>0.485</td>\n",
       "      <td>0.150</td>\n",
       "      <td>1.0945</td>\n",
       "      <td>0.5310</td>\n",
       "      <td>0.2610</td>\n",
       "      <td>0.2960</td>\n",
       "    </tr>\n",
       "    <tr>\n",
       "      <th>4176</th>\n",
       "      <td>2</td>\n",
       "      <td>0.710</td>\n",
       "      <td>0.555</td>\n",
       "      <td>0.195</td>\n",
       "      <td>1.9485</td>\n",
       "      <td>0.9455</td>\n",
       "      <td>0.3765</td>\n",
       "      <td>0.4950</td>\n",
       "    </tr>\n",
       "  </tbody>\n",
       "</table>\n",
       "<p>4177 rows × 8 columns</p>\n",
       "</div>"
      ],
      "text/plain": [
       "      Sex  Length  Diameter  Height  Whole weight  Shucked weight  \\\n",
       "0       2   0.455     0.365   0.095        0.5140          0.2245   \n",
       "1       2   0.350     0.265   0.090        0.2255          0.0995   \n",
       "2       0   0.530     0.420   0.135        0.6770          0.2565   \n",
       "3       2   0.440     0.365   0.125        0.5160          0.2155   \n",
       "4       1   0.330     0.255   0.080        0.2050          0.0895   \n",
       "...   ...     ...       ...     ...           ...             ...   \n",
       "4172    0   0.565     0.450   0.165        0.8870          0.3700   \n",
       "4173    2   0.590     0.440   0.135        0.9660          0.4390   \n",
       "4174    2   0.600     0.475   0.205        1.1760          0.5255   \n",
       "4175    0   0.625     0.485   0.150        1.0945          0.5310   \n",
       "4176    2   0.710     0.555   0.195        1.9485          0.9455   \n",
       "\n",
       "      Viscera weight  Shell weight  \n",
       "0             0.1010        0.1500  \n",
       "1             0.0485        0.0700  \n",
       "2             0.1415        0.2100  \n",
       "3             0.1140        0.1550  \n",
       "4             0.0395        0.0550  \n",
       "...              ...           ...  \n",
       "4172          0.2390        0.2490  \n",
       "4173          0.2145        0.2605  \n",
       "4174          0.2875        0.3080  \n",
       "4175          0.2610        0.2960  \n",
       "4176          0.3765        0.4950  \n",
       "\n",
       "[4177 rows x 8 columns]"
      ]
     },
     "execution_count": 123,
     "metadata": {},
     "output_type": "execute_result"
    }
   ],
   "source": [
    "x"
   ]
  },
  {
   "cell_type": "code",
   "execution_count": 124,
   "id": "664a1696",
   "metadata": {},
   "outputs": [
    {
     "data": {
      "text/plain": [
       "Height            3.128817\n",
       "Shucked weight    0.719098\n",
       "Shell weight      0.620927\n",
       "Viscera weight    0.591852\n",
       "Whole weight      0.530959\n",
       "Sex              -0.098155\n",
       "Diameter         -0.609198\n",
       "Length           -0.639873\n",
       "dtype: float64"
      ]
     },
     "execution_count": 124,
     "metadata": {},
     "output_type": "execute_result"
    }
   ],
   "source": [
    "x.skew().sort_values(ascending=False)"
   ]
  },
  {
   "cell_type": "code",
   "execution_count": 125,
   "id": "a04ecdf0",
   "metadata": {},
   "outputs": [],
   "source": [
    "from sklearn.preprocessing import power_transform, PowerTransformer"
   ]
  },
  {
   "cell_type": "code",
   "execution_count": 126,
   "id": "81ef8e95",
   "metadata": {},
   "outputs": [
    {
     "data": {
      "text/plain": [
       "PowerTransformer()"
      ]
     },
     "execution_count": 126,
     "metadata": {},
     "output_type": "execute_result"
    }
   ],
   "source": [
    "PowerTransformer()"
   ]
  },
  {
   "cell_type": "code",
   "execution_count": 127,
   "id": "e132e1ef",
   "metadata": {},
   "outputs": [],
   "source": [
    "x_new = power_transform(x)"
   ]
  },
  {
   "cell_type": "code",
   "execution_count": 128,
   "id": "054dcfb4",
   "metadata": {},
   "outputs": [
    {
     "data": {
      "text/plain": [
       "array([[ 1.12707158, -0.68550213, -0.54986033, ..., -0.54098937,\n",
       "        -0.69328289, -0.587809  ],\n",
       "       [ 1.12707158, -1.39634403, -1.38733299, ..., -1.31166208,\n",
       "        -1.33295268, -1.33241968],\n",
       "       [-1.30793479, -0.07077438,  0.00853714, ..., -0.36611642,\n",
       "        -0.25513514, -0.09826193],\n",
       "       ...,\n",
       "       [ 1.12707158,  0.59336612,  0.64519089, ...,  0.83813658,\n",
       "         1.01560749,  0.59839786],\n",
       "       [-1.30793479,  0.85337516,  0.76992788, ...,  0.85873857,\n",
       "         0.81518436,  0.51914542],\n",
       "       [ 1.12707158,  1.83447784,  1.72628889, ...,  2.10364827,\n",
       "         1.61134422,  1.65848824]])"
      ]
     },
     "execution_count": 128,
     "metadata": {},
     "output_type": "execute_result"
    }
   ],
   "source": [
    "x_new"
   ]
  },
  {
   "cell_type": "code",
   "execution_count": 129,
   "id": "6e32ab84",
   "metadata": {},
   "outputs": [
    {
     "data": {
      "text/plain": [
       "Viscera weight    0.039780\n",
       "Shucked weight    0.027351\n",
       "Shell weight      0.023390\n",
       "Whole weight     -0.003980\n",
       "Diameter         -0.065977\n",
       "Length           -0.066669\n",
       "Height           -0.115483\n",
       "Sex              -0.176442\n",
       "dtype: float64"
      ]
     },
     "execution_count": 129,
     "metadata": {},
     "output_type": "execute_result"
    }
   ],
   "source": [
    "pd.DataFrame(x_new, columns = x.columns).skew().sort_values(ascending=False)"
   ]
  },
  {
   "cell_type": "code",
   "execution_count": 86,
   "id": "b7a18cac",
   "metadata": {},
   "outputs": [
    {
     "data": {
      "text/plain": [
       "numpy.ndarray"
      ]
     },
     "execution_count": 86,
     "metadata": {},
     "output_type": "execute_result"
    }
   ],
   "source": [
    "type(x_new)"
   ]
  },
  {
   "cell_type": "code",
   "execution_count": 88,
   "id": "4816a1fa",
   "metadata": {},
   "outputs": [
    {
     "data": {
      "text/plain": [
       "Index(['Sex', 'Length', 'Diameter', 'Height', 'Whole weight', 'Shucked weight',\n",
       "       'Viscera weight', 'Shell weight'],\n",
       "      dtype='object')"
      ]
     },
     "execution_count": 88,
     "metadata": {},
     "output_type": "execute_result"
    }
   ],
   "source": [
    "x.columns"
   ]
  },
  {
   "cell_type": "code",
   "execution_count": 130,
   "id": "26bd39d5",
   "metadata": {},
   "outputs": [],
   "source": [
    "x=pd.DataFrame(x_new, columns=x.columns)"
   ]
  },
  {
   "cell_type": "code",
   "execution_count": 131,
   "id": "1273e7e4",
   "metadata": {},
   "outputs": [
    {
     "data": {
      "text/plain": [
       "Viscera weight    0.039780\n",
       "Shucked weight    0.027351\n",
       "Shell weight      0.023390\n",
       "Whole weight     -0.003980\n",
       "Diameter         -0.065977\n",
       "Length           -0.066669\n",
       "Height           -0.115483\n",
       "Sex              -0.176442\n",
       "dtype: float64"
      ]
     },
     "execution_count": 131,
     "metadata": {},
     "output_type": "execute_result"
    }
   ],
   "source": [
    "x.skew().sort_values(ascending=False)"
   ]
  },
  {
   "cell_type": "markdown",
   "id": "f55d7c0f",
   "metadata": {},
   "source": [
    "Checking Outliers"
   ]
  },
  {
   "cell_type": "code",
   "execution_count": 92,
   "id": "4b0156c4",
   "metadata": {},
   "outputs": [
    {
     "data": {
      "image/png": "[encoded data removed]",
      "text/plain": [
       "<Figure size 1440x576 with 1 Axes>"
      ]
     },
     "metadata": {
      "needs_background": "light"
     },
     "output_type": "display_data"
    }
   ],
   "source": [
    "x.iloc[:,0:12].boxplot(figsize=[20,8])\n",
    "plt.subplots_adjust(bottom=0.25)\n",
    "plt.show()"
   ]
  },
  {
   "cell_type": "code",
   "execution_count": 93,
   "id": "2977d25e",
   "metadata": {},
   "outputs": [
    {
     "data": {
      "text/plain": [
       "False"
      ]
     },
     "execution_count": 93,
     "metadata": {},
     "output_type": "execute_result"
    }
   ],
   "source": [
    "from scipy.stats import zscore\n",
    "(np.abs(zscore(x))<3).all().all()"
   ]
  },
  {
   "cell_type": "code",
   "execution_count": 94,
   "id": "3520fdfe",
   "metadata": {},
   "outputs": [
    {
     "data": {
      "text/plain": [
       "False"
      ]
     },
     "execution_count": 94,
     "metadata": {},
     "output_type": "execute_result"
    }
   ],
   "source": [
    "(np.abs(zscore(x))<3).all().all()"
   ]
  },
  {
   "cell_type": "code",
   "execution_count": 95,
   "id": "54c6fc41",
   "metadata": {},
   "outputs": [
    {
     "data": {
      "text/plain": [
       "(array([   6,   72,   81,   83,  129,  163,  164,  165,  165,  165,  166,\n",
       "         166,  167,  168,  170,  181,  232,  236,  236,  236,  237,  237,\n",
       "         238,  238,  239,  270,  275,  277,  278,  294,  310,  313,  314,\n",
       "         334,  351,  355,  358,  358,  362,  375,  416,  417,  428,  431,\n",
       "         433,  469,  478,  480,  501,  526,  526,  530,  572,  628,  673,\n",
       "         674,  675,  678,  694,  696,  696,  719,  719,  720,  720,  744,\n",
       "         754,  756,  811,  891,  891,  891, 1048, 1051, 1051, 1052, 1193,\n",
       "        1197, 1199, 1202, 1204, 1206, 1206, 1207, 1207, 1207, 1207, 1209,\n",
       "        1209, 1257, 1417, 1417, 1418, 1422, 1426, 1427, 1427, 1427, 1428,\n",
       "        1429, 1429, 1528, 1754, 1756, 1757, 1759, 1761, 1762, 1762, 1762,\n",
       "        1763, 1763, 1763, 1821, 1982, 1986, 1987, 1987, 2051, 2090, 2108,\n",
       "        2108, 2114, 2114, 2157, 2161, 2176, 2180, 2199, 2201, 2208, 2209,\n",
       "        2274, 2275, 2305, 2334, 2334, 2334, 2335, 2344, 2358, 2368, 2381,\n",
       "        2436, 2459, 2471, 2544, 2623, 2624, 2624, 2624, 2625, 2709, 2710,\n",
       "        2710, 2810, 2810, 2811, 2811, 2811, 2862, 2863, 2863, 2863, 3007,\n",
       "        3008, 3140, 3148, 3149, 3149, 3151, 3151, 3188, 3193, 3280, 3359,\n",
       "        3427, 3427, 3427, 3599, 3599, 3628, 3713, 3715, 3715, 3715, 3715,\n",
       "        3800, 3837, 3899, 3899, 3902, 3924, 3930, 3944, 3961, 3962, 3996,\n",
       "        4145, 4148], dtype=int64),\n",
       " array([8, 8, 7, 8, 7, 7, 7, 4, 5, 7, 7, 8, 8, 7, 6, 8, 8, 1, 2, 3, 1, 2,\n",
       "        1, 2, 1, 8, 8, 7, 8, 8, 8, 8, 8, 7, 8, 8, 4, 7, 8, 8, 8, 8, 8, 8,\n",
       "        8, 8, 8, 8, 8, 1, 2, 8, 8, 8, 8, 8, 8, 8, 2, 1, 2, 1, 2, 1, 2, 8,\n",
       "        8, 8, 8, 4, 5, 7, 6, 4, 5, 4, 5, 5, 5, 5, 6, 5, 6, 4, 5, 6, 7, 4,\n",
       "        5, 3, 3, 5, 5, 6, 5, 4, 5, 6, 7, 1, 2, 5, 5, 5, 6, 6, 5, 4, 5, 6,\n",
       "        4, 5, 6, 5, 5, 1, 1, 2, 3, 7, 7, 8, 1, 2, 7, 7, 8, 8, 8, 8, 7, 8,\n",
       "        7, 8, 8, 4, 6, 8, 8, 8, 8, 7, 1, 8, 8, 8, 5, 4, 4, 5, 6, 5, 6, 5,\n",
       "        6, 5, 6, 4, 5, 6, 5, 4, 5, 6, 5, 7, 8, 7, 7, 8, 7, 8, 7, 8, 8, 8,\n",
       "        4, 5, 6, 4, 5, 6, 5, 4, 5, 6, 7, 4, 2, 1, 2, 1, 8, 8, 8, 5, 5, 3,\n",
       "        7, 6], dtype=int64))"
      ]
     },
     "execution_count": 95,
     "metadata": {},
     "output_type": "execute_result"
    }
   ],
   "source": [
    "from scipy.stats import zscore\n",
    "z=np.abs(zscore(df))\n",
    "threshold=3\n",
    "np.where(z>3)"
   ]
  },
  {
   "cell_type": "code",
   "execution_count": 96,
   "id": "2b3c0fa4",
   "metadata": {},
   "outputs": [
    {
     "data": {
      "text/html": [
       "<div>\n",
       "<style scoped>\n",
       "    .dataframe tbody tr th:only-of-type {\n",
       "        vertical-align: middle;\n",
       "    }\n",
       "\n",
       "    .dataframe tbody tr th {\n",
       "        vertical-align: top;\n",
       "    }\n",
       "\n",
       "    .dataframe thead th {\n",
       "        text-align: right;\n",
       "    }\n",
       "</style>\n",
       "<table border=\"1\" class=\"dataframe\">\n",
       "  <thead>\n",
       "    <tr style=\"text-align: right;\">\n",
       "      <th></th>\n",
       "      <th>Sex</th>\n",
       "      <th>Length</th>\n",
       "      <th>Diameter</th>\n",
       "      <th>Height</th>\n",
       "      <th>Whole weight</th>\n",
       "      <th>Shucked weight</th>\n",
       "      <th>Viscera weight</th>\n",
       "      <th>Shell weight</th>\n",
       "      <th>age</th>\n",
       "    </tr>\n",
       "  </thead>\n",
       "  <tbody>\n",
       "    <tr>\n",
       "      <th>0</th>\n",
       "      <td>2</td>\n",
       "      <td>0.455</td>\n",
       "      <td>0.365</td>\n",
       "      <td>0.095</td>\n",
       "      <td>0.5140</td>\n",
       "      <td>0.2245</td>\n",
       "      <td>0.1010</td>\n",
       "      <td>0.1500</td>\n",
       "      <td>16.5</td>\n",
       "    </tr>\n",
       "    <tr>\n",
       "      <th>1</th>\n",
       "      <td>2</td>\n",
       "      <td>0.350</td>\n",
       "      <td>0.265</td>\n",
       "      <td>0.090</td>\n",
       "      <td>0.2255</td>\n",
       "      <td>0.0995</td>\n",
       "      <td>0.0485</td>\n",
       "      <td>0.0700</td>\n",
       "      <td>8.5</td>\n",
       "    </tr>\n",
       "    <tr>\n",
       "      <th>2</th>\n",
       "      <td>0</td>\n",
       "      <td>0.530</td>\n",
       "      <td>0.420</td>\n",
       "      <td>0.135</td>\n",
       "      <td>0.6770</td>\n",
       "      <td>0.2565</td>\n",
       "      <td>0.1415</td>\n",
       "      <td>0.2100</td>\n",
       "      <td>10.5</td>\n",
       "    </tr>\n",
       "    <tr>\n",
       "      <th>3</th>\n",
       "      <td>2</td>\n",
       "      <td>0.440</td>\n",
       "      <td>0.365</td>\n",
       "      <td>0.125</td>\n",
       "      <td>0.5160</td>\n",
       "      <td>0.2155</td>\n",
       "      <td>0.1140</td>\n",
       "      <td>0.1550</td>\n",
       "      <td>11.5</td>\n",
       "    </tr>\n",
       "    <tr>\n",
       "      <th>4</th>\n",
       "      <td>1</td>\n",
       "      <td>0.330</td>\n",
       "      <td>0.255</td>\n",
       "      <td>0.080</td>\n",
       "      <td>0.2050</td>\n",
       "      <td>0.0895</td>\n",
       "      <td>0.0395</td>\n",
       "      <td>0.0550</td>\n",
       "      <td>8.5</td>\n",
       "    </tr>\n",
       "    <tr>\n",
       "      <th>...</th>\n",
       "      <td>...</td>\n",
       "      <td>...</td>\n",
       "      <td>...</td>\n",
       "      <td>...</td>\n",
       "      <td>...</td>\n",
       "      <td>...</td>\n",
       "      <td>...</td>\n",
       "      <td>...</td>\n",
       "      <td>...</td>\n",
       "    </tr>\n",
       "    <tr>\n",
       "      <th>4172</th>\n",
       "      <td>0</td>\n",
       "      <td>0.565</td>\n",
       "      <td>0.450</td>\n",
       "      <td>0.165</td>\n",
       "      <td>0.8870</td>\n",
       "      <td>0.3700</td>\n",
       "      <td>0.2390</td>\n",
       "      <td>0.2490</td>\n",
       "      <td>12.5</td>\n",
       "    </tr>\n",
       "    <tr>\n",
       "      <th>4173</th>\n",
       "      <td>2</td>\n",
       "      <td>0.590</td>\n",
       "      <td>0.440</td>\n",
       "      <td>0.135</td>\n",
       "      <td>0.9660</td>\n",
       "      <td>0.4390</td>\n",
       "      <td>0.2145</td>\n",
       "      <td>0.2605</td>\n",
       "      <td>11.5</td>\n",
       "    </tr>\n",
       "    <tr>\n",
       "      <th>4174</th>\n",
       "      <td>2</td>\n",
       "      <td>0.600</td>\n",
       "      <td>0.475</td>\n",
       "      <td>0.205</td>\n",
       "      <td>1.1760</td>\n",
       "      <td>0.5255</td>\n",
       "      <td>0.2875</td>\n",
       "      <td>0.3080</td>\n",
       "      <td>10.5</td>\n",
       "    </tr>\n",
       "    <tr>\n",
       "      <th>4175</th>\n",
       "      <td>0</td>\n",
       "      <td>0.625</td>\n",
       "      <td>0.485</td>\n",
       "      <td>0.150</td>\n",
       "      <td>1.0945</td>\n",
       "      <td>0.5310</td>\n",
       "      <td>0.2610</td>\n",
       "      <td>0.2960</td>\n",
       "      <td>11.5</td>\n",
       "    </tr>\n",
       "    <tr>\n",
       "      <th>4176</th>\n",
       "      <td>2</td>\n",
       "      <td>0.710</td>\n",
       "      <td>0.555</td>\n",
       "      <td>0.195</td>\n",
       "      <td>1.9485</td>\n",
       "      <td>0.9455</td>\n",
       "      <td>0.3765</td>\n",
       "      <td>0.4950</td>\n",
       "      <td>13.5</td>\n",
       "    </tr>\n",
       "  </tbody>\n",
       "</table>\n",
       "<p>4027 rows × 9 columns</p>\n",
       "</div>"
      ],
      "text/plain": [
       "      Sex  Length  Diameter  Height  Whole weight  Shucked weight  \\\n",
       "0       2   0.455     0.365   0.095        0.5140          0.2245   \n",
       "1       2   0.350     0.265   0.090        0.2255          0.0995   \n",
       "2       0   0.530     0.420   0.135        0.6770          0.2565   \n",
       "3       2   0.440     0.365   0.125        0.5160          0.2155   \n",
       "4       1   0.330     0.255   0.080        0.2050          0.0895   \n",
       "...   ...     ...       ...     ...           ...             ...   \n",
       "4172    0   0.565     0.450   0.165        0.8870          0.3700   \n",
       "4173    2   0.590     0.440   0.135        0.9660          0.4390   \n",
       "4174    2   0.600     0.475   0.205        1.1760          0.5255   \n",
       "4175    0   0.625     0.485   0.150        1.0945          0.5310   \n",
       "4176    2   0.710     0.555   0.195        1.9485          0.9455   \n",
       "\n",
       "      Viscera weight  Shell weight   age  \n",
       "0             0.1010        0.1500  16.5  \n",
       "1             0.0485        0.0700   8.5  \n",
       "2             0.1415        0.2100  10.5  \n",
       "3             0.1140        0.1550  11.5  \n",
       "4             0.0395        0.0550   8.5  \n",
       "...              ...           ...   ...  \n",
       "4172          0.2390        0.2490  12.5  \n",
       "4173          0.2145        0.2605  11.5  \n",
       "4174          0.2875        0.3080  10.5  \n",
       "4175          0.2610        0.2960  11.5  \n",
       "4176          0.3765        0.4950  13.5  \n",
       "\n",
       "[4027 rows x 9 columns]"
      ]
     },
     "execution_count": 96,
     "metadata": {},
     "output_type": "execute_result"
    }
   ],
   "source": [
    "df_new_z = df[(z<3).all(axis=1)]\n",
    "df_new_z"
   ]
  },
  {
   "cell_type": "code",
   "execution_count": 97,
   "id": "9b8c7de6",
   "metadata": {},
   "outputs": [
    {
     "data": {
      "text/plain": [
       "(4027, 9)"
      ]
     },
     "execution_count": 97,
     "metadata": {},
     "output_type": "execute_result"
    }
   ],
   "source": [
    "df_new_z.shape"
   ]
  },
  {
   "cell_type": "code",
   "execution_count": 98,
   "id": "f1652d37",
   "metadata": {},
   "outputs": [
    {
     "data": {
      "text/plain": [
       "3.5910940866650707"
      ]
     },
     "execution_count": 98,
     "metadata": {},
     "output_type": "execute_result"
    }
   ],
   "source": [
    "Data_loss=((4177-4027)/4177)*100\n",
    "Data_loss"
   ]
  },
  {
   "cell_type": "markdown",
   "id": "caab9f50",
   "metadata": {},
   "source": [
    "Separating columns into features and target"
   ]
  },
  {
   "cell_type": "code",
   "execution_count": 145,
   "id": "007de679",
   "metadata": {},
   "outputs": [],
   "source": [
    "features = df_new_z.drop(\"age\",axis=1)\n",
    "target = df_new_z[\"age\"]"
   ]
  },
  {
   "cell_type": "markdown",
   "id": "7f647c6b",
   "metadata": {},
   "source": [
    "Scaling data using MinMaxScaler"
   ]
  },
  {
   "cell_type": "code",
   "execution_count": 146,
   "id": "dc7a0460",
   "metadata": {},
   "outputs": [],
   "source": [
    "from sklearn.preprocessing import MinMaxScaler\n",
    "mms = MinMaxScaler()\n",
    "from sklearn.linear_model import LinearRegression\n",
    "lr = LinearRegression()\n",
    "from sklearn.metrics import r2_score\n",
    "from sklearn.model_selection import train_test_split"
   ]
  },
  {
   "cell_type": "code",
   "execution_count": 147,
   "id": "c2652549",
   "metadata": {},
   "outputs": [],
   "source": [
    "import warnings\n",
    "warnings.filterwarnings('ignore')"
   ]
  },
  {
   "cell_type": "code",
   "execution_count": 166,
   "id": "50645e03",
   "metadata": {},
   "outputs": [
    {
     "name": "stdout",
     "output_type": "stream",
     "text": [
      "At randon state0, the training accuracy is: 0.5206408573653769\n",
      "At randon state0, the testing accuracy is: 0.4849089753791995\n",
      "\n",
      "\n",
      "At randon state1, the training accuracy is: 0.5178458978075204\n",
      "At randon state1, the testing accuracy is: 0.4941036312407545\n",
      "\n",
      "\n",
      "At randon state2, the training accuracy is: 0.518041964626347\n",
      "At randon state2, the testing accuracy is: 0.4974748011478476\n",
      "\n",
      "\n",
      "At randon state3, the training accuracy is: 0.5145548976919275\n",
      "At randon state3, the testing accuracy is: 0.5095783117293222\n",
      "\n",
      "\n",
      "At randon state4, the training accuracy is: 0.5118792991948198\n",
      "At randon state4, the testing accuracy is: 0.5208948319239937\n",
      "\n",
      "\n",
      "At randon state5, the training accuracy is: 0.5199563967536596\n",
      "At randon state5, the testing accuracy is: 0.48853505000848985\n",
      "\n",
      "\n",
      "At randon state6, the training accuracy is: 0.5108171318060508\n",
      "At randon state6, the testing accuracy is: 0.5242230264579848\n",
      "\n",
      "\n",
      "At randon state7, the training accuracy is: 0.5215575149941301\n",
      "At randon state7, the testing accuracy is: 0.48086376911415496\n",
      "\n",
      "\n",
      "At randon state8, the training accuracy is: 0.5111921018943447\n",
      "At randon state8, the testing accuracy is: 0.523700939635845\n",
      "\n",
      "\n",
      "At randon state9, the training accuracy is: 0.5100992562488225\n",
      "At randon state9, the testing accuracy is: 0.5278383059802854\n",
      "\n",
      "\n",
      "At randon state10, the training accuracy is: 0.5082110742561323\n",
      "At randon state10, the testing accuracy is: 0.5335295197658709\n",
      "\n",
      "\n",
      "At randon state11, the training accuracy is: 0.5061088501569664\n",
      "At randon state11, the testing accuracy is: 0.5457352413416736\n",
      "\n",
      "\n",
      "At randon state12, the training accuracy is: 0.5079013785087594\n",
      "At randon state12, the testing accuracy is: 0.5362873658607648\n",
      "\n",
      "\n",
      "At randon state13, the training accuracy is: 0.5137941274018212\n",
      "At randon state13, the testing accuracy is: 0.5135598321379558\n",
      "\n",
      "\n",
      "At randon state14, the training accuracy is: 0.5148315274578854\n",
      "At randon state14, the testing accuracy is: 0.5072984573564296\n",
      "\n",
      "\n",
      "At randon state15, the training accuracy is: 0.5118304825439279\n",
      "At randon state15, the testing accuracy is: 0.5218514774687186\n",
      "\n",
      "\n",
      "At randon state16, the training accuracy is: 0.508865972766193\n",
      "At randon state16, the testing accuracy is: 0.5316460598644559\n",
      "\n",
      "\n",
      "At randon state17, the training accuracy is: 0.5203825989036279\n",
      "At randon state17, the testing accuracy is: 0.4880466727820215\n",
      "\n",
      "\n",
      "At randon state18, the training accuracy is: 0.5084080192503326\n",
      "At randon state18, the testing accuracy is: 0.5360164400335892\n",
      "\n",
      "\n",
      "At randon state19, the training accuracy is: 0.5267392835442986\n",
      "At randon state19, the testing accuracy is: 0.4658559607667392\n",
      "\n",
      "\n",
      "At randon state20, the training accuracy is: 0.5092007712335177\n",
      "At randon state20, the testing accuracy is: 0.5302728183877765\n",
      "\n",
      "\n",
      "At randon state21, the training accuracy is: 0.5140322613095791\n",
      "At randon state21, the testing accuracy is: 0.5121743461757822\n",
      "\n",
      "\n",
      "At randon state22, the training accuracy is: 0.5093954982653262\n",
      "At randon state22, the testing accuracy is: 0.5266108106853318\n",
      "\n",
      "\n",
      "At randon state23, the training accuracy is: 0.5121181649544393\n",
      "At randon state23, the testing accuracy is: 0.5193123500962791\n",
      "\n",
      "\n",
      "At randon state24, the training accuracy is: 0.5139605151112425\n",
      "At randon state24, the testing accuracy is: 0.5122569685604841\n",
      "\n",
      "\n",
      "At randon state25, the training accuracy is: 0.5188534027789962\n",
      "At randon state25, the testing accuracy is: 0.4959087015486543\n",
      "\n",
      "\n",
      "At randon state26, the training accuracy is: 0.5172199411303435\n",
      "At randon state26, the testing accuracy is: 0.4996638890551408\n",
      "\n",
      "\n",
      "At randon state27, the training accuracy is: 0.5174153355710236\n",
      "At randon state27, the testing accuracy is: 0.4957061773048145\n",
      "\n",
      "\n",
      "At randon state28, the training accuracy is: 0.5105251516384132\n",
      "At randon state28, the testing accuracy is: 0.5260380378909749\n",
      "\n",
      "\n",
      "At randon state29, the training accuracy is: 0.5085440188899967\n",
      "At randon state29, the testing accuracy is: 0.5344707464128087\n",
      "\n",
      "\n",
      "At randon state30, the training accuracy is: 0.5133303194451955\n",
      "At randon state30, the testing accuracy is: 0.5140778490319484\n",
      "\n",
      "\n",
      "At randon state31, the training accuracy is: 0.5151570400839647\n",
      "At randon state31, the testing accuracy is: 0.5061128855632795\n",
      "\n",
      "\n",
      "At randon state32, the training accuracy is: 0.5137385917990398\n",
      "At randon state32, the testing accuracy is: 0.5121076903228114\n",
      "\n",
      "\n",
      "At randon state33, the training accuracy is: 0.5187157172447019\n",
      "At randon state33, the testing accuracy is: 0.4943999442392769\n",
      "\n",
      "\n",
      "At randon state34, the training accuracy is: 0.5146369203665817\n",
      "At randon state34, the testing accuracy is: 0.5103738992830247\n",
      "\n",
      "\n",
      "At randon state35, the training accuracy is: 0.5123308106563508\n",
      "At randon state35, the testing accuracy is: 0.5159683142094242\n",
      "\n",
      "\n",
      "At randon state36, the training accuracy is: 0.5176637665368315\n",
      "At randon state36, the testing accuracy is: 0.49832355546086937\n",
      "\n",
      "\n",
      "At randon state37, the training accuracy is: 0.5130656889549308\n",
      "At randon state37, the testing accuracy is: 0.516635074156943\n",
      "\n",
      "\n",
      "At randon state38, the training accuracy is: 0.5107983719949855\n",
      "At randon state38, the testing accuracy is: 0.5251201024631751\n",
      "\n",
      "\n",
      "At randon state39, the training accuracy is: 0.5144603227162484\n",
      "At randon state39, the testing accuracy is: 0.5099765331907883\n",
      "\n",
      "\n",
      "At randon state40, the training accuracy is: 0.5069458206632078\n",
      "At randon state40, the testing accuracy is: 0.5410156905144168\n",
      "\n",
      "\n",
      "At randon state41, the training accuracy is: 0.509902819918572\n",
      "At randon state41, the testing accuracy is: 0.5272403035086646\n",
      "\n",
      "\n",
      "At randon state42, the training accuracy is: 0.5137333369048525\n",
      "At randon state42, the testing accuracy is: 0.5105823631769733\n",
      "\n",
      "\n",
      "At randon state43, the training accuracy is: 0.5161119708825629\n",
      "At randon state43, the testing accuracy is: 0.5031065644156243\n",
      "\n",
      "\n",
      "At randon state44, the training accuracy is: 0.5140618977899374\n",
      "At randon state44, the testing accuracy is: 0.510012796875938\n",
      "\n",
      "\n",
      "At randon state45, the training accuracy is: 0.5014195175795805\n",
      "At randon state45, the testing accuracy is: 0.5593880728934146\n",
      "\n",
      "\n",
      "At randon state46, the training accuracy is: 0.5148380393004705\n",
      "At randon state46, the testing accuracy is: 0.5069244346455182\n",
      "\n",
      "\n",
      "At randon state47, the training accuracy is: 0.5131988168979812\n",
      "At randon state47, the testing accuracy is: 0.5150838328795482\n",
      "\n",
      "\n",
      "At randon state48, the training accuracy is: 0.5187186293004875\n",
      "At randon state48, the testing accuracy is: 0.49246631885870595\n",
      "\n",
      "\n",
      "At randon state49, the training accuracy is: 0.5091964115232508\n",
      "At randon state49, the testing accuracy is: 0.532525914349823\n",
      "\n",
      "\n",
      "At randon state50, the training accuracy is: 0.5112547247513468\n",
      "At randon state50, the testing accuracy is: 0.5237614097367854\n",
      "\n",
      "\n",
      "At randon state51, the training accuracy is: 0.5055609633176146\n",
      "At randon state51, the testing accuracy is: 0.5390052043331264\n",
      "\n",
      "\n",
      "At randon state52, the training accuracy is: 0.5153937321832553\n",
      "At randon state52, the testing accuracy is: 0.5034111505853803\n",
      "\n",
      "\n",
      "At randon state53, the training accuracy is: 0.5310646852178886\n",
      "At randon state53, the testing accuracy is: 0.4222072444013155\n",
      "\n",
      "\n",
      "At randon state54, the training accuracy is: 0.5217071460669426\n",
      "At randon state54, the testing accuracy is: 0.48248801915334416\n",
      "\n",
      "\n",
      "At randon state55, the training accuracy is: 0.5100983509772269\n",
      "At randon state55, the testing accuracy is: 0.5282825022696997\n",
      "\n",
      "\n",
      "At randon state56, the training accuracy is: 0.5201724741056543\n",
      "At randon state56, the testing accuracy is: 0.4860026075928886\n",
      "\n",
      "\n",
      "At randon state57, the training accuracy is: 0.5091171872397234\n",
      "At randon state57, the testing accuracy is: 0.531468820758591\n",
      "\n",
      "\n",
      "At randon state58, the training accuracy is: 0.5067223541088153\n",
      "At randon state58, the testing accuracy is: 0.539524976387163\n",
      "\n",
      "\n",
      "At randon state59, the training accuracy is: 0.5097683925294079\n",
      "At randon state59, the testing accuracy is: 0.5265606749258707\n",
      "\n",
      "\n",
      "At randon state60, the training accuracy is: 0.5071545171713392\n",
      "At randon state60, the testing accuracy is: 0.539649882499998\n",
      "\n",
      "\n",
      "At randon state61, the training accuracy is: 0.5218529945267437\n",
      "At randon state61, the testing accuracy is: 0.48302497063075756\n",
      "\n",
      "\n",
      "At randon state62, the training accuracy is: 0.5005435337803479\n",
      "At randon state62, the testing accuracy is: 0.5680869460014621\n",
      "\n",
      "\n",
      "At randon state63, the training accuracy is: 0.5214218997082991\n",
      "At randon state63, the testing accuracy is: 0.4803523546664902\n",
      "\n",
      "\n",
      "At randon state64, the training accuracy is: 0.5146854555914667\n",
      "At randon state64, the testing accuracy is: 0.5099380829713636\n",
      "\n",
      "\n",
      "At randon state65, the training accuracy is: 0.5104992658321276\n",
      "At randon state65, the testing accuracy is: 0.5246611570329405\n",
      "\n",
      "\n",
      "At randon state66, the training accuracy is: 0.5095299195323109\n",
      "At randon state66, the testing accuracy is: 0.5305922820146345\n",
      "\n",
      "\n",
      "At randon state67, the training accuracy is: 0.5161013985146696\n",
      "At randon state67, the testing accuracy is: 0.5049370897444857\n",
      "\n",
      "\n",
      "At randon state68, the training accuracy is: 0.5163503248393927\n",
      "At randon state68, the testing accuracy is: 0.5013166890865566\n",
      "\n",
      "\n",
      "At randon state69, the training accuracy is: 0.5114206460648875\n",
      "At randon state69, the testing accuracy is: 0.5210192276671313\n",
      "\n",
      "\n",
      "At randon state70, the training accuracy is: 0.5137731920280835\n",
      "At randon state70, the testing accuracy is: 0.5126695689119126\n",
      "\n",
      "\n",
      "At randon state71, the training accuracy is: 0.5090095259111769\n",
      "At randon state71, the testing accuracy is: 0.5330613285804879\n",
      "\n",
      "\n",
      "At randon state72, the training accuracy is: 0.5048921603365042\n",
      "At randon state72, the testing accuracy is: 0.5436206574684858\n",
      "\n",
      "\n",
      "At randon state73, the training accuracy is: 0.5093707730923309\n",
      "At randon state73, the testing accuracy is: 0.527041482085273\n",
      "\n",
      "\n",
      "At randon state74, the training accuracy is: 0.5103173235761582\n",
      "At randon state74, the testing accuracy is: 0.525451348501252\n",
      "\n",
      "\n",
      "At randon state75, the training accuracy is: 0.5173620926345435\n",
      "At randon state75, the testing accuracy is: 0.4996716552202177\n",
      "\n",
      "\n",
      "At randon state76, the training accuracy is: 0.5141710410763467\n",
      "At randon state76, the testing accuracy is: 0.5116468688720363\n",
      "\n",
      "\n",
      "At randon state77, the training accuracy is: 0.5143380123215718\n",
      "At randon state77, the testing accuracy is: 0.511232444699367\n",
      "\n",
      "\n",
      "At randon state78, the training accuracy is: 0.5121842534219556\n",
      "At randon state78, the testing accuracy is: 0.5197274932806707\n",
      "\n",
      "\n",
      "At randon state79, the training accuracy is: 0.5094894722392147\n",
      "At randon state79, the testing accuracy is: 0.5300656876018295\n",
      "\n",
      "\n",
      "At randon state80, the training accuracy is: 0.5102509649868721\n",
      "At randon state80, the testing accuracy is: 0.5273719410154036\n",
      "\n",
      "\n",
      "At randon state81, the training accuracy is: 0.5080886989437323\n",
      "At randon state81, the testing accuracy is: 0.5350819044947548\n",
      "\n",
      "\n",
      "At randon state82, the training accuracy is: 0.4997334581914906\n",
      "At randon state82, the testing accuracy is: 0.5628288847187299\n",
      "\n",
      "\n",
      "At randon state83, the training accuracy is: 0.5185220998789699\n",
      "At randon state83, the testing accuracy is: 0.4955460379812531\n",
      "\n",
      "\n",
      "At randon state84, the training accuracy is: 0.5201028672679151\n",
      "At randon state84, the testing accuracy is: 0.48776873491845363\n",
      "\n",
      "\n",
      "At randon state85, the training accuracy is: 0.5198386475767446\n",
      "At randon state85, the testing accuracy is: 0.4882727091009712\n",
      "\n",
      "\n",
      "At randon state86, the training accuracy is: 0.5104969624686261\n",
      "At randon state86, the testing accuracy is: 0.5283244810455475\n",
      "\n",
      "\n",
      "At randon state87, the training accuracy is: 0.5171774141801431\n",
      "At randon state87, the testing accuracy is: 0.49931683451906306\n",
      "\n",
      "\n",
      "At randon state88, the training accuracy is: 0.5138433424254079\n",
      "At randon state88, the testing accuracy is: 0.5128870656132948\n",
      "\n",
      "\n",
      "At randon state89, the training accuracy is: 0.5123344018685334\n",
      "At randon state89, the testing accuracy is: 0.5192412756477628\n",
      "\n",
      "\n",
      "At randon state90, the training accuracy is: 0.5061731501544231\n",
      "At randon state90, the testing accuracy is: 0.5439955737630628\n",
      "\n",
      "\n",
      "At randon state91, the training accuracy is: 0.517031198907504\n",
      "At randon state91, the testing accuracy is: 0.4970836896145009\n",
      "\n",
      "\n",
      "At randon state92, the training accuracy is: 0.5056370430053516\n",
      "At randon state92, the testing accuracy is: 0.5389913287220827\n",
      "\n",
      "\n",
      "At randon state93, the training accuracy is: 0.5220449849117406\n",
      "At randon state93, the testing accuracy is: 0.4804371362761848\n",
      "\n",
      "\n",
      "At randon state94, the training accuracy is: 0.5161431115379904\n",
      "At randon state94, the testing accuracy is: 0.5027800537549529\n",
      "\n",
      "\n",
      "At randon state95, the training accuracy is: 0.5083868350698468\n",
      "At randon state95, the testing accuracy is: 0.5323464985481487\n",
      "\n",
      "\n",
      "At randon state96, the training accuracy is: 0.5177480867669406\n",
      "At randon state96, the testing accuracy is: 0.4979417958445952\n",
      "\n",
      "\n",
      "At randon state97, the training accuracy is: 0.5078962030087815\n",
      "At randon state97, the testing accuracy is: 0.5365772175764811\n",
      "\n",
      "\n",
      "At randon state98, the training accuracy is: 0.5083359057724259\n",
      "At randon state98, the testing accuracy is: 0.5308162319682427\n",
      "\n",
      "\n",
      "At randon state99, the training accuracy is: 0.5107522061674027\n",
      "At randon state99, the testing accuracy is: 0.5248279585595752\n",
      "\n",
      "\n"
     ]
    }
   ],
   "source": [
    "for i in range(0,100):\n",
    "    features_train,features_test,target_train,target_test = train_test_split(features,target,test_size=0.2,random_state=i)\n",
    "    lr.fit(features_train,target_train)\n",
    "    pred_train=lr.predict(features_train)\n",
    "    pred_test = lr.predict(features_test)\n",
    "    print(f\"At randon state{i}, the training accuracy is: {r2_score(target_train,pred_train)}\")\n",
    "    print(f\"At randon state{i}, the testing accuracy is: {r2_score(target_test,pred_test)}\")\n",
    "    print(\"\\n\")"
   ]
  },
  {
   "cell_type": "code",
   "execution_count": 167,
   "id": "193bea2d",
   "metadata": {},
   "outputs": [],
   "source": [
    "features_train,features_test,target_train,target_test = train_test_split(features,target,test_size=0.2,random_state=53)"
   ]
  },
  {
   "cell_type": "code",
   "execution_count": 168,
   "id": "06bebda3",
   "metadata": {},
   "outputs": [
    {
     "data": {
      "text/plain": [
       "LinearRegression()"
      ]
     },
     "execution_count": 168,
     "metadata": {},
     "output_type": "execute_result"
    }
   ],
   "source": [
    "lr.fit(features_train,target_train)"
   ]
  },
  {
   "cell_type": "code",
   "execution_count": 169,
   "id": "538683a9",
   "metadata": {},
   "outputs": [],
   "source": [
    "pred_test = lr.predict(features_test)"
   ]
  },
  {
   "cell_type": "code",
   "execution_count": 170,
   "id": "7c32bea9",
   "metadata": {},
   "outputs": [
    {
     "name": "stdout",
     "output_type": "stream",
     "text": [
      "0.4222072444013155\n"
     ]
    }
   ],
   "source": [
    "print(r2_score(target_test,pred_test))"
   ]
  },
  {
   "cell_type": "markdown",
   "id": "8f97ba2a",
   "metadata": {},
   "source": [
    "Cross Validation of model"
   ]
  },
  {
   "cell_type": "code",
   "execution_count": 171,
   "id": "88731422",
   "metadata": {},
   "outputs": [
    {
     "name": "stdout",
     "output_type": "stream",
     "text": [
      "At cross fold 2 the cv score is 0.509151969030969 and accuracy score for training is -0.5348134913936509 and accuracy for the testing is 0.4222072444013155\n",
      "\n",
      "\n",
      "At cross fold 3 the cv score is 0.4957733082809948 and accuracy score for training is -0.5348134913936509 and accuracy for the testing is 0.4222072444013155\n",
      "\n",
      "\n",
      "At cross fold 4 the cv score is 0.4208993024070198 and accuracy score for training is -0.5348134913936509 and accuracy for the testing is 0.4222072444013155\n",
      "\n",
      "\n",
      "At cross fold 5 the cv score is 0.4148020401486132 and accuracy score for training is -0.5348134913936509 and accuracy for the testing is 0.4222072444013155\n",
      "\n",
      "\n",
      "At cross fold 6 the cv score is 0.42660202422750665 and accuracy score for training is -0.5348134913936509 and accuracy for the testing is 0.4222072444013155\n",
      "\n",
      "\n",
      "At cross fold 7 the cv score is 0.4368800445969127 and accuracy score for training is -0.5348134913936509 and accuracy for the testing is 0.4222072444013155\n",
      "\n",
      "\n",
      "At cross fold 8 the cv score is 0.3982019996299325 and accuracy score for training is -0.5348134913936509 and accuracy for the testing is 0.4222072444013155\n",
      "\n",
      "\n",
      "At cross fold 9 the cv score is 0.42788693194014465 and accuracy score for training is -0.5348134913936509 and accuracy for the testing is 0.4222072444013155\n",
      "\n",
      "\n"
     ]
    }
   ],
   "source": [
    "Train_accuracy = r2_score(target_train,pred_train)\n",
    "Test_accuracy = r2_score(target_test,pred_test)\n",
    "\n",
    "from sklearn.model_selection import cross_val_score\n",
    "\n",
    "for j in range(2,10):\n",
    "    cv_score = cross_val_score(lr,features,target,cv=j)\n",
    "    cv_mean = cv_score.mean()\n",
    "    print(f\"At cross fold {j} the cv score is {cv_mean} and accuracy score for training is {Train_accuracy} and accuracy for the testing is {Test_accuracy}\")\n",
    "    print(\"\\n\")"
   ]
  },
  {
   "cell_type": "code",
   "execution_count": 172,
   "id": "d998d25d",
   "metadata": {},
   "outputs": [],
   "source": [
    "from sklearn.model_selection import GridSearchCV\n",
    "from sklearn.model_selection import cross_val_score\n",
    "import warnings\n",
    "warnings.filterwarnings('ignore')"
   ]
  },
  {
   "cell_type": "code",
   "execution_count": 173,
   "id": "a7f4d2a5",
   "metadata": {},
   "outputs": [
    {
     "name": "stdout",
     "output_type": "stream",
     "text": [
      "{'alpha': 0.0001, 'random_state': 0}\n"
     ]
    }
   ],
   "source": [
    "from sklearn.linear_model import Lasso\n",
    "\n",
    "parameters = {'alpha':[.0001,.001,.01,.1,1,10],\n",
    "             'random_state':list(range(0,10))}\n",
    "\n",
    "ls = Lasso()\n",
    "clf=GridSearchCV(ls,parameters)\n",
    "clf.fit(features_train,target_train)\n",
    "\n",
    "print(clf.best_params_)"
   ]
  },
  {
   "cell_type": "code",
   "execution_count": 175,
   "id": "5176a897",
   "metadata": {},
   "outputs": [
    {
     "data": {
      "text/plain": [
       "53.10433826535543"
      ]
     },
     "execution_count": 175,
     "metadata": {},
     "output_type": "execute_result"
    }
   ],
   "source": [
    "#final model training\n",
    "ls = Lasso(alpha=0.0001,random_state=0)\n",
    "ls.fit(features_train,target_train)\n",
    "ls_score_training=ls.score(features_train,target_train)\n",
    "pred_ls=ls.predict(features_test)\n",
    "ls_score_training*100"
   ]
  },
  {
   "cell_type": "code",
   "execution_count": 176,
   "id": "43345c1a",
   "metadata": {},
   "outputs": [],
   "source": [
    "pred_ls = ls.predict(features_test)"
   ]
  },
  {
   "cell_type": "code",
   "execution_count": 177,
   "id": "3aca98a8",
   "metadata": {},
   "outputs": [
    {
     "data": {
      "text/plain": [
       "42.1804377475419"
      ]
     },
     "execution_count": 177,
     "metadata": {},
     "output_type": "execute_result"
    }
   ],
   "source": [
    "lss = r2_score(target_test,pred_ls)\n",
    "lss*100"
   ]
  },
  {
   "cell_type": "code",
   "execution_count": 178,
   "id": "7c790050",
   "metadata": {},
   "outputs": [
    {
     "data": {
      "text/plain": [
       "41.47335989358336"
      ]
     },
     "execution_count": 178,
     "metadata": {},
     "output_type": "execute_result"
    }
   ],
   "source": [
    "cv_score = cross_val_score(ls,features,target,cv=5)\n",
    "cv_mean = cv_score.mean()\n",
    "cv_mean*100"
   ]
  },
  {
   "cell_type": "markdown",
   "id": "ec5fbc23",
   "metadata": {},
   "source": [
    "Ensemble Technique"
   ]
  },
  {
   "cell_type": "code",
   "execution_count": 180,
   "id": "eaf1d5dd",
   "metadata": {},
   "outputs": [
    {
     "name": "stdout",
     "output_type": "stream",
     "text": [
      "{'criterion': 'mae', 'max_features': 'log2'}\n"
     ]
    }
   ],
   "source": [
    "from sklearn.model_selection import GridSearchCV\n",
    "from sklearn.ensemble import RandomForestRegressor\n",
    "\n",
    "parameters = {'criterion':['mse','mae'],\n",
    "             'max_features':['auto','sqrt','log2']}\n",
    "\n",
    "rf =RandomForestRegressor()\n",
    "clf = GridSearchCV(rf,parameters)\n",
    "clf.fit(features_train,target_train)\n",
    "\n",
    "print(clf.best_params_)"
   ]
  },
  {
   "cell_type": "code",
   "execution_count": 183,
   "id": "a806b897",
   "metadata": {},
   "outputs": [
    {
     "name": "stdout",
     "output_type": "stream",
     "text": [
      "r2_score 46.06446694099312\n",
      "Cross Val Sacore 45.803958304442546\n"
     ]
    }
   ],
   "source": [
    "rf = RandomForestRegressor(criterion='mae',max_features='log2')\n",
    "rf.fit(features_train,target_train)\n",
    "rf.score(features_train,target_train)\n",
    "pred_decision = rf.predict(features_test)\n",
    "\n",
    "rfs = r2_score(target_test,pred_decision)\n",
    "print('r2_score', rfs*100)\n",
    "\n",
    "rfscore = cross_val_score(rf,features,target,cv=5)\n",
    "rfc = rfscore.mean()\n",
    "print('Cross Val Sacore', rfc*100)"
   ]
  },
  {
   "cell_type": "code",
   "execution_count": 184,
   "id": "a13218d2",
   "metadata": {},
   "outputs": [],
   "source": [
    "import pickle\n",
    "filename = 'age.pkl'\n",
    "pickle.dump(rf,open(filename,'wb'))"
   ]
  },
  {
   "cell_type": "markdown",
   "id": "98bad749",
   "metadata": {},
   "source": [
    "COnclusion"
   ]
  },
  {
   "cell_type": "code",
   "execution_count": 185,
   "id": "4e14804a",
   "metadata": {},
   "outputs": [
    {
     "name": "stdout",
     "output_type": "stream",
     "text": [
      "46.06446694099312\n"
     ]
    }
   ],
   "source": [
    "loaded_model = pickle.load(open('age.pkl','rb'))\n",
    "result = loaded_model.score(features_test,target_test)\n",
    "print(result*100)"
   ]
  },
  {
   "cell_type": "code",
   "execution_count": 186,
   "id": "829943cf",
   "metadata": {},
   "outputs": [
    {
     "data": {
      "text/html": [
       "<div>\n",
       "<style scoped>\n",
       "    .dataframe tbody tr th:only-of-type {\n",
       "        vertical-align: middle;\n",
       "    }\n",
       "\n",
       "    .dataframe tbody tr th {\n",
       "        vertical-align: top;\n",
       "    }\n",
       "\n",
       "    .dataframe thead th {\n",
       "        text-align: right;\n",
       "    }\n",
       "</style>\n",
       "<table border=\"1\" class=\"dataframe\">\n",
       "  <thead>\n",
       "    <tr style=\"text-align: right;\">\n",
       "      <th></th>\n",
       "      <th>0</th>\n",
       "      <th>1</th>\n",
       "      <th>2</th>\n",
       "      <th>3</th>\n",
       "      <th>4</th>\n",
       "      <th>5</th>\n",
       "      <th>6</th>\n",
       "      <th>7</th>\n",
       "      <th>8</th>\n",
       "      <th>9</th>\n",
       "      <th>...</th>\n",
       "      <th>796</th>\n",
       "      <th>797</th>\n",
       "      <th>798</th>\n",
       "      <th>799</th>\n",
       "      <th>800</th>\n",
       "      <th>801</th>\n",
       "      <th>802</th>\n",
       "      <th>803</th>\n",
       "      <th>804</th>\n",
       "      <th>805</th>\n",
       "    </tr>\n",
       "  </thead>\n",
       "  <tbody>\n",
       "    <tr>\n",
       "      <th>Predicted</th>\n",
       "      <td>8.61</td>\n",
       "      <td>13.57</td>\n",
       "      <td>10.47</td>\n",
       "      <td>14.23</td>\n",
       "      <td>8.7</td>\n",
       "      <td>10.84</td>\n",
       "      <td>13.85</td>\n",
       "      <td>14.5</td>\n",
       "      <td>14.05</td>\n",
       "      <td>7.83</td>\n",
       "      <td>...</td>\n",
       "      <td>11.61</td>\n",
       "      <td>14.93</td>\n",
       "      <td>10.63</td>\n",
       "      <td>12.11</td>\n",
       "      <td>9.69</td>\n",
       "      <td>10.67</td>\n",
       "      <td>11.72</td>\n",
       "      <td>11.24</td>\n",
       "      <td>10.74</td>\n",
       "      <td>10.28</td>\n",
       "    </tr>\n",
       "    <tr>\n",
       "      <th>Orginal</th>\n",
       "      <td>8.61</td>\n",
       "      <td>13.57</td>\n",
       "      <td>10.47</td>\n",
       "      <td>14.23</td>\n",
       "      <td>8.7</td>\n",
       "      <td>10.84</td>\n",
       "      <td>13.85</td>\n",
       "      <td>14.5</td>\n",
       "      <td>14.05</td>\n",
       "      <td>7.83</td>\n",
       "      <td>...</td>\n",
       "      <td>11.61</td>\n",
       "      <td>14.93</td>\n",
       "      <td>10.63</td>\n",
       "      <td>12.11</td>\n",
       "      <td>9.69</td>\n",
       "      <td>10.67</td>\n",
       "      <td>11.72</td>\n",
       "      <td>11.24</td>\n",
       "      <td>10.74</td>\n",
       "      <td>10.28</td>\n",
       "    </tr>\n",
       "  </tbody>\n",
       "</table>\n",
       "<p>2 rows × 806 columns</p>\n",
       "</div>"
      ],
      "text/plain": [
       "            0      1      2      3    4      5      6     7      8     9    \\\n",
       "Predicted  8.61  13.57  10.47  14.23  8.7  10.84  13.85  14.5  14.05  7.83   \n",
       "Orginal    8.61  13.57  10.47  14.23  8.7  10.84  13.85  14.5  14.05  7.83   \n",
       "\n",
       "           ...    796    797    798    799   800    801    802    803    804  \\\n",
       "Predicted  ...  11.61  14.93  10.63  12.11  9.69  10.67  11.72  11.24  10.74   \n",
       "Orginal    ...  11.61  14.93  10.63  12.11  9.69  10.67  11.72  11.24  10.74   \n",
       "\n",
       "             805  \n",
       "Predicted  10.28  \n",
       "Orginal    10.28  \n",
       "\n",
       "[2 rows x 806 columns]"
      ]
     },
     "execution_count": 186,
     "metadata": {},
     "output_type": "execute_result"
    }
   ],
   "source": [
    "conclusion = pd.DataFrame([loaded_model.predict(features_test)[:],pred_decision[:]],index=[\"Predicted\",\"Orginal\"])\n",
    "conclusion"
   ]
  },
  {
   "cell_type": "code",
   "execution_count": null,
   "id": "34707827",
   "metadata": {},
   "outputs": [],
   "source": []
  }
 ],
 "metadata": {
  "kernelspec": {
   "display_name": "Python 3 (ipykernel)",
   "language": "python",
   "name": "python3"
  },
  "language_info": {
   "codemirror_mode": {
    "name": "ipython",
    "version": 3
   },
   "file_extension": ".py",
   "mimetype": "text/x-python",
   "name": "python",
   "nbconvert_exporter": "python",
   "pygments_lexer": "ipython3",
   "version": "3.9.7"
  }
 },
 "nbformat": 4,
 "nbformat_minor": 5
}

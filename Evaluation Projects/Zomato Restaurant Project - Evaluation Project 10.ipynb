{
 "cells": [
  {
   "cell_type": "code",
   "execution_count": 158,
   "id": "3876b815",
   "metadata": {},
   "outputs": [],
   "source": [
    "import pandas as pd\n",
    "import numpy as np\n",
    "import seaborn as sns\n",
    "import matplotlib.pyplot as plt\n",
    "from sklearn.preprocessing import LabelEncoder\n",
    "le = LabelEncoder()\n",
    "from scipy.stats import zscore\n",
    "from sklearn.preprocessing import StandardScaler\n",
    "from statsmodels.stats.outliers_influence import variance_inflation_factor\n",
    "from sklearn.model_selection import train_test_split\n",
    "from sklearn.model_selection import GridSearchCV\n",
    "from sklearn.model_selection import cross_val_score\n",
    "import warnings\n",
    "warnings.filterwarnings('ignore')\n",
    "from sklearn.tree import DecisionTreeClassifier\n",
    "from sklearn.svm import SVC\n",
    "from sklearn.ensemble import RandomForestClassifier\n",
    "from sklearn.neighbors import KNeighborsClassifier\n",
    "from sklearn.linear_model import LogisticRegression\n",
    "LogisticRegression\n",
    "from sklearn.metrics import accuracy_score,confusion_matrix, classification_report\n",
    "from sklearn.neighbors import KNeighborsRegressor\n",
    "from sklearn.svm import SVR\n",
    "from sklearn.tree import DecisionTreeRegressor\n",
    "from sklearn.linear_model import LinearRegression\n",
    "from sklearn.ensemble import RandomForestRegressor\n",
    "from sklearn.metrics import r2_score"
   ]
  },
  {
   "cell_type": "code",
   "execution_count": 159,
   "id": "99269831",
   "metadata": {},
   "outputs": [
    {
     "data": {
      "text/html": [
       "<div>\n",
       "<style scoped>\n",
       "    .dataframe tbody tr th:only-of-type {\n",
       "        vertical-align: middle;\n",
       "    }\n",
       "\n",
       "    .dataframe tbody tr th {\n",
       "        vertical-align: top;\n",
       "    }\n",
       "\n",
       "    .dataframe thead th {\n",
       "        text-align: right;\n",
       "    }\n",
       "</style>\n",
       "<table border=\"1\" class=\"dataframe\">\n",
       "  <thead>\n",
       "    <tr style=\"text-align: right;\">\n",
       "      <th></th>\n",
       "      <th>Restaurant ID</th>\n",
       "      <th>Restaurant Name</th>\n",
       "      <th>Country Code</th>\n",
       "      <th>City</th>\n",
       "      <th>Address</th>\n",
       "      <th>Locality</th>\n",
       "      <th>Locality Verbose</th>\n",
       "      <th>Longitude</th>\n",
       "      <th>Latitude</th>\n",
       "      <th>Cuisines</th>\n",
       "      <th>...</th>\n",
       "      <th>Currency</th>\n",
       "      <th>Has Table booking</th>\n",
       "      <th>Has Online delivery</th>\n",
       "      <th>Is delivering now</th>\n",
       "      <th>Switch to order menu</th>\n",
       "      <th>Price range</th>\n",
       "      <th>Aggregate rating</th>\n",
       "      <th>Rating color</th>\n",
       "      <th>Rating text</th>\n",
       "      <th>Votes</th>\n",
       "    </tr>\n",
       "  </thead>\n",
       "  <tbody>\n",
       "    <tr>\n",
       "      <th>0</th>\n",
       "      <td>6317637</td>\n",
       "      <td>Le Petit Souffle</td>\n",
       "      <td>162</td>\n",
       "      <td>Makati City</td>\n",
       "      <td>Third Floor, Century City Mall, Kalayaan Avenu...</td>\n",
       "      <td>Century City Mall, Poblacion, Makati City</td>\n",
       "      <td>Century City Mall, Poblacion, Makati City, Mak...</td>\n",
       "      <td>121.027535</td>\n",
       "      <td>14.565443</td>\n",
       "      <td>French, Japanese, Desserts</td>\n",
       "      <td>...</td>\n",
       "      <td>Botswana Pula(P)</td>\n",
       "      <td>Yes</td>\n",
       "      <td>No</td>\n",
       "      <td>No</td>\n",
       "      <td>No</td>\n",
       "      <td>3</td>\n",
       "      <td>4.8</td>\n",
       "      <td>Dark Green</td>\n",
       "      <td>Excellent</td>\n",
       "      <td>314</td>\n",
       "    </tr>\n",
       "    <tr>\n",
       "      <th>1</th>\n",
       "      <td>6304287</td>\n",
       "      <td>Izakaya Kikufuji</td>\n",
       "      <td>162</td>\n",
       "      <td>Makati City</td>\n",
       "      <td>Little Tokyo, 2277 Chino Roces Avenue, Legaspi...</td>\n",
       "      <td>Little Tokyo, Legaspi Village, Makati City</td>\n",
       "      <td>Little Tokyo, Legaspi Village, Makati City, Ma...</td>\n",
       "      <td>121.014101</td>\n",
       "      <td>14.553708</td>\n",
       "      <td>Japanese</td>\n",
       "      <td>...</td>\n",
       "      <td>Botswana Pula(P)</td>\n",
       "      <td>Yes</td>\n",
       "      <td>No</td>\n",
       "      <td>No</td>\n",
       "      <td>No</td>\n",
       "      <td>3</td>\n",
       "      <td>4.5</td>\n",
       "      <td>Dark Green</td>\n",
       "      <td>Excellent</td>\n",
       "      <td>591</td>\n",
       "    </tr>\n",
       "    <tr>\n",
       "      <th>2</th>\n",
       "      <td>6300002</td>\n",
       "      <td>Heat - Edsa Shangri-La</td>\n",
       "      <td>162</td>\n",
       "      <td>Mandaluyong City</td>\n",
       "      <td>Edsa Shangri-La, 1 Garden Way, Ortigas, Mandal...</td>\n",
       "      <td>Edsa Shangri-La, Ortigas, Mandaluyong City</td>\n",
       "      <td>Edsa Shangri-La, Ortigas, Mandaluyong City, Ma...</td>\n",
       "      <td>121.056831</td>\n",
       "      <td>14.581404</td>\n",
       "      <td>Seafood, Asian, Filipino, Indian</td>\n",
       "      <td>...</td>\n",
       "      <td>Botswana Pula(P)</td>\n",
       "      <td>Yes</td>\n",
       "      <td>No</td>\n",
       "      <td>No</td>\n",
       "      <td>No</td>\n",
       "      <td>4</td>\n",
       "      <td>4.4</td>\n",
       "      <td>Green</td>\n",
       "      <td>Very Good</td>\n",
       "      <td>270</td>\n",
       "    </tr>\n",
       "    <tr>\n",
       "      <th>3</th>\n",
       "      <td>6318506</td>\n",
       "      <td>Ooma</td>\n",
       "      <td>162</td>\n",
       "      <td>Mandaluyong City</td>\n",
       "      <td>Third Floor, Mega Fashion Hall, SM Megamall, O...</td>\n",
       "      <td>SM Megamall, Ortigas, Mandaluyong City</td>\n",
       "      <td>SM Megamall, Ortigas, Mandaluyong City, Mandal...</td>\n",
       "      <td>121.056475</td>\n",
       "      <td>14.585318</td>\n",
       "      <td>Japanese, Sushi</td>\n",
       "      <td>...</td>\n",
       "      <td>Botswana Pula(P)</td>\n",
       "      <td>No</td>\n",
       "      <td>No</td>\n",
       "      <td>No</td>\n",
       "      <td>No</td>\n",
       "      <td>4</td>\n",
       "      <td>4.9</td>\n",
       "      <td>Dark Green</td>\n",
       "      <td>Excellent</td>\n",
       "      <td>365</td>\n",
       "    </tr>\n",
       "    <tr>\n",
       "      <th>4</th>\n",
       "      <td>6314302</td>\n",
       "      <td>Sambo Kojin</td>\n",
       "      <td>162</td>\n",
       "      <td>Mandaluyong City</td>\n",
       "      <td>Third Floor, Mega Atrium, SM Megamall, Ortigas...</td>\n",
       "      <td>SM Megamall, Ortigas, Mandaluyong City</td>\n",
       "      <td>SM Megamall, Ortigas, Mandaluyong City, Mandal...</td>\n",
       "      <td>121.057508</td>\n",
       "      <td>14.584450</td>\n",
       "      <td>Japanese, Korean</td>\n",
       "      <td>...</td>\n",
       "      <td>Botswana Pula(P)</td>\n",
       "      <td>Yes</td>\n",
       "      <td>No</td>\n",
       "      <td>No</td>\n",
       "      <td>No</td>\n",
       "      <td>4</td>\n",
       "      <td>4.8</td>\n",
       "      <td>Dark Green</td>\n",
       "      <td>Excellent</td>\n",
       "      <td>229</td>\n",
       "    </tr>\n",
       "    <tr>\n",
       "      <th>...</th>\n",
       "      <td>...</td>\n",
       "      <td>...</td>\n",
       "      <td>...</td>\n",
       "      <td>...</td>\n",
       "      <td>...</td>\n",
       "      <td>...</td>\n",
       "      <td>...</td>\n",
       "      <td>...</td>\n",
       "      <td>...</td>\n",
       "      <td>...</td>\n",
       "      <td>...</td>\n",
       "      <td>...</td>\n",
       "      <td>...</td>\n",
       "      <td>...</td>\n",
       "      <td>...</td>\n",
       "      <td>...</td>\n",
       "      <td>...</td>\n",
       "      <td>...</td>\n",
       "      <td>...</td>\n",
       "      <td>...</td>\n",
       "      <td>...</td>\n",
       "    </tr>\n",
       "    <tr>\n",
       "      <th>9546</th>\n",
       "      <td>5915730</td>\n",
       "      <td>NamlÛ± Gurme</td>\n",
       "      <td>208</td>\n",
       "      <td>ÛÁstanbul</td>\n",
       "      <td>Kemankeô Karamustafa Paôa Mahallesi, RÛ±htÛ±...</td>\n",
       "      <td>Karakí_y</td>\n",
       "      <td>Karakí_y, ÛÁstanbul</td>\n",
       "      <td>28.977392</td>\n",
       "      <td>41.022793</td>\n",
       "      <td>Turkish</td>\n",
       "      <td>...</td>\n",
       "      <td>Turkish Lira(TL)</td>\n",
       "      <td>No</td>\n",
       "      <td>No</td>\n",
       "      <td>No</td>\n",
       "      <td>No</td>\n",
       "      <td>3</td>\n",
       "      <td>4.1</td>\n",
       "      <td>Green</td>\n",
       "      <td>Very Good</td>\n",
       "      <td>788</td>\n",
       "    </tr>\n",
       "    <tr>\n",
       "      <th>9547</th>\n",
       "      <td>5908749</td>\n",
       "      <td>Ceviz AÛôacÛ±</td>\n",
       "      <td>208</td>\n",
       "      <td>ÛÁstanbul</td>\n",
       "      <td>Koôuyolu Mahallesi, Muhittin íìstí_ndaÛô Cadd...</td>\n",
       "      <td>Koôuyolu</td>\n",
       "      <td>Koôuyolu, ÛÁstanbul</td>\n",
       "      <td>29.041297</td>\n",
       "      <td>41.009847</td>\n",
       "      <td>World Cuisine, Patisserie, Cafe</td>\n",
       "      <td>...</td>\n",
       "      <td>Turkish Lira(TL)</td>\n",
       "      <td>No</td>\n",
       "      <td>No</td>\n",
       "      <td>No</td>\n",
       "      <td>No</td>\n",
       "      <td>3</td>\n",
       "      <td>4.2</td>\n",
       "      <td>Green</td>\n",
       "      <td>Very Good</td>\n",
       "      <td>1034</td>\n",
       "    </tr>\n",
       "    <tr>\n",
       "      <th>9548</th>\n",
       "      <td>5915807</td>\n",
       "      <td>Huqqa</td>\n",
       "      <td>208</td>\n",
       "      <td>ÛÁstanbul</td>\n",
       "      <td>Kuruí_eôme Mahallesi, Muallim Naci Caddesi, N...</td>\n",
       "      <td>Kuruí_eôme</td>\n",
       "      <td>Kuruí_eôme, ÛÁstanbul</td>\n",
       "      <td>29.034640</td>\n",
       "      <td>41.055817</td>\n",
       "      <td>Italian, World Cuisine</td>\n",
       "      <td>...</td>\n",
       "      <td>Turkish Lira(TL)</td>\n",
       "      <td>No</td>\n",
       "      <td>No</td>\n",
       "      <td>No</td>\n",
       "      <td>No</td>\n",
       "      <td>4</td>\n",
       "      <td>3.7</td>\n",
       "      <td>Yellow</td>\n",
       "      <td>Good</td>\n",
       "      <td>661</td>\n",
       "    </tr>\n",
       "    <tr>\n",
       "      <th>9549</th>\n",
       "      <td>5916112</td>\n",
       "      <td>Aôôk Kahve</td>\n",
       "      <td>208</td>\n",
       "      <td>ÛÁstanbul</td>\n",
       "      <td>Kuruí_eôme Mahallesi, Muallim Naci Caddesi, N...</td>\n",
       "      <td>Kuruí_eôme</td>\n",
       "      <td>Kuruí_eôme, ÛÁstanbul</td>\n",
       "      <td>29.036019</td>\n",
       "      <td>41.057979</td>\n",
       "      <td>Restaurant Cafe</td>\n",
       "      <td>...</td>\n",
       "      <td>Turkish Lira(TL)</td>\n",
       "      <td>No</td>\n",
       "      <td>No</td>\n",
       "      <td>No</td>\n",
       "      <td>No</td>\n",
       "      <td>4</td>\n",
       "      <td>4.0</td>\n",
       "      <td>Green</td>\n",
       "      <td>Very Good</td>\n",
       "      <td>901</td>\n",
       "    </tr>\n",
       "    <tr>\n",
       "      <th>9550</th>\n",
       "      <td>5927402</td>\n",
       "      <td>Walter's Coffee Roastery</td>\n",
       "      <td>208</td>\n",
       "      <td>ÛÁstanbul</td>\n",
       "      <td>CafeaÛôa Mahallesi, BademaltÛ± Sokak, No 21/B,...</td>\n",
       "      <td>Moda</td>\n",
       "      <td>Moda, ÛÁstanbul</td>\n",
       "      <td>29.026016</td>\n",
       "      <td>40.984776</td>\n",
       "      <td>Cafe</td>\n",
       "      <td>...</td>\n",
       "      <td>Turkish Lira(TL)</td>\n",
       "      <td>No</td>\n",
       "      <td>No</td>\n",
       "      <td>No</td>\n",
       "      <td>No</td>\n",
       "      <td>2</td>\n",
       "      <td>4.0</td>\n",
       "      <td>Green</td>\n",
       "      <td>Very Good</td>\n",
       "      <td>591</td>\n",
       "    </tr>\n",
       "  </tbody>\n",
       "</table>\n",
       "<p>9551 rows × 21 columns</p>\n",
       "</div>"
      ],
      "text/plain": [
       "      Restaurant ID           Restaurant Name  Country Code              City  \\\n",
       "0           6317637          Le Petit Souffle           162       Makati City   \n",
       "1           6304287          Izakaya Kikufuji           162       Makati City   \n",
       "2           6300002    Heat - Edsa Shangri-La           162  Mandaluyong City   \n",
       "3           6318506                      Ooma           162  Mandaluyong City   \n",
       "4           6314302               Sambo Kojin           162  Mandaluyong City   \n",
       "...             ...                       ...           ...               ...   \n",
       "9546        5915730              NamlÛ± Gurme           208         ÛÁstanbul   \n",
       "9547        5908749             Ceviz AÛôacÛ±           208         ÛÁstanbul   \n",
       "9548        5915807                     Huqqa           208         ÛÁstanbul   \n",
       "9549        5916112              Aôôk Kahve           208         ÛÁstanbul   \n",
       "9550        5927402  Walter's Coffee Roastery           208         ÛÁstanbul   \n",
       "\n",
       "                                                Address  \\\n",
       "0     Third Floor, Century City Mall, Kalayaan Avenu...   \n",
       "1     Little Tokyo, 2277 Chino Roces Avenue, Legaspi...   \n",
       "2     Edsa Shangri-La, 1 Garden Way, Ortigas, Mandal...   \n",
       "3     Third Floor, Mega Fashion Hall, SM Megamall, O...   \n",
       "4     Third Floor, Mega Atrium, SM Megamall, Ortigas...   \n",
       "...                                                 ...   \n",
       "9546  Kemankeô Karamustafa Paôa Mahallesi, RÛ±htÛ±...   \n",
       "9547  Koôuyolu Mahallesi, Muhittin íìstí_ndaÛô Cadd...   \n",
       "9548  Kuruí_eôme Mahallesi, Muallim Naci Caddesi, N...   \n",
       "9549  Kuruí_eôme Mahallesi, Muallim Naci Caddesi, N...   \n",
       "9550  CafeaÛôa Mahallesi, BademaltÛ± Sokak, No 21/B,...   \n",
       "\n",
       "                                        Locality  \\\n",
       "0      Century City Mall, Poblacion, Makati City   \n",
       "1     Little Tokyo, Legaspi Village, Makati City   \n",
       "2     Edsa Shangri-La, Ortigas, Mandaluyong City   \n",
       "3         SM Megamall, Ortigas, Mandaluyong City   \n",
       "4         SM Megamall, Ortigas, Mandaluyong City   \n",
       "...                                          ...   \n",
       "9546                                    Karakí_y   \n",
       "9547                                   Koôuyolu   \n",
       "9548                                 Kuruí_eôme   \n",
       "9549                                 Kuruí_eôme   \n",
       "9550                                        Moda   \n",
       "\n",
       "                                       Locality Verbose   Longitude  \\\n",
       "0     Century City Mall, Poblacion, Makati City, Mak...  121.027535   \n",
       "1     Little Tokyo, Legaspi Village, Makati City, Ma...  121.014101   \n",
       "2     Edsa Shangri-La, Ortigas, Mandaluyong City, Ma...  121.056831   \n",
       "3     SM Megamall, Ortigas, Mandaluyong City, Mandal...  121.056475   \n",
       "4     SM Megamall, Ortigas, Mandaluyong City, Mandal...  121.057508   \n",
       "...                                                 ...         ...   \n",
       "9546                                Karakí_y, ÛÁstanbul   28.977392   \n",
       "9547                               Koôuyolu, ÛÁstanbul   29.041297   \n",
       "9548                             Kuruí_eôme, ÛÁstanbul   29.034640   \n",
       "9549                             Kuruí_eôme, ÛÁstanbul   29.036019   \n",
       "9550                                    Moda, ÛÁstanbul   29.026016   \n",
       "\n",
       "       Latitude                          Cuisines  ...          Currency  \\\n",
       "0     14.565443        French, Japanese, Desserts  ...  Botswana Pula(P)   \n",
       "1     14.553708                          Japanese  ...  Botswana Pula(P)   \n",
       "2     14.581404  Seafood, Asian, Filipino, Indian  ...  Botswana Pula(P)   \n",
       "3     14.585318                   Japanese, Sushi  ...  Botswana Pula(P)   \n",
       "4     14.584450                  Japanese, Korean  ...  Botswana Pula(P)   \n",
       "...         ...                               ...  ...               ...   \n",
       "9546  41.022793                           Turkish  ...  Turkish Lira(TL)   \n",
       "9547  41.009847   World Cuisine, Patisserie, Cafe  ...  Turkish Lira(TL)   \n",
       "9548  41.055817            Italian, World Cuisine  ...  Turkish Lira(TL)   \n",
       "9549  41.057979                   Restaurant Cafe  ...  Turkish Lira(TL)   \n",
       "9550  40.984776                              Cafe  ...  Turkish Lira(TL)   \n",
       "\n",
       "     Has Table booking Has Online delivery Is delivering now  \\\n",
       "0                  Yes                  No                No   \n",
       "1                  Yes                  No                No   \n",
       "2                  Yes                  No                No   \n",
       "3                   No                  No                No   \n",
       "4                  Yes                  No                No   \n",
       "...                ...                 ...               ...   \n",
       "9546                No                  No                No   \n",
       "9547                No                  No                No   \n",
       "9548                No                  No                No   \n",
       "9549                No                  No                No   \n",
       "9550                No                  No                No   \n",
       "\n",
       "     Switch to order menu Price range  Aggregate rating  Rating color  \\\n",
       "0                      No           3               4.8    Dark Green   \n",
       "1                      No           3               4.5    Dark Green   \n",
       "2                      No           4               4.4         Green   \n",
       "3                      No           4               4.9    Dark Green   \n",
       "4                      No           4               4.8    Dark Green   \n",
       "...                   ...         ...               ...           ...   \n",
       "9546                   No           3               4.1         Green   \n",
       "9547                   No           3               4.2         Green   \n",
       "9548                   No           4               3.7        Yellow   \n",
       "9549                   No           4               4.0         Green   \n",
       "9550                   No           2               4.0         Green   \n",
       "\n",
       "     Rating text Votes  \n",
       "0      Excellent   314  \n",
       "1      Excellent   591  \n",
       "2      Very Good   270  \n",
       "3      Excellent   365  \n",
       "4      Excellent   229  \n",
       "...          ...   ...  \n",
       "9546   Very Good   788  \n",
       "9547   Very Good  1034  \n",
       "9548        Good   661  \n",
       "9549   Very Good   901  \n",
       "9550   Very Good   591  \n",
       "\n",
       "[9551 rows x 21 columns]"
      ]
     },
     "execution_count": 159,
     "metadata": {},
     "output_type": "execute_result"
    }
   ],
   "source": [
    "df1 = pd.read_csv(r'zomato.csv',encoding='ISO-8859-1')\n",
    "df1"
   ]
  },
  {
   "cell_type": "code",
   "execution_count": 160,
   "id": "952f5fac",
   "metadata": {},
   "outputs": [
    {
     "data": {
      "text/html": [
       "<div>\n",
       "<style scoped>\n",
       "    .dataframe tbody tr th:only-of-type {\n",
       "        vertical-align: middle;\n",
       "    }\n",
       "\n",
       "    .dataframe tbody tr th {\n",
       "        vertical-align: top;\n",
       "    }\n",
       "\n",
       "    .dataframe thead th {\n",
       "        text-align: right;\n",
       "    }\n",
       "</style>\n",
       "<table border=\"1\" class=\"dataframe\">\n",
       "  <thead>\n",
       "    <tr style=\"text-align: right;\">\n",
       "      <th></th>\n",
       "      <th>Country Code</th>\n",
       "      <th>Country</th>\n",
       "    </tr>\n",
       "  </thead>\n",
       "  <tbody>\n",
       "    <tr>\n",
       "      <th>0</th>\n",
       "      <td>1</td>\n",
       "      <td>India</td>\n",
       "    </tr>\n",
       "    <tr>\n",
       "      <th>1</th>\n",
       "      <td>14</td>\n",
       "      <td>Australia</td>\n",
       "    </tr>\n",
       "    <tr>\n",
       "      <th>2</th>\n",
       "      <td>30</td>\n",
       "      <td>Brazil</td>\n",
       "    </tr>\n",
       "    <tr>\n",
       "      <th>3</th>\n",
       "      <td>37</td>\n",
       "      <td>Canada</td>\n",
       "    </tr>\n",
       "    <tr>\n",
       "      <th>4</th>\n",
       "      <td>94</td>\n",
       "      <td>Indonesia</td>\n",
       "    </tr>\n",
       "    <tr>\n",
       "      <th>5</th>\n",
       "      <td>148</td>\n",
       "      <td>New Zealand</td>\n",
       "    </tr>\n",
       "    <tr>\n",
       "      <th>6</th>\n",
       "      <td>162</td>\n",
       "      <td>Phillipines</td>\n",
       "    </tr>\n",
       "    <tr>\n",
       "      <th>7</th>\n",
       "      <td>166</td>\n",
       "      <td>Qatar</td>\n",
       "    </tr>\n",
       "    <tr>\n",
       "      <th>8</th>\n",
       "      <td>184</td>\n",
       "      <td>Singapore</td>\n",
       "    </tr>\n",
       "    <tr>\n",
       "      <th>9</th>\n",
       "      <td>189</td>\n",
       "      <td>South Africa</td>\n",
       "    </tr>\n",
       "    <tr>\n",
       "      <th>10</th>\n",
       "      <td>191</td>\n",
       "      <td>Sri Lanka</td>\n",
       "    </tr>\n",
       "    <tr>\n",
       "      <th>11</th>\n",
       "      <td>208</td>\n",
       "      <td>Turkey</td>\n",
       "    </tr>\n",
       "    <tr>\n",
       "      <th>12</th>\n",
       "      <td>214</td>\n",
       "      <td>UAE</td>\n",
       "    </tr>\n",
       "    <tr>\n",
       "      <th>13</th>\n",
       "      <td>215</td>\n",
       "      <td>United Kingdom</td>\n",
       "    </tr>\n",
       "    <tr>\n",
       "      <th>14</th>\n",
       "      <td>216</td>\n",
       "      <td>United States</td>\n",
       "    </tr>\n",
       "  </tbody>\n",
       "</table>\n",
       "</div>"
      ],
      "text/plain": [
       "    Country Code         Country\n",
       "0              1           India\n",
       "1             14       Australia\n",
       "2             30          Brazil\n",
       "3             37          Canada\n",
       "4             94       Indonesia\n",
       "5            148     New Zealand\n",
       "6            162     Phillipines\n",
       "7            166           Qatar\n",
       "8            184       Singapore\n",
       "9            189    South Africa\n",
       "10           191       Sri Lanka\n",
       "11           208          Turkey\n",
       "12           214             UAE\n",
       "13           215  United Kingdom\n",
       "14           216   United States"
      ]
     },
     "execution_count": 160,
     "metadata": {},
     "output_type": "execute_result"
    }
   ],
   "source": [
    "df2 = pd.read_excel(r'Country-Code.xlsx')\n",
    "df2"
   ]
  },
  {
   "cell_type": "code",
   "execution_count": 161,
   "id": "c4b73493",
   "metadata": {},
   "outputs": [
    {
     "data": {
      "text/html": [
       "<div>\n",
       "<style scoped>\n",
       "    .dataframe tbody tr th:only-of-type {\n",
       "        vertical-align: middle;\n",
       "    }\n",
       "\n",
       "    .dataframe tbody tr th {\n",
       "        vertical-align: top;\n",
       "    }\n",
       "\n",
       "    .dataframe thead th {\n",
       "        text-align: right;\n",
       "    }\n",
       "</style>\n",
       "<table border=\"1\" class=\"dataframe\">\n",
       "  <thead>\n",
       "    <tr style=\"text-align: right;\">\n",
       "      <th></th>\n",
       "      <th>Restaurant ID</th>\n",
       "      <th>Restaurant Name</th>\n",
       "      <th>Country Code</th>\n",
       "      <th>City</th>\n",
       "      <th>Address</th>\n",
       "      <th>Locality</th>\n",
       "      <th>Locality Verbose</th>\n",
       "      <th>Longitude</th>\n",
       "      <th>Latitude</th>\n",
       "      <th>Cuisines</th>\n",
       "      <th>...</th>\n",
       "      <th>Has Table booking</th>\n",
       "      <th>Has Online delivery</th>\n",
       "      <th>Is delivering now</th>\n",
       "      <th>Switch to order menu</th>\n",
       "      <th>Price range</th>\n",
       "      <th>Aggregate rating</th>\n",
       "      <th>Rating color</th>\n",
       "      <th>Rating text</th>\n",
       "      <th>Votes</th>\n",
       "      <th>Country</th>\n",
       "    </tr>\n",
       "  </thead>\n",
       "  <tbody>\n",
       "    <tr>\n",
       "      <th>0</th>\n",
       "      <td>6317637</td>\n",
       "      <td>Le Petit Souffle</td>\n",
       "      <td>162</td>\n",
       "      <td>Makati City</td>\n",
       "      <td>Third Floor, Century City Mall, Kalayaan Avenu...</td>\n",
       "      <td>Century City Mall, Poblacion, Makati City</td>\n",
       "      <td>Century City Mall, Poblacion, Makati City, Mak...</td>\n",
       "      <td>121.027535</td>\n",
       "      <td>14.565443</td>\n",
       "      <td>French, Japanese, Desserts</td>\n",
       "      <td>...</td>\n",
       "      <td>Yes</td>\n",
       "      <td>No</td>\n",
       "      <td>No</td>\n",
       "      <td>No</td>\n",
       "      <td>3</td>\n",
       "      <td>4.8</td>\n",
       "      <td>Dark Green</td>\n",
       "      <td>Excellent</td>\n",
       "      <td>314</td>\n",
       "      <td>Phillipines</td>\n",
       "    </tr>\n",
       "    <tr>\n",
       "      <th>1</th>\n",
       "      <td>6304287</td>\n",
       "      <td>Izakaya Kikufuji</td>\n",
       "      <td>162</td>\n",
       "      <td>Makati City</td>\n",
       "      <td>Little Tokyo, 2277 Chino Roces Avenue, Legaspi...</td>\n",
       "      <td>Little Tokyo, Legaspi Village, Makati City</td>\n",
       "      <td>Little Tokyo, Legaspi Village, Makati City, Ma...</td>\n",
       "      <td>121.014101</td>\n",
       "      <td>14.553708</td>\n",
       "      <td>Japanese</td>\n",
       "      <td>...</td>\n",
       "      <td>Yes</td>\n",
       "      <td>No</td>\n",
       "      <td>No</td>\n",
       "      <td>No</td>\n",
       "      <td>3</td>\n",
       "      <td>4.5</td>\n",
       "      <td>Dark Green</td>\n",
       "      <td>Excellent</td>\n",
       "      <td>591</td>\n",
       "      <td>Phillipines</td>\n",
       "    </tr>\n",
       "    <tr>\n",
       "      <th>2</th>\n",
       "      <td>6300002</td>\n",
       "      <td>Heat - Edsa Shangri-La</td>\n",
       "      <td>162</td>\n",
       "      <td>Mandaluyong City</td>\n",
       "      <td>Edsa Shangri-La, 1 Garden Way, Ortigas, Mandal...</td>\n",
       "      <td>Edsa Shangri-La, Ortigas, Mandaluyong City</td>\n",
       "      <td>Edsa Shangri-La, Ortigas, Mandaluyong City, Ma...</td>\n",
       "      <td>121.056831</td>\n",
       "      <td>14.581404</td>\n",
       "      <td>Seafood, Asian, Filipino, Indian</td>\n",
       "      <td>...</td>\n",
       "      <td>Yes</td>\n",
       "      <td>No</td>\n",
       "      <td>No</td>\n",
       "      <td>No</td>\n",
       "      <td>4</td>\n",
       "      <td>4.4</td>\n",
       "      <td>Green</td>\n",
       "      <td>Very Good</td>\n",
       "      <td>270</td>\n",
       "      <td>Phillipines</td>\n",
       "    </tr>\n",
       "    <tr>\n",
       "      <th>3</th>\n",
       "      <td>6318506</td>\n",
       "      <td>Ooma</td>\n",
       "      <td>162</td>\n",
       "      <td>Mandaluyong City</td>\n",
       "      <td>Third Floor, Mega Fashion Hall, SM Megamall, O...</td>\n",
       "      <td>SM Megamall, Ortigas, Mandaluyong City</td>\n",
       "      <td>SM Megamall, Ortigas, Mandaluyong City, Mandal...</td>\n",
       "      <td>121.056475</td>\n",
       "      <td>14.585318</td>\n",
       "      <td>Japanese, Sushi</td>\n",
       "      <td>...</td>\n",
       "      <td>No</td>\n",
       "      <td>No</td>\n",
       "      <td>No</td>\n",
       "      <td>No</td>\n",
       "      <td>4</td>\n",
       "      <td>4.9</td>\n",
       "      <td>Dark Green</td>\n",
       "      <td>Excellent</td>\n",
       "      <td>365</td>\n",
       "      <td>Phillipines</td>\n",
       "    </tr>\n",
       "    <tr>\n",
       "      <th>4</th>\n",
       "      <td>6314302</td>\n",
       "      <td>Sambo Kojin</td>\n",
       "      <td>162</td>\n",
       "      <td>Mandaluyong City</td>\n",
       "      <td>Third Floor, Mega Atrium, SM Megamall, Ortigas...</td>\n",
       "      <td>SM Megamall, Ortigas, Mandaluyong City</td>\n",
       "      <td>SM Megamall, Ortigas, Mandaluyong City, Mandal...</td>\n",
       "      <td>121.057508</td>\n",
       "      <td>14.584450</td>\n",
       "      <td>Japanese, Korean</td>\n",
       "      <td>...</td>\n",
       "      <td>Yes</td>\n",
       "      <td>No</td>\n",
       "      <td>No</td>\n",
       "      <td>No</td>\n",
       "      <td>4</td>\n",
       "      <td>4.8</td>\n",
       "      <td>Dark Green</td>\n",
       "      <td>Excellent</td>\n",
       "      <td>229</td>\n",
       "      <td>Phillipines</td>\n",
       "    </tr>\n",
       "    <tr>\n",
       "      <th>...</th>\n",
       "      <td>...</td>\n",
       "      <td>...</td>\n",
       "      <td>...</td>\n",
       "      <td>...</td>\n",
       "      <td>...</td>\n",
       "      <td>...</td>\n",
       "      <td>...</td>\n",
       "      <td>...</td>\n",
       "      <td>...</td>\n",
       "      <td>...</td>\n",
       "      <td>...</td>\n",
       "      <td>...</td>\n",
       "      <td>...</td>\n",
       "      <td>...</td>\n",
       "      <td>...</td>\n",
       "      <td>...</td>\n",
       "      <td>...</td>\n",
       "      <td>...</td>\n",
       "      <td>...</td>\n",
       "      <td>...</td>\n",
       "      <td>...</td>\n",
       "    </tr>\n",
       "    <tr>\n",
       "      <th>9546</th>\n",
       "      <td>5915730</td>\n",
       "      <td>NamlÛ± Gurme</td>\n",
       "      <td>208</td>\n",
       "      <td>ÛÁstanbul</td>\n",
       "      <td>Kemankeô Karamustafa Paôa Mahallesi, RÛ±htÛ±...</td>\n",
       "      <td>Karakí_y</td>\n",
       "      <td>Karakí_y, ÛÁstanbul</td>\n",
       "      <td>28.977392</td>\n",
       "      <td>41.022793</td>\n",
       "      <td>Turkish</td>\n",
       "      <td>...</td>\n",
       "      <td>No</td>\n",
       "      <td>No</td>\n",
       "      <td>No</td>\n",
       "      <td>No</td>\n",
       "      <td>3</td>\n",
       "      <td>4.1</td>\n",
       "      <td>Green</td>\n",
       "      <td>Very Good</td>\n",
       "      <td>788</td>\n",
       "      <td>Turkey</td>\n",
       "    </tr>\n",
       "    <tr>\n",
       "      <th>9547</th>\n",
       "      <td>5908749</td>\n",
       "      <td>Ceviz AÛôacÛ±</td>\n",
       "      <td>208</td>\n",
       "      <td>ÛÁstanbul</td>\n",
       "      <td>Koôuyolu Mahallesi, Muhittin íìstí_ndaÛô Cadd...</td>\n",
       "      <td>Koôuyolu</td>\n",
       "      <td>Koôuyolu, ÛÁstanbul</td>\n",
       "      <td>29.041297</td>\n",
       "      <td>41.009847</td>\n",
       "      <td>World Cuisine, Patisserie, Cafe</td>\n",
       "      <td>...</td>\n",
       "      <td>No</td>\n",
       "      <td>No</td>\n",
       "      <td>No</td>\n",
       "      <td>No</td>\n",
       "      <td>3</td>\n",
       "      <td>4.2</td>\n",
       "      <td>Green</td>\n",
       "      <td>Very Good</td>\n",
       "      <td>1034</td>\n",
       "      <td>Turkey</td>\n",
       "    </tr>\n",
       "    <tr>\n",
       "      <th>9548</th>\n",
       "      <td>5915807</td>\n",
       "      <td>Huqqa</td>\n",
       "      <td>208</td>\n",
       "      <td>ÛÁstanbul</td>\n",
       "      <td>Kuruí_eôme Mahallesi, Muallim Naci Caddesi, N...</td>\n",
       "      <td>Kuruí_eôme</td>\n",
       "      <td>Kuruí_eôme, ÛÁstanbul</td>\n",
       "      <td>29.034640</td>\n",
       "      <td>41.055817</td>\n",
       "      <td>Italian, World Cuisine</td>\n",
       "      <td>...</td>\n",
       "      <td>No</td>\n",
       "      <td>No</td>\n",
       "      <td>No</td>\n",
       "      <td>No</td>\n",
       "      <td>4</td>\n",
       "      <td>3.7</td>\n",
       "      <td>Yellow</td>\n",
       "      <td>Good</td>\n",
       "      <td>661</td>\n",
       "      <td>Turkey</td>\n",
       "    </tr>\n",
       "    <tr>\n",
       "      <th>9549</th>\n",
       "      <td>5916112</td>\n",
       "      <td>Aôôk Kahve</td>\n",
       "      <td>208</td>\n",
       "      <td>ÛÁstanbul</td>\n",
       "      <td>Kuruí_eôme Mahallesi, Muallim Naci Caddesi, N...</td>\n",
       "      <td>Kuruí_eôme</td>\n",
       "      <td>Kuruí_eôme, ÛÁstanbul</td>\n",
       "      <td>29.036019</td>\n",
       "      <td>41.057979</td>\n",
       "      <td>Restaurant Cafe</td>\n",
       "      <td>...</td>\n",
       "      <td>No</td>\n",
       "      <td>No</td>\n",
       "      <td>No</td>\n",
       "      <td>No</td>\n",
       "      <td>4</td>\n",
       "      <td>4.0</td>\n",
       "      <td>Green</td>\n",
       "      <td>Very Good</td>\n",
       "      <td>901</td>\n",
       "      <td>Turkey</td>\n",
       "    </tr>\n",
       "    <tr>\n",
       "      <th>9550</th>\n",
       "      <td>5927402</td>\n",
       "      <td>Walter's Coffee Roastery</td>\n",
       "      <td>208</td>\n",
       "      <td>ÛÁstanbul</td>\n",
       "      <td>CafeaÛôa Mahallesi, BademaltÛ± Sokak, No 21/B,...</td>\n",
       "      <td>Moda</td>\n",
       "      <td>Moda, ÛÁstanbul</td>\n",
       "      <td>29.026016</td>\n",
       "      <td>40.984776</td>\n",
       "      <td>Cafe</td>\n",
       "      <td>...</td>\n",
       "      <td>No</td>\n",
       "      <td>No</td>\n",
       "      <td>No</td>\n",
       "      <td>No</td>\n",
       "      <td>2</td>\n",
       "      <td>4.0</td>\n",
       "      <td>Green</td>\n",
       "      <td>Very Good</td>\n",
       "      <td>591</td>\n",
       "      <td>Turkey</td>\n",
       "    </tr>\n",
       "  </tbody>\n",
       "</table>\n",
       "<p>9551 rows × 22 columns</p>\n",
       "</div>"
      ],
      "text/plain": [
       "      Restaurant ID           Restaurant Name  Country Code              City  \\\n",
       "0           6317637          Le Petit Souffle           162       Makati City   \n",
       "1           6304287          Izakaya Kikufuji           162       Makati City   \n",
       "2           6300002    Heat - Edsa Shangri-La           162  Mandaluyong City   \n",
       "3           6318506                      Ooma           162  Mandaluyong City   \n",
       "4           6314302               Sambo Kojin           162  Mandaluyong City   \n",
       "...             ...                       ...           ...               ...   \n",
       "9546        5915730              NamlÛ± Gurme           208         ÛÁstanbul   \n",
       "9547        5908749             Ceviz AÛôacÛ±           208         ÛÁstanbul   \n",
       "9548        5915807                     Huqqa           208         ÛÁstanbul   \n",
       "9549        5916112              Aôôk Kahve           208         ÛÁstanbul   \n",
       "9550        5927402  Walter's Coffee Roastery           208         ÛÁstanbul   \n",
       "\n",
       "                                                Address  \\\n",
       "0     Third Floor, Century City Mall, Kalayaan Avenu...   \n",
       "1     Little Tokyo, 2277 Chino Roces Avenue, Legaspi...   \n",
       "2     Edsa Shangri-La, 1 Garden Way, Ortigas, Mandal...   \n",
       "3     Third Floor, Mega Fashion Hall, SM Megamall, O...   \n",
       "4     Third Floor, Mega Atrium, SM Megamall, Ortigas...   \n",
       "...                                                 ...   \n",
       "9546  Kemankeô Karamustafa Paôa Mahallesi, RÛ±htÛ±...   \n",
       "9547  Koôuyolu Mahallesi, Muhittin íìstí_ndaÛô Cadd...   \n",
       "9548  Kuruí_eôme Mahallesi, Muallim Naci Caddesi, N...   \n",
       "9549  Kuruí_eôme Mahallesi, Muallim Naci Caddesi, N...   \n",
       "9550  CafeaÛôa Mahallesi, BademaltÛ± Sokak, No 21/B,...   \n",
       "\n",
       "                                        Locality  \\\n",
       "0      Century City Mall, Poblacion, Makati City   \n",
       "1     Little Tokyo, Legaspi Village, Makati City   \n",
       "2     Edsa Shangri-La, Ortigas, Mandaluyong City   \n",
       "3         SM Megamall, Ortigas, Mandaluyong City   \n",
       "4         SM Megamall, Ortigas, Mandaluyong City   \n",
       "...                                          ...   \n",
       "9546                                    Karakí_y   \n",
       "9547                                   Koôuyolu   \n",
       "9548                                 Kuruí_eôme   \n",
       "9549                                 Kuruí_eôme   \n",
       "9550                                        Moda   \n",
       "\n",
       "                                       Locality Verbose   Longitude  \\\n",
       "0     Century City Mall, Poblacion, Makati City, Mak...  121.027535   \n",
       "1     Little Tokyo, Legaspi Village, Makati City, Ma...  121.014101   \n",
       "2     Edsa Shangri-La, Ortigas, Mandaluyong City, Ma...  121.056831   \n",
       "3     SM Megamall, Ortigas, Mandaluyong City, Mandal...  121.056475   \n",
       "4     SM Megamall, Ortigas, Mandaluyong City, Mandal...  121.057508   \n",
       "...                                                 ...         ...   \n",
       "9546                                Karakí_y, ÛÁstanbul   28.977392   \n",
       "9547                               Koôuyolu, ÛÁstanbul   29.041297   \n",
       "9548                             Kuruí_eôme, ÛÁstanbul   29.034640   \n",
       "9549                             Kuruí_eôme, ÛÁstanbul   29.036019   \n",
       "9550                                    Moda, ÛÁstanbul   29.026016   \n",
       "\n",
       "       Latitude                          Cuisines  ...  Has Table booking  \\\n",
       "0     14.565443        French, Japanese, Desserts  ...                Yes   \n",
       "1     14.553708                          Japanese  ...                Yes   \n",
       "2     14.581404  Seafood, Asian, Filipino, Indian  ...                Yes   \n",
       "3     14.585318                   Japanese, Sushi  ...                 No   \n",
       "4     14.584450                  Japanese, Korean  ...                Yes   \n",
       "...         ...                               ...  ...                ...   \n",
       "9546  41.022793                           Turkish  ...                 No   \n",
       "9547  41.009847   World Cuisine, Patisserie, Cafe  ...                 No   \n",
       "9548  41.055817            Italian, World Cuisine  ...                 No   \n",
       "9549  41.057979                   Restaurant Cafe  ...                 No   \n",
       "9550  40.984776                              Cafe  ...                 No   \n",
       "\n",
       "     Has Online delivery Is delivering now Switch to order menu Price range  \\\n",
       "0                     No                No                   No           3   \n",
       "1                     No                No                   No           3   \n",
       "2                     No                No                   No           4   \n",
       "3                     No                No                   No           4   \n",
       "4                     No                No                   No           4   \n",
       "...                  ...               ...                  ...         ...   \n",
       "9546                  No                No                   No           3   \n",
       "9547                  No                No                   No           3   \n",
       "9548                  No                No                   No           4   \n",
       "9549                  No                No                   No           4   \n",
       "9550                  No                No                   No           2   \n",
       "\n",
       "     Aggregate rating  Rating color  Rating text Votes      Country  \n",
       "0                 4.8    Dark Green    Excellent   314  Phillipines  \n",
       "1                 4.5    Dark Green    Excellent   591  Phillipines  \n",
       "2                 4.4         Green    Very Good   270  Phillipines  \n",
       "3                 4.9    Dark Green    Excellent   365  Phillipines  \n",
       "4                 4.8    Dark Green    Excellent   229  Phillipines  \n",
       "...               ...           ...          ...   ...          ...  \n",
       "9546              4.1         Green    Very Good   788       Turkey  \n",
       "9547              4.2         Green    Very Good  1034       Turkey  \n",
       "9548              3.7        Yellow         Good   661       Turkey  \n",
       "9549              4.0         Green    Very Good   901       Turkey  \n",
       "9550              4.0         Green    Very Good   591       Turkey  \n",
       "\n",
       "[9551 rows x 22 columns]"
      ]
     },
     "execution_count": 161,
     "metadata": {},
     "output_type": "execute_result"
    }
   ],
   "source": [
    "df = pd.merge(df1,df2)\n",
    "df"
   ]
  },
  {
   "cell_type": "markdown",
   "id": "7c3f5657",
   "metadata": {},
   "source": [
    "Exploring Data"
   ]
  },
  {
   "cell_type": "code",
   "execution_count": 162,
   "id": "ba5866e7",
   "metadata": {},
   "outputs": [
    {
     "data": {
      "text/plain": [
       "Index(['Restaurant ID', 'Restaurant Name', 'Country Code', 'City', 'Address',\n",
       "       'Locality', 'Locality Verbose', 'Longitude', 'Latitude', 'Cuisines',\n",
       "       'Average Cost for two', 'Currency', 'Has Table booking',\n",
       "       'Has Online delivery', 'Is delivering now', 'Switch to order menu',\n",
       "       'Price range', 'Aggregate rating', 'Rating color', 'Rating text',\n",
       "       'Votes', 'Country'],\n",
       "      dtype='object')"
      ]
     },
     "execution_count": 162,
     "metadata": {},
     "output_type": "execute_result"
    }
   ],
   "source": [
    "df.columns"
   ]
  },
  {
   "cell_type": "code",
   "execution_count": 163,
   "id": "312b175b",
   "metadata": {},
   "outputs": [
    {
     "name": "stdout",
     "output_type": "stream",
     "text": [
      "<class 'pandas.core.frame.DataFrame'>\n",
      "Int64Index: 9551 entries, 0 to 9550\n",
      "Data columns (total 22 columns):\n",
      " #   Column                Non-Null Count  Dtype  \n",
      "---  ------                --------------  -----  \n",
      " 0   Restaurant ID         9551 non-null   int64  \n",
      " 1   Restaurant Name       9551 non-null   object \n",
      " 2   Country Code          9551 non-null   int64  \n",
      " 3   City                  9551 non-null   object \n",
      " 4   Address               9551 non-null   object \n",
      " 5   Locality              9551 non-null   object \n",
      " 6   Locality Verbose      9551 non-null   object \n",
      " 7   Longitude             9551 non-null   float64\n",
      " 8   Latitude              9551 non-null   float64\n",
      " 9   Cuisines              9542 non-null   object \n",
      " 10  Average Cost for two  9551 non-null   int64  \n",
      " 11  Currency              9551 non-null   object \n",
      " 12  Has Table booking     9551 non-null   object \n",
      " 13  Has Online delivery   9551 non-null   object \n",
      " 14  Is delivering now     9551 non-null   object \n",
      " 15  Switch to order menu  9551 non-null   object \n",
      " 16  Price range           9551 non-null   int64  \n",
      " 17  Aggregate rating      9551 non-null   float64\n",
      " 18  Rating color          9551 non-null   object \n",
      " 19  Rating text           9551 non-null   object \n",
      " 20  Votes                 9551 non-null   int64  \n",
      " 21  Country               9551 non-null   object \n",
      "dtypes: float64(3), int64(5), object(14)\n",
      "memory usage: 1.7+ MB\n"
     ]
    }
   ],
   "source": [
    "df.info()"
   ]
  },
  {
   "cell_type": "code",
   "execution_count": 164,
   "id": "4f83a156",
   "metadata": {},
   "outputs": [],
   "source": [
    "from sklearn.impute import SimpleImputer\n",
    "Imp_mode = SimpleImputer(missing_values=np.nan,strategy='most_frequent')\n",
    "df['Cuisines'] = Imp_mode.fit_transform(df['Cuisines'].values.reshape(-1,1))"
   ]
  },
  {
   "cell_type": "code",
   "execution_count": 165,
   "id": "cdcbcdf4",
   "metadata": {},
   "outputs": [
    {
     "data": {
      "text/plain": [
       "Restaurant ID           0\n",
       "Restaurant Name         0\n",
       "Country Code            0\n",
       "City                    0\n",
       "Address                 0\n",
       "Locality                0\n",
       "Locality Verbose        0\n",
       "Longitude               0\n",
       "Latitude                0\n",
       "Cuisines                0\n",
       "Average Cost for two    0\n",
       "Currency                0\n",
       "Has Table booking       0\n",
       "Has Online delivery     0\n",
       "Is delivering now       0\n",
       "Switch to order menu    0\n",
       "Price range             0\n",
       "Aggregate rating        0\n",
       "Rating color            0\n",
       "Rating text             0\n",
       "Votes                   0\n",
       "Country                 0\n",
       "dtype: int64"
      ]
     },
     "execution_count": 165,
     "metadata": {},
     "output_type": "execute_result"
    }
   ],
   "source": [
    "df.isnull().sum()"
   ]
  },
  {
   "cell_type": "code",
   "execution_count": 166,
   "id": "de295ac5",
   "metadata": {},
   "outputs": [],
   "source": [
    "encoding_Le = [\"Restaurant Name\",\"City\",\"Address\",\"Locality\",\"Locality Verbose\",\"Cuisines\",\"Currency\",\"Has Table booking\",\n",
    "               \"Has Online delivery\",\"Is delivering now\",\"Rating color\",\"Rating text\",\"Country\"]\n",
    "\n",
    "for cols in encoding_Le:\n",
    "    df[cols]=le.fit_transform(df[cols])"
   ]
  },
  {
   "cell_type": "markdown",
   "id": "55aa5a98",
   "metadata": {},
   "source": [
    "EDA"
   ]
  },
  {
   "cell_type": "code",
   "execution_count": 167,
   "id": "c3c2ec0f",
   "metadata": {},
   "outputs": [
    {
     "data": {
      "text/plain": [
       "<AxesSubplot:xlabel='City', ylabel='Average Cost for two'>"
      ]
     },
     "execution_count": 167,
     "metadata": {},
     "output_type": "execute_result"
    },
    {
     "data": {
      "image/png": "[encoded data removed]",
      "text/plain": [
       "<Figure size 432x288 with 1 Axes>"
      ]
     },
     "metadata": {
      "needs_background": "light"
     },
     "output_type": "display_data"
    }
   ],
   "source": [
    "sns.barplot(x=df['City'], y=df['Average Cost for two'])"
   ]
  },
  {
   "cell_type": "code",
   "execution_count": 168,
   "id": "cf2f8a64",
   "metadata": {},
   "outputs": [
    {
     "data": {
      "text/plain": [
       "City\n",
       "80           0\n",
       "37           7\n",
       "64           7\n",
       "57           7\n",
       "44          10\n",
       "        ...   \n",
       "125     500000\n",
       "89      582650\n",
       "50      798270\n",
       "88     3262390\n",
       "59     4935000\n",
       "Name: Average Cost for two, Length: 141, dtype: int64"
      ]
     },
     "execution_count": 168,
     "metadata": {},
     "output_type": "execute_result"
    }
   ],
   "source": [
    "(df.groupby('City')['Average Cost for two'].sum()).sort_values()"
   ]
  },
  {
   "cell_type": "code",
   "execution_count": 169,
   "id": "30af45a9",
   "metadata": {},
   "outputs": [
    {
     "data": {
      "text/plain": [
       "<AxesSubplot:xlabel='Cuisines', ylabel='Average Cost for two'>"
      ]
     },
     "execution_count": 169,
     "metadata": {},
     "output_type": "execute_result"
    },
    {
     "data": {
      "image/png": "[encoded data removed]",
      "text/plain": [
       "<Figure size 432x288 with 1 Axes>"
      ]
     },
     "metadata": {
      "needs_background": "light"
     },
     "output_type": "display_data"
    }
   ],
   "source": [
    "sns.scatterplot(x=df['Cuisines'], y=df['Average Cost for two'])"
   ]
  },
  {
   "cell_type": "code",
   "execution_count": 170,
   "id": "983d5550",
   "metadata": {},
   "outputs": [
    {
     "data": {
      "text/plain": [
       "Cuisines\n",
       "784          0\n",
       "443          0\n",
       "1000         0\n",
       "375          0\n",
       "304          7\n",
       "         ...  \n",
       "1111    467300\n",
       "1782    500120\n",
       "1779    600000\n",
       "136     800000\n",
       "1044    810800\n",
       "Name: Average Cost for two, Length: 1825, dtype: int64"
      ]
     },
     "execution_count": 170,
     "metadata": {},
     "output_type": "execute_result"
    }
   ],
   "source": [
    "(df.groupby('Cuisines')['Average Cost for two'].sum()).sort_values()"
   ]
  },
  {
   "cell_type": "code",
   "execution_count": 171,
   "id": "c2199a73",
   "metadata": {},
   "outputs": [
    {
     "data": {
      "text/plain": [
       "<AxesSubplot:xlabel='Has Table booking', ylabel='Rating text'>"
      ]
     },
     "execution_count": 171,
     "metadata": {},
     "output_type": "execute_result"
    },
    {
     "data": {
      "image/png": "[encoded data removed]",
      "text/plain": [
       "<Figure size 432x288 with 1 Axes>"
      ]
     },
     "metadata": {
      "needs_background": "light"
     },
     "output_type": "display_data"
    }
   ],
   "source": [
    "sns.barplot(x=df['Has Table booking'], y=df['Rating text'])"
   ]
  },
  {
   "cell_type": "code",
   "execution_count": 172,
   "id": "cdad50d9",
   "metadata": {},
   "outputs": [
    {
     "data": {
      "text/plain": [
       "<AxesSubplot:xlabel='Has Online delivery', ylabel='Rating text'>"
      ]
     },
     "execution_count": 172,
     "metadata": {},
     "output_type": "execute_result"
    },
    {
     "data": {
      "image/png": "[encoded data removed]",
      "text/plain": [
       "<Figure size 432x288 with 1 Axes>"
      ]
     },
     "metadata": {
      "needs_background": "light"
     },
     "output_type": "display_data"
    }
   ],
   "source": [
    "sns.barplot(x=df['Has Online delivery'], y=df['Rating text'])"
   ]
  },
  {
   "cell_type": "code",
   "execution_count": 173,
   "id": "c724850f",
   "metadata": {},
   "outputs": [
    {
     "data": {
      "text/plain": [
       "Has Online delivery\n",
       "1     3812\n",
       "0    13272\n",
       "Name: Rating text, dtype: int32"
      ]
     },
     "execution_count": 173,
     "metadata": {},
     "output_type": "execute_result"
    }
   ],
   "source": [
    "(df.groupby('Has Online delivery')['Rating text'].sum()).sort_values()"
   ]
  },
  {
   "cell_type": "code",
   "execution_count": 174,
   "id": "5ff92e95",
   "metadata": {},
   "outputs": [
    {
     "data": {
      "text/plain": [
       "<AxesSubplot:xlabel='Is delivering now', ylabel='Average Cost for two'>"
      ]
     },
     "execution_count": 174,
     "metadata": {},
     "output_type": "execute_result"
    },
    {
     "data": {
      "image/png": "[encoded data removed]",
      "text/plain": [
       "<Figure size 432x288 with 1 Axes>"
      ]
     },
     "metadata": {
      "needs_background": "light"
     },
     "output_type": "display_data"
    }
   ],
   "source": [
    "sns.barplot(x=df['Is delivering now'], y=df['Average Cost for two'])"
   ]
  },
  {
   "cell_type": "code",
   "execution_count": 175,
   "id": "1a1bbaa9",
   "metadata": {},
   "outputs": [
    {
     "data": {
      "text/plain": [
       "<AxesSubplot:xlabel='Rating color', ylabel='Average Cost for two'>"
      ]
     },
     "execution_count": 175,
     "metadata": {},
     "output_type": "execute_result"
    },
    {
     "data": {
      "image/png": "[encoded data removed]",
      "text/plain": [
       "<Figure size 432x288 with 1 Axes>"
      ]
     },
     "metadata": {
      "needs_background": "light"
     },
     "output_type": "display_data"
    }
   ],
   "source": [
    "sns.barplot(x=df['Rating color'], y=df['Average Cost for two'])"
   ]
  },
  {
   "cell_type": "code",
   "execution_count": 176,
   "id": "9dcd4412",
   "metadata": {},
   "outputs": [
    {
     "data": {
      "text/plain": [
       "Index(['Restaurant ID', 'Restaurant Name', 'Country Code', 'City', 'Address',\n",
       "       'Locality', 'Locality Verbose', 'Longitude', 'Latitude', 'Cuisines',\n",
       "       'Average Cost for two', 'Currency', 'Has Table booking',\n",
       "       'Has Online delivery', 'Is delivering now', 'Switch to order menu',\n",
       "       'Price range', 'Aggregate rating', 'Rating color', 'Rating text',\n",
       "       'Votes', 'Country'],\n",
       "      dtype='object')"
      ]
     },
     "execution_count": 176,
     "metadata": {},
     "output_type": "execute_result"
    }
   ],
   "source": [
    "df.columns"
   ]
  },
  {
   "cell_type": "code",
   "execution_count": 177,
   "id": "65e39532",
   "metadata": {},
   "outputs": [
    {
     "data": {
      "text/plain": [
       "<AxesSubplot:xlabel='Country Code', ylabel='Average Cost for two'>"
      ]
     },
     "execution_count": 177,
     "metadata": {},
     "output_type": "execute_result"
    },
    {
     "data": {
      "image/png": "[encoded data removed]",
      "text/plain": [
       "<Figure size 432x288 with 1 Axes>"
      ]
     },
     "metadata": {
      "needs_background": "light"
     },
     "output_type": "display_data"
    }
   ],
   "source": [
    "sns.scatterplot(x=df['Country Code'], y=df['Average Cost for two'])"
   ]
  },
  {
   "cell_type": "code",
   "execution_count": 178,
   "id": "bfd855a0",
   "metadata": {},
   "outputs": [
    {
     "data": {
      "text/plain": [
       "Country Code\n",
       "37         145\n",
       "14         578\n",
       "148       2790\n",
       "208       2885\n",
       "184       3115\n",
       "215       3825\n",
       "166       4475\n",
       "30        8080\n",
       "214       9985\n",
       "216      11350\n",
       "189      25184\n",
       "162      35350\n",
       "191      47500\n",
       "1      5393400\n",
       "94     5905000\n",
       "Name: Average Cost for two, dtype: int64"
      ]
     },
     "execution_count": 178,
     "metadata": {},
     "output_type": "execute_result"
    }
   ],
   "source": [
    "(df.groupby('Country Code')['Average Cost for two'].sum()).sort_values()"
   ]
  },
  {
   "cell_type": "code",
   "execution_count": 179,
   "id": "e9433dd7",
   "metadata": {},
   "outputs": [
    {
     "data": {
      "text/plain": [
       "<AxesSubplot:xlabel='Price range', ylabel='Average Cost for two'>"
      ]
     },
     "execution_count": 179,
     "metadata": {},
     "output_type": "execute_result"
    },
    {
     "data": {
      "image/png": "[encoded data removed]",
      "text/plain": [
       "<Figure size 432x288 with 1 Axes>"
      ]
     },
     "metadata": {
      "needs_background": "light"
     },
     "output_type": "display_data"
    }
   ],
   "source": [
    "sns.scatterplot(x=df['Price range'], y=df['Average Cost for two'])"
   ]
  },
  {
   "cell_type": "code",
   "execution_count": 180,
   "id": "5ee781aa",
   "metadata": {},
   "outputs": [
    {
     "data": {
      "text/plain": [
       "Price range\n",
       "4    1083235\n",
       "1    1222913\n",
       "2    1857920\n",
       "3    7289594\n",
       "Name: Average Cost for two, dtype: int64"
      ]
     },
     "execution_count": 180,
     "metadata": {},
     "output_type": "execute_result"
    }
   ],
   "source": [
    "(df.groupby('Price range')['Average Cost for two'].sum()).sort_values()"
   ]
  },
  {
   "cell_type": "code",
   "execution_count": 181,
   "id": "e6664b71",
   "metadata": {},
   "outputs": [
    {
     "data": {
      "text/plain": [
       "<AxesSubplot:xlabel='Locality', ylabel='Average Cost for two'>"
      ]
     },
     "execution_count": 181,
     "metadata": {},
     "output_type": "execute_result"
    },
    {
     "data": {
      "image/png": "[encoded data removed]",
      "text/plain": [
       "<Figure size 432x288 with 1 Axes>"
      ]
     },
     "metadata": {
      "needs_background": "light"
     },
     "output_type": "display_data"
    }
   ],
   "source": [
    "sns.scatterplot(x=df['Locality'], y=df['Average Cost for two'])"
   ]
  },
  {
   "cell_type": "code",
   "execution_count": 182,
   "id": "b41af57f",
   "metadata": {},
   "outputs": [
    {
     "data": {
      "text/plain": [
       "Locality\n",
       "667           0\n",
       "761           0\n",
       "566           7\n",
       "465           7\n",
       "282           7\n",
       "         ...   \n",
       "1052     350000\n",
       "781      500000\n",
       "969      570000\n",
       "439      800000\n",
       "375     1000000\n",
       "Name: Average Cost for two, Length: 1208, dtype: int64"
      ]
     },
     "execution_count": 182,
     "metadata": {},
     "output_type": "execute_result"
    }
   ],
   "source": [
    "(df.groupby('Locality')['Average Cost for two'].sum()).sort_values()"
   ]
  },
  {
   "cell_type": "code",
   "execution_count": 183,
   "id": "1202d40d",
   "metadata": {},
   "outputs": [
    {
     "data": {
      "text/plain": [
       "<AxesSubplot:xlabel='Locality Verbose', ylabel='Average Cost for two'>"
      ]
     },
     "execution_count": 183,
     "metadata": {},
     "output_type": "execute_result"
    },
    {
     "data": {
      "image/png": "[encoded data removed]",
      "text/plain": [
       "<Figure size 432x288 with 1 Axes>"
      ]
     },
     "metadata": {
      "needs_background": "light"
     },
     "output_type": "display_data"
    }
   ],
   "source": [
    "sns.scatterplot(x=df['Locality Verbose'], y=df['Average Cost for two'])"
   ]
  },
  {
   "cell_type": "code",
   "execution_count": 184,
   "id": "06568eaa",
   "metadata": {},
   "outputs": [
    {
     "data": {
      "text/plain": [
       "<AxesSubplot:xlabel='Currency', ylabel='Average Cost for two'>"
      ]
     },
     "execution_count": 184,
     "metadata": {},
     "output_type": "execute_result"
    },
    {
     "data": {
      "image/png": "[encoded data removed]",
      "text/plain": [
       "<Figure size 432x288 with 1 Axes>"
      ]
     },
     "metadata": {
      "needs_background": "light"
     },
     "output_type": "display_data"
    }
   ],
   "source": [
    "sns.scatterplot(x=df['Currency'], y=df['Average Cost for two'])"
   ]
  },
  {
   "cell_type": "code",
   "execution_count": 185,
   "id": "935e8efb",
   "metadata": {},
   "outputs": [
    {
     "data": {
      "text/plain": [
       "Currency\n",
       "6        2790\n",
       "11       2885\n",
       "7        3825\n",
       "8        4475\n",
       "1        8080\n",
       "3        9985\n",
       "2       15188\n",
       "9       25184\n",
       "0       35350\n",
       "10      47500\n",
       "4     5393400\n",
       "5     5905000\n",
       "Name: Average Cost for two, dtype: int64"
      ]
     },
     "execution_count": 185,
     "metadata": {},
     "output_type": "execute_result"
    }
   ],
   "source": [
    "(df.groupby('Currency')['Average Cost for two'].sum()).sort_values()"
   ]
  },
  {
   "cell_type": "code",
   "execution_count": 186,
   "id": "4ccf6a44",
   "metadata": {},
   "outputs": [
    {
     "data": {
      "text/plain": [
       "array([[<AxesSubplot:title={'center':'Restaurant ID'}>,\n",
       "        <AxesSubplot:title={'center':'Restaurant Name'}>,\n",
       "        <AxesSubplot:title={'center':'Country Code'}>,\n",
       "        <AxesSubplot:title={'center':'City'}>],\n",
       "       [<AxesSubplot:title={'center':'Address'}>,\n",
       "        <AxesSubplot:title={'center':'Locality'}>,\n",
       "        <AxesSubplot:title={'center':'Locality Verbose'}>,\n",
       "        <AxesSubplot:title={'center':'Longitude'}>],\n",
       "       [<AxesSubplot:title={'center':'Latitude'}>,\n",
       "        <AxesSubplot:title={'center':'Cuisines'}>,\n",
       "        <AxesSubplot:title={'center':'Average Cost for two'}>,\n",
       "        <AxesSubplot:title={'center':'Currency'}>],\n",
       "       [<AxesSubplot:title={'center':'Has Table booking'}>,\n",
       "        <AxesSubplot:title={'center':'Has Online delivery'}>,\n",
       "        <AxesSubplot:title={'center':'Is delivering now'}>,\n",
       "        <AxesSubplot:title={'center':'Price range'}>],\n",
       "       [<AxesSubplot:title={'center':'Aggregate rating'}>,\n",
       "        <AxesSubplot:title={'center':'Rating color'}>,\n",
       "        <AxesSubplot:title={'center':'Rating text'}>,\n",
       "        <AxesSubplot:title={'center':'Votes'}>],\n",
       "       [<AxesSubplot:title={'center':'Country'}>, <AxesSubplot:>,\n",
       "        <AxesSubplot:>, <AxesSubplot:>]], dtype=object)"
      ]
     },
     "execution_count": 186,
     "metadata": {},
     "output_type": "execute_result"
    },
    {
     "data": {
      "image/png": "[encoded data removed]",
      "text/plain": [
       "<Figure size 1440x1440 with 24 Axes>"
      ]
     },
     "metadata": {
      "needs_background": "light"
     },
     "output_type": "display_data"
    }
   ],
   "source": [
    "df.hist(figsize=(20,20), grid=True, layout=(6,4), bins=30)"
   ]
  },
  {
   "cell_type": "code",
   "execution_count": 187,
   "id": "d33527cd",
   "metadata": {},
   "outputs": [
    {
     "data": {
      "text/plain": [
       "City\n",
       "80           0\n",
       "37           7\n",
       "64           7\n",
       "57           7\n",
       "44          10\n",
       "        ...   \n",
       "125     500000\n",
       "89      582650\n",
       "50      798270\n",
       "88     3262390\n",
       "59     4935000\n",
       "Name: Average Cost for two, Length: 141, dtype: int64"
      ]
     },
     "execution_count": 187,
     "metadata": {},
     "output_type": "execute_result"
    }
   ],
   "source": [
    "a = df.groupby('City')['Average Cost for two'].sum()\n",
    "a.sort_values()"
   ]
  },
  {
   "cell_type": "code",
   "execution_count": 188,
   "id": "6ce4c6c4",
   "metadata": {},
   "outputs": [
    {
     "data": {
      "text/plain": [
       "Aggregate rating\n",
       "1.9        750\n",
       "1.8       1000\n",
       "2.0       6250\n",
       "2.1       9500\n",
       "2.2      16175\n",
       "4.8      18175\n",
       "4.7      25090\n",
       "2.3      26600\n",
       "4.5      51515\n",
       "2.4      58370\n",
       "2.5      68450\n",
       "2.6     114920\n",
       "2.7     136700\n",
       "2.8     151260\n",
       "2.9     171620\n",
       "3.0     221700\n",
       "3.1     254525\n",
       "3.3     293985\n",
       "3.2     300215\n",
       "3.8     317134\n",
       "3.6     328607\n",
       "3.5     348610\n",
       "3.4     410470\n",
       "4.4     429560\n",
       "3.9     506325\n",
       "4.0     600225\n",
       "3.7     693386\n",
       "0.0     731045\n",
       "4.3     770945\n",
       "4.1    1005455\n",
       "4.2    1030760\n",
       "4.9    1148840\n",
       "4.6    1205500\n",
       "Name: Average Cost for two, dtype: int64"
      ]
     },
     "execution_count": 188,
     "metadata": {},
     "output_type": "execute_result"
    }
   ],
   "source": [
    "(df.groupby('Aggregate rating')['Average Cost for two'].sum()).sort_values()"
   ]
  },
  {
   "cell_type": "code",
   "execution_count": 189,
   "id": "3359aa42",
   "metadata": {},
   "outputs": [
    {
     "data": {
      "text/plain": [
       "Country\n",
       "2         145\n",
       "0         578\n",
       "5        2790\n",
       "11       2885\n",
       "8        3115\n",
       "13       3825\n",
       "7        4475\n",
       "1        8080\n",
       "12       9985\n",
       "14      11350\n",
       "9       25184\n",
       "6       35350\n",
       "10      47500\n",
       "3     5393400\n",
       "4     5905000\n",
       "Name: Average Cost for two, dtype: int64"
      ]
     },
     "execution_count": 189,
     "metadata": {},
     "output_type": "execute_result"
    }
   ],
   "source": [
    "(df.groupby('Country')['Average Cost for two'].sum()).sort_values()"
   ]
  },
  {
   "cell_type": "code",
   "execution_count": 190,
   "id": "bc212fe3",
   "metadata": {},
   "outputs": [
    {
     "data": {
      "text/plain": [
       "Cuisines\n",
       "784          0\n",
       "443          0\n",
       "1000         0\n",
       "375          0\n",
       "304          7\n",
       "         ...  \n",
       "1111    467300\n",
       "1782    500120\n",
       "1779    600000\n",
       "136     800000\n",
       "1044    810800\n",
       "Name: Average Cost for two, Length: 1825, dtype: int64"
      ]
     },
     "execution_count": 190,
     "metadata": {},
     "output_type": "execute_result"
    }
   ],
   "source": [
    "(df.groupby('Cuisines')['Average Cost for two'].sum()).sort_values()"
   ]
  },
  {
   "cell_type": "markdown",
   "id": "b77c84ae",
   "metadata": {},
   "source": [
    "Observations:\n",
    "1) Italian, Continental, Asian, Indonesian, Western, Sunda have copmaratively higher avg cost for two.\n",
    "2) India and Indonesia has comparatively higher avg cost for two.\n",
    "3) For higher ratings there is higher avg cost.\n",
    "4) Restaurant name and Adress we can delete as it doesnt contribute significantly in our data analysis.\n",
    "5) Price range 3 has higher avg cost.\n",
    "6) Locality or Locality Verbose we can drop any of thses columns as they provide same information."
   ]
  },
  {
   "cell_type": "code",
   "execution_count": 191,
   "id": "a67410e2",
   "metadata": {},
   "outputs": [
    {
     "data": {
      "text/html": [
       "<div>\n",
       "<style scoped>\n",
       "    .dataframe tbody tr th:only-of-type {\n",
       "        vertical-align: middle;\n",
       "    }\n",
       "\n",
       "    .dataframe tbody tr th {\n",
       "        vertical-align: top;\n",
       "    }\n",
       "\n",
       "    .dataframe thead th {\n",
       "        text-align: right;\n",
       "    }\n",
       "</style>\n",
       "<table border=\"1\" class=\"dataframe\">\n",
       "  <thead>\n",
       "    <tr style=\"text-align: right;\">\n",
       "      <th></th>\n",
       "      <th>Restaurant ID</th>\n",
       "      <th>Restaurant Name</th>\n",
       "      <th>Country Code</th>\n",
       "      <th>City</th>\n",
       "      <th>Address</th>\n",
       "      <th>Locality</th>\n",
       "      <th>Locality Verbose</th>\n",
       "      <th>Longitude</th>\n",
       "      <th>Latitude</th>\n",
       "      <th>Cuisines</th>\n",
       "      <th>...</th>\n",
       "      <th>Currency</th>\n",
       "      <th>Has Table booking</th>\n",
       "      <th>Has Online delivery</th>\n",
       "      <th>Is delivering now</th>\n",
       "      <th>Price range</th>\n",
       "      <th>Aggregate rating</th>\n",
       "      <th>Rating color</th>\n",
       "      <th>Rating text</th>\n",
       "      <th>Votes</th>\n",
       "      <th>Country</th>\n",
       "    </tr>\n",
       "  </thead>\n",
       "  <tbody>\n",
       "    <tr>\n",
       "      <th>count</th>\n",
       "      <td>9.551000e+03</td>\n",
       "      <td>9551.000000</td>\n",
       "      <td>9551.000000</td>\n",
       "      <td>9551.000000</td>\n",
       "      <td>9551.000000</td>\n",
       "      <td>9551.000000</td>\n",
       "      <td>9551.000000</td>\n",
       "      <td>9551.000000</td>\n",
       "      <td>9551.000000</td>\n",
       "      <td>9551.000000</td>\n",
       "      <td>...</td>\n",
       "      <td>9551.000000</td>\n",
       "      <td>9551.000000</td>\n",
       "      <td>9551.000000</td>\n",
       "      <td>9551.000000</td>\n",
       "      <td>9551.000000</td>\n",
       "      <td>9551.000000</td>\n",
       "      <td>9551.000000</td>\n",
       "      <td>9551.000000</td>\n",
       "      <td>9551.000000</td>\n",
       "      <td>9551.000000</td>\n",
       "    </tr>\n",
       "    <tr>\n",
       "      <th>mean</th>\n",
       "      <td>9.051128e+06</td>\n",
       "      <td>3653.204586</td>\n",
       "      <td>18.365616</td>\n",
       "      <td>78.301434</td>\n",
       "      <td>4542.439430</td>\n",
       "      <td>658.128468</td>\n",
       "      <td>677.304994</td>\n",
       "      <td>64.126574</td>\n",
       "      <td>25.854381</td>\n",
       "      <td>989.461732</td>\n",
       "      <td>...</td>\n",
       "      <td>3.977699</td>\n",
       "      <td>0.121244</td>\n",
       "      <td>0.256622</td>\n",
       "      <td>0.003560</td>\n",
       "      <td>1.804837</td>\n",
       "      <td>2.666370</td>\n",
       "      <td>2.952885</td>\n",
       "      <td>1.788713</td>\n",
       "      <td>156.909748</td>\n",
       "      <td>3.736781</td>\n",
       "    </tr>\n",
       "    <tr>\n",
       "      <th>std</th>\n",
       "      <td>8.791521e+06</td>\n",
       "      <td>2142.917876</td>\n",
       "      <td>56.750546</td>\n",
       "      <td>23.198915</td>\n",
       "      <td>2565.717005</td>\n",
       "      <td>315.866515</td>\n",
       "      <td>331.727449</td>\n",
       "      <td>41.467058</td>\n",
       "      <td>11.007935</td>\n",
       "      <td>514.176108</td>\n",
       "      <td>...</td>\n",
       "      <td>0.914242</td>\n",
       "      <td>0.326428</td>\n",
       "      <td>0.436792</td>\n",
       "      <td>0.059561</td>\n",
       "      <td>0.905609</td>\n",
       "      <td>1.516378</td>\n",
       "      <td>1.493048</td>\n",
       "      <td>1.694637</td>\n",
       "      <td>430.169145</td>\n",
       "      <td>2.651963</td>\n",
       "    </tr>\n",
       "    <tr>\n",
       "      <th>min</th>\n",
       "      <td>5.300000e+01</td>\n",
       "      <td>0.000000</td>\n",
       "      <td>1.000000</td>\n",
       "      <td>0.000000</td>\n",
       "      <td>0.000000</td>\n",
       "      <td>0.000000</td>\n",
       "      <td>0.000000</td>\n",
       "      <td>-157.948486</td>\n",
       "      <td>-41.330428</td>\n",
       "      <td>0.000000</td>\n",
       "      <td>...</td>\n",
       "      <td>0.000000</td>\n",
       "      <td>0.000000</td>\n",
       "      <td>0.000000</td>\n",
       "      <td>0.000000</td>\n",
       "      <td>1.000000</td>\n",
       "      <td>0.000000</td>\n",
       "      <td>0.000000</td>\n",
       "      <td>0.000000</td>\n",
       "      <td>0.000000</td>\n",
       "      <td>0.000000</td>\n",
       "    </tr>\n",
       "    <tr>\n",
       "      <th>25%</th>\n",
       "      <td>3.019625e+05</td>\n",
       "      <td>1777.500000</td>\n",
       "      <td>1.000000</td>\n",
       "      <td>76.000000</td>\n",
       "      <td>2323.500000</td>\n",
       "      <td>381.000000</td>\n",
       "      <td>387.000000</td>\n",
       "      <td>77.081343</td>\n",
       "      <td>28.478713</td>\n",
       "      <td>497.000000</td>\n",
       "      <td>...</td>\n",
       "      <td>4.000000</td>\n",
       "      <td>0.000000</td>\n",
       "      <td>0.000000</td>\n",
       "      <td>0.000000</td>\n",
       "      <td>1.000000</td>\n",
       "      <td>2.500000</td>\n",
       "      <td>2.000000</td>\n",
       "      <td>0.000000</td>\n",
       "      <td>5.000000</td>\n",
       "      <td>3.000000</td>\n",
       "    </tr>\n",
       "    <tr>\n",
       "      <th>50%</th>\n",
       "      <td>6.004089e+06</td>\n",
       "      <td>3595.000000</td>\n",
       "      <td>1.000000</td>\n",
       "      <td>88.000000</td>\n",
       "      <td>4610.000000</td>\n",
       "      <td>696.000000</td>\n",
       "      <td>707.000000</td>\n",
       "      <td>77.191964</td>\n",
       "      <td>28.570469</td>\n",
       "      <td>1127.000000</td>\n",
       "      <td>...</td>\n",
       "      <td>4.000000</td>\n",
       "      <td>0.000000</td>\n",
       "      <td>0.000000</td>\n",
       "      <td>0.000000</td>\n",
       "      <td>2.000000</td>\n",
       "      <td>3.200000</td>\n",
       "      <td>2.000000</td>\n",
       "      <td>2.000000</td>\n",
       "      <td>31.000000</td>\n",
       "      <td>3.000000</td>\n",
       "    </tr>\n",
       "    <tr>\n",
       "      <th>75%</th>\n",
       "      <td>1.835229e+07</td>\n",
       "      <td>5485.500000</td>\n",
       "      <td>1.000000</td>\n",
       "      <td>88.000000</td>\n",
       "      <td>6746.500000</td>\n",
       "      <td>921.000000</td>\n",
       "      <td>953.000000</td>\n",
       "      <td>77.282006</td>\n",
       "      <td>28.642758</td>\n",
       "      <td>1353.500000</td>\n",
       "      <td>...</td>\n",
       "      <td>4.000000</td>\n",
       "      <td>0.000000</td>\n",
       "      <td>1.000000</td>\n",
       "      <td>0.000000</td>\n",
       "      <td>2.000000</td>\n",
       "      <td>3.700000</td>\n",
       "      <td>4.000000</td>\n",
       "      <td>3.000000</td>\n",
       "      <td>131.000000</td>\n",
       "      <td>3.000000</td>\n",
       "    </tr>\n",
       "    <tr>\n",
       "      <th>max</th>\n",
       "      <td>1.850065e+07</td>\n",
       "      <td>7445.000000</td>\n",
       "      <td>216.000000</td>\n",
       "      <td>140.000000</td>\n",
       "      <td>8917.000000</td>\n",
       "      <td>1207.000000</td>\n",
       "      <td>1264.000000</td>\n",
       "      <td>174.832089</td>\n",
       "      <td>55.976980</td>\n",
       "      <td>1824.000000</td>\n",
       "      <td>...</td>\n",
       "      <td>11.000000</td>\n",
       "      <td>1.000000</td>\n",
       "      <td>1.000000</td>\n",
       "      <td>1.000000</td>\n",
       "      <td>4.000000</td>\n",
       "      <td>4.900000</td>\n",
       "      <td>5.000000</td>\n",
       "      <td>5.000000</td>\n",
       "      <td>10934.000000</td>\n",
       "      <td>14.000000</td>\n",
       "    </tr>\n",
       "  </tbody>\n",
       "</table>\n",
       "<p>8 rows × 21 columns</p>\n",
       "</div>"
      ],
      "text/plain": [
       "       Restaurant ID  Restaurant Name  Country Code         City      Address  \\\n",
       "count   9.551000e+03      9551.000000   9551.000000  9551.000000  9551.000000   \n",
       "mean    9.051128e+06      3653.204586     18.365616    78.301434  4542.439430   \n",
       "std     8.791521e+06      2142.917876     56.750546    23.198915  2565.717005   \n",
       "min     5.300000e+01         0.000000      1.000000     0.000000     0.000000   \n",
       "25%     3.019625e+05      1777.500000      1.000000    76.000000  2323.500000   \n",
       "50%     6.004089e+06      3595.000000      1.000000    88.000000  4610.000000   \n",
       "75%     1.835229e+07      5485.500000      1.000000    88.000000  6746.500000   \n",
       "max     1.850065e+07      7445.000000    216.000000   140.000000  8917.000000   \n",
       "\n",
       "          Locality  Locality Verbose    Longitude     Latitude     Cuisines  \\\n",
       "count  9551.000000       9551.000000  9551.000000  9551.000000  9551.000000   \n",
       "mean    658.128468        677.304994    64.126574    25.854381   989.461732   \n",
       "std     315.866515        331.727449    41.467058    11.007935   514.176108   \n",
       "min       0.000000          0.000000  -157.948486   -41.330428     0.000000   \n",
       "25%     381.000000        387.000000    77.081343    28.478713   497.000000   \n",
       "50%     696.000000        707.000000    77.191964    28.570469  1127.000000   \n",
       "75%     921.000000        953.000000    77.282006    28.642758  1353.500000   \n",
       "max    1207.000000       1264.000000   174.832089    55.976980  1824.000000   \n",
       "\n",
       "       ...     Currency  Has Table booking  Has Online delivery  \\\n",
       "count  ...  9551.000000        9551.000000          9551.000000   \n",
       "mean   ...     3.977699           0.121244             0.256622   \n",
       "std    ...     0.914242           0.326428             0.436792   \n",
       "min    ...     0.000000           0.000000             0.000000   \n",
       "25%    ...     4.000000           0.000000             0.000000   \n",
       "50%    ...     4.000000           0.000000             0.000000   \n",
       "75%    ...     4.000000           0.000000             1.000000   \n",
       "max    ...    11.000000           1.000000             1.000000   \n",
       "\n",
       "       Is delivering now  Price range  Aggregate rating  Rating color  \\\n",
       "count        9551.000000  9551.000000       9551.000000   9551.000000   \n",
       "mean            0.003560     1.804837          2.666370      2.952885   \n",
       "std             0.059561     0.905609          1.516378      1.493048   \n",
       "min             0.000000     1.000000          0.000000      0.000000   \n",
       "25%             0.000000     1.000000          2.500000      2.000000   \n",
       "50%             0.000000     2.000000          3.200000      2.000000   \n",
       "75%             0.000000     2.000000          3.700000      4.000000   \n",
       "max             1.000000     4.000000          4.900000      5.000000   \n",
       "\n",
       "       Rating text         Votes      Country  \n",
       "count  9551.000000   9551.000000  9551.000000  \n",
       "mean      1.788713    156.909748     3.736781  \n",
       "std       1.694637    430.169145     2.651963  \n",
       "min       0.000000      0.000000     0.000000  \n",
       "25%       0.000000      5.000000     3.000000  \n",
       "50%       2.000000     31.000000     3.000000  \n",
       "75%       3.000000    131.000000     3.000000  \n",
       "max       5.000000  10934.000000    14.000000  \n",
       "\n",
       "[8 rows x 21 columns]"
      ]
     },
     "execution_count": 191,
     "metadata": {},
     "output_type": "execute_result"
    }
   ],
   "source": [
    "df.describe()"
   ]
  },
  {
   "cell_type": "code",
   "execution_count": 192,
   "id": "04f8e429",
   "metadata": {},
   "outputs": [],
   "source": [
    "df.drop(['Restaurant Name','Locality Verbose','Address'],axis=1,inplace=True)"
   ]
  },
  {
   "cell_type": "code",
   "execution_count": 193,
   "id": "21319a7e",
   "metadata": {},
   "outputs": [],
   "source": [
    "df.drop(['Switch to order menu'],axis=1,inplace=True)"
   ]
  },
  {
   "cell_type": "markdown",
   "id": "d17e11e1",
   "metadata": {},
   "source": [
    "Checking Correlation"
   ]
  },
  {
   "cell_type": "code",
   "execution_count": 194,
   "id": "be771586",
   "metadata": {},
   "outputs": [
    {
     "data": {
      "text/plain": [
       "Latitude               -0.111088\n",
       "Rating color           -0.049970\n",
       "City                   -0.028838\n",
       "Has Online delivery    -0.018974\n",
       "Locality               -0.012136\n",
       "Country                -0.004034\n",
       "Is delivering now      -0.001862\n",
       "Restaurant ID          -0.001693\n",
       "Cuisines                0.005831\n",
       "Has Table booking       0.007758\n",
       "Rating text             0.031439\n",
       "Country Code            0.043225\n",
       "Currency                0.045615\n",
       "Longitude               0.045891\n",
       "Aggregate rating        0.051792\n",
       "Votes                   0.067783\n",
       "Price range             0.075083\n",
       "Average Cost for two    1.000000\n",
       "Name: Average Cost for two, dtype: float64"
      ]
     },
     "execution_count": 194,
     "metadata": {},
     "output_type": "execute_result"
    }
   ],
   "source": [
    "df.corr()['Average Cost for two'].sort_values()"
   ]
  },
  {
   "cell_type": "markdown",
   "id": "bff38419",
   "metadata": {},
   "source": [
    "Country, Is delivering now, Cuisines, Has Table booking these columns have least correlation with Average Cost for two."
   ]
  },
  {
   "cell_type": "code",
   "execution_count": 195,
   "id": "3d52fa10",
   "metadata": {},
   "outputs": [
    {
     "data": {
      "image/png": "[encoded data removed]",
      "text/plain": [
       "<Figure size 1584x504 with 2 Axes>"
      ]
     },
     "metadata": {
      "needs_background": "light"
     },
     "output_type": "display_data"
    }
   ],
   "source": [
    "corr_mat = df.corr()\n",
    "plt.figure(figsize=[22,7])\n",
    "sns.heatmap(corr_mat,annot=True)\n",
    "plt.title('Correlation Matrix')\n",
    "plt.savefig('Correlation_matrix.jpg')\n",
    "plt.show()"
   ]
  },
  {
   "cell_type": "markdown",
   "id": "e9402fcd",
   "metadata": {},
   "source": [
    "Checking skewness"
   ]
  },
  {
   "cell_type": "code",
   "execution_count": 196,
   "id": "a346caa0",
   "metadata": {},
   "outputs": [
    {
     "data": {
      "text/plain": [
       "Restaurant ID            0.061570\n",
       "Country Code             3.043965\n",
       "City                    -1.193777\n",
       "Locality                -0.253554\n",
       "Longitude               -2.807328\n",
       "Latitude                -3.081635\n",
       "Cuisines                -0.307425\n",
       "Average Cost for two    35.477915\n",
       "Currency                 2.858093\n",
       "Has Table booking        2.321100\n",
       "Has Online delivery      1.114620\n",
       "Is delivering now       16.673412\n",
       "Price range              0.889618\n",
       "Aggregate rating        -0.954130\n",
       "Rating color             0.046009\n",
       "Rating text              0.431408\n",
       "Votes                    8.807637\n",
       "Country                  3.312721\n",
       "dtype: float64"
      ]
     },
     "execution_count": 196,
     "metadata": {},
     "output_type": "execute_result"
    }
   ],
   "source": [
    "df.skew()"
   ]
  },
  {
   "cell_type": "code",
   "execution_count": 197,
   "id": "faa45da3",
   "metadata": {},
   "outputs": [],
   "source": [
    "columns = ('Country Code','City','Longitude','Latitude','Currency','Has Table booking','Has Online delivery','Is delivering now','Aggregate rating','Votes','Country')\n",
    "for col in columns:\n",
    "    if df.skew().loc[col]>0.55:\n",
    "        df[col] = np.log1p(df[col])"
   ]
  },
  {
   "cell_type": "code",
   "execution_count": 198,
   "id": "8dea85b1",
   "metadata": {},
   "outputs": [
    {
     "data": {
      "text/plain": [
       "0       3\n",
       "1       3\n",
       "2       4\n",
       "3       4\n",
       "4       4\n",
       "       ..\n",
       "9546    3\n",
       "9547    3\n",
       "9548    4\n",
       "9549    4\n",
       "9550    2\n",
       "Name: Price range, Length: 9551, dtype: int64"
      ]
     },
     "execution_count": 198,
     "metadata": {},
     "output_type": "execute_result"
    }
   ],
   "source": [
    "df['Price range']"
   ]
  },
  {
   "cell_type": "markdown",
   "id": "c1ea253e",
   "metadata": {},
   "source": [
    "Checking outliers"
   ]
  },
  {
   "cell_type": "code",
   "execution_count": 199,
   "id": "8ea69507",
   "metadata": {},
   "outputs": [
    {
     "data": {
      "text/plain": [
       "Restaurant ID              AxesSubplot(0.125,0.816017;0.227941x0.0639831)\n",
       "Country Code            AxesSubplot(0.398529,0.816017;0.227941x0.0639831)\n",
       "City                    AxesSubplot(0.672059,0.816017;0.227941x0.0639831)\n",
       "Locality                   AxesSubplot(0.125,0.739237;0.227941x0.0639831)\n",
       "Longitude               AxesSubplot(0.398529,0.739237;0.227941x0.0639831)\n",
       "Latitude                AxesSubplot(0.672059,0.739237;0.227941x0.0639831)\n",
       "Cuisines                   AxesSubplot(0.125,0.662458;0.227941x0.0639831)\n",
       "Average Cost for two    AxesSubplot(0.398529,0.662458;0.227941x0.0639831)\n",
       "Currency                AxesSubplot(0.672059,0.662458;0.227941x0.0639831)\n",
       "Has Table booking          AxesSubplot(0.125,0.585678;0.227941x0.0639831)\n",
       "Has Online delivery     AxesSubplot(0.398529,0.585678;0.227941x0.0639831)\n",
       "Is delivering now       AxesSubplot(0.672059,0.585678;0.227941x0.0639831)\n",
       "Price range                AxesSubplot(0.125,0.508898;0.227941x0.0639831)\n",
       "Aggregate rating        AxesSubplot(0.398529,0.508898;0.227941x0.0639831)\n",
       "Rating color            AxesSubplot(0.672059,0.508898;0.227941x0.0639831)\n",
       "Rating text                AxesSubplot(0.125,0.432119;0.227941x0.0639831)\n",
       "Votes                   AxesSubplot(0.398529,0.432119;0.227941x0.0639831)\n",
       "Country                 AxesSubplot(0.672059,0.432119;0.227941x0.0639831)\n",
       "dtype: object"
      ]
     },
     "execution_count": 199,
     "metadata": {},
     "output_type": "execute_result"
    },
    {
     "data": {
      "image/png": "[encoded data removed]",
      "text/plain": [
       "<Figure size 432x288 with 30 Axes>"
      ]
     },
     "metadata": {
      "needs_background": "light"
     },
     "output_type": "display_data"
    }
   ],
   "source": [
    "df.plot(kind='box',subplots=True,layout=(10,3))"
   ]
  },
  {
   "cell_type": "code",
   "execution_count": 200,
   "id": "964f6e19",
   "metadata": {},
   "outputs": [
    {
     "data": {
      "text/plain": [
       "(array([   0,    0,    1, ..., 9549, 9550, 9550], dtype=int64),\n",
       " array([1, 8, 1, ..., 8, 1, 8], dtype=int64))"
      ]
     },
     "execution_count": 200,
     "metadata": {},
     "output_type": "execute_result"
    }
   ],
   "source": [
    "z=np.abs(zscore(df))\n",
    "threshold=3\n",
    "np.where(z>3)"
   ]
  },
  {
   "cell_type": "code",
   "execution_count": 201,
   "id": "cd53847f",
   "metadata": {},
   "outputs": [
    {
     "data": {
      "text/html": [
       "<div>\n",
       "<style scoped>\n",
       "    .dataframe tbody tr th:only-of-type {\n",
       "        vertical-align: middle;\n",
       "    }\n",
       "\n",
       "    .dataframe tbody tr th {\n",
       "        vertical-align: top;\n",
       "    }\n",
       "\n",
       "    .dataframe thead th {\n",
       "        text-align: right;\n",
       "    }\n",
       "</style>\n",
       "<table border=\"1\" class=\"dataframe\">\n",
       "  <thead>\n",
       "    <tr style=\"text-align: right;\">\n",
       "      <th></th>\n",
       "      <th>Restaurant ID</th>\n",
       "      <th>Country Code</th>\n",
       "      <th>City</th>\n",
       "      <th>Locality</th>\n",
       "      <th>Longitude</th>\n",
       "      <th>Latitude</th>\n",
       "      <th>Cuisines</th>\n",
       "      <th>Average Cost for two</th>\n",
       "      <th>Currency</th>\n",
       "      <th>Has Table booking</th>\n",
       "      <th>Has Online delivery</th>\n",
       "      <th>Is delivering now</th>\n",
       "      <th>Price range</th>\n",
       "      <th>Aggregate rating</th>\n",
       "      <th>Rating color</th>\n",
       "      <th>Rating text</th>\n",
       "      <th>Votes</th>\n",
       "      <th>Country</th>\n",
       "    </tr>\n",
       "  </thead>\n",
       "  <tbody>\n",
       "    <tr>\n",
       "      <th>706</th>\n",
       "      <td>2500023</td>\n",
       "      <td>0.693147</td>\n",
       "      <td>11</td>\n",
       "      <td>19</td>\n",
       "      <td>75.346017</td>\n",
       "      <td>19.876219</td>\n",
       "      <td>1338</td>\n",
       "      <td>800</td>\n",
       "      <td>1.609438</td>\n",
       "      <td>0.0</td>\n",
       "      <td>0.0</td>\n",
       "      <td>0.0</td>\n",
       "      <td>3</td>\n",
       "      <td>3.6</td>\n",
       "      <td>5</td>\n",
       "      <td>2</td>\n",
       "      <td>5.484797</td>\n",
       "      <td>1.386294</td>\n",
       "    </tr>\n",
       "    <tr>\n",
       "      <th>707</th>\n",
       "      <td>2500076</td>\n",
       "      <td>0.693147</td>\n",
       "      <td>11</td>\n",
       "      <td>187</td>\n",
       "      <td>0.000000</td>\n",
       "      <td>0.000000</td>\n",
       "      <td>1049</td>\n",
       "      <td>850</td>\n",
       "      <td>1.609438</td>\n",
       "      <td>0.0</td>\n",
       "      <td>0.0</td>\n",
       "      <td>0.0</td>\n",
       "      <td>3</td>\n",
       "      <td>3.3</td>\n",
       "      <td>2</td>\n",
       "      <td>0</td>\n",
       "      <td>4.189655</td>\n",
       "      <td>1.386294</td>\n",
       "    </tr>\n",
       "    <tr>\n",
       "      <th>708</th>\n",
       "      <td>2500054</td>\n",
       "      <td>0.693147</td>\n",
       "      <td>11</td>\n",
       "      <td>150</td>\n",
       "      <td>75.353942</td>\n",
       "      <td>19.874733</td>\n",
       "      <td>1329</td>\n",
       "      <td>600</td>\n",
       "      <td>1.609438</td>\n",
       "      <td>0.0</td>\n",
       "      <td>0.0</td>\n",
       "      <td>0.0</td>\n",
       "      <td>2</td>\n",
       "      <td>3.3</td>\n",
       "      <td>2</td>\n",
       "      <td>0</td>\n",
       "      <td>4.158883</td>\n",
       "      <td>1.386294</td>\n",
       "    </tr>\n",
       "    <tr>\n",
       "      <th>709</th>\n",
       "      <td>2500134</td>\n",
       "      <td>0.693147</td>\n",
       "      <td>11</td>\n",
       "      <td>150</td>\n",
       "      <td>75.340775</td>\n",
       "      <td>19.876106</td>\n",
       "      <td>1618</td>\n",
       "      <td>700</td>\n",
       "      <td>1.609438</td>\n",
       "      <td>0.0</td>\n",
       "      <td>0.0</td>\n",
       "      <td>0.0</td>\n",
       "      <td>2</td>\n",
       "      <td>3.1</td>\n",
       "      <td>2</td>\n",
       "      <td>0</td>\n",
       "      <td>2.995732</td>\n",
       "      <td>1.386294</td>\n",
       "    </tr>\n",
       "    <tr>\n",
       "      <th>710</th>\n",
       "      <td>2500069</td>\n",
       "      <td>0.693147</td>\n",
       "      <td>11</td>\n",
       "      <td>150</td>\n",
       "      <td>75.367127</td>\n",
       "      <td>19.875522</td>\n",
       "      <td>1554</td>\n",
       "      <td>350</td>\n",
       "      <td>1.609438</td>\n",
       "      <td>0.0</td>\n",
       "      <td>0.0</td>\n",
       "      <td>0.0</td>\n",
       "      <td>2</td>\n",
       "      <td>3.4</td>\n",
       "      <td>2</td>\n",
       "      <td>0</td>\n",
       "      <td>3.850148</td>\n",
       "      <td>1.386294</td>\n",
       "    </tr>\n",
       "    <tr>\n",
       "      <th>...</th>\n",
       "      <td>...</td>\n",
       "      <td>...</td>\n",
       "      <td>...</td>\n",
       "      <td>...</td>\n",
       "      <td>...</td>\n",
       "      <td>...</td>\n",
       "      <td>...</td>\n",
       "      <td>...</td>\n",
       "      <td>...</td>\n",
       "      <td>...</td>\n",
       "      <td>...</td>\n",
       "      <td>...</td>\n",
       "      <td>...</td>\n",
       "      <td>...</td>\n",
       "      <td>...</td>\n",
       "      <td>...</td>\n",
       "      <td>...</td>\n",
       "      <td>...</td>\n",
       "    </tr>\n",
       "    <tr>\n",
       "      <th>9272</th>\n",
       "      <td>2800418</td>\n",
       "      <td>0.693147</td>\n",
       "      <td>134</td>\n",
       "      <td>994</td>\n",
       "      <td>0.000000</td>\n",
       "      <td>0.000000</td>\n",
       "      <td>465</td>\n",
       "      <td>400</td>\n",
       "      <td>1.609438</td>\n",
       "      <td>0.0</td>\n",
       "      <td>0.0</td>\n",
       "      <td>0.0</td>\n",
       "      <td>2</td>\n",
       "      <td>3.7</td>\n",
       "      <td>5</td>\n",
       "      <td>2</td>\n",
       "      <td>4.454347</td>\n",
       "      <td>1.386294</td>\n",
       "    </tr>\n",
       "    <tr>\n",
       "      <th>9273</th>\n",
       "      <td>2800881</td>\n",
       "      <td>0.693147</td>\n",
       "      <td>134</td>\n",
       "      <td>994</td>\n",
       "      <td>83.315281</td>\n",
       "      <td>17.719539</td>\n",
       "      <td>322</td>\n",
       "      <td>600</td>\n",
       "      <td>1.609438</td>\n",
       "      <td>0.0</td>\n",
       "      <td>0.0</td>\n",
       "      <td>0.0</td>\n",
       "      <td>2</td>\n",
       "      <td>4.3</td>\n",
       "      <td>1</td>\n",
       "      <td>5</td>\n",
       "      <td>5.153292</td>\n",
       "      <td>1.386294</td>\n",
       "    </tr>\n",
       "    <tr>\n",
       "      <th>9274</th>\n",
       "      <td>2800042</td>\n",
       "      <td>0.693147</td>\n",
       "      <td>134</td>\n",
       "      <td>1081</td>\n",
       "      <td>83.336840</td>\n",
       "      <td>17.721182</td>\n",
       "      <td>88</td>\n",
       "      <td>1500</td>\n",
       "      <td>1.609438</td>\n",
       "      <td>0.0</td>\n",
       "      <td>0.0</td>\n",
       "      <td>0.0</td>\n",
       "      <td>4</td>\n",
       "      <td>3.8</td>\n",
       "      <td>5</td>\n",
       "      <td>2</td>\n",
       "      <td>4.317488</td>\n",
       "      <td>1.386294</td>\n",
       "    </tr>\n",
       "    <tr>\n",
       "      <th>9275</th>\n",
       "      <td>2800019</td>\n",
       "      <td>0.693147</td>\n",
       "      <td>134</td>\n",
       "      <td>1169</td>\n",
       "      <td>83.314942</td>\n",
       "      <td>17.721119</td>\n",
       "      <td>1031</td>\n",
       "      <td>1400</td>\n",
       "      <td>1.609438</td>\n",
       "      <td>0.0</td>\n",
       "      <td>0.0</td>\n",
       "      <td>0.0</td>\n",
       "      <td>3</td>\n",
       "      <td>4.4</td>\n",
       "      <td>1</td>\n",
       "      <td>5</td>\n",
       "      <td>5.758902</td>\n",
       "      <td>1.386294</td>\n",
       "    </tr>\n",
       "    <tr>\n",
       "      <th>9312</th>\n",
       "      <td>18450836</td>\n",
       "      <td>5.003946</td>\n",
       "      <td>9</td>\n",
       "      <td>772</td>\n",
       "      <td>174.779441</td>\n",
       "      <td>0.000000</td>\n",
       "      <td>331</td>\n",
       "      <td>50</td>\n",
       "      <td>1.945910</td>\n",
       "      <td>0.0</td>\n",
       "      <td>0.0</td>\n",
       "      <td>0.0</td>\n",
       "      <td>3</td>\n",
       "      <td>4.0</td>\n",
       "      <td>1</td>\n",
       "      <td>5</td>\n",
       "      <td>3.465736</td>\n",
       "      <td>1.791759</td>\n",
       "    </tr>\n",
       "  </tbody>\n",
       "</table>\n",
       "<p>8537 rows × 18 columns</p>\n",
       "</div>"
      ],
      "text/plain": [
       "      Restaurant ID  Country Code  City  Locality   Longitude   Latitude  \\\n",
       "706         2500023      0.693147    11        19   75.346017  19.876219   \n",
       "707         2500076      0.693147    11       187    0.000000   0.000000   \n",
       "708         2500054      0.693147    11       150   75.353942  19.874733   \n",
       "709         2500134      0.693147    11       150   75.340775  19.876106   \n",
       "710         2500069      0.693147    11       150   75.367127  19.875522   \n",
       "...             ...           ...   ...       ...         ...        ...   \n",
       "9272        2800418      0.693147   134       994    0.000000   0.000000   \n",
       "9273        2800881      0.693147   134       994   83.315281  17.719539   \n",
       "9274        2800042      0.693147   134      1081   83.336840  17.721182   \n",
       "9275        2800019      0.693147   134      1169   83.314942  17.721119   \n",
       "9312       18450836      5.003946     9       772  174.779441   0.000000   \n",
       "\n",
       "      Cuisines  Average Cost for two  Currency  Has Table booking  \\\n",
       "706       1338                   800  1.609438                0.0   \n",
       "707       1049                   850  1.609438                0.0   \n",
       "708       1329                   600  1.609438                0.0   \n",
       "709       1618                   700  1.609438                0.0   \n",
       "710       1554                   350  1.609438                0.0   \n",
       "...        ...                   ...       ...                ...   \n",
       "9272       465                   400  1.609438                0.0   \n",
       "9273       322                   600  1.609438                0.0   \n",
       "9274        88                  1500  1.609438                0.0   \n",
       "9275      1031                  1400  1.609438                0.0   \n",
       "9312       331                    50  1.945910                0.0   \n",
       "\n",
       "      Has Online delivery  Is delivering now  Price range  Aggregate rating  \\\n",
       "706                   0.0                0.0            3               3.6   \n",
       "707                   0.0                0.0            3               3.3   \n",
       "708                   0.0                0.0            2               3.3   \n",
       "709                   0.0                0.0            2               3.1   \n",
       "710                   0.0                0.0            2               3.4   \n",
       "...                   ...                ...          ...               ...   \n",
       "9272                  0.0                0.0            2               3.7   \n",
       "9273                  0.0                0.0            2               4.3   \n",
       "9274                  0.0                0.0            4               3.8   \n",
       "9275                  0.0                0.0            3               4.4   \n",
       "9312                  0.0                0.0            3               4.0   \n",
       "\n",
       "      Rating color  Rating text     Votes   Country  \n",
       "706              5            2  5.484797  1.386294  \n",
       "707              2            0  4.189655  1.386294  \n",
       "708              2            0  4.158883  1.386294  \n",
       "709              2            0  2.995732  1.386294  \n",
       "710              2            0  3.850148  1.386294  \n",
       "...            ...          ...       ...       ...  \n",
       "9272             5            2  4.454347  1.386294  \n",
       "9273             1            5  5.153292  1.386294  \n",
       "9274             5            2  4.317488  1.386294  \n",
       "9275             1            5  5.758902  1.386294  \n",
       "9312             1            5  3.465736  1.791759  \n",
       "\n",
       "[8537 rows x 18 columns]"
      ]
     },
     "execution_count": 201,
     "metadata": {},
     "output_type": "execute_result"
    }
   ],
   "source": [
    "df = df[(z<3).all(axis=1)]\n",
    "df"
   ]
  },
  {
   "cell_type": "code",
   "execution_count": 202,
   "id": "80167d28",
   "metadata": {},
   "outputs": [
    {
     "data": {
      "text/plain": [
       "(8537, 18)"
      ]
     },
     "execution_count": 202,
     "metadata": {},
     "output_type": "execute_result"
    }
   ],
   "source": [
    "df.shape"
   ]
  },
  {
   "cell_type": "markdown",
   "id": "5f1572c5",
   "metadata": {},
   "source": [
    "Percentage data loss"
   ]
  },
  {
   "cell_type": "code",
   "execution_count": 203,
   "id": "81df1443",
   "metadata": {},
   "outputs": [
    {
     "data": {
      "text/plain": [
       "10.616689351900325"
      ]
     },
     "execution_count": 203,
     "metadata": {},
     "output_type": "execute_result"
    }
   ],
   "source": [
    "Data_loss=((9551-8537)/9551)*100\n",
    "Data_loss"
   ]
  },
  {
   "cell_type": "markdown",
   "id": "abe09bca",
   "metadata": {},
   "source": [
    "Task1 - Model for Predicting Average Cost for two"
   ]
  },
  {
   "cell_type": "code",
   "execution_count": 204,
   "id": "07109985",
   "metadata": {},
   "outputs": [],
   "source": [
    "x = df.drop(['Average Cost for two'],axis=1)\n",
    "y = df['Average Cost for two']"
   ]
  },
  {
   "cell_type": "code",
   "execution_count": 205,
   "id": "34835232",
   "metadata": {},
   "outputs": [],
   "source": [
    "from sklearn.preprocessing import MinMaxScaler"
   ]
  },
  {
   "cell_type": "code",
   "execution_count": 206,
   "id": "9fd62bfe",
   "metadata": {},
   "outputs": [
    {
     "name": "stdout",
     "output_type": "stream",
     "text": [
      "[[0.13512914 0.         0.016      ... 0.4        0.58978062 0.        ]\n",
      " [0.135132   0.         0.016      ... 0.         0.45051388 0.        ]\n",
      " [0.13513081 0.         0.016      ... 0.         0.447205   0.        ]\n",
      " ...\n",
      " [0.15134586 0.         1.         ... 0.4        0.46425982 0.        ]\n",
      " [0.15134461 0.         1.         ... 1.         0.61925513 0.        ]\n",
      " [0.99730733 1.         0.         ... 1.         0.37267084 1.        ]]\n"
     ]
    }
   ],
   "source": [
    "scaler = MinMaxScaler()\n",
    "scaler.fit(x)\n",
    "scaled_features = scaler.transform(x)\n",
    "print(scaled_features)"
   ]
  },
  {
   "cell_type": "code",
   "execution_count": 207,
   "id": "58d8f0bd",
   "metadata": {
    "scrolled": true
   },
   "outputs": [
    {
     "name": "stdout",
     "output_type": "stream",
     "text": [
      "R2 score for random state:  0  is  0.7696368788247271\n",
      "R2 score for random state:  0  is  -0.017566797994063466\n",
      "R2 score for random state:  0  is  0.7575978093001137\n",
      "R2 score for random state:  0  is  0.8873320866461111\n",
      "R2 score for random state:  0  is  0.879034311119224\n",
      "R2 score for random state:  1  is  0.7508306510842565\n",
      "R2 score for random state:  1  is  0.10180271487696113\n",
      "R2 score for random state:  1  is  0.7304232708723573\n",
      "R2 score for random state:  1  is  0.8753790685059397\n",
      "R2 score for random state:  1  is  0.8808605479723132\n",
      "R2 score for random state:  2  is  0.7619111788960877\n",
      "R2 score for random state:  2  is  0.07336064336025394\n",
      "R2 score for random state:  2  is  0.718501559122396\n",
      "R2 score for random state:  2  is  0.8560291131287447\n",
      "R2 score for random state:  2  is  0.8655128406026089\n",
      "R2 score for random state:  3  is  0.7670299081619695\n",
      "R2 score for random state:  3  is  0.07514367710495529\n",
      "R2 score for random state:  3  is  0.7352553303950409\n",
      "R2 score for random state:  3  is  0.8723534771628008\n",
      "R2 score for random state:  3  is  0.8540330525850107\n",
      "R2 score for random state:  4  is  0.8124448217074112\n",
      "R2 score for random state:  4  is  0.0809873575804898\n",
      "R2 score for random state:  4  is  0.7391461606759014\n",
      "R2 score for random state:  4  is  0.8825089534276678\n",
      "R2 score for random state:  4  is  0.8833751709676844\n",
      "R2 score for random state:  5  is  0.7829251598630357\n",
      "R2 score for random state:  5  is  0.12577837559301552\n",
      "R2 score for random state:  5  is  0.7272627478856761\n",
      "R2 score for random state:  5  is  0.8932736606049617\n",
      "R2 score for random state:  5  is  0.8881098265045736\n",
      "R2 score for random state:  6  is  0.7226328642912674\n",
      "R2 score for random state:  6  is  0.08999340386318422\n",
      "R2 score for random state:  6  is  0.7760534548002518\n",
      "R2 score for random state:  6  is  0.883232272379904\n",
      "R2 score for random state:  6  is  0.8786926935390053\n",
      "R2 score for random state:  7  is  0.8032689230288781\n",
      "R2 score for random state:  7  is  0.022796746398672907\n",
      "R2 score for random state:  7  is  0.7510604354082733\n",
      "R2 score for random state:  7  is  0.8779841386621109\n",
      "R2 score for random state:  7  is  0.8945736887960996\n",
      "R2 score for random state:  8  is  0.7987554685875489\n",
      "R2 score for random state:  8  is  0.07245950847838123\n",
      "R2 score for random state:  8  is  0.7315884444613834\n",
      "R2 score for random state:  8  is  0.8787954305476242\n",
      "R2 score for random state:  8  is  0.8738002331098285\n",
      "R2 score for random state:  9  is  0.7346182418566076\n",
      "R2 score for random state:  9  is  0.08922408670384474\n",
      "R2 score for random state:  9  is  0.7411612760191879\n",
      "R2 score for random state:  9  is  0.8869594637877605\n",
      "R2 score for random state:  9  is  0.8770016748366036\n",
      "R2 score for random state:  10  is  0.7820581725952123\n",
      "R2 score for random state:  10  is  0.03571321793777671\n",
      "R2 score for random state:  10  is  0.7486253497388233\n",
      "R2 score for random state:  10  is  0.8716986343392187\n",
      "R2 score for random state:  10  is  0.8823148400032125\n",
      "R2 score for random state:  11  is  0.7769042702253992\n",
      "R2 score for random state:  11  is  0.022353882537969216\n",
      "R2 score for random state:  11  is  0.7229703012252577\n",
      "R2 score for random state:  11  is  0.8835976310184288\n",
      "R2 score for random state:  11  is  0.8715579971078169\n",
      "R2 score for random state:  12  is  0.7348243264913329\n",
      "R2 score for random state:  12  is  0.10462750239350116\n",
      "R2 score for random state:  12  is  0.7682275173943172\n",
      "R2 score for random state:  12  is  0.8877227657811977\n",
      "R2 score for random state:  12  is  0.8913537710346875\n",
      "R2 score for random state:  13  is  0.8032576464356934\n",
      "R2 score for random state:  13  is  0.06820622341268967\n",
      "R2 score for random state:  13  is  0.7201996307683529\n",
      "R2 score for random state:  13  is  0.8706943171770156\n",
      "R2 score for random state:  13  is  0.8500918518695477\n",
      "R2 score for random state:  14  is  0.7646706971120044\n",
      "R2 score for random state:  14  is  0.1061012498240761\n",
      "R2 score for random state:  14  is  0.7587150290155531\n",
      "R2 score for random state:  14  is  0.8961406249733126\n",
      "R2 score for random state:  14  is  0.8928364105175095\n",
      "R2 score for random state:  15  is  0.7252492423078878\n",
      "R2 score for random state:  15  is  0.08453518360034273\n",
      "R2 score for random state:  15  is  0.7111123436574147\n",
      "R2 score for random state:  15  is  0.8637878606638096\n",
      "R2 score for random state:  15  is  0.8584551647319496\n",
      "R2 score for random state:  16  is  0.8194131408935859\n",
      "R2 score for random state:  16  is  0.07524829763360041\n",
      "R2 score for random state:  16  is  0.7174052117654023\n",
      "R2 score for random state:  16  is  0.8807733240534302\n",
      "R2 score for random state:  16  is  0.8765640610916904\n",
      "R2 score for random state:  17  is  0.8124906607855351\n",
      "R2 score for random state:  17  is  0.002067359102283728\n",
      "R2 score for random state:  17  is  0.7812660363485606\n",
      "R2 score for random state:  17  is  0.8953067884069983\n",
      "R2 score for random state:  17  is  0.8813266543512462\n",
      "R2 score for random state:  18  is  0.7271000979323907\n",
      "R2 score for random state:  18  is  0.00952177526763065\n",
      "R2 score for random state:  18  is  0.7481591704791144\n",
      "R2 score for random state:  18  is  0.8625606066392164\n",
      "R2 score for random state:  18  is  0.8596850664427912\n",
      "R2 score for random state:  19  is  0.807544363557697\n",
      "R2 score for random state:  19  is  0.10672179399692872\n",
      "R2 score for random state:  19  is  0.7389866026783278\n",
      "R2 score for random state:  19  is  0.8929813253651315\n",
      "R2 score for random state:  19  is  0.8758211420100132\n",
      "R2 score for random state:  20  is  0.7383958831923292\n",
      "R2 score for random state:  20  is  0.09517473951609268\n",
      "R2 score for random state:  20  is  0.723307629272524\n",
      "R2 score for random state:  20  is  0.8764408996477238\n",
      "R2 score for random state:  20  is  0.8450391376328037\n",
      "R2 score for random state:  21  is  0.5925199442906176\n",
      "R2 score for random state:  21  is  0.0840105848138819\n",
      "R2 score for random state:  21  is  0.7434114314604187\n",
      "R2 score for random state:  21  is  0.8811946676239859\n",
      "R2 score for random state:  21  is  0.8691407796326915\n",
      "R2 score for random state:  22  is  0.7877799880521348\n",
      "R2 score for random state:  22  is  0.10825963182775522\n",
      "R2 score for random state:  22  is  0.7222397543469226\n",
      "R2 score for random state:  22  is  0.8833770195953021\n",
      "R2 score for random state:  22  is  0.8864094294704578\n",
      "R2 score for random state:  23  is  0.7488722979454847\n",
      "R2 score for random state:  23  is  0.04359272618530019\n",
      "R2 score for random state:  23  is  0.7739413474325155\n",
      "R2 score for random state:  23  is  0.8914291884006122\n",
      "R2 score for random state:  23  is  0.8891280502291665\n",
      "R2 score for random state:  24  is  0.7590823697499922\n",
      "R2 score for random state:  24  is  0.13534256985717497\n",
      "R2 score for random state:  24  is  0.7232936148424058\n",
      "R2 score for random state:  24  is  0.8827768091770994\n",
      "R2 score for random state:  24  is  0.8670170735140809\n",
      "R2 score for random state:  25  is  0.7636444826714031\n",
      "R2 score for random state:  25  is  0.022107583464292868\n",
      "R2 score for random state:  25  is  0.7313936041171568\n",
      "R2 score for random state:  25  is  0.8570839231014449\n",
      "R2 score for random state:  25  is  0.8663756496756405\n",
      "R2 score for random state:  26  is  0.7754887308731149\n",
      "R2 score for random state:  26  is  0.03334263203189636\n",
      "R2 score for random state:  26  is  0.7248112954382365\n",
      "R2 score for random state:  26  is  0.8489568738279136\n",
      "R2 score for random state:  26  is  0.8473886747690614\n",
      "R2 score for random state:  27  is  0.7908886375441215\n",
      "R2 score for random state:  27  is  0.05376548240484036\n",
      "R2 score for random state:  27  is  0.7509041326046875\n",
      "R2 score for random state:  27  is  0.8833326239650419\n",
      "R2 score for random state:  27  is  0.8815303213833242\n",
      "R2 score for random state:  28  is  0.7680757241169806\n",
      "R2 score for random state:  28  is  0.027990712627450565\n",
      "R2 score for random state:  28  is  0.7391975338145451\n",
      "R2 score for random state:  28  is  0.871355753308197\n",
      "R2 score for random state:  28  is  0.8538542367585298\n",
      "R2 score for random state:  29  is  0.7609032680465961\n",
      "R2 score for random state:  29  is  -0.0037612183473192395\n",
      "R2 score for random state:  29  is  0.7653703772241538\n",
      "R2 score for random state:  29  is  0.8979905898292103\n",
      "R2 score for random state:  29  is  0.8902994227467979\n",
      "R2 score for random state:  30  is  0.7571499860646446\n",
      "R2 score for random state:  30  is  0.08882357274027175\n",
      "R2 score for random state:  30  is  0.7654054217128885\n",
      "R2 score for random state:  30  is  0.8761263683975421\n",
      "R2 score for random state:  30  is  0.8708975996857025\n",
      "R2 score for random state:  31  is  0.732899527167797\n",
      "R2 score for random state:  31  is  0.04552379971360676\n",
      "R2 score for random state:  31  is  0.7130390933177557\n",
      "R2 score for random state:  31  is  0.8646427661908838\n",
      "R2 score for random state:  31  is  0.8516989015983414\n",
      "R2 score for random state:  32  is  0.7985624658909042\n",
      "R2 score for random state:  32  is  0.1036076795166414\n",
      "R2 score for random state:  32  is  0.7254014282193995\n",
      "R2 score for random state:  32  is  0.8681603764090888\n",
      "R2 score for random state:  32  is  0.8672996405905556\n",
      "R2 score for random state:  33  is  0.7347379108515483\n",
      "R2 score for random state:  33  is  0.11427235693350823\n",
      "R2 score for random state:  33  is  0.7267245616704632\n",
      "R2 score for random state:  33  is  0.87948682169532\n",
      "R2 score for random state:  33  is  0.8724248730882072\n",
      "R2 score for random state:  34  is  0.7806172975174681\n",
      "R2 score for random state:  34  is  0.032616510587274994\n",
      "R2 score for random state:  34  is  0.7560215660881383\n",
      "R2 score for random state:  34  is  0.8885789497875194\n",
      "R2 score for random state:  34  is  0.8756180798453098\n",
      "R2 score for random state:  35  is  0.7384202138129876\n",
      "R2 score for random state:  35  is  0.05745259519541168\n",
      "R2 score for random state:  35  is  0.7338246264909256\n",
      "R2 score for random state:  35  is  0.8497402205507761\n",
      "R2 score for random state:  35  is  0.8599095185267104\n",
      "R2 score for random state:  36  is  0.7838996431195175\n",
      "R2 score for random state:  36  is  0.08234843219618604\n",
      "R2 score for random state:  36  is  0.7285564953907443\n",
      "R2 score for random state:  36  is  0.8726117575583188\n",
      "R2 score for random state:  36  is  0.8611599508445588\n",
      "R2 score for random state:  37  is  0.7595147375192706\n",
      "R2 score for random state:  37  is  0.003394240543960425\n",
      "R2 score for random state:  37  is  0.7589551209400394\n",
      "R2 score for random state:  37  is  0.8916370640551523\n",
      "R2 score for random state:  37  is  0.8896293897069651\n",
      "R2 score for random state:  38  is  0.6545663878076391\n",
      "R2 score for random state:  38  is  0.11883736138172696\n",
      "R2 score for random state:  38  is  0.7442214611787883\n",
      "R2 score for random state:  38  is  0.9002527259040219\n",
      "R2 score for random state:  38  is  0.8859766548503898\n",
      "R2 score for random state:  39  is  0.7962184612741163\n",
      "R2 score for random state:  39  is  0.03665436739305272\n",
      "R2 score for random state:  39  is  0.751172380766084\n",
      "R2 score for random state:  39  is  0.8823080658517842\n",
      "R2 score for random state:  39  is  0.8597516909741536\n",
      "R2 score for random state:  40  is  0.8068628133824751\n",
      "R2 score for random state:  40  is  0.12282064467823084\n",
      "R2 score for random state:  40  is  0.7313351531321222\n",
      "R2 score for random state:  40  is  0.8907072065258658\n",
      "R2 score for random state:  40  is  0.8828162197846086\n",
      "R2 score for random state:  41  is  0.7506945683141804\n",
      "R2 score for random state:  41  is  0.1264080089075562\n",
      "R2 score for random state:  41  is  0.7517758683249393\n",
      "R2 score for random state:  41  is  0.8823286043097015\n",
      "R2 score for random state:  41  is  0.8896919895686904\n",
      "R2 score for random state:  42  is  0.779373917708558\n",
      "R2 score for random state:  42  is  0.05948952583993816\n",
      "R2 score for random state:  42  is  0.7593645306173122\n",
      "R2 score for random state:  42  is  0.8869249624801393\n",
      "R2 score for random state:  42  is  0.8649221699204778\n",
      "R2 score for random state:  43  is  0.8034193124751045\n",
      "R2 score for random state:  43  is  0.07670802510095787\n",
      "R2 score for random state:  43  is  0.7162067995118407\n",
      "R2 score for random state:  43  is  0.8678009110684606\n",
      "R2 score for random state:  43  is  0.8672489681723485\n",
      "R2 score for random state:  44  is  0.7621062246411002\n",
      "R2 score for random state:  44  is  0.06743803948221216\n",
      "R2 score for random state:  44  is  0.7273423251162459\n",
      "R2 score for random state:  44  is  0.8764722718831212\n",
      "R2 score for random state:  44  is  0.8679619200521069\n",
      "R2 score for random state:  45  is  0.6816123843816531\n",
      "R2 score for random state:  45  is  0.10886577771111561\n",
      "R2 score for random state:  45  is  0.7513777899376549\n",
      "R2 score for random state:  45  is  0.8664605730266269\n",
      "R2 score for random state:  45  is  0.8739625569914572\n",
      "R2 score for random state:  46  is  0.732579797530166\n",
      "R2 score for random state:  46  is  0.09946503802284201\n",
      "R2 score for random state:  46  is  0.7283349473146241\n",
      "R2 score for random state:  46  is  0.8666642194559344\n",
      "R2 score for random state:  46  is  0.8611185206447078\n",
      "R2 score for random state:  47  is  0.734920701575211\n",
      "R2 score for random state:  47  is  0.014300843253930107\n",
      "R2 score for random state:  47  is  0.746339066221027\n",
      "R2 score for random state:  47  is  0.881731275908107\n",
      "R2 score for random state:  47  is  0.8616109569241496\n",
      "R2 score for random state:  48  is  0.783208211088245\n",
      "R2 score for random state:  48  is  0.083571605010474\n",
      "R2 score for random state:  48  is  0.7455821600501318\n",
      "R2 score for random state:  48  is  0.8771027475225031\n",
      "R2 score for random state:  48  is  0.8629683724230662\n",
      "R2 score for random state:  49  is  0.8069205370065484\n",
      "R2 score for random state:  49  is  0.08770139164007673\n",
      "R2 score for random state:  49  is  0.7209509177143456\n",
      "R2 score for random state:  49  is  0.8776829289252349\n",
      "R2 score for random state:  49  is  0.8723266942446529\n",
      "\n",
      "\n",
      "\n",
      "\n"
     ]
    }
   ],
   "source": [
    "model = [DecisionTreeRegressor(),KNeighborsRegressor(),LinearRegression(),RandomForestRegressor(),ExtraTreesRegressor()]\n",
    "\n",
    "for i in range(0,50):\n",
    "    x_train,x_test,y_train,y_test = train_test_split(x,y,test_size=0.33,random_state=i)\n",
    "    for models in model:\n",
    "        models.fit(x_train,y_train)\n",
    "        prediction = models.predict(x_test)\n",
    "        R2Score = r2_score(y_test,prediction)\n",
    "        print(\"R2 score for random state: \", i, \" is \",R2Score)\n",
    "print()\n",
    "print()\n",
    "print()\n",
    "print()"
   ]
  },
  {
   "cell_type": "code",
   "execution_count": 208,
   "id": "eb2997ae",
   "metadata": {},
   "outputs": [
    {
     "name": "stdout",
     "output_type": "stream",
     "text": [
      "Mean Absolute Error:  111.9249467707594\n",
      "Mean Squared Error:  45788.07847764372\n",
      "Root Mean Squared Error:  213.98149096976525\n"
     ]
    }
   ],
   "source": [
    "from sklearn.metrics import mean_squared_error\n",
    "from sklearn.metrics import mean_absolute_error\n",
    "\n",
    "print(\"Mean Absolute Error: \", mean_absolute_error(y_test,prediction))\n",
    "print(\"Mean Squared Error: \",mean_squared_error(y_test,prediction))\n",
    "print(\"Root Mean Squared Error: \",np.sqrt(mean_squared_error(y_test,prediction)))"
   ]
  },
  {
   "cell_type": "markdown",
   "id": "dc4c00b6",
   "metadata": {},
   "source": [
    "Task2 - Predicting Price Range"
   ]
  },
  {
   "cell_type": "code",
   "execution_count": 209,
   "id": "83e136cf",
   "metadata": {},
   "outputs": [],
   "source": [
    "x1 = df.drop(['Price range'],axis=1)\n",
    "y1 = df['Price range']"
   ]
  },
  {
   "cell_type": "code",
   "execution_count": 210,
   "id": "7883e6f1",
   "metadata": {},
   "outputs": [
    {
     "name": "stdout",
     "output_type": "stream",
     "text": [
      "[[0.13512914 0.         0.016      ... 0.4        0.58978062 0.        ]\n",
      " [0.135132   0.         0.016      ... 0.         0.45051388 0.        ]\n",
      " [0.13513081 0.         0.016      ... 0.         0.447205   0.        ]\n",
      " ...\n",
      " [0.15134586 0.         1.         ... 0.4        0.46425982 0.        ]\n",
      " [0.15134461 0.         1.         ... 1.         0.61925513 0.        ]\n",
      " [0.99730733 1.         0.         ... 1.         0.37267084 1.        ]]\n"
     ]
    }
   ],
   "source": [
    "scaler = MinMaxScaler()\n",
    "scaler.fit(x1)\n",
    "scaled_features = scaler.transform(x1)\n",
    "print(scaled_features)"
   ]
  },
  {
   "cell_type": "code",
   "execution_count": 211,
   "id": "b41755b4",
   "metadata": {},
   "outputs": [
    {
     "data": {
      "text/plain": [
       "706     3\n",
       "707     3\n",
       "708     2\n",
       "709     2\n",
       "710     2\n",
       "       ..\n",
       "9272    2\n",
       "9273    2\n",
       "9274    4\n",
       "9275    3\n",
       "9312    3\n",
       "Name: Price range, Length: 8537, dtype: int64"
      ]
     },
     "execution_count": 211,
     "metadata": {},
     "output_type": "execute_result"
    }
   ],
   "source": [
    "df['Price range']"
   ]
  },
  {
   "cell_type": "code",
   "execution_count": 212,
   "id": "2514c0ef",
   "metadata": {
    "scrolled": true
   },
   "outputs": [
    {
     "name": "stdout",
     "output_type": "stream",
     "text": [
      "Accuracy score for random state:  0  is  0.9879347054648687\n",
      "Accuracy score for random state:  0  is  0.5145493257629524\n",
      "Accuracy score for random state:  0  is  0.9840312278211497\n",
      "Accuracy score for random state:  0  is  0.7157558552164656\n",
      "Accuracy score for random state:  1  is  0.9914833215046132\n",
      "Accuracy score for random state:  1  is  0.5024840312278211\n",
      "Accuracy score for random state:  1  is  0.988999290276792\n",
      "Accuracy score for random state:  1  is  0.7274662881476224\n",
      "Accuracy score for random state:  2  is  0.9882895670688432\n",
      "Accuracy score for random state:  2  is  0.5230660042583393\n",
      "Accuracy score for random state:  2  is  0.9850958126330731\n",
      "Accuracy score for random state:  2  is  0.709013484740951\n",
      "Accuracy score for random state:  3  is  0.9879347054648687\n",
      "Accuracy score for random state:  3  is  0.5188076650106459\n",
      "Accuracy score for random state:  3  is  0.9879347054648687\n",
      "Accuracy score for random state:  3  is  0.7139815471965933\n",
      "Accuracy score for random state:  4  is  0.9904187366926899\n",
      "Accuracy score for random state:  4  is  0.4985805535841022\n",
      "Accuracy score for random state:  4  is  0.9872249822569198\n",
      "Accuracy score for random state:  4  is  0.71291696238467\n",
      "Accuracy score for random state:  5  is  0.9875798438608943\n",
      "Accuracy score for random state:  5  is  0.5205819730305181\n",
      "Accuracy score for random state:  5  is  0.985805535841022\n",
      "Accuracy score for random state:  5  is  0.7334989354151881\n",
      "Accuracy score for random state:  6  is  0.9872249822569198\n",
      "Accuracy score for random state:  6  is  0.5092264017033357\n",
      "Accuracy score for random state:  6  is  0.9872249822569198\n",
      "Accuracy score for random state:  6  is  0.7278211497515968\n",
      "Accuracy score for random state:  7  is  0.9861603974449965\n",
      "Accuracy score for random state:  7  is  0.5156139105748758\n",
      "Accuracy score for random state:  7  is  0.9833215046132009\n",
      "Accuracy score for random state:  7  is  0.7171753016323634\n",
      "Accuracy score for random state:  8  is  0.9868701206529453\n",
      "Accuracy score for random state:  8  is  0.5039034776437189\n",
      "Accuracy score for random state:  8  is  0.9843860894251242\n",
      "Accuracy score for random state:  8  is  0.7246273953158269\n",
      "Accuracy score for random state:  9  is  0.9904187366926899\n",
      "Accuracy score for random state:  9  is  0.514194464158978\n",
      "Accuracy score for random state:  9  is  0.9854506742370476\n",
      "Accuracy score for random state:  9  is  0.7224982256919801\n",
      "Accuracy score for random state:  10  is  0.9861603974449965\n",
      "Accuracy score for random state:  10  is  0.49680624556423\n",
      "Accuracy score for random state:  10  is  0.9865152590489709\n",
      "Accuracy score for random state:  10  is  0.7136266855926189\n",
      "Accuracy score for random state:  11  is  0.9904187366926899\n",
      "Accuracy score for random state:  11  is  0.4964513839602555\n",
      "Accuracy score for random state:  11  is  0.9875798438608943\n",
      "Accuracy score for random state:  11  is  0.7157558552164656\n",
      "Accuracy score for random state:  12  is  0.9925479063165366\n",
      "Accuracy score for random state:  12  is  0.5124201561391057\n",
      "Accuracy score for random state:  12  is  0.9886444286728177\n",
      "Accuracy score for random state:  12  is  0.7182398864442867\n",
      "Accuracy score for random state:  13  is  0.9886444286728177\n",
      "Accuracy score for random state:  13  is  0.5092264017033357\n",
      "Accuracy score for random state:  13  is  0.9833215046132009\n",
      "Accuracy score for random state:  13  is  0.7164655784244145\n",
      "Accuracy score for random state:  14  is  0.9886444286728177\n",
      "Accuracy score for random state:  14  is  0.5067423704755145\n",
      "Accuracy score for random state:  14  is  0.985805535841022\n",
      "Accuracy score for random state:  14  is  0.7100780695528743\n",
      "Accuracy score for random state:  15  is  0.9850958126330731\n",
      "Accuracy score for random state:  15  is  0.5060326472675657\n",
      "Accuracy score for random state:  15  is  0.9811923349893541\n",
      "Accuracy score for random state:  15  is  0.7221433640880057\n",
      "Accuracy score for random state:  16  is  0.9897090134847409\n",
      "Accuracy score for random state:  16  is  0.4978708303761533\n",
      "Accuracy score for random state:  16  is  0.9850958126330731\n",
      "Accuracy score for random state:  16  is  0.7260468417317246\n",
      "Accuracy score for random state:  17  is  0.9879347054648687\n",
      "Accuracy score for random state:  17  is  0.5010645848119234\n",
      "Accuracy score for random state:  17  is  0.9882895670688432\n",
      "Accuracy score for random state:  17  is  0.7264017033356991\n",
      "Accuracy score for random state:  18  is  0.9861603974449965\n",
      "Accuracy score for random state:  18  is  0.5113555713271823\n",
      "Accuracy score for random state:  18  is  0.985805535841022\n",
      "Accuracy score for random state:  18  is  0.7281760113555713\n",
      "Accuracy score for random state:  19  is  0.9829666430092264\n",
      "Accuracy score for random state:  19  is  0.5081618168914124\n",
      "Accuracy score for random state:  19  is  0.9847409510290986\n",
      "Accuracy score for random state:  19  is  0.7193044712562101\n",
      "Accuracy score for random state:  20  is  0.9875798438608943\n",
      "Accuracy score for random state:  20  is  0.5074520936834634\n",
      "Accuracy score for random state:  20  is  0.9829666430092264\n",
      "Accuracy score for random state:  20  is  0.7207239176721079\n",
      "Accuracy score for random state:  21  is  0.9875798438608943\n",
      "Accuracy score for random state:  21  is  0.5195173882185947\n",
      "Accuracy score for random state:  21  is  0.9843860894251242\n",
      "Accuracy score for random state:  21  is  0.7175301632363378\n",
      "Accuracy score for random state:  22  is  0.9932576295244855\n",
      "Accuracy score for random state:  22  is  0.5085166784953868\n",
      "Accuracy score for random state:  22  is  0.9875798438608943\n",
      "Accuracy score for random state:  22  is  0.71611071682044\n",
      "Accuracy score for random state:  23  is  0.9879347054648687\n",
      "Accuracy score for random state:  23  is  0.5031937544357701\n",
      "Accuracy score for random state:  23  is  0.9865152590489709\n",
      "Accuracy score for random state:  23  is  0.7185947480482612\n",
      "Accuracy score for random state:  24  is  0.9875798438608943\n",
      "Accuracy score for random state:  24  is  0.5095812633073101\n",
      "Accuracy score for random state:  24  is  0.9836763662171752\n",
      "Accuracy score for random state:  24  is  0.7185947480482612\n",
      "Accuracy score for random state:  25  is  0.9872249822569198\n",
      "Accuracy score for random state:  25  is  0.5092264017033357\n",
      "Accuracy score for random state:  25  is  0.9843860894251242\n",
      "Accuracy score for random state:  25  is  0.7083037615330021\n",
      "Accuracy score for random state:  26  is  0.985805535841022\n",
      "Accuracy score for random state:  26  is  0.5177430801987225\n",
      "Accuracy score for random state:  26  is  0.9854506742370476\n",
      "Accuracy score for random state:  26  is  0.7224982256919801\n",
      "Accuracy score for random state:  27  is  0.9897090134847409\n",
      "Accuracy score for random state:  27  is  0.5060326472675657\n",
      "Accuracy score for random state:  27  is  0.9850958126330731\n",
      "Accuracy score for random state:  27  is  0.7285308729595458\n",
      "Accuracy score for random state:  28  is  0.9900638750887154\n",
      "Accuracy score for random state:  28  is  0.507097232079489\n",
      "Accuracy score for random state:  28  is  0.9836763662171752\n",
      "Accuracy score for random state:  28  is  0.7068843151171044\n",
      "Accuracy score for random state:  29  is  0.9840312278211497\n",
      "Accuracy score for random state:  29  is  0.5095812633073101\n",
      "Accuracy score for random state:  29  is  0.9815471965933286\n",
      "Accuracy score for random state:  29  is  0.7334989354151881\n",
      "Accuracy score for random state:  30  is  0.988999290276792\n",
      "Accuracy score for random state:  30  is  0.5113555713271823\n",
      "Accuracy score for random state:  30  is  0.9854506742370476\n",
      "Accuracy score for random state:  30  is  0.7132718239886444\n",
      "Accuracy score for random state:  31  is  0.9840312278211497\n",
      "Accuracy score for random state:  31  is  0.5177430801987225\n",
      "Accuracy score for random state:  31  is  0.9850958126330731\n",
      "Accuracy score for random state:  31  is  0.71291696238467\n",
      "Accuracy score for random state:  32  is  0.9833215046132009\n",
      "Accuracy score for random state:  32  is  0.5166784953867991\n",
      "Accuracy score for random state:  32  is  0.9829666430092264\n",
      "Accuracy score for random state:  32  is  0.7217885024840313\n",
      "Accuracy score for random state:  33  is  0.9886444286728177\n",
      "Accuracy score for random state:  33  is  0.5113555713271823\n",
      "Accuracy score for random state:  33  is  0.9865152590489709\n",
      "Accuracy score for random state:  33  is  0.7207239176721079\n",
      "Accuracy score for random state:  34  is  0.9850958126330731\n",
      "Accuracy score for random state:  34  is  0.5138396025550035\n",
      "Accuracy score for random state:  34  is  0.9886444286728177\n",
      "Accuracy score for random state:  34  is  0.7146912704045423\n",
      "Accuracy score for random state:  35  is  0.9872249822569198\n",
      "Accuracy score for random state:  35  is  0.49680624556423\n",
      "Accuracy score for random state:  35  is  0.985805535841022\n",
      "Accuracy score for random state:  35  is  0.7253371185237757\n",
      "Accuracy score for random state:  36  is  0.9847409510290986\n",
      "Accuracy score for random state:  36  is  0.5102909865152591\n",
      "Accuracy score for random state:  36  is  0.9811923349893541\n",
      "Accuracy score for random state:  36  is  0.7274662881476224\n",
      "Accuracy score for random state:  37  is  0.9886444286728177\n",
      "Accuracy score for random state:  37  is  0.5102909865152591\n",
      "Accuracy score for random state:  37  is  0.9868701206529453\n",
      "Accuracy score for random state:  37  is  0.705819730305181\n",
      "Accuracy score for random state:  38  is  0.9879347054648687\n",
      "Accuracy score for random state:  38  is  0.5234208658623137\n",
      "Accuracy score for random state:  38  is  0.985805535841022\n",
      "Accuracy score for random state:  38  is  0.7359829666430092\n",
      "Accuracy score for random state:  39  is  0.9879347054648687\n",
      "Accuracy score for random state:  39  is  0.5127750177430802\n",
      "Accuracy score for random state:  39  is  0.9865152590489709\n",
      "Accuracy score for random state:  39  is  0.7097232079489\n",
      "Accuracy score for random state:  40  is  0.9843860894251242\n",
      "Accuracy score for random state:  40  is  0.5159687721788503\n",
      "Accuracy score for random state:  40  is  0.985805535841022\n",
      "Accuracy score for random state:  40  is  0.7196593328601846\n",
      "Accuracy score for random state:  41  is  0.985805535841022\n",
      "Accuracy score for random state:  41  is  0.5234208658623137\n",
      "Accuracy score for random state:  41  is  0.9836763662171752\n",
      "Accuracy score for random state:  41  is  0.7178850248403122\n",
      "Accuracy score for random state:  42  is  0.9868701206529453\n",
      "Accuracy score for random state:  42  is  0.5113555713271823\n",
      "Accuracy score for random state:  42  is  0.9850958126330731\n",
      "Accuracy score for random state:  42  is  0.7157558552164656\n",
      "Accuracy score for random state:  43  is  0.9900638750887154\n",
      "Accuracy score for random state:  43  is  0.5127750177430802\n",
      "Accuracy score for random state:  43  is  0.9865152590489709\n",
      "Accuracy score for random state:  43  is  0.7114975159687722\n",
      "Accuracy score for random state:  44  is  0.981902058197303\n",
      "Accuracy score for random state:  44  is  0.4982256919801277\n",
      "Accuracy score for random state:  44  is  0.9854506742370476\n",
      "Accuracy score for random state:  44  is  0.7182398864442867\n",
      "Accuracy score for random state:  45  is  0.9879347054648687\n",
      "Accuracy score for random state:  45  is  0.5021291696238467\n",
      "Accuracy score for random state:  45  is  0.9836763662171752\n",
      "Accuracy score for random state:  45  is  0.7015613910574876\n",
      "Accuracy score for random state:  46  is  0.9840312278211497\n",
      "Accuracy score for random state:  46  is  0.5014194464158978\n",
      "Accuracy score for random state:  46  is  0.985805535841022\n",
      "Accuracy score for random state:  46  is  0.7239176721078779\n",
      "Accuracy score for random state:  47  is  0.9861603974449965\n",
      "Accuracy score for random state:  47  is  0.5007097232079489\n",
      "Accuracy score for random state:  47  is  0.9833215046132009\n",
      "Accuracy score for random state:  47  is  0.7207239176721079\n",
      "Accuracy score for random state:  48  is  0.99361249112846\n",
      "Accuracy score for random state:  48  is  0.5120652945351313\n",
      "Accuracy score for random state:  48  is  0.9914833215046132\n",
      "Accuracy score for random state:  48  is  0.7334989354151881\n",
      "Accuracy score for random state:  49  is  0.985805535841022\n",
      "Accuracy score for random state:  49  is  0.5085166784953868\n",
      "Accuracy score for random state:  49  is  0.9861603974449965\n",
      "Accuracy score for random state:  49  is  0.7185947480482612\n",
      "\n",
      "\n",
      "\n",
      "\n"
     ]
    }
   ],
   "source": [
    "model = [DecisionTreeClassifier(),SVC(),RandomForestClassifier(),KNeighborsClassifier()]\n",
    "\n",
    "for i in range(0,50):\n",
    "    x1_train,x1_test,y1_train,y1_test = train_test_split(x1,y1,test_size=0.33,random_state=i)\n",
    "    for models in model:\n",
    "        models.fit(x1_train,y1_train)\n",
    "        prediction = models.predict(x1_test)\n",
    "        accu_Score = accuracy_score(y1_test,prediction)\n",
    "        print(\"Accuracy score for random state: \", i, \" is \",accu_Score)\n",
    "print()\n",
    "print()\n",
    "print()\n",
    "print()"
   ]
  },
  {
   "cell_type": "markdown",
   "id": "8ffc6f34",
   "metadata": {},
   "source": [
    "Highest accuracy Score:0.9914833215046132 is at random state 48 and for model: RandomForestClassifier."
   ]
  },
  {
   "cell_type": "code",
   "execution_count": 218,
   "id": "efc72a2d",
   "metadata": {},
   "outputs": [],
   "source": [
    "score = cross_val_score(Rfc,x1,y1,cv=5)"
   ]
  },
  {
   "cell_type": "code",
   "execution_count": 219,
   "id": "fc421155",
   "metadata": {},
   "outputs": [
    {
     "name": "stdout",
     "output_type": "stream",
     "text": [
      "Croos Val Score:  [0.95491803 0.96487119 0.99941418 0.99941418 0.96426479]\n",
      "Mean Score:  0.9765764746072447\n",
      "std Score:  0.01897788454403541\n"
     ]
    }
   ],
   "source": [
    "print(\"Croos Val Score: \",score)\n",
    "print(\"Mean Score: \",score.mean())\n",
    "print(\"std Score: \",score.std())"
   ]
  },
  {
   "cell_type": "code",
   "execution_count": null,
   "id": "79656c2c",
   "metadata": {},
   "outputs": [],
   "source": []
  }
 ],
 "metadata": {
  "kernelspec": {
   "display_name": "Python 3 (ipykernel)",
   "language": "python",
   "name": "python3"
  },
  "language_info": {
   "codemirror_mode": {
    "name": "ipython",
    "version": 3
   },
   "file_extension": ".py",
   "mimetype": "text/x-python",
   "name": "python",
   "nbconvert_exporter": "python",
   "pygments_lexer": "ipython3",
   "version": "3.9.7"
  }
 },
 "nbformat": 4,
 "nbformat_minor": 5
}

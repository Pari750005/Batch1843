{
 "cells": [
  {
   "cell_type": "code",
   "execution_count": 299,
   "id": "36dfc875",
   "metadata": {},
   "outputs": [],
   "source": [
    "import pandas as pd\n",
    "import numpy as np\n",
    "import seaborn as sns\n",
    "import matplotlib.pyplot as plt\n",
    "from sklearn.preprocessing import LabelEncoder\n",
    "le = LabelEncoder()\n",
    "from sklearn.impute import SimpleImputer\n",
    "from scipy.stats import zscore\n",
    "from sklearn.preprocessing import StandardScaler\n",
    "from statsmodels.stats.outliers_influence import variance_inflation_factor\n",
    "from sklearn.model_selection import train_test_split\n",
    "from sklearn.model_selection import GridSearchCV\n",
    "from sklearn.model_selection import cross_val_score\n",
    "import warnings\n",
    "warnings.filterwarnings('ignore')\n",
    "from sklearn.tree import DecisionTreeClassifier\n",
    "from sklearn.svm import SVC\n",
    "from sklearn.ensemble import RandomForestClassifier\n",
    "from sklearn.neighbors import KNeighborsClassifier\n",
    "from sklearn.metrics import accuracy_score,confusion_matrix, classification_report\n",
    "import sklearn\n",
    "from sklearn.neighbors import KNeighborsRegressor\n",
    "from sklearn.svm import SVR\n",
    "from sklearn.tree import DecisionTreeRegressor\n",
    "from sklearn.linear_model import LinearRegression\n",
    "from sklearn.metrics import r2_score"
   ]
  },
  {
   "cell_type": "code",
   "execution_count": 212,
   "id": "0bd3285d",
   "metadata": {},
   "outputs": [
    {
     "data": {
      "text/html": [
       "<div>\n",
       "<style scoped>\n",
       "    .dataframe tbody tr th:only-of-type {\n",
       "        vertical-align: middle;\n",
       "    }\n",
       "\n",
       "    .dataframe tbody tr th {\n",
       "        vertical-align: top;\n",
       "    }\n",
       "\n",
       "    .dataframe thead th {\n",
       "        text-align: right;\n",
       "    }\n",
       "</style>\n",
       "<table border=\"1\" class=\"dataframe\">\n",
       "  <thead>\n",
       "    <tr style=\"text-align: right;\">\n",
       "      <th></th>\n",
       "      <th>country</th>\n",
       "      <th>country_long</th>\n",
       "      <th>name</th>\n",
       "      <th>gppd_idnr</th>\n",
       "      <th>capacity_mw</th>\n",
       "      <th>latitude</th>\n",
       "      <th>longitude</th>\n",
       "      <th>primary_fuel</th>\n",
       "      <th>other_fuel1</th>\n",
       "      <th>other_fuel2</th>\n",
       "      <th>...</th>\n",
       "      <th>year_of_capacity_data</th>\n",
       "      <th>generation_gwh_2013</th>\n",
       "      <th>generation_gwh_2014</th>\n",
       "      <th>generation_gwh_2015</th>\n",
       "      <th>generation_gwh_2016</th>\n",
       "      <th>generation_gwh_2017</th>\n",
       "      <th>generation_gwh_2018</th>\n",
       "      <th>generation_gwh_2019</th>\n",
       "      <th>generation_data_source</th>\n",
       "      <th>estimated_generation_gwh</th>\n",
       "    </tr>\n",
       "  </thead>\n",
       "  <tbody>\n",
       "    <tr>\n",
       "      <th>0</th>\n",
       "      <td>IND</td>\n",
       "      <td>India</td>\n",
       "      <td>ACME Solar Tower</td>\n",
       "      <td>WRI1020239</td>\n",
       "      <td>2.5</td>\n",
       "      <td>28.1839</td>\n",
       "      <td>73.2407</td>\n",
       "      <td>Solar</td>\n",
       "      <td>NaN</td>\n",
       "      <td>NaN</td>\n",
       "      <td>...</td>\n",
       "      <td>NaN</td>\n",
       "      <td>NaN</td>\n",
       "      <td>NaN</td>\n",
       "      <td>NaN</td>\n",
       "      <td>NaN</td>\n",
       "      <td>NaN</td>\n",
       "      <td>NaN</td>\n",
       "      <td>NaN</td>\n",
       "      <td>NaN</td>\n",
       "      <td>NaN</td>\n",
       "    </tr>\n",
       "    <tr>\n",
       "      <th>1</th>\n",
       "      <td>IND</td>\n",
       "      <td>India</td>\n",
       "      <td>ADITYA CEMENT WORKS</td>\n",
       "      <td>WRI1019881</td>\n",
       "      <td>98.0</td>\n",
       "      <td>24.7663</td>\n",
       "      <td>74.6090</td>\n",
       "      <td>Coal</td>\n",
       "      <td>NaN</td>\n",
       "      <td>NaN</td>\n",
       "      <td>...</td>\n",
       "      <td>NaN</td>\n",
       "      <td>NaN</td>\n",
       "      <td>NaN</td>\n",
       "      <td>NaN</td>\n",
       "      <td>NaN</td>\n",
       "      <td>NaN</td>\n",
       "      <td>NaN</td>\n",
       "      <td>NaN</td>\n",
       "      <td>NaN</td>\n",
       "      <td>NaN</td>\n",
       "    </tr>\n",
       "    <tr>\n",
       "      <th>2</th>\n",
       "      <td>IND</td>\n",
       "      <td>India</td>\n",
       "      <td>AES Saurashtra Windfarms</td>\n",
       "      <td>WRI1026669</td>\n",
       "      <td>39.2</td>\n",
       "      <td>21.9038</td>\n",
       "      <td>69.3732</td>\n",
       "      <td>Wind</td>\n",
       "      <td>NaN</td>\n",
       "      <td>NaN</td>\n",
       "      <td>...</td>\n",
       "      <td>NaN</td>\n",
       "      <td>NaN</td>\n",
       "      <td>NaN</td>\n",
       "      <td>NaN</td>\n",
       "      <td>NaN</td>\n",
       "      <td>NaN</td>\n",
       "      <td>NaN</td>\n",
       "      <td>NaN</td>\n",
       "      <td>NaN</td>\n",
       "      <td>NaN</td>\n",
       "    </tr>\n",
       "    <tr>\n",
       "      <th>3</th>\n",
       "      <td>IND</td>\n",
       "      <td>India</td>\n",
       "      <td>AGARTALA GT</td>\n",
       "      <td>IND0000001</td>\n",
       "      <td>135.0</td>\n",
       "      <td>23.8712</td>\n",
       "      <td>91.3602</td>\n",
       "      <td>Gas</td>\n",
       "      <td>NaN</td>\n",
       "      <td>NaN</td>\n",
       "      <td>...</td>\n",
       "      <td>2019.0</td>\n",
       "      <td>NaN</td>\n",
       "      <td>617.789264</td>\n",
       "      <td>843.747000</td>\n",
       "      <td>886.004428</td>\n",
       "      <td>663.774500</td>\n",
       "      <td>626.239128</td>\n",
       "      <td>NaN</td>\n",
       "      <td>Central Electricity Authority</td>\n",
       "      <td>NaN</td>\n",
       "    </tr>\n",
       "    <tr>\n",
       "      <th>4</th>\n",
       "      <td>IND</td>\n",
       "      <td>India</td>\n",
       "      <td>AKALTARA TPP</td>\n",
       "      <td>IND0000002</td>\n",
       "      <td>1800.0</td>\n",
       "      <td>21.9603</td>\n",
       "      <td>82.4091</td>\n",
       "      <td>Coal</td>\n",
       "      <td>Oil</td>\n",
       "      <td>NaN</td>\n",
       "      <td>...</td>\n",
       "      <td>2019.0</td>\n",
       "      <td>NaN</td>\n",
       "      <td>3035.550000</td>\n",
       "      <td>5916.370000</td>\n",
       "      <td>6243.000000</td>\n",
       "      <td>5385.579736</td>\n",
       "      <td>7279.000000</td>\n",
       "      <td>NaN</td>\n",
       "      <td>Central Electricity Authority</td>\n",
       "      <td>NaN</td>\n",
       "    </tr>\n",
       "    <tr>\n",
       "      <th>...</th>\n",
       "      <td>...</td>\n",
       "      <td>...</td>\n",
       "      <td>...</td>\n",
       "      <td>...</td>\n",
       "      <td>...</td>\n",
       "      <td>...</td>\n",
       "      <td>...</td>\n",
       "      <td>...</td>\n",
       "      <td>...</td>\n",
       "      <td>...</td>\n",
       "      <td>...</td>\n",
       "      <td>...</td>\n",
       "      <td>...</td>\n",
       "      <td>...</td>\n",
       "      <td>...</td>\n",
       "      <td>...</td>\n",
       "      <td>...</td>\n",
       "      <td>...</td>\n",
       "      <td>...</td>\n",
       "      <td>...</td>\n",
       "      <td>...</td>\n",
       "    </tr>\n",
       "    <tr>\n",
       "      <th>902</th>\n",
       "      <td>IND</td>\n",
       "      <td>India</td>\n",
       "      <td>YERMARUS TPP</td>\n",
       "      <td>IND0000513</td>\n",
       "      <td>1600.0</td>\n",
       "      <td>16.2949</td>\n",
       "      <td>77.3568</td>\n",
       "      <td>Coal</td>\n",
       "      <td>Oil</td>\n",
       "      <td>NaN</td>\n",
       "      <td>...</td>\n",
       "      <td>2019.0</td>\n",
       "      <td>NaN</td>\n",
       "      <td>NaN</td>\n",
       "      <td>0.994875</td>\n",
       "      <td>233.596650</td>\n",
       "      <td>865.400000</td>\n",
       "      <td>686.500000</td>\n",
       "      <td>NaN</td>\n",
       "      <td>Central Electricity Authority</td>\n",
       "      <td>NaN</td>\n",
       "    </tr>\n",
       "    <tr>\n",
       "      <th>903</th>\n",
       "      <td>IND</td>\n",
       "      <td>India</td>\n",
       "      <td>Yelesandra Solar Power Plant</td>\n",
       "      <td>WRI1026222</td>\n",
       "      <td>3.0</td>\n",
       "      <td>12.8932</td>\n",
       "      <td>78.1654</td>\n",
       "      <td>Solar</td>\n",
       "      <td>NaN</td>\n",
       "      <td>NaN</td>\n",
       "      <td>...</td>\n",
       "      <td>NaN</td>\n",
       "      <td>NaN</td>\n",
       "      <td>NaN</td>\n",
       "      <td>NaN</td>\n",
       "      <td>NaN</td>\n",
       "      <td>NaN</td>\n",
       "      <td>NaN</td>\n",
       "      <td>NaN</td>\n",
       "      <td>NaN</td>\n",
       "      <td>NaN</td>\n",
       "    </tr>\n",
       "    <tr>\n",
       "      <th>904</th>\n",
       "      <td>IND</td>\n",
       "      <td>India</td>\n",
       "      <td>Yelisirur wind power project</td>\n",
       "      <td>WRI1026776</td>\n",
       "      <td>25.5</td>\n",
       "      <td>15.2758</td>\n",
       "      <td>75.5811</td>\n",
       "      <td>Wind</td>\n",
       "      <td>NaN</td>\n",
       "      <td>NaN</td>\n",
       "      <td>...</td>\n",
       "      <td>NaN</td>\n",
       "      <td>NaN</td>\n",
       "      <td>NaN</td>\n",
       "      <td>NaN</td>\n",
       "      <td>NaN</td>\n",
       "      <td>NaN</td>\n",
       "      <td>NaN</td>\n",
       "      <td>NaN</td>\n",
       "      <td>NaN</td>\n",
       "      <td>NaN</td>\n",
       "    </tr>\n",
       "    <tr>\n",
       "      <th>905</th>\n",
       "      <td>IND</td>\n",
       "      <td>India</td>\n",
       "      <td>ZAWAR MINES</td>\n",
       "      <td>WRI1019901</td>\n",
       "      <td>80.0</td>\n",
       "      <td>24.3500</td>\n",
       "      <td>73.7477</td>\n",
       "      <td>Coal</td>\n",
       "      <td>NaN</td>\n",
       "      <td>NaN</td>\n",
       "      <td>...</td>\n",
       "      <td>NaN</td>\n",
       "      <td>NaN</td>\n",
       "      <td>NaN</td>\n",
       "      <td>NaN</td>\n",
       "      <td>NaN</td>\n",
       "      <td>NaN</td>\n",
       "      <td>NaN</td>\n",
       "      <td>NaN</td>\n",
       "      <td>NaN</td>\n",
       "      <td>NaN</td>\n",
       "    </tr>\n",
       "    <tr>\n",
       "      <th>906</th>\n",
       "      <td>IND</td>\n",
       "      <td>India</td>\n",
       "      <td>iEnergy Theni Wind Farm</td>\n",
       "      <td>WRI1026761</td>\n",
       "      <td>16.5</td>\n",
       "      <td>9.9344</td>\n",
       "      <td>77.4768</td>\n",
       "      <td>Wind</td>\n",
       "      <td>NaN</td>\n",
       "      <td>NaN</td>\n",
       "      <td>...</td>\n",
       "      <td>NaN</td>\n",
       "      <td>NaN</td>\n",
       "      <td>NaN</td>\n",
       "      <td>NaN</td>\n",
       "      <td>NaN</td>\n",
       "      <td>NaN</td>\n",
       "      <td>NaN</td>\n",
       "      <td>NaN</td>\n",
       "      <td>NaN</td>\n",
       "      <td>NaN</td>\n",
       "    </tr>\n",
       "  </tbody>\n",
       "</table>\n",
       "<p>907 rows × 27 columns</p>\n",
       "</div>"
      ],
      "text/plain": [
       "    country country_long                          name   gppd_idnr  \\\n",
       "0       IND        India              ACME Solar Tower  WRI1020239   \n",
       "1       IND        India           ADITYA CEMENT WORKS  WRI1019881   \n",
       "2       IND        India      AES Saurashtra Windfarms  WRI1026669   \n",
       "3       IND        India                   AGARTALA GT  IND0000001   \n",
       "4       IND        India                  AKALTARA TPP  IND0000002   \n",
       "..      ...          ...                           ...         ...   \n",
       "902     IND        India                  YERMARUS TPP  IND0000513   \n",
       "903     IND        India  Yelesandra Solar Power Plant  WRI1026222   \n",
       "904     IND        India  Yelisirur wind power project  WRI1026776   \n",
       "905     IND        India                   ZAWAR MINES  WRI1019901   \n",
       "906     IND        India       iEnergy Theni Wind Farm  WRI1026761   \n",
       "\n",
       "     capacity_mw  latitude  longitude primary_fuel other_fuel1 other_fuel2  \\\n",
       "0            2.5   28.1839    73.2407        Solar         NaN         NaN   \n",
       "1           98.0   24.7663    74.6090         Coal         NaN         NaN   \n",
       "2           39.2   21.9038    69.3732         Wind         NaN         NaN   \n",
       "3          135.0   23.8712    91.3602          Gas         NaN         NaN   \n",
       "4         1800.0   21.9603    82.4091         Coal         Oil         NaN   \n",
       "..           ...       ...        ...          ...         ...         ...   \n",
       "902       1600.0   16.2949    77.3568         Coal         Oil         NaN   \n",
       "903          3.0   12.8932    78.1654        Solar         NaN         NaN   \n",
       "904         25.5   15.2758    75.5811         Wind         NaN         NaN   \n",
       "905         80.0   24.3500    73.7477         Coal         NaN         NaN   \n",
       "906         16.5    9.9344    77.4768         Wind         NaN         NaN   \n",
       "\n",
       "     ...  year_of_capacity_data  generation_gwh_2013 generation_gwh_2014  \\\n",
       "0    ...                    NaN                  NaN                 NaN   \n",
       "1    ...                    NaN                  NaN                 NaN   \n",
       "2    ...                    NaN                  NaN                 NaN   \n",
       "3    ...                 2019.0                  NaN          617.789264   \n",
       "4    ...                 2019.0                  NaN         3035.550000   \n",
       "..   ...                    ...                  ...                 ...   \n",
       "902  ...                 2019.0                  NaN                 NaN   \n",
       "903  ...                    NaN                  NaN                 NaN   \n",
       "904  ...                    NaN                  NaN                 NaN   \n",
       "905  ...                    NaN                  NaN                 NaN   \n",
       "906  ...                    NaN                  NaN                 NaN   \n",
       "\n",
       "    generation_gwh_2015 generation_gwh_2016 generation_gwh_2017  \\\n",
       "0                   NaN                 NaN                 NaN   \n",
       "1                   NaN                 NaN                 NaN   \n",
       "2                   NaN                 NaN                 NaN   \n",
       "3            843.747000          886.004428          663.774500   \n",
       "4           5916.370000         6243.000000         5385.579736   \n",
       "..                  ...                 ...                 ...   \n",
       "902            0.994875          233.596650          865.400000   \n",
       "903                 NaN                 NaN                 NaN   \n",
       "904                 NaN                 NaN                 NaN   \n",
       "905                 NaN                 NaN                 NaN   \n",
       "906                 NaN                 NaN                 NaN   \n",
       "\n",
       "     generation_gwh_2018  generation_gwh_2019         generation_data_source  \\\n",
       "0                    NaN                  NaN                            NaN   \n",
       "1                    NaN                  NaN                            NaN   \n",
       "2                    NaN                  NaN                            NaN   \n",
       "3             626.239128                  NaN  Central Electricity Authority   \n",
       "4            7279.000000                  NaN  Central Electricity Authority   \n",
       "..                   ...                  ...                            ...   \n",
       "902           686.500000                  NaN  Central Electricity Authority   \n",
       "903                  NaN                  NaN                            NaN   \n",
       "904                  NaN                  NaN                            NaN   \n",
       "905                  NaN                  NaN                            NaN   \n",
       "906                  NaN                  NaN                            NaN   \n",
       "\n",
       "     estimated_generation_gwh  \n",
       "0                         NaN  \n",
       "1                         NaN  \n",
       "2                         NaN  \n",
       "3                         NaN  \n",
       "4                         NaN  \n",
       "..                        ...  \n",
       "902                       NaN  \n",
       "903                       NaN  \n",
       "904                       NaN  \n",
       "905                       NaN  \n",
       "906                       NaN  \n",
       "\n",
       "[907 rows x 27 columns]"
      ]
     },
     "execution_count": 212,
     "metadata": {},
     "output_type": "execute_result"
    }
   ],
   "source": [
    "df=pd.read_csv('https://raw.githubusercontent.com/wri/global-power-plant-database/master/source_databases_csv/database_IND.csv')\n",
    "df"
   ]
  },
  {
   "cell_type": "code",
   "execution_count": 213,
   "id": "560df4e9",
   "metadata": {
    "scrolled": true
   },
   "outputs": [
    {
     "name": "stdout",
     "output_type": "stream",
     "text": [
      "<class 'pandas.core.frame.DataFrame'>\n",
      "RangeIndex: 907 entries, 0 to 906\n",
      "Data columns (total 27 columns):\n",
      " #   Column                    Non-Null Count  Dtype  \n",
      "---  ------                    --------------  -----  \n",
      " 0   country                   907 non-null    object \n",
      " 1   country_long              907 non-null    object \n",
      " 2   name                      907 non-null    object \n",
      " 3   gppd_idnr                 907 non-null    object \n",
      " 4   capacity_mw               907 non-null    float64\n",
      " 5   latitude                  861 non-null    float64\n",
      " 6   longitude                 861 non-null    float64\n",
      " 7   primary_fuel              907 non-null    object \n",
      " 8   other_fuel1               198 non-null    object \n",
      " 9   other_fuel2               1 non-null      object \n",
      " 10  other_fuel3               0 non-null      float64\n",
      " 11  commissioning_year        527 non-null    float64\n",
      " 12  owner                     342 non-null    object \n",
      " 13  source                    907 non-null    object \n",
      " 14  url                       907 non-null    object \n",
      " 15  geolocation_source        888 non-null    object \n",
      " 16  wepp_id                   0 non-null      float64\n",
      " 17  year_of_capacity_data     519 non-null    float64\n",
      " 18  generation_gwh_2013       0 non-null      float64\n",
      " 19  generation_gwh_2014       398 non-null    float64\n",
      " 20  generation_gwh_2015       422 non-null    float64\n",
      " 21  generation_gwh_2016       434 non-null    float64\n",
      " 22  generation_gwh_2017       440 non-null    float64\n",
      " 23  generation_gwh_2018       448 non-null    float64\n",
      " 24  generation_gwh_2019       0 non-null      float64\n",
      " 25  generation_data_source    449 non-null    object \n",
      " 26  estimated_generation_gwh  0 non-null      float64\n",
      "dtypes: float64(15), object(12)\n",
      "memory usage: 191.4+ KB\n"
     ]
    }
   ],
   "source": [
    "df.info()"
   ]
  },
  {
   "cell_type": "code",
   "execution_count": 214,
   "id": "3cbac3f8",
   "metadata": {},
   "outputs": [
    {
     "data": {
      "text/plain": [
       "Index(['country', 'country_long', 'name', 'gppd_idnr', 'capacity_mw',\n",
       "       'latitude', 'longitude', 'primary_fuel', 'other_fuel1', 'other_fuel2',\n",
       "       'other_fuel3', 'commissioning_year', 'owner', 'source', 'url',\n",
       "       'geolocation_source', 'wepp_id', 'year_of_capacity_data',\n",
       "       'generation_gwh_2013', 'generation_gwh_2014', 'generation_gwh_2015',\n",
       "       'generation_gwh_2016', 'generation_gwh_2017', 'generation_gwh_2018',\n",
       "       'generation_gwh_2019', 'generation_data_source',\n",
       "       'estimated_generation_gwh'],\n",
       "      dtype='object')"
      ]
     },
     "execution_count": 214,
     "metadata": {},
     "output_type": "execute_result"
    }
   ],
   "source": [
    "df.columns"
   ]
  },
  {
   "cell_type": "markdown",
   "id": "fcba050d",
   "metadata": {},
   "source": [
    "Checking and Handling Null values"
   ]
  },
  {
   "cell_type": "code",
   "execution_count": 215,
   "id": "55d8572d",
   "metadata": {
    "scrolled": true
   },
   "outputs": [
    {
     "data": {
      "text/plain": [
       "country                       0\n",
       "country_long                  0\n",
       "name                          0\n",
       "gppd_idnr                     0\n",
       "capacity_mw                   0\n",
       "latitude                     46\n",
       "longitude                    46\n",
       "primary_fuel                  0\n",
       "other_fuel1                 709\n",
       "other_fuel2                 906\n",
       "other_fuel3                 907\n",
       "commissioning_year          380\n",
       "owner                       565\n",
       "source                        0\n",
       "url                           0\n",
       "geolocation_source           19\n",
       "wepp_id                     907\n",
       "year_of_capacity_data       388\n",
       "generation_gwh_2013         907\n",
       "generation_gwh_2014         509\n",
       "generation_gwh_2015         485\n",
       "generation_gwh_2016         473\n",
       "generation_gwh_2017         467\n",
       "generation_gwh_2018         459\n",
       "generation_gwh_2019         907\n",
       "generation_data_source      458\n",
       "estimated_generation_gwh    907\n",
       "dtype: int64"
      ]
     },
     "execution_count": 215,
     "metadata": {},
     "output_type": "execute_result"
    }
   ],
   "source": [
    "df.isnull().sum()"
   ]
  },
  {
   "cell_type": "markdown",
   "id": "c45920e8",
   "metadata": {},
   "source": [
    "We can see many columns have null values. We will drop the columns with maximum null values which are: other_fuel1,other_fuel2,other_fuel3,owner,wepp_id,generation_gwh_2013,generation_gwh_2019,estimated_generation_gwh."
   ]
  },
  {
   "cell_type": "code",
   "execution_count": 216,
   "id": "514590d4",
   "metadata": {},
   "outputs": [],
   "source": [
    "df.drop(['other_fuel1','other_fuel2','other_fuel3','owner','wepp_id','estimated_generation_gwh','generation_gwh_2013','generation_gwh_2019'],axis=1,inplace=True)"
   ]
  },
  {
   "cell_type": "code",
   "execution_count": 217,
   "id": "056bc61b",
   "metadata": {},
   "outputs": [
    {
     "data": {
      "text/plain": [
       "(907, 19)"
      ]
     },
     "execution_count": 217,
     "metadata": {},
     "output_type": "execute_result"
    }
   ],
   "source": [
    "df.shape"
   ]
  },
  {
   "cell_type": "code",
   "execution_count": 218,
   "id": "872efb0c",
   "metadata": {},
   "outputs": [
    {
     "data": {
      "text/plain": [
       "country                     0\n",
       "country_long                0\n",
       "name                        0\n",
       "gppd_idnr                   0\n",
       "capacity_mw                 0\n",
       "latitude                   46\n",
       "longitude                  46\n",
       "primary_fuel                0\n",
       "commissioning_year        380\n",
       "source                      0\n",
       "url                         0\n",
       "geolocation_source         19\n",
       "year_of_capacity_data     388\n",
       "generation_gwh_2014       509\n",
       "generation_gwh_2015       485\n",
       "generation_gwh_2016       473\n",
       "generation_gwh_2017       467\n",
       "generation_gwh_2018       459\n",
       "generation_data_source    458\n",
       "dtype: int64"
      ]
     },
     "execution_count": 218,
     "metadata": {},
     "output_type": "execute_result"
    }
   ],
   "source": [
    "df.isna().sum()"
   ]
  },
  {
   "cell_type": "code",
   "execution_count": 219,
   "id": "51ff4baf",
   "metadata": {},
   "outputs": [
    {
     "data": {
      "text/plain": [
       "<AxesSubplot:>"
      ]
     },
     "execution_count": 219,
     "metadata": {},
     "output_type": "execute_result"
    },
    {
     "data": {
      "image/png": "[encoded data removed]",
      "text/plain": [
       "<Figure size 432x288 with 2 Axes>"
      ]
     },
     "metadata": {
      "needs_background": "light"
     },
     "output_type": "display_data"
    }
   ],
   "source": [
    "sns.heatmap(df.isnull())"
   ]
  },
  {
   "cell_type": "code",
   "execution_count": 220,
   "id": "0256a3a3",
   "metadata": {},
   "outputs": [
    {
     "data": {
      "text/plain": [
       "0                                NaN\n",
       "1                                NaN\n",
       "2                                NaN\n",
       "3      Central Electricity Authority\n",
       "4      Central Electricity Authority\n",
       "                   ...              \n",
       "902    Central Electricity Authority\n",
       "903                              NaN\n",
       "904                              NaN\n",
       "905                              NaN\n",
       "906                              NaN\n",
       "Name: generation_data_source, Length: 907, dtype: object"
      ]
     },
     "execution_count": 220,
     "metadata": {},
     "output_type": "execute_result"
    }
   ],
   "source": [
    "df['generation_data_source']"
   ]
  },
  {
   "cell_type": "code",
   "execution_count": 221,
   "id": "188b8a9d",
   "metadata": {},
   "outputs": [
    {
     "data": {
      "text/plain": [
       "Industry About                          119\n",
       "National Renewable Energy Laboratory      4\n",
       "WRI                                     765\n",
       "dtype: int64"
      ]
     },
     "execution_count": 221,
     "metadata": {},
     "output_type": "execute_result"
    }
   ],
   "source": [
    "pd.get_dummies(df[\"geolocation_source\"]).sum()"
   ]
  },
  {
   "cell_type": "code",
   "execution_count": 222,
   "id": "c70f521d",
   "metadata": {},
   "outputs": [
    {
     "data": {
      "text/plain": [
       "Biomass     50\n",
       "Coal       258\n",
       "Gas         69\n",
       "Hydro      251\n",
       "Nuclear      9\n",
       "Oil         20\n",
       "Solar      127\n",
       "Wind       123\n",
       "dtype: int64"
      ]
     },
     "execution_count": 222,
     "metadata": {},
     "output_type": "execute_result"
    }
   ],
   "source": [
    "pd.get_dummies(df[\"primary_fuel\"]).sum()"
   ]
  },
  {
   "cell_type": "code",
   "execution_count": 223,
   "id": "d4bd679f",
   "metadata": {},
   "outputs": [
    {
     "data": {
      "text/plain": [
       "2019.0    519\n",
       "dtype: int64"
      ]
     },
     "execution_count": 223,
     "metadata": {},
     "output_type": "execute_result"
    }
   ],
   "source": [
    "pd.get_dummies(df[\"year_of_capacity_data\"]).sum()"
   ]
  },
  {
   "cell_type": "code",
   "execution_count": 224,
   "id": "0a8fd2f9",
   "metadata": {},
   "outputs": [],
   "source": [
    "Imp = SimpleImputer(missing_values=np.nan,strategy='mean')\n",
    "Imp_mode = SimpleImputer(missing_values=np.nan,strategy='most_frequent')\n",
    "\n",
    "df['year_of_capacity_data'] = Imp.fit_transform(df['year_of_capacity_data'].values.reshape(-1,1))\n",
    "df['geolocation_source'] = Imp_mode.fit_transform(df['geolocation_source'].values.reshape(-1,1))"
   ]
  },
  {
   "cell_type": "code",
   "execution_count": 225,
   "id": "062c1528",
   "metadata": {},
   "outputs": [],
   "source": [
    "df['generation_gwh_2014'] = Imp.fit_transform(df['generation_gwh_2014'].values.reshape(-1,1))\n",
    "df['generation_gwh_2015'] = Imp.fit_transform(df['generation_gwh_2015'].values.reshape(-1,1))\n",
    "df['generation_gwh_2016'] = Imp.fit_transform(df['generation_gwh_2016'].values.reshape(-1,1))\n",
    "df['generation_gwh_2017'] = Imp.fit_transform(df['generation_gwh_2017'].values.reshape(-1,1))\n",
    "df['generation_gwh_2018'] = Imp.fit_transform(df['generation_gwh_2018'].values.reshape(-1,1))\n",
    "df['commissioning_year'] = Imp_mode.fit_transform(df['commissioning_year'].values.reshape(-1,1))\n",
    "df['generation_data_source'] = Imp_mode.fit_transform(df['generation_data_source'].values.reshape(-1,1))"
   ]
  },
  {
   "cell_type": "code",
   "execution_count": 226,
   "id": "decfd8e7",
   "metadata": {},
   "outputs": [
    {
     "data": {
      "text/plain": [
       "(907, 19)"
      ]
     },
     "execution_count": 226,
     "metadata": {},
     "output_type": "execute_result"
    }
   ],
   "source": [
    "df.shape"
   ]
  },
  {
   "cell_type": "code",
   "execution_count": 227,
   "id": "61a7e7d8",
   "metadata": {},
   "outputs": [
    {
     "data": {
      "text/plain": [
       "country                    0\n",
       "country_long               0\n",
       "name                       0\n",
       "gppd_idnr                  0\n",
       "capacity_mw                0\n",
       "latitude                  46\n",
       "longitude                 46\n",
       "primary_fuel               0\n",
       "commissioning_year         0\n",
       "source                     0\n",
       "url                        0\n",
       "geolocation_source         0\n",
       "year_of_capacity_data      0\n",
       "generation_gwh_2014        0\n",
       "generation_gwh_2015        0\n",
       "generation_gwh_2016        0\n",
       "generation_gwh_2017        0\n",
       "generation_gwh_2018        0\n",
       "generation_data_source     0\n",
       "dtype: int64"
      ]
     },
     "execution_count": 227,
     "metadata": {},
     "output_type": "execute_result"
    }
   ],
   "source": [
    "df.isnull().sum()"
   ]
  },
  {
   "cell_type": "markdown",
   "id": "b8a56425",
   "metadata": {},
   "source": [
    "Lattitude/longitude are location specific hence we cannot fill null values with mean/median values. Hence I am dropping rows."
   ]
  },
  {
   "cell_type": "code",
   "execution_count": 228,
   "id": "d5a5547f",
   "metadata": {},
   "outputs": [],
   "source": [
    "df.dropna(inplace=True)"
   ]
  },
  {
   "cell_type": "code",
   "execution_count": 229,
   "id": "6c2e754b",
   "metadata": {},
   "outputs": [
    {
     "data": {
      "text/plain": [
       "(861, 19)"
      ]
     },
     "execution_count": 229,
     "metadata": {},
     "output_type": "execute_result"
    }
   ],
   "source": [
    "df.shape"
   ]
  },
  {
   "cell_type": "markdown",
   "id": "e4f41203",
   "metadata": {},
   "source": [
    "Percentage data loss"
   ]
  },
  {
   "cell_type": "code",
   "execution_count": 230,
   "id": "bed17a7e",
   "metadata": {},
   "outputs": [
    {
     "data": {
      "text/plain": [
       "5.071664829106946"
      ]
     },
     "execution_count": 230,
     "metadata": {},
     "output_type": "execute_result"
    }
   ],
   "source": [
    "data_loss = ((907-861)/907)*100\n",
    "data_loss"
   ]
  },
  {
   "cell_type": "code",
   "execution_count": 231,
   "id": "256af1ed",
   "metadata": {},
   "outputs": [
    {
     "data": {
      "text/plain": [
       "country                   0\n",
       "country_long              0\n",
       "name                      0\n",
       "gppd_idnr                 0\n",
       "capacity_mw               0\n",
       "latitude                  0\n",
       "longitude                 0\n",
       "primary_fuel              0\n",
       "commissioning_year        0\n",
       "source                    0\n",
       "url                       0\n",
       "geolocation_source        0\n",
       "year_of_capacity_data     0\n",
       "generation_gwh_2014       0\n",
       "generation_gwh_2015       0\n",
       "generation_gwh_2016       0\n",
       "generation_gwh_2017       0\n",
       "generation_gwh_2018       0\n",
       "generation_data_source    0\n",
       "dtype: int64"
      ]
     },
     "execution_count": 231,
     "metadata": {},
     "output_type": "execute_result"
    }
   ],
   "source": [
    "df.isnull().sum()"
   ]
  },
  {
   "cell_type": "code",
   "execution_count": 232,
   "id": "8f8aa737",
   "metadata": {},
   "outputs": [
    {
     "data": {
      "text/plain": [
       "IND    861\n",
       "dtype: int64"
      ]
     },
     "execution_count": 232,
     "metadata": {},
     "output_type": "execute_result"
    }
   ],
   "source": [
    "pd.get_dummies(df['country']).sum()"
   ]
  },
  {
   "cell_type": "code",
   "execution_count": 233,
   "id": "d534ee5d",
   "metadata": {},
   "outputs": [
    {
     "data": {
      "text/plain": [
       "India    861\n",
       "dtype: int64"
      ]
     },
     "execution_count": 233,
     "metadata": {},
     "output_type": "execute_result"
    }
   ],
   "source": [
    "pd.get_dummies(df['country_long']).sum()"
   ]
  },
  {
   "cell_type": "code",
   "execution_count": 234,
   "id": "7a88723b",
   "metadata": {},
   "outputs": [
    {
     "data": {
      "text/plain": [
       "Central Electricity Authority    861\n",
       "dtype: int64"
      ]
     },
     "execution_count": 234,
     "metadata": {},
     "output_type": "execute_result"
    }
   ],
   "source": [
    "pd.get_dummies(df['generation_data_source']).sum()"
   ]
  },
  {
   "cell_type": "code",
   "execution_count": 235,
   "id": "5c9c8313",
   "metadata": {},
   "outputs": [
    {
     "data": {
      "text/plain": [
       "2019.0    861\n",
       "dtype: int64"
      ]
     },
     "execution_count": 235,
     "metadata": {},
     "output_type": "execute_result"
    }
   ],
   "source": [
    "pd.get_dummies(df['year_of_capacity_data']).sum()"
   ]
  },
  {
   "cell_type": "markdown",
   "id": "b89ccb2e",
   "metadata": {},
   "source": [
    "As generation_data_source is constant - 'Central Electricity Authority' and data belongs to only one country i.e. India, country and country_long holds constant value hence we will drop the columns."
   ]
  },
  {
   "cell_type": "code",
   "execution_count": 236,
   "id": "d0756edf",
   "metadata": {},
   "outputs": [],
   "source": [
    "df.drop(['country','country_long','generation_data_source','year_of_capacity_data'],axis=1,inplace=True)"
   ]
  },
  {
   "cell_type": "code",
   "execution_count": 237,
   "id": "a36eb1eb",
   "metadata": {},
   "outputs": [
    {
     "data": {
      "text/plain": [
       "(861, 15)"
      ]
     },
     "execution_count": 237,
     "metadata": {},
     "output_type": "execute_result"
    }
   ],
   "source": [
    "df.shape"
   ]
  },
  {
   "cell_type": "markdown",
   "id": "3e953eb8",
   "metadata": {},
   "source": [
    "We can observe all null values are eleminated and new shape of dataset is 861*16."
   ]
  },
  {
   "cell_type": "markdown",
   "id": "66f9d145",
   "metadata": {},
   "source": [
    "Using LabelEncoder for categorical data"
   ]
  },
  {
   "cell_type": "code",
   "execution_count": 238,
   "id": "a2311735",
   "metadata": {},
   "outputs": [
    {
     "name": "stdout",
     "output_type": "stream",
     "text": [
      "<class 'pandas.core.frame.DataFrame'>\n",
      "Int64Index: 861 entries, 0 to 906\n",
      "Data columns (total 15 columns):\n",
      " #   Column               Non-Null Count  Dtype  \n",
      "---  ------               --------------  -----  \n",
      " 0   name                 861 non-null    object \n",
      " 1   gppd_idnr            861 non-null    object \n",
      " 2   capacity_mw          861 non-null    float64\n",
      " 3   latitude             861 non-null    float64\n",
      " 4   longitude            861 non-null    float64\n",
      " 5   primary_fuel         861 non-null    object \n",
      " 6   commissioning_year   861 non-null    float64\n",
      " 7   source               861 non-null    object \n",
      " 8   url                  861 non-null    object \n",
      " 9   geolocation_source   861 non-null    object \n",
      " 10  generation_gwh_2014  861 non-null    float64\n",
      " 11  generation_gwh_2015  861 non-null    float64\n",
      " 12  generation_gwh_2016  861 non-null    float64\n",
      " 13  generation_gwh_2017  861 non-null    float64\n",
      " 14  generation_gwh_2018  861 non-null    float64\n",
      "dtypes: float64(9), object(6)\n",
      "memory usage: 107.6+ KB\n"
     ]
    }
   ],
   "source": [
    "df.info()"
   ]
  },
  {
   "cell_type": "code",
   "execution_count": 239,
   "id": "3663e5fc",
   "metadata": {},
   "outputs": [
    {
     "data": {
      "text/plain": [
       "0      1\n",
       "566    1\n",
       "568    1\n",
       "569    1\n",
       "570    1\n",
       "      ..\n",
       "290    1\n",
       "291    1\n",
       "292    1\n",
       "293    1\n",
       "860    1\n",
       "Name: name, Length: 861, dtype: int64"
      ]
     },
     "execution_count": 239,
     "metadata": {},
     "output_type": "execute_result"
    }
   ],
   "source": [
    "df[\"name\"]=le.fit_transform(df[\"name\"])\n",
    "df[\"name\"].value_counts()"
   ]
  },
  {
   "cell_type": "code",
   "execution_count": 240,
   "id": "df5c5c71",
   "metadata": {},
   "outputs": [
    {
     "data": {
      "text/plain": [
       "629    1\n",
       "306    1\n",
       "308    1\n",
       "309    1\n",
       "476    1\n",
       "      ..\n",
       "847    1\n",
       "668    1\n",
       "651    1\n",
       "788    1\n",
       "831    1\n",
       "Name: gppd_idnr, Length: 861, dtype: int64"
      ]
     },
     "execution_count": 240,
     "metadata": {},
     "output_type": "execute_result"
    }
   ],
   "source": [
    "df[\"gppd_idnr\"]=le.fit_transform(df[\"gppd_idnr\"])\n",
    "df[\"gppd_idnr\"].value_counts()"
   ]
  },
  {
   "cell_type": "code",
   "execution_count": 241,
   "id": "99ac6080",
   "metadata": {},
   "outputs": [
    {
     "data": {
      "text/plain": [
       "0     50\n",
       "1    253\n",
       "2     68\n",
       "3    233\n",
       "4      9\n",
       "5     17\n",
       "6    123\n",
       "7    108\n",
       "dtype: int64"
      ]
     },
     "execution_count": 241,
     "metadata": {},
     "output_type": "execute_result"
    }
   ],
   "source": [
    "df[\"primary_fuel\"]=le.fit_transform(df[\"primary_fuel\"])\n",
    "pd.get_dummies(df[\"primary_fuel\"]).sum()"
   ]
  },
  {
   "cell_type": "code",
   "execution_count": 242,
   "id": "354cf99d",
   "metadata": {},
   "outputs": [
    {
     "data": {
      "text/plain": [
       "22     492\n",
       "21     109\n",
       "84      10\n",
       "110      6\n",
       "109      4\n",
       "      ... \n",
       "56       1\n",
       "46       1\n",
       "164      1\n",
       "187      1\n",
       "189      1\n",
       "Name: source, Length: 191, dtype: int64"
      ]
     },
     "execution_count": 242,
     "metadata": {},
     "output_type": "execute_result"
    }
   ],
   "source": [
    "df[\"source\"]=le.fit_transform(df[\"source\"])\n",
    "df[\"source\"].value_counts()"
   ]
  },
  {
   "cell_type": "code",
   "execution_count": 243,
   "id": "31f4b0dc",
   "metadata": {},
   "outputs": [
    {
     "data": {
      "text/plain": [
       "58     492\n",
       "100      7\n",
       "129      6\n",
       "39       5\n",
       "42       4\n",
       "      ... \n",
       "271      1\n",
       "68       1\n",
       "213      1\n",
       "198      1\n",
       "234      1\n",
       "Name: url, Length: 288, dtype: int64"
      ]
     },
     "execution_count": 243,
     "metadata": {},
     "output_type": "execute_result"
    }
   ],
   "source": [
    "df[\"url\"]=le.fit_transform(df[\"url\"])\n",
    "df[\"url\"].value_counts()"
   ]
  },
  {
   "cell_type": "code",
   "execution_count": 244,
   "id": "f2e2fc48",
   "metadata": {},
   "outputs": [
    {
     "data": {
      "text/plain": [
       "2    738\n",
       "0    119\n",
       "1      4\n",
       "Name: geolocation_source, dtype: int64"
      ]
     },
     "execution_count": 244,
     "metadata": {},
     "output_type": "execute_result"
    }
   ],
   "source": [
    "df[\"geolocation_source\"]=le.fit_transform(df[\"geolocation_source\"])\n",
    "df[\"geolocation_source\"].value_counts()"
   ]
  },
  {
   "cell_type": "code",
   "execution_count": 246,
   "id": "d25627bb",
   "metadata": {},
   "outputs": [
    {
     "data": {
      "text/plain": [
       "array([[<AxesSubplot:title={'center':'name'}>,\n",
       "        <AxesSubplot:title={'center':'gppd_idnr'}>,\n",
       "        <AxesSubplot:title={'center':'capacity_mw'}>,\n",
       "        <AxesSubplot:title={'center':'latitude'}>,\n",
       "        <AxesSubplot:title={'center':'longitude'}>,\n",
       "        <AxesSubplot:title={'center':'primary_fuel'}>],\n",
       "       [<AxesSubplot:title={'center':'commissioning_year'}>,\n",
       "        <AxesSubplot:title={'center':'source'}>,\n",
       "        <AxesSubplot:title={'center':'url'}>,\n",
       "        <AxesSubplot:title={'center':'geolocation_source'}>,\n",
       "        <AxesSubplot:title={'center':'generation_gwh_2014'}>,\n",
       "        <AxesSubplot:title={'center':'generation_gwh_2015'}>],\n",
       "       [<AxesSubplot:title={'center':'generation_gwh_2016'}>,\n",
       "        <AxesSubplot:title={'center':'generation_gwh_2017'}>,\n",
       "        <AxesSubplot:title={'center':'generation_gwh_2018'}>,\n",
       "        <AxesSubplot:>, <AxesSubplot:>, <AxesSubplot:>],\n",
       "       [<AxesSubplot:>, <AxesSubplot:>, <AxesSubplot:>, <AxesSubplot:>,\n",
       "        <AxesSubplot:>, <AxesSubplot:>]], dtype=object)"
      ]
     },
     "execution_count": 246,
     "metadata": {},
     "output_type": "execute_result"
    },
    {
     "data": {
      "image/png": "[encoded data removed]",
      "text/plain": [
       "<Figure size 1440x1440 with 24 Axes>"
      ]
     },
     "metadata": {
      "needs_background": "light"
     },
     "output_type": "display_data"
    }
   ],
   "source": [
    "df.hist(figsize=(20,20),grid=True,layout=(4,6),bins=30)"
   ]
  },
  {
   "cell_type": "code",
   "execution_count": 247,
   "id": "a28d7d7e",
   "metadata": {},
   "outputs": [
    {
     "data": {
      "text/plain": [
       "Index(['name', 'gppd_idnr', 'capacity_mw', 'latitude', 'longitude',\n",
       "       'primary_fuel', 'commissioning_year', 'source', 'url',\n",
       "       'geolocation_source', 'generation_gwh_2014', 'generation_gwh_2015',\n",
       "       'generation_gwh_2016', 'generation_gwh_2017', 'generation_gwh_2018'],\n",
       "      dtype='object')"
      ]
     },
     "execution_count": 247,
     "metadata": {},
     "output_type": "execute_result"
    }
   ],
   "source": [
    "df.columns"
   ]
  },
  {
   "cell_type": "code",
   "execution_count": 163,
   "id": "130119fa",
   "metadata": {},
   "outputs": [
    {
     "data": {
      "text/plain": [
       "<AxesSubplot:xlabel='primary_fuel', ylabel='capacity_mw'>"
      ]
     },
     "execution_count": 163,
     "metadata": {},
     "output_type": "execute_result"
    },
    {
     "data": {
      "image/png": "[encoded data removed]",
      "text/plain": [
       "<Figure size 432x288 with 1 Axes>"
      ]
     },
     "metadata": {
      "needs_background": "light"
     },
     "output_type": "display_data"
    }
   ],
   "source": [
    "sns.barplot(x='primary_fuel', y='capacity_mw',data=df)"
   ]
  },
  {
   "cell_type": "code",
   "execution_count": 164,
   "id": "86014567",
   "metadata": {},
   "outputs": [
    {
     "data": {
      "text/plain": [
       "<AxesSubplot:xlabel='primary_fuel', ylabel='latitude'>"
      ]
     },
     "execution_count": 164,
     "metadata": {},
     "output_type": "execute_result"
    },
    {
     "data": {
      "image/png": "[encoded data removed]",
      "text/plain": [
       "<Figure size 432x288 with 1 Axes>"
      ]
     },
     "metadata": {
      "needs_background": "light"
     },
     "output_type": "display_data"
    }
   ],
   "source": [
    "sns.barplot(x='primary_fuel', y='latitude',data=df)"
   ]
  },
  {
   "cell_type": "code",
   "execution_count": 165,
   "id": "a7f273b6",
   "metadata": {},
   "outputs": [
    {
     "data": {
      "text/plain": [
       "<AxesSubplot:xlabel='primary_fuel', ylabel='longitude'>"
      ]
     },
     "execution_count": 165,
     "metadata": {},
     "output_type": "execute_result"
    },
    {
     "data": {
      "image/png": "[encoded data removed]",
      "text/plain": [
       "<Figure size 432x288 with 1 Axes>"
      ]
     },
     "metadata": {
      "needs_background": "light"
     },
     "output_type": "display_data"
    }
   ],
   "source": [
    "sns.barplot(x='primary_fuel', y='longitude',data=df)"
   ]
  },
  {
   "cell_type": "code",
   "execution_count": 249,
   "id": "19b353f0",
   "metadata": {},
   "outputs": [
    {
     "data": {
      "text/plain": [
       "<AxesSubplot:xlabel='primary_fuel', ylabel='source'>"
      ]
     },
     "execution_count": 249,
     "metadata": {},
     "output_type": "execute_result"
    },
    {
     "data": {
      "image/png": "[encoded data removed]",
      "text/plain": [
       "<Figure size 432x288 with 1 Axes>"
      ]
     },
     "metadata": {
      "needs_background": "light"
     },
     "output_type": "display_data"
    }
   ],
   "source": [
    "sns.barplot(x='primary_fuel', y='source',data=df)"
   ]
  },
  {
   "cell_type": "code",
   "execution_count": 250,
   "id": "a91dc185",
   "metadata": {},
   "outputs": [
    {
     "data": {
      "text/plain": [
       "<AxesSubplot:xlabel='primary_fuel', ylabel='url'>"
      ]
     },
     "execution_count": 250,
     "metadata": {},
     "output_type": "execute_result"
    },
    {
     "data": {
      "image/png": "[encoded data removed]",
      "text/plain": [
       "<Figure size 432x288 with 1 Axes>"
      ]
     },
     "metadata": {
      "needs_background": "light"
     },
     "output_type": "display_data"
    }
   ],
   "source": [
    "sns.barplot(x='primary_fuel', y='url',data=df)"
   ]
  },
  {
   "cell_type": "code",
   "execution_count": 248,
   "id": "287d2ed3",
   "metadata": {},
   "outputs": [
    {
     "data": {
      "text/plain": [
       "<AxesSubplot:xlabel='primary_fuel', ylabel='url'>"
      ]
     },
     "execution_count": 248,
     "metadata": {},
     "output_type": "execute_result"
    },
    {
     "data": {
      "image/png": "[encoded data removed]",
      "text/plain": [
       "<Figure size 432x288 with 1 Axes>"
      ]
     },
     "metadata": {
      "needs_background": "light"
     },
     "output_type": "display_data"
    }
   ],
   "source": [
    "sns.barplot(x='primary_fuel', y='url',data=df)"
   ]
  },
  {
   "cell_type": "code",
   "execution_count": 251,
   "id": "4c155ab0",
   "metadata": {},
   "outputs": [
    {
     "data": {
      "text/plain": [
       "<AxesSubplot:xlabel='primary_fuel', ylabel='generation_gwh_2014'>"
      ]
     },
     "execution_count": 251,
     "metadata": {},
     "output_type": "execute_result"
    },
    {
     "data": {
      "image/png": "[encoded data removed]",
      "text/plain": [
       "<Figure size 432x288 with 1 Axes>"
      ]
     },
     "metadata": {
      "needs_background": "light"
     },
     "output_type": "display_data"
    }
   ],
   "source": [
    "sns.barplot(x='primary_fuel', y='generation_gwh_2014',data=df)"
   ]
  },
  {
   "cell_type": "code",
   "execution_count": 252,
   "id": "e4abeb2f",
   "metadata": {},
   "outputs": [
    {
     "data": {
      "text/plain": [
       "<AxesSubplot:xlabel='primary_fuel', ylabel='generation_gwh_2015'>"
      ]
     },
     "execution_count": 252,
     "metadata": {},
     "output_type": "execute_result"
    },
    {
     "data": {
      "image/png": "[encoded data removed]",
      "text/plain": [
       "<Figure size 432x288 with 1 Axes>"
      ]
     },
     "metadata": {
      "needs_background": "light"
     },
     "output_type": "display_data"
    }
   ],
   "source": [
    "sns.barplot(x='primary_fuel', y='generation_gwh_2015',data=df)"
   ]
  },
  {
   "cell_type": "code",
   "execution_count": 253,
   "id": "b202d840",
   "metadata": {},
   "outputs": [
    {
     "data": {
      "text/plain": [
       "<AxesSubplot:xlabel='primary_fuel', ylabel='generation_gwh_2016'>"
      ]
     },
     "execution_count": 253,
     "metadata": {},
     "output_type": "execute_result"
    },
    {
     "data": {
      "image/png": "[encoded data removed]",
      "text/plain": [
       "<Figure size 432x288 with 1 Axes>"
      ]
     },
     "metadata": {
      "needs_background": "light"
     },
     "output_type": "display_data"
    }
   ],
   "source": [
    "sns.barplot(x='primary_fuel', y='generation_gwh_2016',data=df)"
   ]
  },
  {
   "cell_type": "code",
   "execution_count": 254,
   "id": "5dbd84bf",
   "metadata": {},
   "outputs": [
    {
     "data": {
      "text/plain": [
       "<AxesSubplot:xlabel='primary_fuel', ylabel='generation_gwh_2017'>"
      ]
     },
     "execution_count": 254,
     "metadata": {},
     "output_type": "execute_result"
    },
    {
     "data": {
      "image/png": "[encoded data removed]",
      "text/plain": [
       "<Figure size 432x288 with 1 Axes>"
      ]
     },
     "metadata": {
      "needs_background": "light"
     },
     "output_type": "display_data"
    }
   ],
   "source": [
    "sns.barplot(x='primary_fuel', y='generation_gwh_2017',data=df)"
   ]
  },
  {
   "cell_type": "code",
   "execution_count": 255,
   "id": "6e691729",
   "metadata": {},
   "outputs": [
    {
     "data": {
      "text/plain": [
       "<AxesSubplot:xlabel='primary_fuel', ylabel='generation_gwh_2018'>"
      ]
     },
     "execution_count": 255,
     "metadata": {},
     "output_type": "execute_result"
    },
    {
     "data": {
      "image/png": "[encoded data removed]",
      "text/plain": [
       "<Figure size 432x288 with 1 Axes>"
      ]
     },
     "metadata": {
      "needs_background": "light"
     },
     "output_type": "display_data"
    }
   ],
   "source": [
    "sns.barplot(x='primary_fuel', y='generation_gwh_2018',data=df)"
   ]
  },
  {
   "cell_type": "code",
   "execution_count": 256,
   "id": "350327a4",
   "metadata": {},
   "outputs": [
    {
     "data": {
      "text/plain": [
       "Index(['name', 'gppd_idnr', 'capacity_mw', 'latitude', 'longitude',\n",
       "       'primary_fuel', 'commissioning_year', 'source', 'url',\n",
       "       'geolocation_source', 'generation_gwh_2014', 'generation_gwh_2015',\n",
       "       'generation_gwh_2016', 'generation_gwh_2017', 'generation_gwh_2018'],\n",
       "      dtype='object')"
      ]
     },
     "execution_count": 256,
     "metadata": {},
     "output_type": "execute_result"
    }
   ],
   "source": [
    "df.columns"
   ]
  },
  {
   "cell_type": "code",
   "execution_count": 260,
   "id": "c7b4bc58",
   "metadata": {},
   "outputs": [
    {
     "data": {
      "text/plain": [
       "<AxesSubplot:xlabel='generation_gwh_2014', ylabel='capacity_mw'>"
      ]
     },
     "execution_count": 260,
     "metadata": {},
     "output_type": "execute_result"
    },
    {
     "data": {
      "image/png": "[encoded data removed]",
      "text/plain": [
       "<Figure size 432x288 with 1 Axes>"
      ]
     },
     "metadata": {
      "needs_background": "light"
     },
     "output_type": "display_data"
    }
   ],
   "source": [
    "sns.scatterplot(x='generation_gwh_2014', y='capacity_mw',data=df)"
   ]
  },
  {
   "cell_type": "code",
   "execution_count": 261,
   "id": "f690eebd",
   "metadata": {},
   "outputs": [
    {
     "data": {
      "text/plain": [
       "<AxesSubplot:xlabel='generation_gwh_2015', ylabel='capacity_mw'>"
      ]
     },
     "execution_count": 261,
     "metadata": {},
     "output_type": "execute_result"
    },
    {
     "data": {
      "image/png": "[encoded data removed]",
      "text/plain": [
       "<Figure size 432x288 with 1 Axes>"
      ]
     },
     "metadata": {
      "needs_background": "light"
     },
     "output_type": "display_data"
    }
   ],
   "source": [
    "sns.scatterplot(x='generation_gwh_2015', y='capacity_mw',data=df)"
   ]
  },
  {
   "cell_type": "code",
   "execution_count": 262,
   "id": "0ee1c315",
   "metadata": {},
   "outputs": [
    {
     "data": {
      "text/plain": [
       "<AxesSubplot:xlabel='generation_gwh_2016', ylabel='capacity_mw'>"
      ]
     },
     "execution_count": 262,
     "metadata": {},
     "output_type": "execute_result"
    },
    {
     "data": {
      "image/png": "[encoded data removed]",
      "text/plain": [
       "<Figure size 432x288 with 1 Axes>"
      ]
     },
     "metadata": {
      "needs_background": "light"
     },
     "output_type": "display_data"
    }
   ],
   "source": [
    "sns.scatterplot(x='generation_gwh_2016', y='capacity_mw',data=df)"
   ]
  },
  {
   "cell_type": "code",
   "execution_count": 263,
   "id": "a47d9e79",
   "metadata": {},
   "outputs": [
    {
     "data": {
      "text/plain": [
       "<AxesSubplot:xlabel='generation_gwh_2017', ylabel='capacity_mw'>"
      ]
     },
     "execution_count": 263,
     "metadata": {},
     "output_type": "execute_result"
    },
    {
     "data": {
      "image/png": "[encoded data removed]",
      "text/plain": [
       "<Figure size 432x288 with 1 Axes>"
      ]
     },
     "metadata": {
      "needs_background": "light"
     },
     "output_type": "display_data"
    }
   ],
   "source": [
    "sns.scatterplot(x='generation_gwh_2017', y='capacity_mw',data=df)"
   ]
  },
  {
   "cell_type": "code",
   "execution_count": 259,
   "id": "5a53c266",
   "metadata": {},
   "outputs": [
    {
     "data": {
      "text/plain": [
       "<AxesSubplot:xlabel='generation_gwh_2018', ylabel='capacity_mw'>"
      ]
     },
     "execution_count": 259,
     "metadata": {},
     "output_type": "execute_result"
    },
    {
     "data": {
      "image/png": "[encoded data removed]",
      "text/plain": [
       "<Figure size 432x288 with 1 Axes>"
      ]
     },
     "metadata": {
      "needs_background": "light"
     },
     "output_type": "display_data"
    }
   ],
   "source": [
    "sns.scatterplot(x='generation_gwh_2018', y='capacity_mw',data=df)"
   ]
  },
  {
   "cell_type": "code",
   "execution_count": 264,
   "id": "9bf0ec4b",
   "metadata": {},
   "outputs": [
    {
     "data": {
      "text/plain": [
       "Index(['name', 'gppd_idnr', 'capacity_mw', 'latitude', 'longitude',\n",
       "       'primary_fuel', 'commissioning_year', 'source', 'url',\n",
       "       'geolocation_source', 'generation_gwh_2014', 'generation_gwh_2015',\n",
       "       'generation_gwh_2016', 'generation_gwh_2017', 'generation_gwh_2018'],\n",
       "      dtype='object')"
      ]
     },
     "execution_count": 264,
     "metadata": {},
     "output_type": "execute_result"
    }
   ],
   "source": [
    "df.columns"
   ]
  },
  {
   "cell_type": "code",
   "execution_count": 265,
   "id": "373bf621",
   "metadata": {},
   "outputs": [
    {
     "data": {
      "text/plain": [
       "<AxesSubplot:xlabel='commissioning_year', ylabel='capacity_mw'>"
      ]
     },
     "execution_count": 265,
     "metadata": {},
     "output_type": "execute_result"
    },
    {
     "data": {
      "image/png": "[encoded data removed]",
      "text/plain": [
       "<Figure size 432x288 with 1 Axes>"
      ]
     },
     "metadata": {
      "needs_background": "light"
     },
     "output_type": "display_data"
    }
   ],
   "source": [
    "sns.scatterplot(x='commissioning_year', y='capacity_mw',data=df)"
   ]
  },
  {
   "cell_type": "code",
   "execution_count": 266,
   "id": "f37f9b00",
   "metadata": {},
   "outputs": [
    {
     "data": {
      "text/plain": [
       "<AxesSubplot:xlabel='latitude', ylabel='capacity_mw'>"
      ]
     },
     "execution_count": 266,
     "metadata": {},
     "output_type": "execute_result"
    },
    {
     "data": {
      "image/png": "[encoded data removed]",
      "text/plain": [
       "<Figure size 432x288 with 1 Axes>"
      ]
     },
     "metadata": {
      "needs_background": "light"
     },
     "output_type": "display_data"
    }
   ],
   "source": [
    "sns.scatterplot(x='latitude', y='capacity_mw',data=df)"
   ]
  },
  {
   "cell_type": "code",
   "execution_count": 267,
   "id": "9d151d8a",
   "metadata": {},
   "outputs": [
    {
     "data": {
      "text/html": [
       "<div>\n",
       "<style scoped>\n",
       "    .dataframe tbody tr th:only-of-type {\n",
       "        vertical-align: middle;\n",
       "    }\n",
       "\n",
       "    .dataframe tbody tr th {\n",
       "        vertical-align: top;\n",
       "    }\n",
       "\n",
       "    .dataframe thead th {\n",
       "        text-align: right;\n",
       "    }\n",
       "</style>\n",
       "<table border=\"1\" class=\"dataframe\">\n",
       "  <thead>\n",
       "    <tr style=\"text-align: right;\">\n",
       "      <th></th>\n",
       "      <th>name</th>\n",
       "      <th>gppd_idnr</th>\n",
       "      <th>capacity_mw</th>\n",
       "      <th>latitude</th>\n",
       "      <th>longitude</th>\n",
       "      <th>primary_fuel</th>\n",
       "      <th>commissioning_year</th>\n",
       "      <th>source</th>\n",
       "      <th>url</th>\n",
       "      <th>geolocation_source</th>\n",
       "      <th>generation_gwh_2014</th>\n",
       "      <th>generation_gwh_2015</th>\n",
       "      <th>generation_gwh_2016</th>\n",
       "      <th>generation_gwh_2017</th>\n",
       "      <th>generation_gwh_2018</th>\n",
       "    </tr>\n",
       "  </thead>\n",
       "  <tbody>\n",
       "    <tr>\n",
       "      <th>count</th>\n",
       "      <td>861.000000</td>\n",
       "      <td>861.000000</td>\n",
       "      <td>861.000000</td>\n",
       "      <td>861.000000</td>\n",
       "      <td>861.000000</td>\n",
       "      <td>861.000000</td>\n",
       "      <td>861.000000</td>\n",
       "      <td>861.000000</td>\n",
       "      <td>861.000000</td>\n",
       "      <td>861.000000</td>\n",
       "      <td>861.000000</td>\n",
       "      <td>861.000000</td>\n",
       "      <td>861.000000</td>\n",
       "      <td>861.000000</td>\n",
       "      <td>861.000000</td>\n",
       "    </tr>\n",
       "    <tr>\n",
       "      <th>mean</th>\n",
       "      <td>430.000000</td>\n",
       "      <td>430.000000</td>\n",
       "      <td>340.382051</td>\n",
       "      <td>21.197918</td>\n",
       "      <td>77.464907</td>\n",
       "      <td>3.139373</td>\n",
       "      <td>2004.637631</td>\n",
       "      <td>44.628339</td>\n",
       "      <td>91.088269</td>\n",
       "      <td>1.718931</td>\n",
       "      <td>2447.873244</td>\n",
       "      <td>2448.582212</td>\n",
       "      <td>2490.031658</td>\n",
       "      <td>2576.521363</td>\n",
       "      <td>2630.157225</td>\n",
       "    </tr>\n",
       "    <tr>\n",
       "      <th>std</th>\n",
       "      <td>248.693587</td>\n",
       "      <td>248.693587</td>\n",
       "      <td>601.830519</td>\n",
       "      <td>6.239612</td>\n",
       "      <td>4.939316</td>\n",
       "      <td>2.268407</td>\n",
       "      <td>15.619864</td>\n",
       "      <td>45.333635</td>\n",
       "      <td>65.381113</td>\n",
       "      <td>0.692133</td>\n",
       "      <td>2728.827332</td>\n",
       "      <td>2926.796630</td>\n",
       "      <td>2945.039372</td>\n",
       "      <td>2987.234820</td>\n",
       "      <td>3099.230838</td>\n",
       "    </tr>\n",
       "    <tr>\n",
       "      <th>min</th>\n",
       "      <td>0.000000</td>\n",
       "      <td>0.000000</td>\n",
       "      <td>0.000000</td>\n",
       "      <td>8.168900</td>\n",
       "      <td>68.644700</td>\n",
       "      <td>0.000000</td>\n",
       "      <td>1927.000000</td>\n",
       "      <td>0.000000</td>\n",
       "      <td>0.000000</td>\n",
       "      <td>0.000000</td>\n",
       "      <td>0.000000</td>\n",
       "      <td>0.000000</td>\n",
       "      <td>0.000000</td>\n",
       "      <td>0.000000</td>\n",
       "      <td>0.000000</td>\n",
       "    </tr>\n",
       "    <tr>\n",
       "      <th>25%</th>\n",
       "      <td>215.000000</td>\n",
       "      <td>215.000000</td>\n",
       "      <td>18.000000</td>\n",
       "      <td>16.773900</td>\n",
       "      <td>74.256200</td>\n",
       "      <td>1.000000</td>\n",
       "      <td>1998.000000</td>\n",
       "      <td>22.000000</td>\n",
       "      <td>58.000000</td>\n",
       "      <td>2.000000</td>\n",
       "      <td>1153.421000</td>\n",
       "      <td>843.747000</td>\n",
       "      <td>823.297501</td>\n",
       "      <td>858.734750</td>\n",
       "      <td>798.381000</td>\n",
       "    </tr>\n",
       "    <tr>\n",
       "      <th>50%</th>\n",
       "      <td>430.000000</td>\n",
       "      <td>430.000000</td>\n",
       "      <td>60.000000</td>\n",
       "      <td>21.780000</td>\n",
       "      <td>76.719500</td>\n",
       "      <td>3.000000</td>\n",
       "      <td>2014.000000</td>\n",
       "      <td>22.000000</td>\n",
       "      <td>58.000000</td>\n",
       "      <td>2.000000</td>\n",
       "      <td>2431.823590</td>\n",
       "      <td>2428.226946</td>\n",
       "      <td>2467.936859</td>\n",
       "      <td>2547.759305</td>\n",
       "      <td>2600.804099</td>\n",
       "    </tr>\n",
       "    <tr>\n",
       "      <th>75%</th>\n",
       "      <td>645.000000</td>\n",
       "      <td>645.000000</td>\n",
       "      <td>412.020000</td>\n",
       "      <td>25.512400</td>\n",
       "      <td>79.440800</td>\n",
       "      <td>6.000000</td>\n",
       "      <td>2015.000000</td>\n",
       "      <td>37.000000</td>\n",
       "      <td>108.000000</td>\n",
       "      <td>2.000000</td>\n",
       "      <td>2431.823590</td>\n",
       "      <td>2428.226946</td>\n",
       "      <td>2467.936859</td>\n",
       "      <td>2547.759305</td>\n",
       "      <td>2600.804099</td>\n",
       "    </tr>\n",
       "    <tr>\n",
       "      <th>max</th>\n",
       "      <td>860.000000</td>\n",
       "      <td>860.000000</td>\n",
       "      <td>4760.000000</td>\n",
       "      <td>34.649000</td>\n",
       "      <td>95.408000</td>\n",
       "      <td>7.000000</td>\n",
       "      <td>2018.000000</td>\n",
       "      <td>190.000000</td>\n",
       "      <td>287.000000</td>\n",
       "      <td>2.000000</td>\n",
       "      <td>28127.000000</td>\n",
       "      <td>30539.000000</td>\n",
       "      <td>30015.000000</td>\n",
       "      <td>35116.000000</td>\n",
       "      <td>35136.000000</td>\n",
       "    </tr>\n",
       "  </tbody>\n",
       "</table>\n",
       "</div>"
      ],
      "text/plain": [
       "             name   gppd_idnr  capacity_mw    latitude   longitude  \\\n",
       "count  861.000000  861.000000   861.000000  861.000000  861.000000   \n",
       "mean   430.000000  430.000000   340.382051   21.197918   77.464907   \n",
       "std    248.693587  248.693587   601.830519    6.239612    4.939316   \n",
       "min      0.000000    0.000000     0.000000    8.168900   68.644700   \n",
       "25%    215.000000  215.000000    18.000000   16.773900   74.256200   \n",
       "50%    430.000000  430.000000    60.000000   21.780000   76.719500   \n",
       "75%    645.000000  645.000000   412.020000   25.512400   79.440800   \n",
       "max    860.000000  860.000000  4760.000000   34.649000   95.408000   \n",
       "\n",
       "       primary_fuel  commissioning_year      source         url  \\\n",
       "count    861.000000          861.000000  861.000000  861.000000   \n",
       "mean       3.139373         2004.637631   44.628339   91.088269   \n",
       "std        2.268407           15.619864   45.333635   65.381113   \n",
       "min        0.000000         1927.000000    0.000000    0.000000   \n",
       "25%        1.000000         1998.000000   22.000000   58.000000   \n",
       "50%        3.000000         2014.000000   22.000000   58.000000   \n",
       "75%        6.000000         2015.000000   37.000000  108.000000   \n",
       "max        7.000000         2018.000000  190.000000  287.000000   \n",
       "\n",
       "       geolocation_source  generation_gwh_2014  generation_gwh_2015  \\\n",
       "count          861.000000           861.000000           861.000000   \n",
       "mean             1.718931          2447.873244          2448.582212   \n",
       "std              0.692133          2728.827332          2926.796630   \n",
       "min              0.000000             0.000000             0.000000   \n",
       "25%              2.000000          1153.421000           843.747000   \n",
       "50%              2.000000          2431.823590          2428.226946   \n",
       "75%              2.000000          2431.823590          2428.226946   \n",
       "max              2.000000         28127.000000         30539.000000   \n",
       "\n",
       "       generation_gwh_2016  generation_gwh_2017  generation_gwh_2018  \n",
       "count           861.000000           861.000000           861.000000  \n",
       "mean           2490.031658          2576.521363          2630.157225  \n",
       "std            2945.039372          2987.234820          3099.230838  \n",
       "min               0.000000             0.000000             0.000000  \n",
       "25%             823.297501           858.734750           798.381000  \n",
       "50%            2467.936859          2547.759305          2600.804099  \n",
       "75%            2467.936859          2547.759305          2600.804099  \n",
       "max           30015.000000         35116.000000         35136.000000  "
      ]
     },
     "execution_count": 267,
     "metadata": {},
     "output_type": "execute_result"
    }
   ],
   "source": [
    "df.describe()"
   ]
  },
  {
   "cell_type": "markdown",
   "id": "98e85466",
   "metadata": {},
   "source": [
    "Key Observations: 1) Data has skewness as for few columns data Mean is not equal to 50%. 2) For few columns there is slight gap between 75% and max values hence possibility of outliers."
   ]
  },
  {
   "cell_type": "markdown",
   "id": "72212125",
   "metadata": {},
   "source": [
    "Checking Correlation"
   ]
  },
  {
   "cell_type": "code",
   "execution_count": 268,
   "id": "f7f0e31c",
   "metadata": {},
   "outputs": [
    {
     "data": {
      "text/plain": [
       "geolocation_source    -0.512705\n",
       "capacity_mw           -0.378447\n",
       "longitude             -0.359060\n",
       "generation_gwh_2018   -0.143576\n",
       "generation_gwh_2017   -0.138484\n",
       "generation_gwh_2016   -0.136132\n",
       "generation_gwh_2015   -0.129800\n",
       "generation_gwh_2014   -0.129149\n",
       "latitude              -0.010530\n",
       "name                   0.028894\n",
       "source                 0.060286\n",
       "commissioning_year     0.155931\n",
       "url                    0.567925\n",
       "gppd_idnr              0.600834\n",
       "primary_fuel           1.000000\n",
       "Name: primary_fuel, dtype: float64"
      ]
     },
     "execution_count": 268,
     "metadata": {},
     "output_type": "execute_result"
    }
   ],
   "source": [
    "df.corr()['primary_fuel'].sort_values()"
   ]
  },
  {
   "cell_type": "code",
   "execution_count": 269,
   "id": "90964bfe",
   "metadata": {},
   "outputs": [
    {
     "data": {
      "image/png": "[encoded data removed]",
      "text/plain": [
       "<Figure size 1584x504 with 2 Axes>"
      ]
     },
     "metadata": {
      "needs_background": "light"
     },
     "output_type": "display_data"
    }
   ],
   "source": [
    "corr_mat = df.corr()\n",
    "plt.figure(figsize=[22,7])\n",
    "sns.heatmap(corr_mat,annot=True)\n",
    "plt.title('Correlation Matrix')\n",
    "plt.savefig('Correlation_matrix.jpg')\n",
    "plt.show()"
   ]
  },
  {
   "cell_type": "markdown",
   "id": "01952b6e",
   "metadata": {},
   "source": [
    "Checking multicollinearity"
   ]
  },
  {
   "cell_type": "code",
   "execution_count": 271,
   "id": "82a0e47f",
   "metadata": {},
   "outputs": [],
   "source": [
    "x1 = df.drop(['primary_fuel'],axis=1)\n",
    "y1 = df['primary_fuel']"
   ]
  },
  {
   "cell_type": "code",
   "execution_count": 273,
   "id": "6b6241dc",
   "metadata": {},
   "outputs": [
    {
     "data": {
      "text/plain": [
       "array([[-1.7300403 ,  0.80064656, -0.56175024, ..., -0.00750674,\n",
       "        -0.00963392, -0.00947661],\n",
       "       [-1.72601695,  0.24944767, -0.40297546, ..., -0.00750674,\n",
       "        -0.00963392, -0.00947661],\n",
       "       [-1.7219936 ,  1.56105962, -0.50073417, ..., -0.00750674,\n",
       "        -0.00963392, -0.00947661],\n",
       "       ...,\n",
       "       [ 1.7219936 ,  1.67371341, -0.52351129, ..., -0.00750674,\n",
       "        -0.00963392, -0.00947661],\n",
       "       [ 1.72601695,  0.32991466, -0.4329016 , ..., -0.00750674,\n",
       "        -0.00963392, -0.00947661],\n",
       "       [ 1.7300403 ,  1.61336316, -0.53847435, ..., -0.00750674,\n",
       "        -0.00963392, -0.00947661]])"
      ]
     },
     "execution_count": 273,
     "metadata": {},
     "output_type": "execute_result"
    }
   ],
   "source": [
    "scaler = StandardScaler()\n",
    "X_scaled = scaler.fit_transform(x1)\n",
    "X_scaled"
   ]
  },
  {
   "cell_type": "code",
   "execution_count": 274,
   "id": "0e19930a",
   "metadata": {},
   "outputs": [
    {
     "data": {
      "text/html": [
       "<div>\n",
       "<style scoped>\n",
       "    .dataframe tbody tr th:only-of-type {\n",
       "        vertical-align: middle;\n",
       "    }\n",
       "\n",
       "    .dataframe tbody tr th {\n",
       "        vertical-align: top;\n",
       "    }\n",
       "\n",
       "    .dataframe thead th {\n",
       "        text-align: right;\n",
       "    }\n",
       "</style>\n",
       "<table border=\"1\" class=\"dataframe\">\n",
       "  <thead>\n",
       "    <tr style=\"text-align: right;\">\n",
       "      <th></th>\n",
       "      <th>vif</th>\n",
       "      <th>Features</th>\n",
       "    </tr>\n",
       "  </thead>\n",
       "  <tbody>\n",
       "    <tr>\n",
       "      <th>0</th>\n",
       "      <td>1.576280</td>\n",
       "      <td>name</td>\n",
       "    </tr>\n",
       "    <tr>\n",
       "      <th>1</th>\n",
       "      <td>4.717292</td>\n",
       "      <td>gppd_idnr</td>\n",
       "    </tr>\n",
       "    <tr>\n",
       "      <th>2</th>\n",
       "      <td>4.432361</td>\n",
       "      <td>capacity_mw</td>\n",
       "    </tr>\n",
       "    <tr>\n",
       "      <th>3</th>\n",
       "      <td>1.113181</td>\n",
       "      <td>latitude</td>\n",
       "    </tr>\n",
       "    <tr>\n",
       "      <th>4</th>\n",
       "      <td>1.255750</td>\n",
       "      <td>longitude</td>\n",
       "    </tr>\n",
       "    <tr>\n",
       "      <th>5</th>\n",
       "      <td>1.678498</td>\n",
       "      <td>commissioning_year</td>\n",
       "    </tr>\n",
       "    <tr>\n",
       "      <th>6</th>\n",
       "      <td>1.537172</td>\n",
       "      <td>source</td>\n",
       "    </tr>\n",
       "    <tr>\n",
       "      <th>7</th>\n",
       "      <td>1.962947</td>\n",
       "      <td>url</td>\n",
       "    </tr>\n",
       "    <tr>\n",
       "      <th>8</th>\n",
       "      <td>2.008678</td>\n",
       "      <td>geolocation_source</td>\n",
       "    </tr>\n",
       "    <tr>\n",
       "      <th>9</th>\n",
       "      <td>11.347109</td>\n",
       "      <td>generation_gwh_2014</td>\n",
       "    </tr>\n",
       "    <tr>\n",
       "      <th>10</th>\n",
       "      <td>27.120009</td>\n",
       "      <td>generation_gwh_2015</td>\n",
       "    </tr>\n",
       "    <tr>\n",
       "      <th>11</th>\n",
       "      <td>34.666024</td>\n",
       "      <td>generation_gwh_2016</td>\n",
       "    </tr>\n",
       "    <tr>\n",
       "      <th>12</th>\n",
       "      <td>37.224530</td>\n",
       "      <td>generation_gwh_2017</td>\n",
       "    </tr>\n",
       "    <tr>\n",
       "      <th>13</th>\n",
       "      <td>32.992697</td>\n",
       "      <td>generation_gwh_2018</td>\n",
       "    </tr>\n",
       "  </tbody>\n",
       "</table>\n",
       "</div>"
      ],
      "text/plain": [
       "          vif             Features\n",
       "0    1.576280                 name\n",
       "1    4.717292            gppd_idnr\n",
       "2    4.432361          capacity_mw\n",
       "3    1.113181             latitude\n",
       "4    1.255750            longitude\n",
       "5    1.678498   commissioning_year\n",
       "6    1.537172               source\n",
       "7    1.962947                  url\n",
       "8    2.008678   geolocation_source\n",
       "9   11.347109  generation_gwh_2014\n",
       "10  27.120009  generation_gwh_2015\n",
       "11  34.666024  generation_gwh_2016\n",
       "12  37.224530  generation_gwh_2017\n",
       "13  32.992697  generation_gwh_2018"
      ]
     },
     "execution_count": 274,
     "metadata": {},
     "output_type": "execute_result"
    }
   ],
   "source": [
    "vif = pd.DataFrame()\n",
    "vif['vif'] = [variance_inflation_factor(X_scaled,i) for i in range(X_scaled.shape[1])]\n",
    "vif['Features'] = x1.columns\n",
    "\n",
    "vif"
   ]
  },
  {
   "cell_type": "markdown",
   "id": "134a7b4f",
   "metadata": {},
   "source": [
    "Checking Skewness"
   ]
  },
  {
   "cell_type": "code",
   "execution_count": 276,
   "id": "9e4f6a89",
   "metadata": {},
   "outputs": [
    {
     "data": {
      "text/plain": [
       "name                   0.000000\n",
       "gppd_idnr              0.000000\n",
       "capacity_mw            3.037191\n",
       "latitude              -0.145866\n",
       "longitude              1.112646\n",
       "primary_fuel           0.507576\n",
       "commissioning_year    -1.683585\n",
       "source                 1.778807\n",
       "url                    1.516283\n",
       "geolocation_source    -2.072165\n",
       "generation_gwh_2014    4.930254\n",
       "generation_gwh_2015    5.253370\n",
       "generation_gwh_2016    4.965294\n",
       "generation_gwh_2017    5.014455\n",
       "generation_gwh_2018    4.843057\n",
       "dtype: float64"
      ]
     },
     "execution_count": 276,
     "metadata": {},
     "output_type": "execute_result"
    }
   ],
   "source": [
    "df.skew()"
   ]
  },
  {
   "cell_type": "code",
   "execution_count": 277,
   "id": "267db0a8",
   "metadata": {},
   "outputs": [],
   "source": [
    "columns = ('capacity_mw','longitude','commissioning_year','source','url','geolocation_source','generation_gwh_2014','generation_gwh_2015','generation_gwh_2016','generation_gwh_2017','generation_gwh_2018')\n",
    "\n",
    "for col in columns:\n",
    "    if df.skew().loc[col]>0.55:\n",
    "        df[col] = np.log1p(df[col])"
   ]
  },
  {
   "cell_type": "code",
   "execution_count": 279,
   "id": "fdeec69c",
   "metadata": {},
   "outputs": [
    {
     "data": {
      "text/plain": [
       "name                   0.000000\n",
       "gppd_idnr              0.000000\n",
       "capacity_mw            0.093140\n",
       "latitude              -0.145866\n",
       "longitude              0.916519\n",
       "primary_fuel           0.507576\n",
       "commissioning_year    -1.683585\n",
       "source                 0.813021\n",
       "url                   -0.737448\n",
       "geolocation_source    -2.072165\n",
       "generation_gwh_2014   -2.544724\n",
       "generation_gwh_2015   -2.279381\n",
       "generation_gwh_2016   -2.235670\n",
       "generation_gwh_2017   -2.283786\n",
       "generation_gwh_2018   -2.279260\n",
       "dtype: float64"
      ]
     },
     "execution_count": 279,
     "metadata": {},
     "output_type": "execute_result"
    }
   ],
   "source": [
    "df.skew()"
   ]
  },
  {
   "cell_type": "markdown",
   "id": "7c017694",
   "metadata": {},
   "source": [
    "We can observe skewness has been reduced and lies in rage between 0.09 to -2.5"
   ]
  },
  {
   "cell_type": "markdown",
   "id": "a47b83b3",
   "metadata": {},
   "source": [
    "Checking outliers"
   ]
  },
  {
   "cell_type": "code",
   "execution_count": 281,
   "id": "417044ae",
   "metadata": {},
   "outputs": [
    {
     "data": {
      "text/plain": [
       "name                      AxesSubplot(0.125,0.749828;0.227941x0.130172)\n",
       "gppd_idnr              AxesSubplot(0.398529,0.749828;0.227941x0.130172)\n",
       "capacity_mw            AxesSubplot(0.672059,0.749828;0.227941x0.130172)\n",
       "latitude                  AxesSubplot(0.125,0.593621;0.227941x0.130172)\n",
       "longitude              AxesSubplot(0.398529,0.593621;0.227941x0.130172)\n",
       "primary_fuel           AxesSubplot(0.672059,0.593621;0.227941x0.130172)\n",
       "commissioning_year        AxesSubplot(0.125,0.437414;0.227941x0.130172)\n",
       "source                 AxesSubplot(0.398529,0.437414;0.227941x0.130172)\n",
       "url                    AxesSubplot(0.672059,0.437414;0.227941x0.130172)\n",
       "geolocation_source        AxesSubplot(0.125,0.281207;0.227941x0.130172)\n",
       "generation_gwh_2014    AxesSubplot(0.398529,0.281207;0.227941x0.130172)\n",
       "generation_gwh_2015    AxesSubplot(0.672059,0.281207;0.227941x0.130172)\n",
       "generation_gwh_2016          AxesSubplot(0.125,0.125;0.227941x0.130172)\n",
       "generation_gwh_2017       AxesSubplot(0.398529,0.125;0.227941x0.130172)\n",
       "generation_gwh_2018       AxesSubplot(0.672059,0.125;0.227941x0.130172)\n",
       "dtype: object"
      ]
     },
     "execution_count": 281,
     "metadata": {},
     "output_type": "execute_result"
    },
    {
     "data": {
      "image/png": "[encoded data removed]",
      "text/plain": [
       "<Figure size 432x288 with 15 Axes>"
      ]
     },
     "metadata": {
      "needs_background": "light"
     },
     "output_type": "display_data"
    }
   ],
   "source": [
    "df.plot(kind='box',subplots=True,layout=(5,3))"
   ]
  },
  {
   "cell_type": "markdown",
   "id": "97fbffce",
   "metadata": {},
   "source": [
    "We can observe outliers present in few columns"
   ]
  },
  {
   "cell_type": "code",
   "execution_count": 282,
   "id": "68486e0b",
   "metadata": {},
   "outputs": [
    {
     "data": {
      "text/plain": [
       "(array([ 22,  22,  43,  55,  55,  60,  60,  80,  80,  82,  89,  91,  95,\n",
       "         99,  99, 100, 100, 100, 106, 154, 154, 154, 154, 159, 162, 162,\n",
       "        162, 162, 176, 195, 195, 195, 195, 195, 204, 205, 212, 213, 213,\n",
       "        213, 213, 214, 214, 214, 214, 214, 227, 227, 243, 243, 247, 248,\n",
       "        248, 264, 264, 264, 266, 266, 266, 301, 301, 319, 322, 322, 328,\n",
       "        332, 337, 339, 344, 344, 344, 344, 357, 371, 389, 401, 403, 410,\n",
       "        424, 428, 434, 440, 440, 447, 449, 456, 456, 456, 456, 456, 457,\n",
       "        460, 486, 494, 500, 500, 500, 500, 500, 514, 519, 519, 520, 520,\n",
       "        535, 535, 537, 541, 541, 541, 541, 541, 545, 549, 555, 557, 557,\n",
       "        557, 557, 561, 562, 573, 573, 593, 600, 600, 600, 610, 616, 618,\n",
       "        618, 618, 622, 622, 622, 622, 622, 631, 646, 651, 652, 652, 652,\n",
       "        652, 653, 653, 654, 659, 668, 674, 677, 678, 689, 694, 709, 709,\n",
       "        710, 710, 710, 740, 748, 748, 748, 748, 748, 752, 764, 766, 766,\n",
       "        770, 770, 770, 772, 774, 774, 774, 774, 779, 779, 804, 806, 806,\n",
       "        806, 829, 829, 829, 848, 855, 855, 855, 855, 856], dtype=int64),\n",
       " array([10, 14,  8, 10, 11, 10, 14, 10, 13,  8,  8,  8, 11, 13, 14, 11, 12,\n",
       "        14,  7, 11, 12, 13, 14,  8, 10, 12, 13, 14,  4, 10, 11, 12, 13, 14,\n",
       "        14,  8,  6, 10, 12, 13, 14, 10, 11, 12, 13, 14, 13, 14, 10, 12, 13,\n",
       "        10, 11, 10, 11, 12, 12, 13, 14, 12, 13,  4, 13, 14,  6, 13, 13, 10,\n",
       "        10, 11, 12, 14,  6, 10,  7,  4, 13,  4,  6, 11,  6, 13, 14, 10, 13,\n",
       "        10, 11, 12, 13, 14, 10,  6, 11,  4, 10, 11, 12, 13, 14,  6, 11, 12,\n",
       "        11, 12, 13, 14, 10, 10, 11, 12, 13, 14,  6,  4,  6, 11, 12, 13, 14,\n",
       "        10, 11,  6, 13,  6, 12, 13, 14,  4, 10, 11, 12, 14, 10, 11, 12, 13,\n",
       "        14,  8, 14, 14, 11, 12, 13, 14, 12, 14, 14, 11, 11,  6,  6,  8, 11,\n",
       "         6, 10, 13, 10, 11, 12,  8, 10, 11, 12, 13, 14, 12,  6, 13, 14, 12,\n",
       "        13, 14,  8, 10, 11, 12, 14, 13, 14,  6, 12, 13, 14, 10, 13, 14,  7,\n",
       "        10, 11, 12, 14, 11], dtype=int64))"
      ]
     },
     "execution_count": 282,
     "metadata": {},
     "output_type": "execute_result"
    }
   ],
   "source": [
    "z=np.abs(zscore(df))\n",
    "threshold=3\n",
    "np.where(z>3)"
   ]
  },
  {
   "cell_type": "code",
   "execution_count": 283,
   "id": "11be34bd",
   "metadata": {},
   "outputs": [
    {
     "data": {
      "text/html": [
       "<div>\n",
       "<style scoped>\n",
       "    .dataframe tbody tr th:only-of-type {\n",
       "        vertical-align: middle;\n",
       "    }\n",
       "\n",
       "    .dataframe tbody tr th {\n",
       "        vertical-align: top;\n",
       "    }\n",
       "\n",
       "    .dataframe thead th {\n",
       "        text-align: right;\n",
       "    }\n",
       "</style>\n",
       "<table border=\"1\" class=\"dataframe\">\n",
       "  <thead>\n",
       "    <tr style=\"text-align: right;\">\n",
       "      <th></th>\n",
       "      <th>name</th>\n",
       "      <th>gppd_idnr</th>\n",
       "      <th>capacity_mw</th>\n",
       "      <th>latitude</th>\n",
       "      <th>longitude</th>\n",
       "      <th>primary_fuel</th>\n",
       "      <th>commissioning_year</th>\n",
       "      <th>source</th>\n",
       "      <th>url</th>\n",
       "      <th>geolocation_source</th>\n",
       "      <th>generation_gwh_2014</th>\n",
       "      <th>generation_gwh_2015</th>\n",
       "      <th>generation_gwh_2016</th>\n",
       "      <th>generation_gwh_2017</th>\n",
       "      <th>generation_gwh_2018</th>\n",
       "    </tr>\n",
       "  </thead>\n",
       "  <tbody>\n",
       "    <tr>\n",
       "      <th>0</th>\n",
       "      <td>0</td>\n",
       "      <td>629</td>\n",
       "      <td>1.252763</td>\n",
       "      <td>28.1839</td>\n",
       "      <td>4.307313</td>\n",
       "      <td>6</td>\n",
       "      <td>2011.0</td>\n",
       "      <td>4.700480</td>\n",
       "      <td>4.844187</td>\n",
       "      <td>1</td>\n",
       "      <td>7.796808</td>\n",
       "      <td>7.795328</td>\n",
       "      <td>7.811543</td>\n",
       "      <td>7.843362</td>\n",
       "      <td>7.863960</td>\n",
       "    </tr>\n",
       "    <tr>\n",
       "      <th>1</th>\n",
       "      <td>1</td>\n",
       "      <td>492</td>\n",
       "      <td>4.595120</td>\n",
       "      <td>24.7663</td>\n",
       "      <td>4.325575</td>\n",
       "      <td>1</td>\n",
       "      <td>2015.0</td>\n",
       "      <td>5.164786</td>\n",
       "      <td>5.135798</td>\n",
       "      <td>2</td>\n",
       "      <td>7.796808</td>\n",
       "      <td>7.795328</td>\n",
       "      <td>7.811543</td>\n",
       "      <td>7.843362</td>\n",
       "      <td>7.863960</td>\n",
       "    </tr>\n",
       "    <tr>\n",
       "      <th>2</th>\n",
       "      <td>2</td>\n",
       "      <td>818</td>\n",
       "      <td>3.693867</td>\n",
       "      <td>21.9038</td>\n",
       "      <td>4.253813</td>\n",
       "      <td>7</td>\n",
       "      <td>2015.0</td>\n",
       "      <td>3.091042</td>\n",
       "      <td>5.283204</td>\n",
       "      <td>2</td>\n",
       "      <td>7.796808</td>\n",
       "      <td>7.795328</td>\n",
       "      <td>7.811543</td>\n",
       "      <td>7.843362</td>\n",
       "      <td>7.863960</td>\n",
       "    </tr>\n",
       "    <tr>\n",
       "      <th>3</th>\n",
       "      <td>3</td>\n",
       "      <td>0</td>\n",
       "      <td>4.912655</td>\n",
       "      <td>23.8712</td>\n",
       "      <td>4.525696</td>\n",
       "      <td>2</td>\n",
       "      <td>2004.0</td>\n",
       "      <td>3.135494</td>\n",
       "      <td>4.077537</td>\n",
       "      <td>2</td>\n",
       "      <td>6.427765</td>\n",
       "      <td>6.739037</td>\n",
       "      <td>6.787850</td>\n",
       "      <td>6.499448</td>\n",
       "      <td>6.441328</td>\n",
       "    </tr>\n",
       "    <tr>\n",
       "      <th>4</th>\n",
       "      <td>4</td>\n",
       "      <td>1</td>\n",
       "      <td>7.496097</td>\n",
       "      <td>21.9603</td>\n",
       "      <td>4.423757</td>\n",
       "      <td>1</td>\n",
       "      <td>2015.0</td>\n",
       "      <td>3.135494</td>\n",
       "      <td>4.077537</td>\n",
       "      <td>2</td>\n",
       "      <td>8.018477</td>\n",
       "      <td>8.685647</td>\n",
       "      <td>8.739376</td>\n",
       "      <td>8.591666</td>\n",
       "      <td>8.892886</td>\n",
       "    </tr>\n",
       "    <tr>\n",
       "      <th>...</th>\n",
       "      <td>...</td>\n",
       "      <td>...</td>\n",
       "      <td>...</td>\n",
       "      <td>...</td>\n",
       "      <td>...</td>\n",
       "      <td>...</td>\n",
       "      <td>...</td>\n",
       "      <td>...</td>\n",
       "      <td>...</td>\n",
       "      <td>...</td>\n",
       "      <td>...</td>\n",
       "      <td>...</td>\n",
       "      <td>...</td>\n",
       "      <td>...</td>\n",
       "      <td>...</td>\n",
       "    </tr>\n",
       "    <tr>\n",
       "      <th>900</th>\n",
       "      <td>854</td>\n",
       "      <td>606</td>\n",
       "      <td>2.833213</td>\n",
       "      <td>17.1653</td>\n",
       "      <td>4.320757</td>\n",
       "      <td>0</td>\n",
       "      <td>2015.0</td>\n",
       "      <td>5.247024</td>\n",
       "      <td>3.688879</td>\n",
       "      <td>2</td>\n",
       "      <td>7.796808</td>\n",
       "      <td>7.795328</td>\n",
       "      <td>7.811543</td>\n",
       "      <td>7.843362</td>\n",
       "      <td>7.863960</td>\n",
       "    </tr>\n",
       "    <tr>\n",
       "      <th>903</th>\n",
       "      <td>857</td>\n",
       "      <td>787</td>\n",
       "      <td>1.386294</td>\n",
       "      <td>12.8932</td>\n",
       "      <td>4.371539</td>\n",
       "      <td>6</td>\n",
       "      <td>2015.0</td>\n",
       "      <td>4.356709</td>\n",
       "      <td>3.135494</td>\n",
       "      <td>0</td>\n",
       "      <td>7.796808</td>\n",
       "      <td>7.795328</td>\n",
       "      <td>7.811543</td>\n",
       "      <td>7.843362</td>\n",
       "      <td>7.863960</td>\n",
       "    </tr>\n",
       "    <tr>\n",
       "      <th>904</th>\n",
       "      <td>858</td>\n",
       "      <td>846</td>\n",
       "      <td>3.277145</td>\n",
       "      <td>15.2758</td>\n",
       "      <td>4.338350</td>\n",
       "      <td>7</td>\n",
       "      <td>2015.0</td>\n",
       "      <td>3.091042</td>\n",
       "      <td>5.509388</td>\n",
       "      <td>2</td>\n",
       "      <td>7.796808</td>\n",
       "      <td>7.795328</td>\n",
       "      <td>7.811543</td>\n",
       "      <td>7.843362</td>\n",
       "      <td>7.863960</td>\n",
       "    </tr>\n",
       "    <tr>\n",
       "      <th>905</th>\n",
       "      <td>859</td>\n",
       "      <td>512</td>\n",
       "      <td>4.394449</td>\n",
       "      <td>24.3500</td>\n",
       "      <td>4.314118</td>\n",
       "      <td>1</td>\n",
       "      <td>2015.0</td>\n",
       "      <td>4.094345</td>\n",
       "      <td>4.418841</td>\n",
       "      <td>2</td>\n",
       "      <td>7.796808</td>\n",
       "      <td>7.795328</td>\n",
       "      <td>7.811543</td>\n",
       "      <td>7.843362</td>\n",
       "      <td>7.863960</td>\n",
       "    </tr>\n",
       "    <tr>\n",
       "      <th>906</th>\n",
       "      <td>860</td>\n",
       "      <td>831</td>\n",
       "      <td>2.862201</td>\n",
       "      <td>9.9344</td>\n",
       "      <td>4.362803</td>\n",
       "      <td>7</td>\n",
       "      <td>2015.0</td>\n",
       "      <td>3.091042</td>\n",
       "      <td>5.459586</td>\n",
       "      <td>2</td>\n",
       "      <td>7.796808</td>\n",
       "      <td>7.795328</td>\n",
       "      <td>7.811543</td>\n",
       "      <td>7.843362</td>\n",
       "      <td>7.863960</td>\n",
       "    </tr>\n",
       "  </tbody>\n",
       "</table>\n",
       "<p>758 rows × 15 columns</p>\n",
       "</div>"
      ],
      "text/plain": [
       "     name  gppd_idnr  capacity_mw  latitude  longitude  primary_fuel  \\\n",
       "0       0        629     1.252763   28.1839   4.307313             6   \n",
       "1       1        492     4.595120   24.7663   4.325575             1   \n",
       "2       2        818     3.693867   21.9038   4.253813             7   \n",
       "3       3          0     4.912655   23.8712   4.525696             2   \n",
       "4       4          1     7.496097   21.9603   4.423757             1   \n",
       "..    ...        ...          ...       ...        ...           ...   \n",
       "900   854        606     2.833213   17.1653   4.320757             0   \n",
       "903   857        787     1.386294   12.8932   4.371539             6   \n",
       "904   858        846     3.277145   15.2758   4.338350             7   \n",
       "905   859        512     4.394449   24.3500   4.314118             1   \n",
       "906   860        831     2.862201    9.9344   4.362803             7   \n",
       "\n",
       "     commissioning_year    source       url  geolocation_source  \\\n",
       "0                2011.0  4.700480  4.844187                   1   \n",
       "1                2015.0  5.164786  5.135798                   2   \n",
       "2                2015.0  3.091042  5.283204                   2   \n",
       "3                2004.0  3.135494  4.077537                   2   \n",
       "4                2015.0  3.135494  4.077537                   2   \n",
       "..                  ...       ...       ...                 ...   \n",
       "900              2015.0  5.247024  3.688879                   2   \n",
       "903              2015.0  4.356709  3.135494                   0   \n",
       "904              2015.0  3.091042  5.509388                   2   \n",
       "905              2015.0  4.094345  4.418841                   2   \n",
       "906              2015.0  3.091042  5.459586                   2   \n",
       "\n",
       "     generation_gwh_2014  generation_gwh_2015  generation_gwh_2016  \\\n",
       "0               7.796808             7.795328             7.811543   \n",
       "1               7.796808             7.795328             7.811543   \n",
       "2               7.796808             7.795328             7.811543   \n",
       "3               6.427765             6.739037             6.787850   \n",
       "4               8.018477             8.685647             8.739376   \n",
       "..                   ...                  ...                  ...   \n",
       "900             7.796808             7.795328             7.811543   \n",
       "903             7.796808             7.795328             7.811543   \n",
       "904             7.796808             7.795328             7.811543   \n",
       "905             7.796808             7.795328             7.811543   \n",
       "906             7.796808             7.795328             7.811543   \n",
       "\n",
       "     generation_gwh_2017  generation_gwh_2018  \n",
       "0               7.843362             7.863960  \n",
       "1               7.843362             7.863960  \n",
       "2               7.843362             7.863960  \n",
       "3               6.499448             6.441328  \n",
       "4               8.591666             8.892886  \n",
       "..                   ...                  ...  \n",
       "900             7.843362             7.863960  \n",
       "903             7.843362             7.863960  \n",
       "904             7.843362             7.863960  \n",
       "905             7.843362             7.863960  \n",
       "906             7.843362             7.863960  \n",
       "\n",
       "[758 rows x 15 columns]"
      ]
     },
     "execution_count": 283,
     "metadata": {},
     "output_type": "execute_result"
    }
   ],
   "source": [
    "df = df[(z<3).all(axis=1)]\n",
    "df"
   ]
  },
  {
   "cell_type": "code",
   "execution_count": 284,
   "id": "dba21671",
   "metadata": {},
   "outputs": [
    {
     "data": {
      "text/plain": [
       "(758, 15)"
      ]
     },
     "execution_count": 284,
     "metadata": {},
     "output_type": "execute_result"
    }
   ],
   "source": [
    "df.shape"
   ]
  },
  {
   "cell_type": "markdown",
   "id": "e96beda2",
   "metadata": {},
   "source": [
    "Percentage data loss"
   ]
  },
  {
   "cell_type": "code",
   "execution_count": 285,
   "id": "bc52d49c",
   "metadata": {},
   "outputs": [
    {
     "data": {
      "text/plain": [
       "11.962833914053427"
      ]
     },
     "execution_count": 285,
     "metadata": {},
     "output_type": "execute_result"
    }
   ],
   "source": [
    "Data_loss=((861-758)/861)*100\n",
    "Data_loss"
   ]
  },
  {
   "cell_type": "markdown",
   "id": "c84a1e51",
   "metadata": {},
   "source": [
    "Classification approach for Primary_Fuel prediction."
   ]
  },
  {
   "cell_type": "code",
   "execution_count": 303,
   "id": "3d5834ea",
   "metadata": {},
   "outputs": [
    {
     "name": "stdout",
     "output_type": "stream",
     "text": [
      "Accuracy score for random state:  0  is  0.7719298245614035\n",
      "Accuracy score for random state:  0  is  0.45614035087719296\n",
      "Accuracy score for random state:  0  is  0.8280701754385965\n",
      "Accuracy score for random state:  0  is  0.7473684210526316\n",
      "Accuracy score for random state:  1  is  0.8175438596491228\n",
      "Accuracy score for random state:  1  is  0.4421052631578947\n",
      "Accuracy score for random state:  1  is  0.8491228070175438\n",
      "Accuracy score for random state:  1  is  0.7298245614035088\n",
      "Accuracy score for random state:  2  is  0.7614035087719299\n",
      "Accuracy score for random state:  2  is  0.4421052631578947\n",
      "Accuracy score for random state:  2  is  0.8350877192982457\n",
      "Accuracy score for random state:  2  is  0.712280701754386\n",
      "Accuracy score for random state:  3  is  0.8210526315789474\n",
      "Accuracy score for random state:  3  is  0.4070175438596491\n",
      "Accuracy score for random state:  3  is  0.8596491228070176\n",
      "Accuracy score for random state:  3  is  0.7228070175438597\n",
      "Accuracy score for random state:  4  is  0.8491228070175438\n",
      "Accuracy score for random state:  4  is  0.44912280701754387\n",
      "Accuracy score for random state:  4  is  0.8526315789473684\n",
      "Accuracy score for random state:  4  is  0.7228070175438597\n",
      "Accuracy score for random state:  5  is  0.8350877192982457\n",
      "Accuracy score for random state:  5  is  0.5087719298245614\n",
      "Accuracy score for random state:  5  is  0.8526315789473684\n",
      "Accuracy score for random state:  5  is  0.7824561403508772\n",
      "Accuracy score for random state:  6  is  0.7929824561403509\n",
      "Accuracy score for random state:  6  is  0.5614035087719298\n",
      "Accuracy score for random state:  6  is  0.856140350877193\n",
      "Accuracy score for random state:  6  is  0.7824561403508772\n",
      "Accuracy score for random state:  7  is  0.8210526315789474\n",
      "Accuracy score for random state:  7  is  0.48771929824561405\n",
      "Accuracy score for random state:  7  is  0.8736842105263158\n",
      "Accuracy score for random state:  7  is  0.7649122807017544\n",
      "Accuracy score for random state:  8  is  0.8070175438596491\n",
      "Accuracy score for random state:  8  is  0.4105263157894737\n",
      "Accuracy score for random state:  8  is  0.8771929824561403\n",
      "Accuracy score for random state:  8  is  0.7684210526315789\n",
      "Accuracy score for random state:  9  is  0.8175438596491228\n",
      "Accuracy score for random state:  9  is  0.4245614035087719\n",
      "Accuracy score for random state:  9  is  0.8596491228070176\n",
      "Accuracy score for random state:  9  is  0.7684210526315789\n",
      "Accuracy score for random state:  10  is  0.8456140350877193\n",
      "Accuracy score for random state:  10  is  0.5543859649122806\n",
      "Accuracy score for random state:  10  is  0.8807017543859649\n",
      "Accuracy score for random state:  10  is  0.7614035087719299\n",
      "Accuracy score for random state:  11  is  0.7929824561403509\n",
      "Accuracy score for random state:  11  is  0.49122807017543857\n",
      "Accuracy score for random state:  11  is  0.8666666666666667\n",
      "Accuracy score for random state:  11  is  0.7578947368421053\n",
      "Accuracy score for random state:  12  is  0.8035087719298246\n",
      "Accuracy score for random state:  12  is  0.45263157894736844\n",
      "Accuracy score for random state:  12  is  0.8456140350877193\n",
      "Accuracy score for random state:  12  is  0.743859649122807\n",
      "Accuracy score for random state:  13  is  0.8175438596491228\n",
      "Accuracy score for random state:  13  is  0.5263157894736842\n",
      "Accuracy score for random state:  13  is  0.8526315789473684\n",
      "Accuracy score for random state:  13  is  0.7508771929824561\n",
      "Accuracy score for random state:  14  is  0.8\n",
      "Accuracy score for random state:  14  is  0.4456140350877193\n",
      "Accuracy score for random state:  14  is  0.8421052631578947\n",
      "Accuracy score for random state:  14  is  0.7368421052631579\n",
      "Accuracy score for random state:  15  is  0.7789473684210526\n",
      "Accuracy score for random state:  15  is  0.45614035087719296\n",
      "Accuracy score for random state:  15  is  0.8140350877192982\n",
      "Accuracy score for random state:  15  is  0.7228070175438597\n",
      "Accuracy score for random state:  16  is  0.7789473684210526\n",
      "Accuracy score for random state:  16  is  0.45614035087719296\n",
      "Accuracy score for random state:  16  is  0.7859649122807018\n",
      "Accuracy score for random state:  16  is  0.6982456140350877\n",
      "Accuracy score for random state:  17  is  0.8175438596491228\n",
      "Accuracy score for random state:  17  is  0.5017543859649123\n",
      "Accuracy score for random state:  17  is  0.8596491228070176\n",
      "Accuracy score for random state:  17  is  0.7719298245614035\n",
      "Accuracy score for random state:  18  is  0.8\n",
      "Accuracy score for random state:  18  is  0.5333333333333333\n",
      "Accuracy score for random state:  18  is  0.8315789473684211\n",
      "Accuracy score for random state:  18  is  0.7333333333333333\n",
      "Accuracy score for random state:  19  is  0.8035087719298246\n",
      "Accuracy score for random state:  19  is  0.4456140350877193\n",
      "Accuracy score for random state:  19  is  0.8421052631578947\n",
      "Accuracy score for random state:  19  is  0.7473684210526316\n",
      "Accuracy score for random state:  20  is  0.7719298245614035\n",
      "Accuracy score for random state:  20  is  0.47368421052631576\n",
      "Accuracy score for random state:  20  is  0.8350877192982457\n",
      "Accuracy score for random state:  20  is  0.712280701754386\n",
      "Accuracy score for random state:  21  is  0.7719298245614035\n",
      "Accuracy score for random state:  21  is  0.45263157894736844\n",
      "Accuracy score for random state:  21  is  0.8421052631578947\n",
      "Accuracy score for random state:  21  is  0.7157894736842105\n",
      "Accuracy score for random state:  22  is  0.8280701754385965\n",
      "Accuracy score for random state:  22  is  0.4807017543859649\n",
      "Accuracy score for random state:  22  is  0.8982456140350877\n",
      "Accuracy score for random state:  22  is  0.7543859649122807\n",
      "Accuracy score for random state:  23  is  0.7263157894736842\n",
      "Accuracy score for random state:  23  is  0.44912280701754387\n",
      "Accuracy score for random state:  23  is  0.8245614035087719\n",
      "Accuracy score for random state:  23  is  0.7228070175438597\n",
      "Accuracy score for random state:  24  is  0.8\n",
      "Accuracy score for random state:  24  is  0.4245614035087719\n",
      "Accuracy score for random state:  24  is  0.8210526315789474\n",
      "Accuracy score for random state:  24  is  0.6982456140350877\n",
      "Accuracy score for random state:  25  is  0.856140350877193\n",
      "Accuracy score for random state:  25  is  0.4245614035087719\n",
      "Accuracy score for random state:  25  is  0.8736842105263158\n",
      "Accuracy score for random state:  25  is  0.7649122807017544\n",
      "Accuracy score for random state:  26  is  0.8105263157894737\n",
      "Accuracy score for random state:  26  is  0.543859649122807\n",
      "Accuracy score for random state:  26  is  0.8596491228070176\n",
      "Accuracy score for random state:  26  is  0.7614035087719299\n",
      "Accuracy score for random state:  27  is  0.7684210526315789\n",
      "Accuracy score for random state:  27  is  0.47368421052631576\n",
      "Accuracy score for random state:  27  is  0.8421052631578947\n",
      "Accuracy score for random state:  27  is  0.7543859649122807\n",
      "Accuracy score for random state:  28  is  0.8385964912280702\n",
      "Accuracy score for random state:  28  is  0.4666666666666667\n",
      "Accuracy score for random state:  28  is  0.8456140350877193\n",
      "Accuracy score for random state:  28  is  0.7473684210526316\n",
      "Accuracy score for random state:  29  is  0.8140350877192982\n",
      "Accuracy score for random state:  29  is  0.48771929824561405\n",
      "Accuracy score for random state:  29  is  0.8666666666666667\n",
      "Accuracy score for random state:  29  is  0.7298245614035088\n",
      "Accuracy score for random state:  30  is  0.8210526315789474\n",
      "Accuracy score for random state:  30  is  0.45614035087719296\n",
      "Accuracy score for random state:  30  is  0.8456140350877193\n",
      "Accuracy score for random state:  30  is  0.7403508771929824\n",
      "Accuracy score for random state:  31  is  0.8105263157894737\n",
      "Accuracy score for random state:  31  is  0.4280701754385965\n",
      "Accuracy score for random state:  31  is  0.8350877192982457\n",
      "Accuracy score for random state:  31  is  0.7894736842105263\n",
      "Accuracy score for random state:  32  is  0.743859649122807\n",
      "Accuracy score for random state:  32  is  0.4421052631578947\n",
      "Accuracy score for random state:  32  is  0.8385964912280702\n",
      "Accuracy score for random state:  32  is  0.7228070175438597\n",
      "Accuracy score for random state:  33  is  0.7929824561403509\n",
      "Accuracy score for random state:  33  is  0.5017543859649123\n",
      "Accuracy score for random state:  33  is  0.8350877192982457\n",
      "Accuracy score for random state:  33  is  0.7368421052631579\n",
      "Accuracy score for random state:  34  is  0.775438596491228\n",
      "Accuracy score for random state:  34  is  0.4666666666666667\n",
      "Accuracy score for random state:  34  is  0.8280701754385965\n",
      "Accuracy score for random state:  34  is  0.7298245614035088\n",
      "Accuracy score for random state:  35  is  0.7719298245614035\n",
      "Accuracy score for random state:  35  is  0.3649122807017544\n",
      "Accuracy score for random state:  35  is  0.8035087719298246\n",
      "Accuracy score for random state:  35  is  0.7017543859649122\n",
      "Accuracy score for random state:  36  is  0.775438596491228\n",
      "Accuracy score for random state:  36  is  0.47368421052631576\n",
      "Accuracy score for random state:  36  is  0.8421052631578947\n",
      "Accuracy score for random state:  36  is  0.712280701754386\n",
      "Accuracy score for random state:  37  is  0.8105263157894737\n",
      "Accuracy score for random state:  37  is  0.5052631578947369\n",
      "Accuracy score for random state:  37  is  0.8245614035087719\n",
      "Accuracy score for random state:  37  is  0.7298245614035088\n",
      "Accuracy score for random state:  38  is  0.7719298245614035\n",
      "Accuracy score for random state:  38  is  0.43508771929824563\n",
      "Accuracy score for random state:  38  is  0.8140350877192982\n",
      "Accuracy score for random state:  38  is  0.7052631578947368\n",
      "Accuracy score for random state:  39  is  0.8\n",
      "Accuracy score for random state:  39  is  0.4666666666666667\n",
      "Accuracy score for random state:  39  is  0.8315789473684211\n",
      "Accuracy score for random state:  39  is  0.7157894736842105\n",
      "Accuracy score for random state:  40  is  0.8175438596491228\n",
      "Accuracy score for random state:  40  is  0.5157894736842106\n",
      "Accuracy score for random state:  40  is  0.8807017543859649\n",
      "Accuracy score for random state:  40  is  0.7614035087719299\n",
      "Accuracy score for random state:  41  is  0.8140350877192982\n",
      "Accuracy score for random state:  41  is  0.47017543859649125\n",
      "Accuracy score for random state:  41  is  0.8491228070175438\n",
      "Accuracy score for random state:  41  is  0.7228070175438597\n",
      "Accuracy score for random state:  42  is  0.7719298245614035\n",
      "Accuracy score for random state:  42  is  0.4631578947368421\n",
      "Accuracy score for random state:  42  is  0.8350877192982457\n",
      "Accuracy score for random state:  42  is  0.7543859649122807\n",
      "Accuracy score for random state:  43  is  0.8105263157894737\n",
      "Accuracy score for random state:  43  is  0.5298245614035088\n",
      "Accuracy score for random state:  43  is  0.8421052631578947\n",
      "Accuracy score for random state:  43  is  0.7719298245614035\n",
      "Accuracy score for random state:  44  is  0.8280701754385965\n",
      "Accuracy score for random state:  44  is  0.4456140350877193\n",
      "Accuracy score for random state:  44  is  0.8666666666666667\n",
      "Accuracy score for random state:  44  is  0.7859649122807018\n",
      "Accuracy score for random state:  45  is  0.7684210526315789\n",
      "Accuracy score for random state:  45  is  0.39649122807017545\n",
      "Accuracy score for random state:  45  is  0.8385964912280702\n",
      "Accuracy score for random state:  45  is  0.7333333333333333\n",
      "Accuracy score for random state:  46  is  0.7684210526315789\n",
      "Accuracy score for random state:  46  is  0.43859649122807015\n",
      "Accuracy score for random state:  46  is  0.8105263157894737\n",
      "Accuracy score for random state:  46  is  0.7263157894736842\n",
      "Accuracy score for random state:  47  is  0.743859649122807\n",
      "Accuracy score for random state:  47  is  0.47017543859649125\n",
      "Accuracy score for random state:  47  is  0.8491228070175438\n",
      "Accuracy score for random state:  47  is  0.6982456140350877\n",
      "Accuracy score for random state:  48  is  0.8315789473684211\n",
      "Accuracy score for random state:  48  is  0.5017543859649123\n",
      "Accuracy score for random state:  48  is  0.8526315789473684\n",
      "Accuracy score for random state:  48  is  0.7368421052631579\n",
      "Accuracy score for random state:  49  is  0.7578947368421053\n",
      "Accuracy score for random state:  49  is  0.45964912280701753\n",
      "Accuracy score for random state:  49  is  0.8421052631578947\n",
      "Accuracy score for random state:  49  is  0.7052631578947368\n",
      "\n",
      "\n",
      "\n",
      "\n",
      "\n"
     ]
    }
   ],
   "source": [
    "model = [DecisionTreeClassifier(),SVC(),RandomForestClassifier(),KNeighborsClassifier()]\n",
    "\n",
    "for i in range(0,50):\n",
    "    x_train,x_test,y_train,y_test = train_test_split(x1,y1,test_size=0.33,random_state=i)\n",
    "    for models in model:\n",
    "        models.fit(x_train,y_train)\n",
    "        prediction = models.predict(x_test)\n",
    "        accu_Score = accuracy_score(y_test,prediction)\n",
    "        print(\"Accuracy score for random state: \", i, \" is \",accu_Score)\n",
    "print()\n",
    "print()\n",
    "print()\n",
    "print()\n",
    "print()"
   ]
  },
  {
   "cell_type": "markdown",
   "id": "a4ec9159",
   "metadata": {},
   "source": [
    "We can observe the highest accuracy Score:0.8982456140350877 is at random state 22 and for model: RandomForestClassifier."
   ]
  },
  {
   "cell_type": "markdown",
   "id": "6524ac7b",
   "metadata": {},
   "source": [
    "Best Parameter"
   ]
  },
  {
   "cell_type": "code",
   "execution_count": 304,
   "id": "327b4d6f",
   "metadata": {},
   "outputs": [
    {
     "data": {
      "text/plain": [
       "{'max_features': 'auto'}"
      ]
     },
     "execution_count": 304,
     "metadata": {},
     "output_type": "execute_result"
    }
   ],
   "source": [
    "x1_train,x1_test,y1_train,y1_test = train_test_split(x1,y1,test_size=0.33,random_state=22)\n",
    "rfc = RandomForestClassifier()\n",
    "parameters={'max_features': ['auto','sqrt','log2']}\n",
    "gridsearch =GridSearchCV(rfc,parameters)\n",
    "gridsearch.fit(x_train,y_train)\n",
    "gridsearch.best_params_"
   ]
  },
  {
   "cell_type": "code",
   "execution_count": 305,
   "id": "68bd4872",
   "metadata": {},
   "outputs": [
    {
     "name": "stdout",
     "output_type": "stream",
     "text": [
      "Accuracy Score is:  0.8350877192982457\n"
     ]
    }
   ],
   "source": [
    "Rfc = RandomForestClassifier(max_features='auto')\n",
    "Rfc.fit(x_train,y_train)\n",
    "predictions = Rfc.predict(x_test)\n",
    "AccScore = accuracy_score(y_test,predictions)\n",
    "print(\"Accuracy Score is: \",AccScore)"
   ]
  },
  {
   "cell_type": "markdown",
   "id": "76e22f86",
   "metadata": {},
   "source": [
    "Accuracy score is 83% with RandomForestClassifier"
   ]
  },
  {
   "cell_type": "code",
   "execution_count": 291,
   "id": "f79de1e2",
   "metadata": {},
   "outputs": [],
   "source": [
    "score = cross_val_score(Rfc,x1,y1,cv=5)"
   ]
  },
  {
   "cell_type": "code",
   "execution_count": 306,
   "id": "1bcdce5e",
   "metadata": {},
   "outputs": [
    {
     "name": "stdout",
     "output_type": "stream",
     "text": [
      "Croos Val Score:  [0.84971098 0.86046512 0.87790698 0.85465116 0.83139535]\n",
      "Mean Score:  0.8548259174620245\n",
      "std Score:  0.01509781775093175\n"
     ]
    }
   ],
   "source": [
    "print(\"Croos Val Score: \",score)\n",
    "print(\"Mean Score: \",score.mean())\n",
    "print(\"std Score: \",score.std())"
   ]
  },
  {
   "cell_type": "markdown",
   "id": "1e4f9846",
   "metadata": {},
   "source": [
    "Regression Approach for capacity_mw prediction"
   ]
  },
  {
   "cell_type": "code",
   "execution_count": 293,
   "id": "011e47ee",
   "metadata": {},
   "outputs": [
    {
     "data": {
      "text/plain": [
       "Index(['name', 'gppd_idnr', 'capacity_mw', 'latitude', 'longitude',\n",
       "       'primary_fuel', 'commissioning_year', 'source', 'url',\n",
       "       'geolocation_source', 'generation_gwh_2014', 'generation_gwh_2015',\n",
       "       'generation_gwh_2016', 'generation_gwh_2017', 'generation_gwh_2018'],\n",
       "      dtype='object')"
      ]
     },
     "execution_count": 293,
     "metadata": {},
     "output_type": "execute_result"
    }
   ],
   "source": [
    "df.columns"
   ]
  },
  {
   "cell_type": "code",
   "execution_count": 294,
   "id": "bd3f3e5b",
   "metadata": {},
   "outputs": [],
   "source": [
    "x = df.drop(['capacity_mw'],axis=1)\n",
    "y = df['capacity_mw']"
   ]
  },
  {
   "cell_type": "code",
   "execution_count": 295,
   "id": "ca0550a3",
   "metadata": {},
   "outputs": [
    {
     "data": {
      "text/plain": [
       "array([[-1.70027327,  0.72362146,  1.1064443 , ...,  0.32659182,\n",
       "         0.33500882,  0.32851239],\n",
       "       [-1.69628138,  0.18287239,  0.55933095, ...,  0.32659182,\n",
       "         0.33500882,  0.32851239],\n",
       "       [-1.69228948,  1.46961835,  0.10108189, ...,  0.32659182,\n",
       "         0.33500882,  0.32851239],\n",
       "       ...,\n",
       "       [ 1.72477234,  1.58013641, -0.95997479, ...,  0.32659182,\n",
       "         0.33500882,  0.32851239],\n",
       "       [ 1.72876424,  0.26181386,  0.49268673, ...,  0.32659182,\n",
       "         0.33500882,  0.32851239],\n",
       "       [ 1.73275613,  1.5209303 , -1.81506352, ...,  0.32659182,\n",
       "         0.33500882,  0.32851239]])"
      ]
     },
     "execution_count": 295,
     "metadata": {},
     "output_type": "execute_result"
    }
   ],
   "source": [
    "Regression_scaler = StandardScaler()\n",
    "X1_scaled = Regression_scaler.fit_transform(x)\n",
    "X1_scaled"
   ]
  },
  {
   "cell_type": "code",
   "execution_count": 296,
   "id": "488af925",
   "metadata": {},
   "outputs": [
    {
     "data": {
      "text/html": [
       "<div>\n",
       "<style scoped>\n",
       "    .dataframe tbody tr th:only-of-type {\n",
       "        vertical-align: middle;\n",
       "    }\n",
       "\n",
       "    .dataframe tbody tr th {\n",
       "        vertical-align: top;\n",
       "    }\n",
       "\n",
       "    .dataframe thead th {\n",
       "        text-align: right;\n",
       "    }\n",
       "</style>\n",
       "<table border=\"1\" class=\"dataframe\">\n",
       "  <thead>\n",
       "    <tr style=\"text-align: right;\">\n",
       "      <th></th>\n",
       "      <th>vif</th>\n",
       "      <th>Features</th>\n",
       "    </tr>\n",
       "  </thead>\n",
       "  <tbody>\n",
       "    <tr>\n",
       "      <th>0</th>\n",
       "      <td>1.468319</td>\n",
       "      <td>name</td>\n",
       "    </tr>\n",
       "    <tr>\n",
       "      <th>1</th>\n",
       "      <td>4.752472</td>\n",
       "      <td>gppd_idnr</td>\n",
       "    </tr>\n",
       "    <tr>\n",
       "      <th>2</th>\n",
       "      <td>1.165845</td>\n",
       "      <td>latitude</td>\n",
       "    </tr>\n",
       "    <tr>\n",
       "      <th>3</th>\n",
       "      <td>1.333398</td>\n",
       "      <td>longitude</td>\n",
       "    </tr>\n",
       "    <tr>\n",
       "      <th>4</th>\n",
       "      <td>3.696942</td>\n",
       "      <td>primary_fuel</td>\n",
       "    </tr>\n",
       "    <tr>\n",
       "      <th>5</th>\n",
       "      <td>1.947731</td>\n",
       "      <td>commissioning_year</td>\n",
       "    </tr>\n",
       "    <tr>\n",
       "      <th>6</th>\n",
       "      <td>2.144877</td>\n",
       "      <td>source</td>\n",
       "    </tr>\n",
       "    <tr>\n",
       "      <th>7</th>\n",
       "      <td>2.171290</td>\n",
       "      <td>url</td>\n",
       "    </tr>\n",
       "    <tr>\n",
       "      <th>8</th>\n",
       "      <td>3.012796</td>\n",
       "      <td>geolocation_source</td>\n",
       "    </tr>\n",
       "    <tr>\n",
       "      <th>9</th>\n",
       "      <td>4.131551</td>\n",
       "      <td>generation_gwh_2014</td>\n",
       "    </tr>\n",
       "    <tr>\n",
       "      <th>10</th>\n",
       "      <td>6.144428</td>\n",
       "      <td>generation_gwh_2015</td>\n",
       "    </tr>\n",
       "    <tr>\n",
       "      <th>11</th>\n",
       "      <td>8.916729</td>\n",
       "      <td>generation_gwh_2016</td>\n",
       "    </tr>\n",
       "    <tr>\n",
       "      <th>12</th>\n",
       "      <td>21.600421</td>\n",
       "      <td>generation_gwh_2017</td>\n",
       "    </tr>\n",
       "    <tr>\n",
       "      <th>13</th>\n",
       "      <td>20.419688</td>\n",
       "      <td>generation_gwh_2018</td>\n",
       "    </tr>\n",
       "  </tbody>\n",
       "</table>\n",
       "</div>"
      ],
      "text/plain": [
       "          vif             Features\n",
       "0    1.468319                 name\n",
       "1    4.752472            gppd_idnr\n",
       "2    1.165845             latitude\n",
       "3    1.333398            longitude\n",
       "4    3.696942         primary_fuel\n",
       "5    1.947731   commissioning_year\n",
       "6    2.144877               source\n",
       "7    2.171290                  url\n",
       "8    3.012796   geolocation_source\n",
       "9    4.131551  generation_gwh_2014\n",
       "10   6.144428  generation_gwh_2015\n",
       "11   8.916729  generation_gwh_2016\n",
       "12  21.600421  generation_gwh_2017\n",
       "13  20.419688  generation_gwh_2018"
      ]
     },
     "execution_count": 296,
     "metadata": {},
     "output_type": "execute_result"
    }
   ],
   "source": [
    "vif_Reg = pd.DataFrame()\n",
    "vif_Reg['vif'] = [variance_inflation_factor(X1_scaled,i) for i in range(X1_scaled.shape[1])]\n",
    "vif_Reg['Features'] = x.columns\n",
    "\n",
    "vif_Reg"
   ]
  },
  {
   "cell_type": "markdown",
   "id": "df87ab14",
   "metadata": {},
   "source": [
    "Regression models"
   ]
  },
  {
   "cell_type": "code",
   "execution_count": 300,
   "id": "8bdf21bc",
   "metadata": {},
   "outputs": [
    {
     "name": "stdout",
     "output_type": "stream",
     "text": [
      "R2 score for random state:  0  is  0.7470147578335934\n",
      "R2 score for random state:  0  is  0.3508392628835777\n",
      "R2 score for random state:  0  is  0.48487850181426706\n",
      "R2 score for random state:  0  is  0.33912657320496753\n",
      "R2 score for random state:  1  is  0.7105782926801046\n",
      "R2 score for random state:  1  is  0.397918761196312\n",
      "R2 score for random state:  1  is  0.4762057348662897\n",
      "R2 score for random state:  1  is  0.357342683321934\n",
      "R2 score for random state:  2  is  0.6708197882259644\n",
      "R2 score for random state:  2  is  0.43546838589387515\n",
      "R2 score for random state:  2  is  0.5662595097352796\n",
      "R2 score for random state:  2  is  0.4143367539381365\n",
      "R2 score for random state:  3  is  0.74688162174289\n",
      "R2 score for random state:  3  is  0.33925583202293474\n",
      "R2 score for random state:  3  is  0.46704670486769817\n",
      "R2 score for random state:  3  is  0.3382050294228771\n",
      "R2 score for random state:  4  is  0.7467901609813521\n",
      "R2 score for random state:  4  is  0.34893262397282443\n",
      "R2 score for random state:  4  is  0.5473149946709162\n",
      "R2 score for random state:  4  is  0.39289789900524574\n",
      "R2 score for random state:  5  is  0.7186531273193417\n",
      "R2 score for random state:  5  is  0.4804367030856912\n",
      "R2 score for random state:  5  is  0.5766195931939482\n",
      "R2 score for random state:  5  is  0.4081614615148962\n",
      "R2 score for random state:  6  is  0.7505184824315118\n",
      "R2 score for random state:  6  is  0.4849907513738979\n",
      "R2 score for random state:  6  is  0.5817375340489315\n",
      "R2 score for random state:  6  is  0.4556291525076098\n",
      "R2 score for random state:  7  is  0.6814213602724878\n",
      "R2 score for random state:  7  is  0.4467586668171508\n",
      "R2 score for random state:  7  is  0.5375698330297345\n",
      "R2 score for random state:  7  is  0.40581687195457716\n",
      "R2 score for random state:  8  is  0.7220421537526396\n",
      "R2 score for random state:  8  is  0.45797564842749394\n",
      "R2 score for random state:  8  is  0.6089945007018791\n",
      "R2 score for random state:  8  is  0.4493648958121853\n",
      "R2 score for random state:  9  is  0.7650638760450326\n",
      "R2 score for random state:  9  is  0.4867389715736318\n",
      "R2 score for random state:  9  is  0.6069166063509515\n",
      "R2 score for random state:  9  is  0.47099560357363013\n",
      "R2 score for random state:  10  is  0.7555086207575108\n",
      "R2 score for random state:  10  is  0.4784292964117318\n",
      "R2 score for random state:  10  is  0.536175853329399\n",
      "R2 score for random state:  10  is  0.4185212965726903\n",
      "R2 score for random state:  11  is  0.6848591965776454\n",
      "R2 score for random state:  11  is  0.22761412510414936\n",
      "R2 score for random state:  11  is  0.3864024010408075\n",
      "R2 score for random state:  11  is  0.22854253381049394\n",
      "R2 score for random state:  12  is  0.6311646745257684\n",
      "R2 score for random state:  12  is  0.40527554866055115\n",
      "R2 score for random state:  12  is  0.5264688560856943\n",
      "R2 score for random state:  12  is  0.42359295654905793\n",
      "R2 score for random state:  13  is  0.7308189564987314\n",
      "R2 score for random state:  13  is  0.46025963380950974\n",
      "R2 score for random state:  13  is  0.5614801954926509\n",
      "R2 score for random state:  13  is  0.4271340344895812\n",
      "R2 score for random state:  14  is  0.7465173887626356\n",
      "R2 score for random state:  14  is  0.45994963023725355\n",
      "R2 score for random state:  14  is  0.5820966706837529\n",
      "R2 score for random state:  14  is  0.42591187657893614\n",
      "R2 score for random state:  15  is  0.757088533754556\n",
      "R2 score for random state:  15  is  0.4584760031481916\n",
      "R2 score for random state:  15  is  0.5393308050235683\n",
      "R2 score for random state:  15  is  0.4196930605901681\n",
      "R2 score for random state:  16  is  0.7209069068937823\n",
      "R2 score for random state:  16  is  0.4487344673271487\n",
      "R2 score for random state:  16  is  0.5683860196947279\n",
      "R2 score for random state:  16  is  0.4402906291407934\n",
      "R2 score for random state:  17  is  0.6737365876677793\n",
      "R2 score for random state:  17  is  0.45236771262842734\n",
      "R2 score for random state:  17  is  0.5683913568333341\n",
      "R2 score for random state:  17  is  0.40030343064913654\n",
      "R2 score for random state:  18  is  0.7263454532876087\n",
      "R2 score for random state:  18  is  0.4057470787211983\n",
      "R2 score for random state:  18  is  0.5120877159016619\n",
      "R2 score for random state:  18  is  0.3936375110013275\n",
      "R2 score for random state:  19  is  0.674243118163677\n",
      "R2 score for random state:  19  is  0.4390128154165074\n",
      "R2 score for random state:  19  is  0.5125233783066594\n",
      "R2 score for random state:  19  is  0.37475475588701235\n",
      "R2 score for random state:  20  is  0.7073693055188033\n",
      "R2 score for random state:  20  is  0.36942286733630336\n",
      "R2 score for random state:  20  is  0.524141075154507\n",
      "R2 score for random state:  20  is  0.39400135958103555\n",
      "R2 score for random state:  21  is  0.764733210135804\n",
      "R2 score for random state:  21  is  0.4940411263219666\n",
      "R2 score for random state:  21  is  0.5932444443209312\n",
      "R2 score for random state:  21  is  0.415112487002663\n",
      "R2 score for random state:  22  is  0.7304719683252587\n",
      "R2 score for random state:  22  is  0.40967931167730365\n",
      "R2 score for random state:  22  is  0.44812391609809\n",
      "R2 score for random state:  22  is  0.38043669959345816\n",
      "R2 score for random state:  23  is  0.7466015428142234\n",
      "R2 score for random state:  23  is  0.3886563290991829\n",
      "R2 score for random state:  23  is  0.49532401384849967\n",
      "R2 score for random state:  23  is  0.37430589080868915\n",
      "R2 score for random state:  24  is  0.7306879498347046\n",
      "R2 score for random state:  24  is  0.3761450686345107\n",
      "R2 score for random state:  24  is  0.5299934635627723\n",
      "R2 score for random state:  24  is  0.3864871782302398\n",
      "R2 score for random state:  25  is  0.7054681193996009\n",
      "R2 score for random state:  25  is  0.4596538842965606\n",
      "R2 score for random state:  25  is  0.5316648996207781\n",
      "R2 score for random state:  25  is  0.3831440552325581\n",
      "R2 score for random state:  26  is  0.7199980496493614\n",
      "R2 score for random state:  26  is  0.42733321956500947\n",
      "R2 score for random state:  26  is  0.5194202903904306\n",
      "R2 score for random state:  26  is  0.40710212204473073\n",
      "R2 score for random state:  27  is  0.7539384875837741\n",
      "R2 score for random state:  27  is  0.47025322462717767\n",
      "R2 score for random state:  27  is  0.5545092833785144\n",
      "R2 score for random state:  27  is  0.37946287778952903\n",
      "R2 score for random state:  28  is  0.6541105580894466\n",
      "R2 score for random state:  28  is  0.40795540335596947\n",
      "R2 score for random state:  28  is  0.5156374323734405\n",
      "R2 score for random state:  28  is  0.4163586263965111\n",
      "R2 score for random state:  29  is  0.6497352428971632\n",
      "R2 score for random state:  29  is  0.30530007062262465\n",
      "R2 score for random state:  29  is  0.472319099477298\n",
      "R2 score for random state:  29  is  0.3485154448068598\n",
      "R2 score for random state:  30  is  0.6388478048615411\n",
      "R2 score for random state:  30  is  0.3575572132136594\n",
      "R2 score for random state:  30  is  0.5656977571172008\n",
      "R2 score for random state:  30  is  0.4050415138195209\n",
      "R2 score for random state:  31  is  0.7017448206291739\n",
      "R2 score for random state:  31  is  0.4681670941777244\n",
      "R2 score for random state:  31  is  0.5651688344519338\n",
      "R2 score for random state:  31  is  0.42284613624022693\n",
      "R2 score for random state:  32  is  0.6926957551557141\n",
      "R2 score for random state:  32  is  0.474091179699776\n",
      "R2 score for random state:  32  is  0.5233486506371219\n",
      "R2 score for random state:  32  is  0.41787193961753544\n",
      "R2 score for random state:  33  is  0.6696727009365323\n",
      "R2 score for random state:  33  is  0.44885339563732596\n",
      "R2 score for random state:  33  is  0.5265299250052318\n",
      "R2 score for random state:  33  is  0.38974080458050797\n",
      "R2 score for random state:  34  is  0.7172919438534682\n",
      "R2 score for random state:  34  is  0.3457967956414447\n",
      "R2 score for random state:  34  is  0.5182038806464898\n",
      "R2 score for random state:  34  is  0.3573114901547638\n",
      "R2 score for random state:  35  is  0.6509328446865479\n",
      "R2 score for random state:  35  is  0.48996570039355025\n",
      "R2 score for random state:  35  is  0.5615343551344394\n",
      "R2 score for random state:  35  is  0.42435141474911353\n",
      "R2 score for random state:  36  is  0.7015618332089733\n",
      "R2 score for random state:  36  is  0.5025333811102584\n",
      "R2 score for random state:  36  is  0.6023044695668773\n",
      "R2 score for random state:  36  is  0.45386234367864686\n",
      "R2 score for random state:  37  is  0.6913380795971459\n",
      "R2 score for random state:  37  is  0.48651682493743686\n",
      "R2 score for random state:  37  is  0.555559738094013\n",
      "R2 score for random state:  37  is  0.47366434017108283\n",
      "R2 score for random state:  38  is  0.6888746979385498\n",
      "R2 score for random state:  38  is  0.37706208592207313\n",
      "R2 score for random state:  38  is  0.47522650239001096\n",
      "R2 score for random state:  38  is  0.26074423611567044\n",
      "R2 score for random state:  39  is  0.6621773704781968\n",
      "R2 score for random state:  39  is  0.4054241050754933\n",
      "R2 score for random state:  39  is  0.4562151629652512\n",
      "R2 score for random state:  39  is  0.36738374347870906\n",
      "R2 score for random state:  40  is  0.669073251793368\n",
      "R2 score for random state:  40  is  0.35503877026172304\n",
      "R2 score for random state:  40  is  0.4913778460310989\n",
      "R2 score for random state:  40  is  0.36840934269330794\n",
      "R2 score for random state:  41  is  0.640625745287128\n",
      "R2 score for random state:  41  is  0.3048252377233289\n",
      "R2 score for random state:  41  is  0.45333422211085006\n",
      "R2 score for random state:  41  is  0.31683719816563893\n",
      "R2 score for random state:  42  is  0.673661864207675\n",
      "R2 score for random state:  42  is  0.46268614224755766\n",
      "R2 score for random state:  42  is  0.5770775340130019\n",
      "R2 score for random state:  42  is  0.41982687048397127\n",
      "R2 score for random state:  43  is  0.7039628300769918\n",
      "R2 score for random state:  43  is  0.4677600311186295\n",
      "R2 score for random state:  43  is  0.6023594095854983\n",
      "R2 score for random state:  43  is  0.4288553720812417\n",
      "R2 score for random state:  44  is  0.7565563034920431\n",
      "R2 score for random state:  44  is  0.4505153796025584\n",
      "R2 score for random state:  44  is  0.5424181737043567\n",
      "R2 score for random state:  44  is  0.3924109971169498\n",
      "R2 score for random state:  45  is  0.6180725324464074\n",
      "R2 score for random state:  45  is  0.4181200451161806\n",
      "R2 score for random state:  45  is  0.5750745112146873\n",
      "R2 score for random state:  45  is  0.4218408049053327\n",
      "R2 score for random state:  46  is  0.7527402881134093\n",
      "R2 score for random state:  46  is  0.44376795074632724\n",
      "R2 score for random state:  46  is  0.5541075534019418\n",
      "R2 score for random state:  46  is  0.4066997231629291\n",
      "R2 score for random state:  47  is  0.7485637370145415\n",
      "R2 score for random state:  47  is  0.43976350776695694\n",
      "R2 score for random state:  47  is  0.5283294347658103\n",
      "R2 score for random state:  47  is  0.40592541231880486\n",
      "R2 score for random state:  48  is  0.544374236382366\n",
      "R2 score for random state:  48  is  0.4350575493993982\n",
      "R2 score for random state:  48  is  0.5350973962099739\n",
      "R2 score for random state:  48  is  0.41346361739964443\n",
      "R2 score for random state:  49  is  0.6797362883674406\n",
      "R2 score for random state:  49  is  0.4823200840567732\n",
      "R2 score for random state:  49  is  0.531615698551164\n",
      "R2 score for random state:  49  is  0.39453463239698083\n",
      "\n",
      "\n",
      "\n",
      "\n"
     ]
    }
   ],
   "source": [
    "model = [DecisionTreeRegressor(),KNeighborsRegressor(),LinearRegression(),SVR()]\n",
    "\n",
    "for i in range(0,50):\n",
    "    x_train,x_test,y_train,y_test = train_test_split(x,y,test_size=0.33,random_state=i)\n",
    "    for models in model:\n",
    "        models.fit(x_train,y_train)\n",
    "        prediction = models.predict(x_test)\n",
    "        R2Score = r2_score(y_test,prediction)\n",
    "        print(\"R2 score for random state: \", i, \" is \",R2Score)\n",
    "print()\n",
    "print()\n",
    "print()\n",
    "print()"
   ]
  },
  {
   "cell_type": "markdown",
   "id": "cc8bcc94",
   "metadata": {},
   "source": [
    "We can observe the highest R2 Score:0.7650638760450326 is at random state 9 and for model: DecisionTreeRegressor."
   ]
  },
  {
   "cell_type": "markdown",
   "id": "5151a347",
   "metadata": {},
   "source": [
    "Best Parameter"
   ]
  },
  {
   "cell_type": "code",
   "execution_count": 301,
   "id": "2d2fd394",
   "metadata": {},
   "outputs": [
    {
     "data": {
      "text/plain": [
       "{'criterion': 'mae', 'max_features': 'log2'}"
      ]
     },
     "execution_count": 301,
     "metadata": {},
     "output_type": "execute_result"
    }
   ],
   "source": [
    "x_train,x_test,y_train,y_test = train_test_split(x,y,test_size=0.33,random_state=9)\n",
    "dtr = DecisionTreeRegressor()\n",
    "parameters={'criterion':['mse','mae'],\n",
    "             'max_features':['auto','sqrt','log2']}\n",
    "gridsearch =GridSearchCV(dtr,parameters)\n",
    "gridsearch.fit(x_train,y_train)\n",
    "gridsearch.best_params_"
   ]
  },
  {
   "cell_type": "code",
   "execution_count": 307,
   "id": "931652b6",
   "metadata": {},
   "outputs": [
    {
     "name": "stdout",
     "output_type": "stream",
     "text": [
      "R2 Score is:  0.7865308051154186\n"
     ]
    }
   ],
   "source": [
    "DecTree = DecisionTreeRegressor(criterion='mae',max_features='log2')\n",
    "DecTree.fit(x_train,y_train)\n",
    "predictions = DecTree.predict(x_test)\n",
    "r2Score = r2_score(y_test,predictions)\n",
    "print(\"R2 Score is: \",r2Score)"
   ]
  },
  {
   "cell_type": "markdown",
   "id": "82f80279",
   "metadata": {},
   "source": [
    "Regression Metrics"
   ]
  },
  {
   "cell_type": "code",
   "execution_count": 308,
   "id": "78a0d0c3",
   "metadata": {},
   "outputs": [
    {
     "name": "stdout",
     "output_type": "stream",
     "text": [
      "Mean Absolute Error:  0.4631578947368421\n",
      "Mean Squared Error:  1.0456140350877192\n",
      "Root Mean Squared Error:  1.022552705286001\n"
     ]
    }
   ],
   "source": [
    "from sklearn.metrics import mean_squared_error\n",
    "from sklearn.metrics import mean_absolute_error\n",
    "\n",
    "print(\"Mean Absolute Error: \", mean_absolute_error(y_test,predictions))\n",
    "print(\"Mean Squared Error: \",mean_squared_error(y_test,predictions))\n",
    "print(\"Root Mean Squared Error: \",np.sqrt(mean_squared_error(y_test,predictions)))"
   ]
  },
  {
   "cell_type": "code",
   "execution_count": null,
   "id": "571e3a5a",
   "metadata": {},
   "outputs": [],
   "source": []
  }
 ],
 "metadata": {
  "kernelspec": {
   "display_name": "Python 3 (ipykernel)",
   "language": "python",
   "name": "python3"
  },
  "language_info": {
   "codemirror_mode": {
    "name": "ipython",
    "version": 3
   },
   "file_extension": ".py",
   "mimetype": "text/x-python",
   "name": "python",
   "nbconvert_exporter": "python",
   "pygments_lexer": "ipython3",
   "version": "3.9.7"
  }
 },
 "nbformat": 4,
 "nbformat_minor": 5
}

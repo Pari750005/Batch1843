{
 "cells": [
  {
   "cell_type": "code",
   "execution_count": 1,
   "id": "9b530d46",
   "metadata": {},
   "outputs": [],
   "source": [
    "import pandas as pd\n",
    "import numpy as np\n",
    "import seaborn as sns\n",
    "import matplotlib.pyplot as plt\n",
    "from sklearn.preprocessing import LabelEncoder\n",
    "le = LabelEncoder()\n",
    "from scipy.stats import zscore\n",
    "from sklearn.preprocessing import StandardScaler\n",
    "from statsmodels.stats.outliers_influence import variance_inflation_factor\n",
    "from sklearn.model_selection import train_test_split\n",
    "from sklearn.model_selection import GridSearchCV\n",
    "from sklearn.model_selection import cross_val_score\n",
    "import warnings\n",
    "warnings.filterwarnings('ignore')\n",
    "from sklearn.tree import DecisionTreeClassifier\n",
    "from sklearn.svm import SVC\n",
    "from sklearn.ensemble import RandomForestClassifier\n",
    "from sklearn.neighbors import KNeighborsClassifier\n",
    "from sklearn.linear_model import LogisticRegression\n",
    "LogisticRegression\n",
    "from sklearn.metrics import accuracy_score,confusion_matrix, classification_report\n",
    "import sklearn"
   ]
  },
  {
   "cell_type": "code",
   "execution_count": 95,
   "id": "c78fe487",
   "metadata": {},
   "outputs": [
    {
     "data": {
      "text/html": [
       "<div>\n",
       "<style scoped>\n",
       "    .dataframe tbody tr th:only-of-type {\n",
       "        vertical-align: middle;\n",
       "    }\n",
       "\n",
       "    .dataframe tbody tr th {\n",
       "        vertical-align: top;\n",
       "    }\n",
       "\n",
       "    .dataframe thead th {\n",
       "        text-align: right;\n",
       "    }\n",
       "</style>\n",
       "<table border=\"1\" class=\"dataframe\">\n",
       "  <thead>\n",
       "    <tr style=\"text-align: right;\">\n",
       "      <th></th>\n",
       "      <th>Loan_ID</th>\n",
       "      <th>Gender</th>\n",
       "      <th>Married</th>\n",
       "      <th>Dependents</th>\n",
       "      <th>Education</th>\n",
       "      <th>Self_Employed</th>\n",
       "      <th>ApplicantIncome</th>\n",
       "      <th>CoapplicantIncome</th>\n",
       "      <th>LoanAmount</th>\n",
       "      <th>Loan_Amount_Term</th>\n",
       "      <th>Credit_History</th>\n",
       "      <th>Property_Area</th>\n",
       "      <th>Loan_Status</th>\n",
       "    </tr>\n",
       "  </thead>\n",
       "  <tbody>\n",
       "    <tr>\n",
       "      <th>0</th>\n",
       "      <td>LP001002</td>\n",
       "      <td>Male</td>\n",
       "      <td>No</td>\n",
       "      <td>0</td>\n",
       "      <td>Graduate</td>\n",
       "      <td>No</td>\n",
       "      <td>5849</td>\n",
       "      <td>0.0</td>\n",
       "      <td>NaN</td>\n",
       "      <td>360.0</td>\n",
       "      <td>1.0</td>\n",
       "      <td>Urban</td>\n",
       "      <td>Y</td>\n",
       "    </tr>\n",
       "    <tr>\n",
       "      <th>1</th>\n",
       "      <td>LP001003</td>\n",
       "      <td>Male</td>\n",
       "      <td>Yes</td>\n",
       "      <td>1</td>\n",
       "      <td>Graduate</td>\n",
       "      <td>No</td>\n",
       "      <td>4583</td>\n",
       "      <td>1508.0</td>\n",
       "      <td>128.0</td>\n",
       "      <td>360.0</td>\n",
       "      <td>1.0</td>\n",
       "      <td>Rural</td>\n",
       "      <td>N</td>\n",
       "    </tr>\n",
       "    <tr>\n",
       "      <th>2</th>\n",
       "      <td>LP001005</td>\n",
       "      <td>Male</td>\n",
       "      <td>Yes</td>\n",
       "      <td>0</td>\n",
       "      <td>Graduate</td>\n",
       "      <td>Yes</td>\n",
       "      <td>3000</td>\n",
       "      <td>0.0</td>\n",
       "      <td>66.0</td>\n",
       "      <td>360.0</td>\n",
       "      <td>1.0</td>\n",
       "      <td>Urban</td>\n",
       "      <td>Y</td>\n",
       "    </tr>\n",
       "    <tr>\n",
       "      <th>3</th>\n",
       "      <td>LP001006</td>\n",
       "      <td>Male</td>\n",
       "      <td>Yes</td>\n",
       "      <td>0</td>\n",
       "      <td>Not Graduate</td>\n",
       "      <td>No</td>\n",
       "      <td>2583</td>\n",
       "      <td>2358.0</td>\n",
       "      <td>120.0</td>\n",
       "      <td>360.0</td>\n",
       "      <td>1.0</td>\n",
       "      <td>Urban</td>\n",
       "      <td>Y</td>\n",
       "    </tr>\n",
       "    <tr>\n",
       "      <th>4</th>\n",
       "      <td>LP001008</td>\n",
       "      <td>Male</td>\n",
       "      <td>No</td>\n",
       "      <td>0</td>\n",
       "      <td>Graduate</td>\n",
       "      <td>No</td>\n",
       "      <td>6000</td>\n",
       "      <td>0.0</td>\n",
       "      <td>141.0</td>\n",
       "      <td>360.0</td>\n",
       "      <td>1.0</td>\n",
       "      <td>Urban</td>\n",
       "      <td>Y</td>\n",
       "    </tr>\n",
       "    <tr>\n",
       "      <th>...</th>\n",
       "      <td>...</td>\n",
       "      <td>...</td>\n",
       "      <td>...</td>\n",
       "      <td>...</td>\n",
       "      <td>...</td>\n",
       "      <td>...</td>\n",
       "      <td>...</td>\n",
       "      <td>...</td>\n",
       "      <td>...</td>\n",
       "      <td>...</td>\n",
       "      <td>...</td>\n",
       "      <td>...</td>\n",
       "      <td>...</td>\n",
       "    </tr>\n",
       "    <tr>\n",
       "      <th>609</th>\n",
       "      <td>LP002978</td>\n",
       "      <td>Female</td>\n",
       "      <td>No</td>\n",
       "      <td>0</td>\n",
       "      <td>Graduate</td>\n",
       "      <td>No</td>\n",
       "      <td>2900</td>\n",
       "      <td>0.0</td>\n",
       "      <td>71.0</td>\n",
       "      <td>360.0</td>\n",
       "      <td>1.0</td>\n",
       "      <td>Rural</td>\n",
       "      <td>Y</td>\n",
       "    </tr>\n",
       "    <tr>\n",
       "      <th>610</th>\n",
       "      <td>LP002979</td>\n",
       "      <td>Male</td>\n",
       "      <td>Yes</td>\n",
       "      <td>3+</td>\n",
       "      <td>Graduate</td>\n",
       "      <td>No</td>\n",
       "      <td>4106</td>\n",
       "      <td>0.0</td>\n",
       "      <td>40.0</td>\n",
       "      <td>180.0</td>\n",
       "      <td>1.0</td>\n",
       "      <td>Rural</td>\n",
       "      <td>Y</td>\n",
       "    </tr>\n",
       "    <tr>\n",
       "      <th>611</th>\n",
       "      <td>LP002983</td>\n",
       "      <td>Male</td>\n",
       "      <td>Yes</td>\n",
       "      <td>1</td>\n",
       "      <td>Graduate</td>\n",
       "      <td>No</td>\n",
       "      <td>8072</td>\n",
       "      <td>240.0</td>\n",
       "      <td>253.0</td>\n",
       "      <td>360.0</td>\n",
       "      <td>1.0</td>\n",
       "      <td>Urban</td>\n",
       "      <td>Y</td>\n",
       "    </tr>\n",
       "    <tr>\n",
       "      <th>612</th>\n",
       "      <td>LP002984</td>\n",
       "      <td>Male</td>\n",
       "      <td>Yes</td>\n",
       "      <td>2</td>\n",
       "      <td>Graduate</td>\n",
       "      <td>No</td>\n",
       "      <td>7583</td>\n",
       "      <td>0.0</td>\n",
       "      <td>187.0</td>\n",
       "      <td>360.0</td>\n",
       "      <td>1.0</td>\n",
       "      <td>Urban</td>\n",
       "      <td>Y</td>\n",
       "    </tr>\n",
       "    <tr>\n",
       "      <th>613</th>\n",
       "      <td>LP002990</td>\n",
       "      <td>Female</td>\n",
       "      <td>No</td>\n",
       "      <td>0</td>\n",
       "      <td>Graduate</td>\n",
       "      <td>Yes</td>\n",
       "      <td>4583</td>\n",
       "      <td>0.0</td>\n",
       "      <td>133.0</td>\n",
       "      <td>360.0</td>\n",
       "      <td>0.0</td>\n",
       "      <td>Semiurban</td>\n",
       "      <td>N</td>\n",
       "    </tr>\n",
       "  </tbody>\n",
       "</table>\n",
       "<p>614 rows × 13 columns</p>\n",
       "</div>"
      ],
      "text/plain": [
       "      Loan_ID  Gender Married Dependents     Education Self_Employed  \\\n",
       "0    LP001002    Male      No          0      Graduate            No   \n",
       "1    LP001003    Male     Yes          1      Graduate            No   \n",
       "2    LP001005    Male     Yes          0      Graduate           Yes   \n",
       "3    LP001006    Male     Yes          0  Not Graduate            No   \n",
       "4    LP001008    Male      No          0      Graduate            No   \n",
       "..        ...     ...     ...        ...           ...           ...   \n",
       "609  LP002978  Female      No          0      Graduate            No   \n",
       "610  LP002979    Male     Yes         3+      Graduate            No   \n",
       "611  LP002983    Male     Yes          1      Graduate            No   \n",
       "612  LP002984    Male     Yes          2      Graduate            No   \n",
       "613  LP002990  Female      No          0      Graduate           Yes   \n",
       "\n",
       "     ApplicantIncome  CoapplicantIncome  LoanAmount  Loan_Amount_Term  \\\n",
       "0               5849                0.0         NaN             360.0   \n",
       "1               4583             1508.0       128.0             360.0   \n",
       "2               3000                0.0        66.0             360.0   \n",
       "3               2583             2358.0       120.0             360.0   \n",
       "4               6000                0.0       141.0             360.0   \n",
       "..               ...                ...         ...               ...   \n",
       "609             2900                0.0        71.0             360.0   \n",
       "610             4106                0.0        40.0             180.0   \n",
       "611             8072              240.0       253.0             360.0   \n",
       "612             7583                0.0       187.0             360.0   \n",
       "613             4583                0.0       133.0             360.0   \n",
       "\n",
       "     Credit_History Property_Area Loan_Status  \n",
       "0               1.0         Urban           Y  \n",
       "1               1.0         Rural           N  \n",
       "2               1.0         Urban           Y  \n",
       "3               1.0         Urban           Y  \n",
       "4               1.0         Urban           Y  \n",
       "..              ...           ...         ...  \n",
       "609             1.0         Rural           Y  \n",
       "610             1.0         Rural           Y  \n",
       "611             1.0         Urban           Y  \n",
       "612             1.0         Urban           Y  \n",
       "613             0.0     Semiurban           N  \n",
       "\n",
       "[614 rows x 13 columns]"
      ]
     },
     "execution_count": 95,
     "metadata": {},
     "output_type": "execute_result"
    }
   ],
   "source": [
    "df = pd.read_csv('https://raw.githubusercontent.com/dsrscientist/DSData/master/loan_prediction.csv')\n",
    "df"
   ]
  },
  {
   "cell_type": "code",
   "execution_count": 96,
   "id": "aca08a7d",
   "metadata": {},
   "outputs": [
    {
     "data": {
      "text/plain": [
       "0     345\n",
       "1     102\n",
       "2     101\n",
       "3+     51\n",
       "dtype: int64"
      ]
     },
     "execution_count": 96,
     "metadata": {},
     "output_type": "execute_result"
    }
   ],
   "source": [
    "pd.get_dummies(df['Dependents']).sum()"
   ]
  },
  {
   "cell_type": "code",
   "execution_count": 97,
   "id": "3fa1df3e",
   "metadata": {},
   "outputs": [
    {
     "data": {
      "text/plain": [
       "Index(['Loan_ID', 'Gender', 'Married', 'Dependents', 'Education',\n",
       "       'Self_Employed', 'ApplicantIncome', 'CoapplicantIncome', 'LoanAmount',\n",
       "       'Loan_Amount_Term', 'Credit_History', 'Property_Area', 'Loan_Status'],\n",
       "      dtype='object')"
      ]
     },
     "execution_count": 97,
     "metadata": {},
     "output_type": "execute_result"
    }
   ],
   "source": [
    "df.columns"
   ]
  },
  {
   "cell_type": "code",
   "execution_count": 98,
   "id": "d51e8a09",
   "metadata": {},
   "outputs": [
    {
     "data": {
      "text/html": [
       "<div>\n",
       "<style scoped>\n",
       "    .dataframe tbody tr th:only-of-type {\n",
       "        vertical-align: middle;\n",
       "    }\n",
       "\n",
       "    .dataframe tbody tr th {\n",
       "        vertical-align: top;\n",
       "    }\n",
       "\n",
       "    .dataframe thead th {\n",
       "        text-align: right;\n",
       "    }\n",
       "</style>\n",
       "<table border=\"1\" class=\"dataframe\">\n",
       "  <thead>\n",
       "    <tr style=\"text-align: right;\">\n",
       "      <th></th>\n",
       "      <th>Loan_ID</th>\n",
       "      <th>Gender</th>\n",
       "      <th>Married</th>\n",
       "      <th>Dependents</th>\n",
       "      <th>Education</th>\n",
       "      <th>Self_Employed</th>\n",
       "      <th>ApplicantIncome</th>\n",
       "      <th>CoapplicantIncome</th>\n",
       "      <th>LoanAmount</th>\n",
       "      <th>Loan_Amount_Term</th>\n",
       "      <th>Credit_History</th>\n",
       "      <th>Property_Area</th>\n",
       "      <th>Loan_Status</th>\n",
       "    </tr>\n",
       "  </thead>\n",
       "  <tbody>\n",
       "    <tr>\n",
       "      <th>0</th>\n",
       "      <td>LP001002</td>\n",
       "      <td>Male</td>\n",
       "      <td>No</td>\n",
       "      <td>0</td>\n",
       "      <td>Graduate</td>\n",
       "      <td>No</td>\n",
       "      <td>5849</td>\n",
       "      <td>0.0</td>\n",
       "      <td>NaN</td>\n",
       "      <td>360.0</td>\n",
       "      <td>1.0</td>\n",
       "      <td>Urban</td>\n",
       "      <td>Y</td>\n",
       "    </tr>\n",
       "    <tr>\n",
       "      <th>1</th>\n",
       "      <td>LP001003</td>\n",
       "      <td>Male</td>\n",
       "      <td>Yes</td>\n",
       "      <td>1</td>\n",
       "      <td>Graduate</td>\n",
       "      <td>No</td>\n",
       "      <td>4583</td>\n",
       "      <td>1508.0</td>\n",
       "      <td>128.0</td>\n",
       "      <td>360.0</td>\n",
       "      <td>1.0</td>\n",
       "      <td>Rural</td>\n",
       "      <td>N</td>\n",
       "    </tr>\n",
       "    <tr>\n",
       "      <th>2</th>\n",
       "      <td>LP001005</td>\n",
       "      <td>Male</td>\n",
       "      <td>Yes</td>\n",
       "      <td>0</td>\n",
       "      <td>Graduate</td>\n",
       "      <td>Yes</td>\n",
       "      <td>3000</td>\n",
       "      <td>0.0</td>\n",
       "      <td>66.0</td>\n",
       "      <td>360.0</td>\n",
       "      <td>1.0</td>\n",
       "      <td>Urban</td>\n",
       "      <td>Y</td>\n",
       "    </tr>\n",
       "    <tr>\n",
       "      <th>3</th>\n",
       "      <td>LP001006</td>\n",
       "      <td>Male</td>\n",
       "      <td>Yes</td>\n",
       "      <td>0</td>\n",
       "      <td>Not Graduate</td>\n",
       "      <td>No</td>\n",
       "      <td>2583</td>\n",
       "      <td>2358.0</td>\n",
       "      <td>120.0</td>\n",
       "      <td>360.0</td>\n",
       "      <td>1.0</td>\n",
       "      <td>Urban</td>\n",
       "      <td>Y</td>\n",
       "    </tr>\n",
       "    <tr>\n",
       "      <th>4</th>\n",
       "      <td>LP001008</td>\n",
       "      <td>Male</td>\n",
       "      <td>No</td>\n",
       "      <td>0</td>\n",
       "      <td>Graduate</td>\n",
       "      <td>No</td>\n",
       "      <td>6000</td>\n",
       "      <td>0.0</td>\n",
       "      <td>141.0</td>\n",
       "      <td>360.0</td>\n",
       "      <td>1.0</td>\n",
       "      <td>Urban</td>\n",
       "      <td>Y</td>\n",
       "    </tr>\n",
       "  </tbody>\n",
       "</table>\n",
       "</div>"
      ],
      "text/plain": [
       "    Loan_ID Gender Married Dependents     Education Self_Employed  \\\n",
       "0  LP001002   Male      No          0      Graduate            No   \n",
       "1  LP001003   Male     Yes          1      Graduate            No   \n",
       "2  LP001005   Male     Yes          0      Graduate           Yes   \n",
       "3  LP001006   Male     Yes          0  Not Graduate            No   \n",
       "4  LP001008   Male      No          0      Graduate            No   \n",
       "\n",
       "   ApplicantIncome  CoapplicantIncome  LoanAmount  Loan_Amount_Term  \\\n",
       "0             5849                0.0         NaN             360.0   \n",
       "1             4583             1508.0       128.0             360.0   \n",
       "2             3000                0.0        66.0             360.0   \n",
       "3             2583             2358.0       120.0             360.0   \n",
       "4             6000                0.0       141.0             360.0   \n",
       "\n",
       "   Credit_History Property_Area Loan_Status  \n",
       "0             1.0         Urban           Y  \n",
       "1             1.0         Rural           N  \n",
       "2             1.0         Urban           Y  \n",
       "3             1.0         Urban           Y  \n",
       "4             1.0         Urban           Y  "
      ]
     },
     "execution_count": 98,
     "metadata": {},
     "output_type": "execute_result"
    }
   ],
   "source": [
    "df.head()"
   ]
  },
  {
   "cell_type": "code",
   "execution_count": 99,
   "id": "4506bc71",
   "metadata": {},
   "outputs": [
    {
     "data": {
      "text/plain": [
       "Loan_ID               0\n",
       "Gender               13\n",
       "Married               3\n",
       "Dependents           15\n",
       "Education             0\n",
       "Self_Employed        32\n",
       "ApplicantIncome       0\n",
       "CoapplicantIncome     0\n",
       "LoanAmount           22\n",
       "Loan_Amount_Term     14\n",
       "Credit_History       50\n",
       "Property_Area         0\n",
       "Loan_Status           0\n",
       "dtype: int64"
      ]
     },
     "execution_count": 99,
     "metadata": {},
     "output_type": "execute_result"
    }
   ],
   "source": [
    "df.isnull().sum()"
   ]
  },
  {
   "cell_type": "markdown",
   "id": "08557b3a",
   "metadata": {},
   "source": [
    "We can observe null values are present in few columns."
   ]
  },
  {
   "cell_type": "code",
   "execution_count": 100,
   "id": "6a67348e",
   "metadata": {},
   "outputs": [
    {
     "name": "stdout",
     "output_type": "stream",
     "text": [
      "<class 'pandas.core.frame.DataFrame'>\n",
      "RangeIndex: 614 entries, 0 to 613\n",
      "Data columns (total 13 columns):\n",
      " #   Column             Non-Null Count  Dtype  \n",
      "---  ------             --------------  -----  \n",
      " 0   Loan_ID            614 non-null    object \n",
      " 1   Gender             601 non-null    object \n",
      " 2   Married            611 non-null    object \n",
      " 3   Dependents         599 non-null    object \n",
      " 4   Education          614 non-null    object \n",
      " 5   Self_Employed      582 non-null    object \n",
      " 6   ApplicantIncome    614 non-null    int64  \n",
      " 7   CoapplicantIncome  614 non-null    float64\n",
      " 8   LoanAmount         592 non-null    float64\n",
      " 9   Loan_Amount_Term   600 non-null    float64\n",
      " 10  Credit_History     564 non-null    float64\n",
      " 11  Property_Area      614 non-null    object \n",
      " 12  Loan_Status        614 non-null    object \n",
      "dtypes: float64(4), int64(1), object(8)\n",
      "memory usage: 62.5+ KB\n"
     ]
    }
   ],
   "source": [
    "df.info()"
   ]
  },
  {
   "cell_type": "markdown",
   "id": "79e1541d",
   "metadata": {},
   "source": [
    "Handilng missing values using Simple Imputer"
   ]
  },
  {
   "cell_type": "code",
   "execution_count": 101,
   "id": "23014666",
   "metadata": {},
   "outputs": [],
   "source": [
    "from sklearn.impute import SimpleImputer\n",
    "Imp = SimpleImputer(missing_values = np.nan, strategy = 'mean')\n",
    "Imp_Categorical = SimpleImputer(missing_values = np.nan, strategy = 'most_frequent')\n",
    "\n",
    "df['Gender'] = Imp_Categorical.fit_transform(df['Gender'].values.reshape(-1,1))\n",
    "df['Married'] = Imp_Categorical.fit_transform(df['Married'].values.reshape(-1,1))\n",
    "df['Dependents'] = Imp_Categorical.fit_transform(df['Dependents'].values.reshape(-1,1))\n",
    "df['Self_Employed'] = Imp_Categorical.fit_transform(df['Self_Employed'].values.reshape(-1,1))\n",
    "df['LoanAmount'] = Imp.fit_transform(df['LoanAmount'].values.reshape(-1,1))\n",
    "df['Loan_Amount_Term'] = Imp.fit_transform(df['Loan_Amount_Term'].values.reshape(-1,1))\n",
    "df['Credit_History'] = Imp.fit_transform(df['Credit_History'].values.reshape(-1,1))"
   ]
  },
  {
   "cell_type": "code",
   "execution_count": 102,
   "id": "1716f986",
   "metadata": {},
   "outputs": [
    {
     "data": {
      "text/plain": [
       "Loan_ID              0\n",
       "Gender               0\n",
       "Married              0\n",
       "Dependents           0\n",
       "Education            0\n",
       "Self_Employed        0\n",
       "ApplicantIncome      0\n",
       "CoapplicantIncome    0\n",
       "LoanAmount           0\n",
       "Loan_Amount_Term     0\n",
       "Credit_History       0\n",
       "Property_Area        0\n",
       "Loan_Status          0\n",
       "dtype: int64"
      ]
     },
     "execution_count": 102,
     "metadata": {},
     "output_type": "execute_result"
    }
   ],
   "source": [
    "df.isnull().sum()"
   ]
  },
  {
   "cell_type": "markdown",
   "id": "34d089eb",
   "metadata": {},
   "source": [
    "Null values are eliminated."
   ]
  },
  {
   "cell_type": "markdown",
   "id": "b200ea3f",
   "metadata": {},
   "source": [
    "There multiple categorical columns including target coumn. Hence we will use label encoder."
   ]
  },
  {
   "cell_type": "code",
   "execution_count": 103,
   "id": "0726ce30",
   "metadata": {},
   "outputs": [
    {
     "data": {
      "text/plain": [
       "0      1\n",
       "412    1\n",
       "405    1\n",
       "406    1\n",
       "407    1\n",
       "      ..\n",
       "205    1\n",
       "206    1\n",
       "207    1\n",
       "208    1\n",
       "613    1\n",
       "Name: Loan_ID, Length: 614, dtype: int64"
      ]
     },
     "execution_count": 103,
     "metadata": {},
     "output_type": "execute_result"
    }
   ],
   "source": [
    "df['Loan_ID'] = le.fit_transform(df['Loan_ID'])\n",
    "df['Loan_ID'].value_counts()"
   ]
  },
  {
   "cell_type": "code",
   "execution_count": 104,
   "id": "9cccf815",
   "metadata": {},
   "outputs": [
    {
     "data": {
      "text/plain": [
       "0    480\n",
       "1    134\n",
       "Name: Education, dtype: int64"
      ]
     },
     "execution_count": 104,
     "metadata": {},
     "output_type": "execute_result"
    }
   ],
   "source": [
    "df['Education'] = le.fit_transform(df['Education'])\n",
    "df['Education'].value_counts()"
   ]
  },
  {
   "cell_type": "code",
   "execution_count": 105,
   "id": "8bd5fcda",
   "metadata": {
    "scrolled": true
   },
   "outputs": [
    {
     "data": {
      "text/plain": [
       "1    502\n",
       "0    112\n",
       "Name: Gender, dtype: int64"
      ]
     },
     "execution_count": 105,
     "metadata": {},
     "output_type": "execute_result"
    }
   ],
   "source": [
    "df['Gender'] = le.fit_transform(df['Gender'])\n",
    "df['Gender'].value_counts()"
   ]
  },
  {
   "cell_type": "code",
   "execution_count": 106,
   "id": "9bd46423",
   "metadata": {},
   "outputs": [
    {
     "data": {
      "text/plain": [
       "1    401\n",
       "0    213\n",
       "Name: Married, dtype: int64"
      ]
     },
     "execution_count": 106,
     "metadata": {},
     "output_type": "execute_result"
    }
   ],
   "source": [
    "df['Married']= le.fit_transform(df['Married'])\n",
    "df['Married'].value_counts()"
   ]
  },
  {
   "cell_type": "code",
   "execution_count": 107,
   "id": "4aac8079",
   "metadata": {},
   "outputs": [
    {
     "data": {
      "text/plain": [
       "0    360\n",
       "1    102\n",
       "2    101\n",
       "3     51\n",
       "Name: Dependents, dtype: int64"
      ]
     },
     "execution_count": 107,
     "metadata": {},
     "output_type": "execute_result"
    }
   ],
   "source": [
    "df['Dependents']= le.fit_transform(df['Dependents'])\n",
    "df['Dependents'].value_counts()"
   ]
  },
  {
   "cell_type": "code",
   "execution_count": 108,
   "id": "f7ee61cf",
   "metadata": {},
   "outputs": [
    {
     "data": {
      "text/plain": [
       "0    532\n",
       "1     82\n",
       "Name: Self_Employed, dtype: int64"
      ]
     },
     "execution_count": 108,
     "metadata": {},
     "output_type": "execute_result"
    }
   ],
   "source": [
    "df['Self_Employed']= le.fit_transform(df['Self_Employed'])\n",
    "df['Self_Employed'].value_counts()"
   ]
  },
  {
   "cell_type": "code",
   "execution_count": 109,
   "id": "15d6bbd3",
   "metadata": {},
   "outputs": [
    {
     "data": {
      "text/plain": [
       "1    233\n",
       "2    202\n",
       "0    179\n",
       "Name: Property_Area, dtype: int64"
      ]
     },
     "execution_count": 109,
     "metadata": {},
     "output_type": "execute_result"
    }
   ],
   "source": [
    "df['Property_Area']= le.fit_transform(df['Property_Area'])\n",
    "df['Property_Area'].value_counts()"
   ]
  },
  {
   "cell_type": "code",
   "execution_count": 110,
   "id": "f4f2f3cb",
   "metadata": {},
   "outputs": [
    {
     "data": {
      "text/plain": [
       "1    422\n",
       "0    192\n",
       "Name: Loan_Status, dtype: int64"
      ]
     },
     "execution_count": 110,
     "metadata": {},
     "output_type": "execute_result"
    }
   ],
   "source": [
    "df['Loan_Status']= le.fit_transform(df['Loan_Status'])\n",
    "df['Loan_Status'].value_counts()"
   ]
  },
  {
   "cell_type": "markdown",
   "id": "0a5c74bf",
   "metadata": {},
   "source": [
    "EDA"
   ]
  },
  {
   "cell_type": "code",
   "execution_count": 111,
   "id": "7f57d733",
   "metadata": {},
   "outputs": [
    {
     "data": {
      "text/plain": [
       "<AxesSubplot:xlabel='Gender', ylabel='Loan_Status'>"
      ]
     },
     "execution_count": 111,
     "metadata": {},
     "output_type": "execute_result"
    },
    {
     "data": {
      "image/png": "[encoded data removed]",
      "text/plain": [
       "<Figure size 432x288 with 1 Axes>"
      ]
     },
     "metadata": {
      "needs_background": "light"
     },
     "output_type": "display_data"
    }
   ],
   "source": [
    "sns.barplot(x=df['Gender'],y=df['Loan_Status'])"
   ]
  },
  {
   "cell_type": "markdown",
   "id": "dd6cd67c",
   "metadata": {},
   "source": [
    "Mens have slightly more approvals compare to female."
   ]
  },
  {
   "cell_type": "code",
   "execution_count": 112,
   "id": "f5a6b55d",
   "metadata": {},
   "outputs": [
    {
     "data": {
      "text/plain": [
       "<AxesSubplot:xlabel='Married', ylabel='Loan_Status'>"
      ]
     },
     "execution_count": 112,
     "metadata": {},
     "output_type": "execute_result"
    },
    {
     "data": {
      "image/png": "[encoded data removed]",
      "text/plain": [
       "<Figure size 432x288 with 1 Axes>"
      ]
     },
     "metadata": {
      "needs_background": "light"
     },
     "output_type": "display_data"
    }
   ],
   "source": [
    "sns.barplot(x=df['Married'],y=df['Loan_Status'])"
   ]
  },
  {
   "cell_type": "markdown",
   "id": "e696cd05",
   "metadata": {},
   "source": [
    "Married people have more approvals compared to unmarried."
   ]
  },
  {
   "cell_type": "code",
   "execution_count": 113,
   "id": "b24c292e",
   "metadata": {},
   "outputs": [
    {
     "data": {
      "text/plain": [
       "<AxesSubplot:xlabel='Dependents', ylabel='Loan_Status'>"
      ]
     },
     "execution_count": 113,
     "metadata": {},
     "output_type": "execute_result"
    },
    {
     "data": {
      "image/png": "[encoded data removed]",
      "text/plain": [
       "<Figure size 432x288 with 1 Axes>"
      ]
     },
     "metadata": {
      "needs_background": "light"
     },
     "output_type": "display_data"
    }
   ],
   "source": [
    "sns.barplot(x=df['Dependents'],y=df['Loan_Status'])"
   ]
  },
  {
   "cell_type": "code",
   "execution_count": 114,
   "id": "9d224101",
   "metadata": {},
   "outputs": [
    {
     "data": {
      "text/plain": [
       "<AxesSubplot:xlabel='Education', ylabel='Loan_Status'>"
      ]
     },
     "execution_count": 114,
     "metadata": {},
     "output_type": "execute_result"
    },
    {
     "data": {
      "image/png": "[encoded data removed]",
      "text/plain": [
       "<Figure size 432x288 with 1 Axes>"
      ]
     },
     "metadata": {
      "needs_background": "light"
     },
     "output_type": "display_data"
    }
   ],
   "source": [
    "sns.barplot(x=df['Education'],y=df['Loan_Status'])"
   ]
  },
  {
   "cell_type": "markdown",
   "id": "bc3f32bb",
   "metadata": {},
   "source": [
    "Graduate people seems to get loan approved compared to Non graduate."
   ]
  },
  {
   "cell_type": "code",
   "execution_count": 115,
   "id": "b2e65070",
   "metadata": {},
   "outputs": [
    {
     "data": {
      "text/plain": [
       "Index(['Loan_ID', 'Gender', 'Married', 'Dependents', 'Education',\n",
       "       'Self_Employed', 'ApplicantIncome', 'CoapplicantIncome', 'LoanAmount',\n",
       "       'Loan_Amount_Term', 'Credit_History', 'Property_Area', 'Loan_Status'],\n",
       "      dtype='object')"
      ]
     },
     "execution_count": 115,
     "metadata": {},
     "output_type": "execute_result"
    }
   ],
   "source": [
    "df.columns"
   ]
  },
  {
   "cell_type": "code",
   "execution_count": 116,
   "id": "9ecaf623",
   "metadata": {},
   "outputs": [
    {
     "data": {
      "text/plain": [
       "<AxesSubplot:xlabel='Self_Employed', ylabel='Loan_Status'>"
      ]
     },
     "execution_count": 116,
     "metadata": {},
     "output_type": "execute_result"
    },
    {
     "data": {
      "image/png": "[encoded data removed]",
      "text/plain": [
       "<Figure size 432x288 with 1 Axes>"
      ]
     },
     "metadata": {
      "needs_background": "light"
     },
     "output_type": "display_data"
    }
   ],
   "source": [
    "sns.barplot(x=df['Self_Employed'],y=df['Loan_Status'])"
   ]
  },
  {
   "cell_type": "code",
   "execution_count": 117,
   "id": "d0ea628e",
   "metadata": {},
   "outputs": [
    {
     "data": {
      "text/plain": [
       "<AxesSubplot:xlabel='Loan_Status', ylabel='ApplicantIncome'>"
      ]
     },
     "execution_count": 117,
     "metadata": {},
     "output_type": "execute_result"
    },
    {
     "data": {
      "image/png": "[encoded data removed]",
      "text/plain": [
       "<Figure size 432x288 with 1 Axes>"
      ]
     },
     "metadata": {
      "needs_background": "light"
     },
     "output_type": "display_data"
    }
   ],
   "source": [
    "sns.barplot(x=df['Loan_Status'],y=df['ApplicantIncome'])"
   ]
  },
  {
   "cell_type": "code",
   "execution_count": 118,
   "id": "0f09d507",
   "metadata": {},
   "outputs": [
    {
     "data": {
      "text/plain": [
       "<AxesSubplot:xlabel='Loan_Status', ylabel='CoapplicantIncome'>"
      ]
     },
     "execution_count": 118,
     "metadata": {},
     "output_type": "execute_result"
    },
    {
     "data": {
      "image/png": "[encoded data removed]",
      "text/plain": [
       "<Figure size 432x288 with 1 Axes>"
      ]
     },
     "metadata": {
      "needs_background": "light"
     },
     "output_type": "display_data"
    }
   ],
   "source": [
    "sns.barplot(x=df['Loan_Status'],y=df['CoapplicantIncome'])"
   ]
  },
  {
   "cell_type": "code",
   "execution_count": 119,
   "id": "f0bdbfb5",
   "metadata": {},
   "outputs": [
    {
     "data": {
      "text/plain": [
       "<AxesSubplot:xlabel='Loan_Status', ylabel='LoanAmount'>"
      ]
     },
     "execution_count": 119,
     "metadata": {},
     "output_type": "execute_result"
    },
    {
     "data": {
      "image/png": "[encoded data removed]",
      "text/plain": [
       "<Figure size 432x288 with 1 Axes>"
      ]
     },
     "metadata": {
      "needs_background": "light"
     },
     "output_type": "display_data"
    }
   ],
   "source": [
    "sns.barplot(x=df['Loan_Status'],y=df['LoanAmount'])"
   ]
  },
  {
   "cell_type": "code",
   "execution_count": 120,
   "id": "603bc66d",
   "metadata": {},
   "outputs": [
    {
     "data": {
      "text/plain": [
       "<AxesSubplot:xlabel='Loan_Status', ylabel='Loan_Amount_Term'>"
      ]
     },
     "execution_count": 120,
     "metadata": {},
     "output_type": "execute_result"
    },
    {
     "data": {
      "image/png": "[encoded data removed]",
      "text/plain": [
       "<Figure size 432x288 with 1 Axes>"
      ]
     },
     "metadata": {
      "needs_background": "light"
     },
     "output_type": "display_data"
    }
   ],
   "source": [
    "sns.barplot(x=df['Loan_Status'],y=df['Loan_Amount_Term'])"
   ]
  },
  {
   "cell_type": "code",
   "execution_count": 121,
   "id": "769bd63c",
   "metadata": {},
   "outputs": [
    {
     "data": {
      "text/plain": [
       "Index(['Loan_ID', 'Gender', 'Married', 'Dependents', 'Education',\n",
       "       'Self_Employed', 'ApplicantIncome', 'CoapplicantIncome', 'LoanAmount',\n",
       "       'Loan_Amount_Term', 'Credit_History', 'Property_Area', 'Loan_Status'],\n",
       "      dtype='object')"
      ]
     },
     "execution_count": 121,
     "metadata": {},
     "output_type": "execute_result"
    }
   ],
   "source": [
    "df.columns"
   ]
  },
  {
   "cell_type": "code",
   "execution_count": 122,
   "id": "60f36efc",
   "metadata": {},
   "outputs": [
    {
     "data": {
      "text/plain": [
       "<AxesSubplot:xlabel='Loan_Status', ylabel='Credit_History'>"
      ]
     },
     "execution_count": 122,
     "metadata": {},
     "output_type": "execute_result"
    },
    {
     "data": {
      "image/png": "[encoded data removed]",
      "text/plain": [
       "<Figure size 432x288 with 1 Axes>"
      ]
     },
     "metadata": {
      "needs_background": "light"
     },
     "output_type": "display_data"
    }
   ],
   "source": [
    "sns.barplot(x=df['Loan_Status'],y=df['Credit_History'])"
   ]
  },
  {
   "cell_type": "code",
   "execution_count": 123,
   "id": "ab0c35cd",
   "metadata": {},
   "outputs": [
    {
     "data": {
      "text/plain": [
       "<AxesSubplot:xlabel='Loan_Status', ylabel='Property_Area'>"
      ]
     },
     "execution_count": 123,
     "metadata": {},
     "output_type": "execute_result"
    },
    {
     "data": {
      "image/png": "[encoded data removed]",
      "text/plain": [
       "<Figure size 432x288 with 1 Axes>"
      ]
     },
     "metadata": {
      "needs_background": "light"
     },
     "output_type": "display_data"
    }
   ],
   "source": [
    "sns.barplot(x=df['Loan_Status'],y=df['Property_Area'])"
   ]
  },
  {
   "cell_type": "code",
   "execution_count": 124,
   "id": "e18e62d0",
   "metadata": {},
   "outputs": [
    {
     "data": {
      "text/plain": [
       "array([[<AxesSubplot:title={'center':'Loan_ID'}>,\n",
       "        <AxesSubplot:title={'center':'Gender'}>,\n",
       "        <AxesSubplot:title={'center':'Married'}>,\n",
       "        <AxesSubplot:title={'center':'Dependents'}>],\n",
       "       [<AxesSubplot:title={'center':'Education'}>,\n",
       "        <AxesSubplot:title={'center':'Self_Employed'}>,\n",
       "        <AxesSubplot:title={'center':'ApplicantIncome'}>,\n",
       "        <AxesSubplot:title={'center':'CoapplicantIncome'}>],\n",
       "       [<AxesSubplot:title={'center':'LoanAmount'}>,\n",
       "        <AxesSubplot:title={'center':'Loan_Amount_Term'}>,\n",
       "        <AxesSubplot:title={'center':'Credit_History'}>,\n",
       "        <AxesSubplot:title={'center':'Property_Area'}>],\n",
       "       [<AxesSubplot:title={'center':'Loan_Status'}>, <AxesSubplot:>,\n",
       "        <AxesSubplot:>, <AxesSubplot:>]], dtype=object)"
      ]
     },
     "execution_count": 124,
     "metadata": {},
     "output_type": "execute_result"
    },
    {
     "data": {
      "image/png": "[encoded data removed]",
      "text/plain": [
       "<Figure size 1440x1440 with 16 Axes>"
      ]
     },
     "metadata": {
      "needs_background": "light"
     },
     "output_type": "display_data"
    }
   ],
   "source": [
    "df.hist(figsize=(20,20))"
   ]
  },
  {
   "cell_type": "markdown",
   "id": "4194c3d9",
   "metadata": {},
   "source": [
    "Loan ID can be droppped."
   ]
  },
  {
   "cell_type": "code",
   "execution_count": 125,
   "id": "a3f83807",
   "metadata": {},
   "outputs": [],
   "source": [
    "df.drop('Loan_ID',axis=1,inplace=True)"
   ]
  },
  {
   "cell_type": "code",
   "execution_count": 126,
   "id": "1d7c26f0",
   "metadata": {},
   "outputs": [
    {
     "data": {
      "text/html": [
       "<div>\n",
       "<style scoped>\n",
       "    .dataframe tbody tr th:only-of-type {\n",
       "        vertical-align: middle;\n",
       "    }\n",
       "\n",
       "    .dataframe tbody tr th {\n",
       "        vertical-align: top;\n",
       "    }\n",
       "\n",
       "    .dataframe thead th {\n",
       "        text-align: right;\n",
       "    }\n",
       "</style>\n",
       "<table border=\"1\" class=\"dataframe\">\n",
       "  <thead>\n",
       "    <tr style=\"text-align: right;\">\n",
       "      <th></th>\n",
       "      <th>Gender</th>\n",
       "      <th>Married</th>\n",
       "      <th>Dependents</th>\n",
       "      <th>Education</th>\n",
       "      <th>Self_Employed</th>\n",
       "      <th>ApplicantIncome</th>\n",
       "      <th>CoapplicantIncome</th>\n",
       "      <th>LoanAmount</th>\n",
       "      <th>Loan_Amount_Term</th>\n",
       "      <th>Credit_History</th>\n",
       "      <th>Property_Area</th>\n",
       "      <th>Loan_Status</th>\n",
       "    </tr>\n",
       "  </thead>\n",
       "  <tbody>\n",
       "    <tr>\n",
       "      <th>count</th>\n",
       "      <td>614.000000</td>\n",
       "      <td>614.000000</td>\n",
       "      <td>614.000000</td>\n",
       "      <td>614.000000</td>\n",
       "      <td>614.000000</td>\n",
       "      <td>614.000000</td>\n",
       "      <td>614.000000</td>\n",
       "      <td>614.000000</td>\n",
       "      <td>614.000000</td>\n",
       "      <td>614.000000</td>\n",
       "      <td>614.000000</td>\n",
       "      <td>614.000000</td>\n",
       "    </tr>\n",
       "    <tr>\n",
       "      <th>mean</th>\n",
       "      <td>0.817590</td>\n",
       "      <td>0.653094</td>\n",
       "      <td>0.744300</td>\n",
       "      <td>0.218241</td>\n",
       "      <td>0.133550</td>\n",
       "      <td>5403.459283</td>\n",
       "      <td>1621.245798</td>\n",
       "      <td>146.412162</td>\n",
       "      <td>342.000000</td>\n",
       "      <td>0.842199</td>\n",
       "      <td>1.037459</td>\n",
       "      <td>0.687296</td>\n",
       "    </tr>\n",
       "    <tr>\n",
       "      <th>std</th>\n",
       "      <td>0.386497</td>\n",
       "      <td>0.476373</td>\n",
       "      <td>1.009623</td>\n",
       "      <td>0.413389</td>\n",
       "      <td>0.340446</td>\n",
       "      <td>6109.041673</td>\n",
       "      <td>2926.248369</td>\n",
       "      <td>84.037468</td>\n",
       "      <td>64.372489</td>\n",
       "      <td>0.349681</td>\n",
       "      <td>0.787482</td>\n",
       "      <td>0.463973</td>\n",
       "    </tr>\n",
       "    <tr>\n",
       "      <th>min</th>\n",
       "      <td>0.000000</td>\n",
       "      <td>0.000000</td>\n",
       "      <td>0.000000</td>\n",
       "      <td>0.000000</td>\n",
       "      <td>0.000000</td>\n",
       "      <td>150.000000</td>\n",
       "      <td>0.000000</td>\n",
       "      <td>9.000000</td>\n",
       "      <td>12.000000</td>\n",
       "      <td>0.000000</td>\n",
       "      <td>0.000000</td>\n",
       "      <td>0.000000</td>\n",
       "    </tr>\n",
       "    <tr>\n",
       "      <th>25%</th>\n",
       "      <td>1.000000</td>\n",
       "      <td>0.000000</td>\n",
       "      <td>0.000000</td>\n",
       "      <td>0.000000</td>\n",
       "      <td>0.000000</td>\n",
       "      <td>2877.500000</td>\n",
       "      <td>0.000000</td>\n",
       "      <td>100.250000</td>\n",
       "      <td>360.000000</td>\n",
       "      <td>1.000000</td>\n",
       "      <td>0.000000</td>\n",
       "      <td>0.000000</td>\n",
       "    </tr>\n",
       "    <tr>\n",
       "      <th>50%</th>\n",
       "      <td>1.000000</td>\n",
       "      <td>1.000000</td>\n",
       "      <td>0.000000</td>\n",
       "      <td>0.000000</td>\n",
       "      <td>0.000000</td>\n",
       "      <td>3812.500000</td>\n",
       "      <td>1188.500000</td>\n",
       "      <td>129.000000</td>\n",
       "      <td>360.000000</td>\n",
       "      <td>1.000000</td>\n",
       "      <td>1.000000</td>\n",
       "      <td>1.000000</td>\n",
       "    </tr>\n",
       "    <tr>\n",
       "      <th>75%</th>\n",
       "      <td>1.000000</td>\n",
       "      <td>1.000000</td>\n",
       "      <td>1.000000</td>\n",
       "      <td>0.000000</td>\n",
       "      <td>0.000000</td>\n",
       "      <td>5795.000000</td>\n",
       "      <td>2297.250000</td>\n",
       "      <td>164.750000</td>\n",
       "      <td>360.000000</td>\n",
       "      <td>1.000000</td>\n",
       "      <td>2.000000</td>\n",
       "      <td>1.000000</td>\n",
       "    </tr>\n",
       "    <tr>\n",
       "      <th>max</th>\n",
       "      <td>1.000000</td>\n",
       "      <td>1.000000</td>\n",
       "      <td>3.000000</td>\n",
       "      <td>1.000000</td>\n",
       "      <td>1.000000</td>\n",
       "      <td>81000.000000</td>\n",
       "      <td>41667.000000</td>\n",
       "      <td>700.000000</td>\n",
       "      <td>480.000000</td>\n",
       "      <td>1.000000</td>\n",
       "      <td>2.000000</td>\n",
       "      <td>1.000000</td>\n",
       "    </tr>\n",
       "  </tbody>\n",
       "</table>\n",
       "</div>"
      ],
      "text/plain": [
       "           Gender     Married  Dependents   Education  Self_Employed  \\\n",
       "count  614.000000  614.000000  614.000000  614.000000     614.000000   \n",
       "mean     0.817590    0.653094    0.744300    0.218241       0.133550   \n",
       "std      0.386497    0.476373    1.009623    0.413389       0.340446   \n",
       "min      0.000000    0.000000    0.000000    0.000000       0.000000   \n",
       "25%      1.000000    0.000000    0.000000    0.000000       0.000000   \n",
       "50%      1.000000    1.000000    0.000000    0.000000       0.000000   \n",
       "75%      1.000000    1.000000    1.000000    0.000000       0.000000   \n",
       "max      1.000000    1.000000    3.000000    1.000000       1.000000   \n",
       "\n",
       "       ApplicantIncome  CoapplicantIncome  LoanAmount  Loan_Amount_Term  \\\n",
       "count       614.000000         614.000000  614.000000        614.000000   \n",
       "mean       5403.459283        1621.245798  146.412162        342.000000   \n",
       "std        6109.041673        2926.248369   84.037468         64.372489   \n",
       "min         150.000000           0.000000    9.000000         12.000000   \n",
       "25%        2877.500000           0.000000  100.250000        360.000000   \n",
       "50%        3812.500000        1188.500000  129.000000        360.000000   \n",
       "75%        5795.000000        2297.250000  164.750000        360.000000   \n",
       "max       81000.000000       41667.000000  700.000000        480.000000   \n",
       "\n",
       "       Credit_History  Property_Area  Loan_Status  \n",
       "count      614.000000     614.000000   614.000000  \n",
       "mean         0.842199       1.037459     0.687296  \n",
       "std          0.349681       0.787482     0.463973  \n",
       "min          0.000000       0.000000     0.000000  \n",
       "25%          1.000000       0.000000     0.000000  \n",
       "50%          1.000000       1.000000     1.000000  \n",
       "75%          1.000000       2.000000     1.000000  \n",
       "max          1.000000       2.000000     1.000000  "
      ]
     },
     "execution_count": 126,
     "metadata": {},
     "output_type": "execute_result"
    }
   ],
   "source": [
    "df.describe()"
   ]
  },
  {
   "cell_type": "markdown",
   "id": "7b8a7aa1",
   "metadata": {},
   "source": [
    "Key observations:\n",
    "1) There is slight difference in 50% and mean values for few columns which indicates skewness in data.             \n",
    "2) ApplicantIncome,CoapplicantIncome,LoanAmount,Loan_Amount_Term has difference in 75% and max values which indicates outliers in these columns."
   ]
  },
  {
   "cell_type": "markdown",
   "id": "a4c802b3",
   "metadata": {},
   "source": [
    "Checking correlation"
   ]
  },
  {
   "cell_type": "code",
   "execution_count": 127,
   "id": "63df4864",
   "metadata": {},
   "outputs": [
    {
     "data": {
      "text/plain": [
       "Education           -0.085884\n",
       "CoapplicantIncome   -0.059187\n",
       "LoanAmount          -0.036416\n",
       "Loan_Amount_Term    -0.020974\n",
       "ApplicantIncome     -0.004710\n",
       "Self_Employed       -0.003700\n",
       "Dependents           0.010118\n",
       "Gender               0.017987\n",
       "Property_Area        0.032112\n",
       "Married              0.091478\n",
       "Credit_History       0.540483\n",
       "Loan_Status          1.000000\n",
       "Name: Loan_Status, dtype: float64"
      ]
     },
     "execution_count": 127,
     "metadata": {},
     "output_type": "execute_result"
    }
   ],
   "source": [
    "df.corr()['Loan_Status'].sort_values()"
   ]
  },
  {
   "cell_type": "code",
   "execution_count": 128,
   "id": "69e3c441",
   "metadata": {},
   "outputs": [
    {
     "data": {
      "image/png": "[encoded data removed]",
      "text/plain": [
       "<Figure size 1584x504 with 2 Axes>"
      ]
     },
     "metadata": {
      "needs_background": "light"
     },
     "output_type": "display_data"
    }
   ],
   "source": [
    "corr_mat = df.corr()\n",
    "plt.figure(figsize=[22,7])\n",
    "sns.heatmap(corr_mat,annot=True)\n",
    "plt.title('Correlation Matrix')\n",
    "plt.savefig('Correlation_matrix.jpg')\n",
    "plt.show()"
   ]
  },
  {
   "cell_type": "markdown",
   "id": "f81c9bf5",
   "metadata": {},
   "source": [
    "Observations:\n",
    "1) Credit history highly positively correlated to Loan Status.\n",
    "2) CoapplicantIncome is highly negatively correlated to Loan status.\n",
    "    "
   ]
  },
  {
   "cell_type": "markdown",
   "id": "1ab78e5c",
   "metadata": {},
   "source": [
    "Checking multicollinearity"
   ]
  },
  {
   "cell_type": "code",
   "execution_count": 129,
   "id": "b85ed795",
   "metadata": {},
   "outputs": [],
   "source": [
    "x = df.drop('Loan_Status',axis=1)\n",
    "y = df['Loan_Status']"
   ]
  },
  {
   "cell_type": "code",
   "execution_count": 130,
   "id": "7cec45e2",
   "metadata": {},
   "outputs": [
    {
     "data": {
      "text/plain": [
       "array([[ 0.47234264, -1.37208932, -0.73780632, ...,  0.27985054,\n",
       "         0.45164045,  1.22329839],\n",
       "       [ 0.47234264,  0.72881553,  0.25346957, ...,  0.27985054,\n",
       "         0.45164045, -1.31851281],\n",
       "       [ 0.47234264,  0.72881553, -0.73780632, ...,  0.27985054,\n",
       "         0.45164045,  1.22329839],\n",
       "       ...,\n",
       "       [ 0.47234264,  0.72881553,  0.25346957, ...,  0.27985054,\n",
       "         0.45164045,  1.22329839],\n",
       "       [ 0.47234264,  0.72881553,  1.24474546, ...,  0.27985054,\n",
       "         0.45164045,  1.22329839],\n",
       "       [-2.11710719, -1.37208932, -0.73780632, ...,  0.27985054,\n",
       "        -2.41044061, -0.04760721]])"
      ]
     },
     "execution_count": 130,
     "metadata": {},
     "output_type": "execute_result"
    }
   ],
   "source": [
    "scaler = StandardScaler()\n",
    "x_scaled = scaler.fit_transform(x)\n",
    "x_scaled"
   ]
  },
  {
   "cell_type": "code",
   "execution_count": 134,
   "id": "f2f171a8",
   "metadata": {},
   "outputs": [
    {
     "data": {
      "text/html": [
       "<div>\n",
       "<style scoped>\n",
       "    .dataframe tbody tr th:only-of-type {\n",
       "        vertical-align: middle;\n",
       "    }\n",
       "\n",
       "    .dataframe tbody tr th {\n",
       "        vertical-align: top;\n",
       "    }\n",
       "\n",
       "    .dataframe thead th {\n",
       "        text-align: right;\n",
       "    }\n",
       "</style>\n",
       "<table border=\"1\" class=\"dataframe\">\n",
       "  <thead>\n",
       "    <tr style=\"text-align: right;\">\n",
       "      <th></th>\n",
       "      <th>vif</th>\n",
       "      <th>Features</th>\n",
       "    </tr>\n",
       "  </thead>\n",
       "  <tbody>\n",
       "    <tr>\n",
       "      <th>0</th>\n",
       "      <td>1.170065</td>\n",
       "      <td>Gender</td>\n",
       "    </tr>\n",
       "    <tr>\n",
       "      <th>1</th>\n",
       "      <td>1.281481</td>\n",
       "      <td>Married</td>\n",
       "    </tr>\n",
       "    <tr>\n",
       "      <th>2</th>\n",
       "      <td>1.164040</td>\n",
       "      <td>Dependents</td>\n",
       "    </tr>\n",
       "    <tr>\n",
       "      <th>3</th>\n",
       "      <td>1.064347</td>\n",
       "      <td>Education</td>\n",
       "    </tr>\n",
       "    <tr>\n",
       "      <th>4</th>\n",
       "      <td>1.023725</td>\n",
       "      <td>Self_Employed</td>\n",
       "    </tr>\n",
       "    <tr>\n",
       "      <th>5</th>\n",
       "      <td>1.630887</td>\n",
       "      <td>ApplicantIncome</td>\n",
       "    </tr>\n",
       "    <tr>\n",
       "      <th>6</th>\n",
       "      <td>1.140816</td>\n",
       "      <td>CoapplicantIncome</td>\n",
       "    </tr>\n",
       "    <tr>\n",
       "      <th>7</th>\n",
       "      <td>1.710373</td>\n",
       "      <td>LoanAmount</td>\n",
       "    </tr>\n",
       "    <tr>\n",
       "      <th>8</th>\n",
       "      <td>1.049586</td>\n",
       "      <td>Loan_Amount_Term</td>\n",
       "    </tr>\n",
       "    <tr>\n",
       "      <th>9</th>\n",
       "      <td>1.008661</td>\n",
       "      <td>Credit_History</td>\n",
       "    </tr>\n",
       "    <tr>\n",
       "      <th>10</th>\n",
       "      <td>1.016271</td>\n",
       "      <td>Property_Area</td>\n",
       "    </tr>\n",
       "  </tbody>\n",
       "</table>\n",
       "</div>"
      ],
      "text/plain": [
       "         vif           Features\n",
       "0   1.170065             Gender\n",
       "1   1.281481            Married\n",
       "2   1.164040         Dependents\n",
       "3   1.064347          Education\n",
       "4   1.023725      Self_Employed\n",
       "5   1.630887    ApplicantIncome\n",
       "6   1.140816  CoapplicantIncome\n",
       "7   1.710373         LoanAmount\n",
       "8   1.049586   Loan_Amount_Term\n",
       "9   1.008661     Credit_History\n",
       "10  1.016271      Property_Area"
      ]
     },
     "execution_count": 134,
     "metadata": {},
     "output_type": "execute_result"
    }
   ],
   "source": [
    "vif = pd.DataFrame()\n",
    "vif['vif'] = [variance_inflation_factor(x_scaled,i) for i in range(x_scaled.shape[1])]\n",
    "vif['Features'] = x.columns\n",
    "\n",
    "vif"
   ]
  },
  {
   "cell_type": "markdown",
   "id": "ed8fe409",
   "metadata": {},
   "source": [
    "As all values are less than 5, very less multicollinearity present in dataset."
   ]
  },
  {
   "cell_type": "markdown",
   "id": "0744af85",
   "metadata": {},
   "source": [
    "Handling skewness"
   ]
  },
  {
   "cell_type": "code",
   "execution_count": 135,
   "id": "ed144d53",
   "metadata": {},
   "outputs": [
    {
     "data": {
      "text/plain": [
       "Gender              -1.648795\n",
       "Married             -0.644850\n",
       "Dependents           1.015551\n",
       "Education            1.367622\n",
       "Self_Employed        2.159796\n",
       "ApplicantIncome      6.539513\n",
       "CoapplicantIncome    7.491531\n",
       "LoanAmount           2.726601\n",
       "Loan_Amount_Term    -2.389680\n",
       "Credit_History      -1.963600\n",
       "Property_Area       -0.066196\n",
       "Loan_Status         -0.809998\n",
       "dtype: float64"
      ]
     },
     "execution_count": 135,
     "metadata": {},
     "output_type": "execute_result"
    }
   ],
   "source": [
    "df.skew()"
   ]
  },
  {
   "cell_type": "code",
   "execution_count": 140,
   "id": "1c83896b",
   "metadata": {},
   "outputs": [],
   "source": [
    "columns = ('Gender','Married','Dependents','Education','Self_Employed','ApplicantIncome','CoapplicantIncome','LoanAmount','Loan_Amount_Term','Credit_History')\n",
    "\n",
    "for items in columns:\n",
    "    if df.skew().loc[items]>0.55:\n",
    "        df[items] = np.log1p(df[items])"
   ]
  },
  {
   "cell_type": "code",
   "execution_count": 141,
   "id": "12709e3a",
   "metadata": {},
   "outputs": [
    {
     "data": {
      "text/plain": [
       "Gender              -1.648795\n",
       "Married             -0.644850\n",
       "Dependents           0.535783\n",
       "Education            1.367622\n",
       "Self_Employed        2.159796\n",
       "ApplicantIncome      0.482128\n",
       "CoapplicantIncome   -0.173073\n",
       "LoanAmount          -0.179713\n",
       "Loan_Amount_Term    -2.389680\n",
       "Credit_History      -1.963600\n",
       "Property_Area       -0.066196\n",
       "Loan_Status         -0.809998\n",
       "dtype: float64"
      ]
     },
     "execution_count": 141,
     "metadata": {},
     "output_type": "execute_result"
    }
   ],
   "source": [
    "df.skew()"
   ]
  },
  {
   "cell_type": "markdown",
   "id": "0c6e3949",
   "metadata": {},
   "source": [
    "Skewness has been reduced and lies in range 0.06 to -2.3"
   ]
  },
  {
   "cell_type": "markdown",
   "id": "a65f503d",
   "metadata": {},
   "source": [
    "Checking Outliers and handling outliers"
   ]
  },
  {
   "cell_type": "code",
   "execution_count": 143,
   "id": "c8f7733a",
   "metadata": {},
   "outputs": [
    {
     "data": {
      "text/plain": [
       "Gender                  AxesSubplot(0.125,0.772143;0.352273x0.107857)\n",
       "Married              AxesSubplot(0.547727,0.772143;0.352273x0.107857)\n",
       "Dependents              AxesSubplot(0.125,0.642714;0.352273x0.107857)\n",
       "Education            AxesSubplot(0.547727,0.642714;0.352273x0.107857)\n",
       "Self_Employed           AxesSubplot(0.125,0.513286;0.352273x0.107857)\n",
       "ApplicantIncome      AxesSubplot(0.547727,0.513286;0.352273x0.107857)\n",
       "CoapplicantIncome       AxesSubplot(0.125,0.383857;0.352273x0.107857)\n",
       "LoanAmount           AxesSubplot(0.547727,0.383857;0.352273x0.107857)\n",
       "Loan_Amount_Term        AxesSubplot(0.125,0.254429;0.352273x0.107857)\n",
       "Credit_History       AxesSubplot(0.547727,0.254429;0.352273x0.107857)\n",
       "Property_Area              AxesSubplot(0.125,0.125;0.352273x0.107857)\n",
       "Loan_Status             AxesSubplot(0.547727,0.125;0.352273x0.107857)\n",
       "dtype: object"
      ]
     },
     "execution_count": 143,
     "metadata": {},
     "output_type": "execute_result"
    },
    {
     "data": {
      "image/png": "[encoded data removed]",
      "text/plain": [
       "<Figure size 432x288 with 12 Axes>"
      ]
     },
     "metadata": {
      "needs_background": "light"
     },
     "output_type": "display_data"
    }
   ],
   "source": [
    "df.plot(kind='box',subplots=True,layout=(6,2))"
   ]
  },
  {
   "cell_type": "code",
   "execution_count": 144,
   "id": "d1f0aa2e",
   "metadata": {},
   "outputs": [
    {
     "data": {
      "text/plain": [
       "(array([ 14,  14,  68,  94,  94, 130, 133, 133, 155, 155, 171, 171, 183,\n",
       "        185, 216, 242, 262, 313, 333, 369, 409, 443, 468, 495, 497, 546,\n",
       "        555, 561, 568, 575, 585, 600], dtype=int64),\n",
       " array([7, 8, 8, 7, 8, 7, 7, 8, 5, 7, 5, 7, 5, 5, 5, 8, 8, 8, 5, 7, 5, 5,\n",
       "        5, 8, 8, 8, 7, 7, 7, 8, 8, 5], dtype=int64))"
      ]
     },
     "execution_count": 144,
     "metadata": {},
     "output_type": "execute_result"
    }
   ],
   "source": [
    "z = np.abs(zscore(df))\n",
    "threshold =3\n",
    "np.where(z>3)"
   ]
  },
  {
   "cell_type": "code",
   "execution_count": 145,
   "id": "c547b1e0",
   "metadata": {},
   "outputs": [
    {
     "data": {
      "text/html": [
       "<div>\n",
       "<style scoped>\n",
       "    .dataframe tbody tr th:only-of-type {\n",
       "        vertical-align: middle;\n",
       "    }\n",
       "\n",
       "    .dataframe tbody tr th {\n",
       "        vertical-align: top;\n",
       "    }\n",
       "\n",
       "    .dataframe thead th {\n",
       "        text-align: right;\n",
       "    }\n",
       "</style>\n",
       "<table border=\"1\" class=\"dataframe\">\n",
       "  <thead>\n",
       "    <tr style=\"text-align: right;\">\n",
       "      <th></th>\n",
       "      <th>Gender</th>\n",
       "      <th>Married</th>\n",
       "      <th>Dependents</th>\n",
       "      <th>Education</th>\n",
       "      <th>Self_Employed</th>\n",
       "      <th>ApplicantIncome</th>\n",
       "      <th>CoapplicantIncome</th>\n",
       "      <th>LoanAmount</th>\n",
       "      <th>Loan_Amount_Term</th>\n",
       "      <th>Credit_History</th>\n",
       "      <th>Property_Area</th>\n",
       "      <th>Loan_Status</th>\n",
       "    </tr>\n",
       "  </thead>\n",
       "  <tbody>\n",
       "    <tr>\n",
       "      <th>0</th>\n",
       "      <td>1</td>\n",
       "      <td>0</td>\n",
       "      <td>0.000000</td>\n",
       "      <td>0.000000</td>\n",
       "      <td>0.000000</td>\n",
       "      <td>8.674197</td>\n",
       "      <td>0.000000</td>\n",
       "      <td>4.993232</td>\n",
       "      <td>360.0</td>\n",
       "      <td>1.0</td>\n",
       "      <td>2</td>\n",
       "      <td>1</td>\n",
       "    </tr>\n",
       "    <tr>\n",
       "      <th>1</th>\n",
       "      <td>1</td>\n",
       "      <td>1</td>\n",
       "      <td>0.526589</td>\n",
       "      <td>0.000000</td>\n",
       "      <td>0.000000</td>\n",
       "      <td>8.430327</td>\n",
       "      <td>7.319202</td>\n",
       "      <td>4.859812</td>\n",
       "      <td>360.0</td>\n",
       "      <td>1.0</td>\n",
       "      <td>0</td>\n",
       "      <td>0</td>\n",
       "    </tr>\n",
       "    <tr>\n",
       "      <th>2</th>\n",
       "      <td>1</td>\n",
       "      <td>1</td>\n",
       "      <td>0.000000</td>\n",
       "      <td>0.000000</td>\n",
       "      <td>0.423036</td>\n",
       "      <td>8.006701</td>\n",
       "      <td>0.000000</td>\n",
       "      <td>4.204693</td>\n",
       "      <td>360.0</td>\n",
       "      <td>1.0</td>\n",
       "      <td>2</td>\n",
       "      <td>1</td>\n",
       "    </tr>\n",
       "    <tr>\n",
       "      <th>3</th>\n",
       "      <td>1</td>\n",
       "      <td>1</td>\n",
       "      <td>0.000000</td>\n",
       "      <td>0.423036</td>\n",
       "      <td>0.000000</td>\n",
       "      <td>7.857094</td>\n",
       "      <td>7.765993</td>\n",
       "      <td>4.795791</td>\n",
       "      <td>360.0</td>\n",
       "      <td>1.0</td>\n",
       "      <td>2</td>\n",
       "      <td>1</td>\n",
       "    </tr>\n",
       "    <tr>\n",
       "      <th>4</th>\n",
       "      <td>1</td>\n",
       "      <td>0</td>\n",
       "      <td>0.000000</td>\n",
       "      <td>0.000000</td>\n",
       "      <td>0.000000</td>\n",
       "      <td>8.699681</td>\n",
       "      <td>0.000000</td>\n",
       "      <td>4.955827</td>\n",
       "      <td>360.0</td>\n",
       "      <td>1.0</td>\n",
       "      <td>2</td>\n",
       "      <td>1</td>\n",
       "    </tr>\n",
       "    <tr>\n",
       "      <th>...</th>\n",
       "      <td>...</td>\n",
       "      <td>...</td>\n",
       "      <td>...</td>\n",
       "      <td>...</td>\n",
       "      <td>...</td>\n",
       "      <td>...</td>\n",
       "      <td>...</td>\n",
       "      <td>...</td>\n",
       "      <td>...</td>\n",
       "      <td>...</td>\n",
       "      <td>...</td>\n",
       "      <td>...</td>\n",
       "    </tr>\n",
       "    <tr>\n",
       "      <th>609</th>\n",
       "      <td>0</td>\n",
       "      <td>0</td>\n",
       "      <td>0.000000</td>\n",
       "      <td>0.000000</td>\n",
       "      <td>0.000000</td>\n",
       "      <td>7.972811</td>\n",
       "      <td>0.000000</td>\n",
       "      <td>4.276666</td>\n",
       "      <td>360.0</td>\n",
       "      <td>1.0</td>\n",
       "      <td>0</td>\n",
       "      <td>1</td>\n",
       "    </tr>\n",
       "    <tr>\n",
       "      <th>610</th>\n",
       "      <td>1</td>\n",
       "      <td>1</td>\n",
       "      <td>0.869742</td>\n",
       "      <td>0.000000</td>\n",
       "      <td>0.000000</td>\n",
       "      <td>8.320448</td>\n",
       "      <td>0.000000</td>\n",
       "      <td>3.713572</td>\n",
       "      <td>180.0</td>\n",
       "      <td>1.0</td>\n",
       "      <td>0</td>\n",
       "      <td>1</td>\n",
       "    </tr>\n",
       "    <tr>\n",
       "      <th>611</th>\n",
       "      <td>1</td>\n",
       "      <td>1</td>\n",
       "      <td>0.526589</td>\n",
       "      <td>0.000000</td>\n",
       "      <td>0.000000</td>\n",
       "      <td>8.996280</td>\n",
       "      <td>5.484797</td>\n",
       "      <td>5.537334</td>\n",
       "      <td>360.0</td>\n",
       "      <td>1.0</td>\n",
       "      <td>2</td>\n",
       "      <td>1</td>\n",
       "    </tr>\n",
       "    <tr>\n",
       "      <th>612</th>\n",
       "      <td>1</td>\n",
       "      <td>1</td>\n",
       "      <td>0.741276</td>\n",
       "      <td>0.000000</td>\n",
       "      <td>0.000000</td>\n",
       "      <td>8.933796</td>\n",
       "      <td>0.000000</td>\n",
       "      <td>5.236442</td>\n",
       "      <td>360.0</td>\n",
       "      <td>1.0</td>\n",
       "      <td>2</td>\n",
       "      <td>1</td>\n",
       "    </tr>\n",
       "    <tr>\n",
       "      <th>613</th>\n",
       "      <td>0</td>\n",
       "      <td>0</td>\n",
       "      <td>0.000000</td>\n",
       "      <td>0.000000</td>\n",
       "      <td>0.423036</td>\n",
       "      <td>8.430327</td>\n",
       "      <td>0.000000</td>\n",
       "      <td>4.897840</td>\n",
       "      <td>360.0</td>\n",
       "      <td>0.0</td>\n",
       "      <td>1</td>\n",
       "      <td>0</td>\n",
       "    </tr>\n",
       "  </tbody>\n",
       "</table>\n",
       "<p>587 rows × 12 columns</p>\n",
       "</div>"
      ],
      "text/plain": [
       "     Gender  Married  Dependents  Education  Self_Employed  ApplicantIncome  \\\n",
       "0         1        0    0.000000   0.000000       0.000000         8.674197   \n",
       "1         1        1    0.526589   0.000000       0.000000         8.430327   \n",
       "2         1        1    0.000000   0.000000       0.423036         8.006701   \n",
       "3         1        1    0.000000   0.423036       0.000000         7.857094   \n",
       "4         1        0    0.000000   0.000000       0.000000         8.699681   \n",
       "..      ...      ...         ...        ...            ...              ...   \n",
       "609       0        0    0.000000   0.000000       0.000000         7.972811   \n",
       "610       1        1    0.869742   0.000000       0.000000         8.320448   \n",
       "611       1        1    0.526589   0.000000       0.000000         8.996280   \n",
       "612       1        1    0.741276   0.000000       0.000000         8.933796   \n",
       "613       0        0    0.000000   0.000000       0.423036         8.430327   \n",
       "\n",
       "     CoapplicantIncome  LoanAmount  Loan_Amount_Term  Credit_History  \\\n",
       "0             0.000000    4.993232             360.0             1.0   \n",
       "1             7.319202    4.859812             360.0             1.0   \n",
       "2             0.000000    4.204693             360.0             1.0   \n",
       "3             7.765993    4.795791             360.0             1.0   \n",
       "4             0.000000    4.955827             360.0             1.0   \n",
       "..                 ...         ...               ...             ...   \n",
       "609           0.000000    4.276666             360.0             1.0   \n",
       "610           0.000000    3.713572             180.0             1.0   \n",
       "611           5.484797    5.537334             360.0             1.0   \n",
       "612           0.000000    5.236442             360.0             1.0   \n",
       "613           0.000000    4.897840             360.0             0.0   \n",
       "\n",
       "     Property_Area  Loan_Status  \n",
       "0                2            1  \n",
       "1                0            0  \n",
       "2                2            1  \n",
       "3                2            1  \n",
       "4                2            1  \n",
       "..             ...          ...  \n",
       "609              0            1  \n",
       "610              0            1  \n",
       "611              2            1  \n",
       "612              2            1  \n",
       "613              1            0  \n",
       "\n",
       "[587 rows x 12 columns]"
      ]
     },
     "execution_count": 145,
     "metadata": {},
     "output_type": "execute_result"
    }
   ],
   "source": [
    "df = df[(z<3).all(axis=1)]\n",
    "df"
   ]
  },
  {
   "cell_type": "markdown",
   "id": "b8c61d0e",
   "metadata": {},
   "source": [
    "Percentage Data loss"
   ]
  },
  {
   "cell_type": "code",
   "execution_count": 146,
   "id": "ba727dad",
   "metadata": {},
   "outputs": [
    {
     "data": {
      "text/plain": [
       "4.397394136807818"
      ]
     },
     "execution_count": 146,
     "metadata": {},
     "output_type": "execute_result"
    }
   ],
   "source": [
    "Data_loss = ((614-587)/614)*100\n",
    "Data_loss"
   ]
  },
  {
   "cell_type": "code",
   "execution_count": 154,
   "id": "d99cdc3a",
   "metadata": {},
   "outputs": [
    {
     "name": "stdout",
     "output_type": "stream",
     "text": [
      "Accuracy score for random state:  0  is  0.7586206896551724\n",
      "Accuracy score for random state:  0  is  0.7142857142857143\n",
      "Accuracy score for random state:  0  is  0.812807881773399\n",
      "Accuracy score for random state:  0  is  0.6551724137931034\n",
      "Accuracy score for random state:  0  is  0.8226600985221675\n",
      "Accuracy score for random state:  1  is  0.6896551724137931\n",
      "Accuracy score for random state:  1  is  0.6502463054187192\n",
      "Accuracy score for random state:  1  is  0.7635467980295566\n",
      "Accuracy score for random state:  1  is  0.6206896551724138\n",
      "Accuracy score for random state:  1  is  0.7733990147783252\n",
      "Accuracy score for random state:  2  is  0.6847290640394089\n",
      "Accuracy score for random state:  2  is  0.6798029556650246\n",
      "Accuracy score for random state:  2  is  0.7783251231527094\n",
      "Accuracy score for random state:  2  is  0.6157635467980296\n",
      "Accuracy score for random state:  2  is  0.7832512315270936\n",
      "Accuracy score for random state:  3  is  0.6896551724137931\n",
      "Accuracy score for random state:  3  is  0.7389162561576355\n",
      "Accuracy score for random state:  3  is  0.812807881773399\n",
      "Accuracy score for random state:  3  is  0.6551724137931034\n",
      "Accuracy score for random state:  3  is  0.8423645320197044\n",
      "Accuracy score for random state:  4  is  0.7339901477832512\n",
      "Accuracy score for random state:  4  is  0.6748768472906403\n",
      "Accuracy score for random state:  4  is  0.7881773399014779\n",
      "Accuracy score for random state:  4  is  0.6551724137931034\n",
      "Accuracy score for random state:  4  is  0.7980295566502463\n",
      "Accuracy score for random state:  5  is  0.6798029556650246\n",
      "Accuracy score for random state:  5  is  0.729064039408867\n",
      "Accuracy score for random state:  5  is  0.7832512315270936\n",
      "Accuracy score for random state:  5  is  0.6748768472906403\n",
      "Accuracy score for random state:  5  is  0.8325123152709359\n",
      "Accuracy score for random state:  6  is  0.7635467980295566\n",
      "Accuracy score for random state:  6  is  0.6995073891625616\n",
      "Accuracy score for random state:  6  is  0.8226600985221675\n",
      "Accuracy score for random state:  6  is  0.625615763546798\n",
      "Accuracy score for random state:  6  is  0.8325123152709359\n",
      "Accuracy score for random state:  7  is  0.6945812807881774\n",
      "Accuracy score for random state:  7  is  0.6650246305418719\n",
      "Accuracy score for random state:  7  is  0.7881773399014779\n",
      "Accuracy score for random state:  7  is  0.6551724137931034\n",
      "Accuracy score for random state:  7  is  0.8029556650246306\n",
      "Accuracy score for random state:  8  is  0.7438423645320197\n",
      "Accuracy score for random state:  8  is  0.7142857142857143\n",
      "Accuracy score for random state:  8  is  0.8325123152709359\n",
      "Accuracy score for random state:  8  is  0.6403940886699507\n",
      "Accuracy score for random state:  8  is  0.8522167487684729\n",
      "Accuracy score for random state:  9  is  0.7142857142857143\n",
      "Accuracy score for random state:  9  is  0.645320197044335\n",
      "Accuracy score for random state:  9  is  0.7783251231527094\n",
      "Accuracy score for random state:  9  is  0.6009852216748769\n",
      "Accuracy score for random state:  9  is  0.7931034482758621\n",
      "Accuracy score for random state:  10  is  0.7093596059113301\n",
      "Accuracy score for random state:  10  is  0.7192118226600985\n",
      "Accuracy score for random state:  10  is  0.7733990147783252\n",
      "Accuracy score for random state:  10  is  0.6502463054187192\n",
      "Accuracy score for random state:  10  is  0.7684729064039408\n",
      "Accuracy score for random state:  11  is  0.7783251231527094\n",
      "Accuracy score for random state:  11  is  0.6650246305418719\n",
      "Accuracy score for random state:  11  is  0.7832512315270936\n",
      "Accuracy score for random state:  11  is  0.6157635467980296\n",
      "Accuracy score for random state:  11  is  0.8078817733990148\n",
      "Accuracy score for random state:  12  is  0.7142857142857143\n",
      "Accuracy score for random state:  12  is  0.6748768472906403\n",
      "Accuracy score for random state:  12  is  0.7684729064039408\n",
      "Accuracy score for random state:  12  is  0.6403940886699507\n",
      "Accuracy score for random state:  12  is  0.7881773399014779\n",
      "Accuracy score for random state:  13  is  0.7044334975369458\n",
      "Accuracy score for random state:  13  is  0.7389162561576355\n",
      "Accuracy score for random state:  13  is  0.8226600985221675\n",
      "Accuracy score for random state:  13  is  0.625615763546798\n",
      "Accuracy score for random state:  13  is  0.8522167487684729\n",
      "Accuracy score for random state:  14  is  0.7339901477832512\n",
      "Accuracy score for random state:  14  is  0.6798029556650246\n",
      "Accuracy score for random state:  14  is  0.8078817733990148\n",
      "Accuracy score for random state:  14  is  0.6354679802955665\n",
      "Accuracy score for random state:  14  is  0.8325123152709359\n",
      "Accuracy score for random state:  15  is  0.6847290640394089\n",
      "Accuracy score for random state:  15  is  0.6600985221674877\n",
      "Accuracy score for random state:  15  is  0.7931034482758621\n",
      "Accuracy score for random state:  15  is  0.6305418719211823\n",
      "Accuracy score for random state:  15  is  0.812807881773399\n",
      "Accuracy score for random state:  16  is  0.7241379310344828\n",
      "Accuracy score for random state:  16  is  0.6650246305418719\n",
      "Accuracy score for random state:  16  is  0.8029556650246306\n",
      "Accuracy score for random state:  16  is  0.6354679802955665\n",
      "Accuracy score for random state:  16  is  0.7931034482758621\n",
      "Accuracy score for random state:  17  is  0.7093596059113301\n",
      "Accuracy score for random state:  17  is  0.6650246305418719\n",
      "Accuracy score for random state:  17  is  0.7980295566502463\n",
      "Accuracy score for random state:  17  is  0.6108374384236454\n",
      "Accuracy score for random state:  17  is  0.8029556650246306\n",
      "Accuracy score for random state:  18  is  0.6995073891625616\n",
      "Accuracy score for random state:  18  is  0.7142857142857143\n",
      "Accuracy score for random state:  18  is  0.7931034482758621\n",
      "Accuracy score for random state:  18  is  0.6650246305418719\n",
      "Accuracy score for random state:  18  is  0.8177339901477833\n",
      "Accuracy score for random state:  19  is  0.7044334975369458\n",
      "Accuracy score for random state:  19  is  0.6699507389162561\n",
      "Accuracy score for random state:  19  is  0.8177339901477833\n",
      "Accuracy score for random state:  19  is  0.6354679802955665\n",
      "Accuracy score for random state:  19  is  0.8275862068965517\n",
      "Accuracy score for random state:  20  is  0.7093596059113301\n",
      "Accuracy score for random state:  20  is  0.6305418719211823\n",
      "Accuracy score for random state:  20  is  0.7438423645320197\n",
      "Accuracy score for random state:  20  is  0.6009852216748769\n",
      "Accuracy score for random state:  20  is  0.7586206896551724\n",
      "Accuracy score for random state:  21  is  0.7142857142857143\n",
      "Accuracy score for random state:  21  is  0.7093596059113301\n",
      "Accuracy score for random state:  21  is  0.7881773399014779\n",
      "Accuracy score for random state:  21  is  0.6600985221674877\n",
      "Accuracy score for random state:  21  is  0.8078817733990148\n",
      "Accuracy score for random state:  22  is  0.6995073891625616\n",
      "Accuracy score for random state:  22  is  0.7142857142857143\n",
      "Accuracy score for random state:  22  is  0.7832512315270936\n",
      "Accuracy score for random state:  22  is  0.6798029556650246\n",
      "Accuracy score for random state:  22  is  0.812807881773399\n",
      "Accuracy score for random state:  23  is  0.6995073891625616\n",
      "Accuracy score for random state:  23  is  0.625615763546798\n",
      "Accuracy score for random state:  23  is  0.7487684729064039\n",
      "Accuracy score for random state:  23  is  0.5862068965517241\n",
      "Accuracy score for random state:  23  is  0.7733990147783252\n",
      "Accuracy score for random state:  24  is  0.7192118226600985\n",
      "Accuracy score for random state:  24  is  0.6847290640394089\n",
      "Accuracy score for random state:  24  is  0.8029556650246306\n",
      "Accuracy score for random state:  24  is  0.6502463054187192\n",
      "Accuracy score for random state:  24  is  0.8177339901477833\n",
      "Accuracy score for random state:  25  is  0.6945812807881774\n",
      "Accuracy score for random state:  25  is  0.6847290640394089\n",
      "Accuracy score for random state:  25  is  0.8029556650246306\n",
      "Accuracy score for random state:  25  is  0.6206896551724138\n",
      "Accuracy score for random state:  25  is  0.812807881773399\n",
      "Accuracy score for random state:  26  is  0.6798029556650246\n",
      "Accuracy score for random state:  26  is  0.7339901477832512\n",
      "Accuracy score for random state:  26  is  0.8078817733990148\n",
      "Accuracy score for random state:  26  is  0.6896551724137931\n",
      "Accuracy score for random state:  26  is  0.8325123152709359\n",
      "Accuracy score for random state:  27  is  0.7438423645320197\n",
      "Accuracy score for random state:  27  is  0.6847290640394089\n",
      "Accuracy score for random state:  27  is  0.7783251231527094\n",
      "Accuracy score for random state:  27  is  0.6502463054187192\n",
      "Accuracy score for random state:  27  is  0.7832512315270936\n",
      "Accuracy score for random state:  28  is  0.6699507389162561\n",
      "Accuracy score for random state:  28  is  0.6699507389162561\n",
      "Accuracy score for random state:  28  is  0.8029556650246306\n",
      "Accuracy score for random state:  28  is  0.6009852216748769\n",
      "Accuracy score for random state:  28  is  0.8275862068965517\n",
      "Accuracy score for random state:  29  is  0.7192118226600985\n",
      "Accuracy score for random state:  29  is  0.7142857142857143\n",
      "Accuracy score for random state:  29  is  0.8029556650246306\n",
      "Accuracy score for random state:  29  is  0.6305418719211823\n",
      "Accuracy score for random state:  29  is  0.8177339901477833\n",
      "Accuracy score for random state:  30  is  0.6945812807881774\n",
      "Accuracy score for random state:  30  is  0.7142857142857143\n",
      "Accuracy score for random state:  30  is  0.7536945812807881\n",
      "Accuracy score for random state:  30  is  0.6305418719211823\n",
      "Accuracy score for random state:  30  is  0.7980295566502463\n",
      "Accuracy score for random state:  31  is  0.6995073891625616\n",
      "Accuracy score for random state:  31  is  0.7192118226600985\n",
      "Accuracy score for random state:  31  is  0.812807881773399\n",
      "Accuracy score for random state:  31  is  0.6157635467980296\n",
      "Accuracy score for random state:  31  is  0.8423645320197044\n",
      "Accuracy score for random state:  32  is  0.7487684729064039\n",
      "Accuracy score for random state:  32  is  0.7044334975369458\n",
      "Accuracy score for random state:  32  is  0.812807881773399\n",
      "Accuracy score for random state:  32  is  0.6798029556650246\n",
      "Accuracy score for random state:  32  is  0.8226600985221675\n",
      "Accuracy score for random state:  33  is  0.6798029556650246\n",
      "Accuracy score for random state:  33  is  0.7044334975369458\n",
      "Accuracy score for random state:  33  is  0.7783251231527094\n",
      "Accuracy score for random state:  33  is  0.625615763546798\n",
      "Accuracy score for random state:  33  is  0.8078817733990148\n",
      "Accuracy score for random state:  34  is  0.7093596059113301\n",
      "Accuracy score for random state:  34  is  0.7093596059113301\n",
      "Accuracy score for random state:  34  is  0.7980295566502463\n",
      "Accuracy score for random state:  34  is  0.6403940886699507\n",
      "Accuracy score for random state:  34  is  0.8275862068965517\n",
      "Accuracy score for random state:  35  is  0.6699507389162561\n",
      "Accuracy score for random state:  35  is  0.7142857142857143\n",
      "Accuracy score for random state:  35  is  0.7980295566502463\n",
      "Accuracy score for random state:  35  is  0.6650246305418719\n",
      "Accuracy score for random state:  35  is  0.8275862068965517\n",
      "Accuracy score for random state:  36  is  0.729064039408867\n",
      "Accuracy score for random state:  36  is  0.6847290640394089\n",
      "Accuracy score for random state:  36  is  0.7733990147783252\n",
      "Accuracy score for random state:  36  is  0.6354679802955665\n",
      "Accuracy score for random state:  36  is  0.8078817733990148\n",
      "Accuracy score for random state:  37  is  0.6995073891625616\n",
      "Accuracy score for random state:  37  is  0.6403940886699507\n",
      "Accuracy score for random state:  37  is  0.7389162561576355\n",
      "Accuracy score for random state:  37  is  0.5862068965517241\n",
      "Accuracy score for random state:  37  is  0.7438423645320197\n",
      "Accuracy score for random state:  38  is  0.6650246305418719\n",
      "Accuracy score for random state:  38  is  0.6798029556650246\n",
      "Accuracy score for random state:  38  is  0.7536945812807881\n",
      "Accuracy score for random state:  38  is  0.6650246305418719\n",
      "Accuracy score for random state:  38  is  0.7635467980295566\n",
      "Accuracy score for random state:  39  is  0.7783251231527094\n",
      "Accuracy score for random state:  39  is  0.7142857142857143\n",
      "Accuracy score for random state:  39  is  0.8374384236453202\n",
      "Accuracy score for random state:  39  is  0.625615763546798\n",
      "Accuracy score for random state:  39  is  0.8522167487684729\n",
      "Accuracy score for random state:  40  is  0.6945812807881774\n",
      "Accuracy score for random state:  40  is  0.7093596059113301\n",
      "Accuracy score for random state:  40  is  0.7783251231527094\n",
      "Accuracy score for random state:  40  is  0.6502463054187192\n",
      "Accuracy score for random state:  40  is  0.7980295566502463\n",
      "Accuracy score for random state:  41  is  0.6798029556650246\n",
      "Accuracy score for random state:  41  is  0.645320197044335\n",
      "Accuracy score for random state:  41  is  0.7881773399014779\n",
      "Accuracy score for random state:  41  is  0.5960591133004927\n",
      "Accuracy score for random state:  41  is  0.8029556650246306\n",
      "Accuracy score for random state:  42  is  0.6650246305418719\n",
      "Accuracy score for random state:  42  is  0.645320197044335\n",
      "Accuracy score for random state:  42  is  0.7783251231527094\n",
      "Accuracy score for random state:  42  is  0.5714285714285714\n",
      "Accuracy score for random state:  42  is  0.7980295566502463\n",
      "Accuracy score for random state:  43  is  0.6995073891625616\n",
      "Accuracy score for random state:  43  is  0.6798029556650246\n",
      "Accuracy score for random state:  43  is  0.8029556650246306\n",
      "Accuracy score for random state:  43  is  0.6699507389162561\n",
      "Accuracy score for random state:  43  is  0.8177339901477833\n",
      "Accuracy score for random state:  44  is  0.7142857142857143\n",
      "Accuracy score for random state:  44  is  0.7142857142857143\n",
      "Accuracy score for random state:  44  is  0.7881773399014779\n",
      "Accuracy score for random state:  44  is  0.6502463054187192\n",
      "Accuracy score for random state:  44  is  0.812807881773399\n",
      "Accuracy score for random state:  45  is  0.7044334975369458\n",
      "Accuracy score for random state:  45  is  0.6798029556650246\n",
      "Accuracy score for random state:  45  is  0.7586206896551724\n",
      "Accuracy score for random state:  45  is  0.625615763546798\n",
      "Accuracy score for random state:  45  is  0.7733990147783252\n",
      "Accuracy score for random state:  46  is  0.7241379310344828\n",
      "Accuracy score for random state:  46  is  0.6798029556650246\n",
      "Accuracy score for random state:  46  is  0.7586206896551724\n",
      "Accuracy score for random state:  46  is  0.6206896551724138\n",
      "Accuracy score for random state:  46  is  0.7536945812807881\n",
      "Accuracy score for random state:  47  is  0.6502463054187192\n",
      "Accuracy score for random state:  47  is  0.6699507389162561\n",
      "Accuracy score for random state:  47  is  0.7635467980295566\n",
      "Accuracy score for random state:  47  is  0.6206896551724138\n",
      "Accuracy score for random state:  47  is  0.7783251231527094\n",
      "Accuracy score for random state:  48  is  0.6995073891625616\n",
      "Accuracy score for random state:  48  is  0.6748768472906403\n",
      "Accuracy score for random state:  48  is  0.7339901477832512\n",
      "Accuracy score for random state:  48  is  0.6305418719211823\n",
      "Accuracy score for random state:  48  is  0.7487684729064039\n",
      "Accuracy score for random state:  49  is  0.7192118226600985\n",
      "Accuracy score for random state:  49  is  0.6798029556650246\n",
      "Accuracy score for random state:  49  is  0.7783251231527094\n",
      "Accuracy score for random state:  49  is  0.6403940886699507\n",
      "Accuracy score for random state:  49  is  0.7536945812807881\n",
      "\n",
      "\n",
      "\n",
      "\n",
      "\n"
     ]
    }
   ],
   "source": [
    "model = [DecisionTreeClassifier(),SVC(),RandomForestClassifier(),KNeighborsClassifier(),LogisticRegression()]\n",
    "\n",
    "for i in range(0,50):\n",
    "    x_train,x_test,y_train,y_test = train_test_split(x,y,test_size=0.33,random_state=i)\n",
    "    for models in model:\n",
    "        models.fit(x_train,y_train)\n",
    "        prediction = models.predict(x_test)\n",
    "        accu_Score = accuracy_score(y_test,prediction)\n",
    "        print(\"Accuracy score for random state: \", i, \" is \",accu_Score)\n",
    "print()\n",
    "print()\n",
    "print()\n",
    "print()\n",
    "print()"
   ]
  },
  {
   "cell_type": "markdown",
   "id": "56cf8a22",
   "metadata": {},
   "source": [
    "We can observe the highest accuracy Score:0.8522167487684729 is at random state 13 and for model: LogisticRegression."
   ]
  },
  {
   "cell_type": "markdown",
   "id": "c9a558d4",
   "metadata": {},
   "source": [
    "Best Parameter"
   ]
  },
  {
   "cell_type": "code",
   "execution_count": 170,
   "id": "a4e14ea5",
   "metadata": {},
   "outputs": [
    {
     "data": {
      "text/plain": [
       "{'C': 1.0,\n",
       " 'class_weight': None,\n",
       " 'dual': False,\n",
       " 'fit_intercept': True,\n",
       " 'intercept_scaling': 1,\n",
       " 'l1_ratio': None,\n",
       " 'max_iter': 100,\n",
       " 'multi_class': 'auto',\n",
       " 'n_jobs': None,\n",
       " 'penalty': 'l2',\n",
       " 'random_state': None,\n",
       " 'solver': 'lbfgs',\n",
       " 'tol': 0.0001,\n",
       " 'verbose': 0,\n",
       " 'warm_start': False}"
      ]
     },
     "execution_count": 170,
     "metadata": {},
     "output_type": "execute_result"
    }
   ],
   "source": [
    "Lr.get_params()"
   ]
  },
  {
   "cell_type": "code",
   "execution_count": 173,
   "id": "a4d19af8",
   "metadata": {},
   "outputs": [
    {
     "data": {
      "text/plain": [
       "{'n_jobs': 1}"
      ]
     },
     "execution_count": 173,
     "metadata": {},
     "output_type": "execute_result"
    }
   ],
   "source": [
    "x1_train,x1_test,y1_train,y1_test = train_test_split(x,y,test_size=0.33,random_state=13)\n",
    "Lr = LogisticRegression()\n",
    "parameters={'n_jobs': range(30)}\n",
    "gridsearch =GridSearchCV(Lr,parameters)\n",
    "gridsearch.fit(x_train,y_train)\n",
    "gridsearch.best_params_"
   ]
  },
  {
   "cell_type": "code",
   "execution_count": 174,
   "id": "8988d6b2",
   "metadata": {},
   "outputs": [
    {
     "name": "stdout",
     "output_type": "stream",
     "text": [
      "Accuracy Score is:  0.7536945812807881\n"
     ]
    }
   ],
   "source": [
    "Lr1 = LogisticRegression(solver='lbfgs')\n",
    "Lr1.fit(x_train,y_train)\n",
    "predictions = Lr1.predict(x_test)\n",
    "AccScore = accuracy_score(y_test,predictions)\n",
    "print(\"Accuracy Score is: \",AccScore)"
   ]
  },
  {
   "cell_type": "markdown",
   "id": "7bfab687",
   "metadata": {},
   "source": [
    "Accuracy score is 75% with LogisticRegression"
   ]
  },
  {
   "cell_type": "code",
   "execution_count": 176,
   "id": "4b39ca18",
   "metadata": {},
   "outputs": [],
   "source": [
    "score = cross_val_score(Lr1,x,y,cv=5)"
   ]
  },
  {
   "cell_type": "code",
   "execution_count": 177,
   "id": "9359e06b",
   "metadata": {},
   "outputs": [
    {
     "name": "stdout",
     "output_type": "stream",
     "text": [
      "Croos Val Score:  [0.81300813 0.77235772 0.7804878  0.84552846 0.81147541]\n",
      "Mean Score:  0.8045715047314408\n",
      "std Score:  0.02613068941485059\n"
     ]
    }
   ],
   "source": [
    "print(\"Croos Val Score: \",score)\n",
    "print(\"Mean Score: \",score.mean())\n",
    "print(\"std Score: \",score.std())"
   ]
  },
  {
   "cell_type": "code",
   "execution_count": null,
   "id": "2ea9c288",
   "metadata": {},
   "outputs": [],
   "source": []
  }
 ],
 "metadata": {
  "kernelspec": {
   "display_name": "Python 3 (ipykernel)",
   "language": "python",
   "name": "python3"
  },
  "language_info": {
   "codemirror_mode": {
    "name": "ipython",
    "version": 3
   },
   "file_extension": ".py",
   "mimetype": "text/x-python",
   "name": "python",
   "nbconvert_exporter": "python",
   "pygments_lexer": "ipython3",
   "version": "3.9.7"
  }
 },
 "nbformat": 4,
 "nbformat_minor": 5
}

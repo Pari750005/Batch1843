{
 "cells": [
  {
   "cell_type": "code",
   "execution_count": 3,
   "id": "5bb6a8d8",
   "metadata": {},
   "outputs": [],
   "source": [
    "import pandas as pd\n",
    "import numpy as np\n",
    "import seaborn as sns\n",
    "import matplotlib.pyplot as plt\n",
    "from sklearn.preprocessing import LabelEncoder\n",
    "le = LabelEncoder()\n",
    "from scipy.stats import zscore\n",
    "from sklearn.preprocessing import StandardScaler\n",
    "from statsmodels.stats.outliers_influence import variance_inflation_factor\n",
    "from sklearn.neighbors import KNeighborsRegressor\n",
    "from sklearn.svm import SVR\n",
    "from sklearn.tree import DecisionTreeRegressor\n",
    "from sklearn.linear_model import LinearRegression\n",
    "from sklearn.metrics import r2_score\n",
    "from sklearn.model_selection import train_test_split\n",
    "from sklearn.model_selection import GridSearchCV\n",
    "from sklearn.model_selection import cross_val_score\n",
    "from sklearn.tree import DecisionTreeClassifier\n",
    "from sklearn.svm import SVC\n",
    "from sklearn.ensemble import RandomForestClassifier\n",
    "from sklearn.neighbors import KNeighborsClassifier\n",
    "from sklearn.linear_model import LogisticRegression\n",
    "LogisticRegression\n",
    "import warnings\n",
    "warnings.filterwarnings('ignore')\n",
    "from sklearn.metrics import accuracy_score,confusion_matrix, classification_report"
   ]
  },
  {
   "cell_type": "code",
   "execution_count": 4,
   "id": "22f07cfd",
   "metadata": {},
   "outputs": [
    {
     "data": {
      "text/html": [
       "<div>\n",
       "<style scoped>\n",
       "    .dataframe tbody tr th:only-of-type {\n",
       "        vertical-align: middle;\n",
       "    }\n",
       "\n",
       "    .dataframe tbody tr th {\n",
       "        vertical-align: top;\n",
       "    }\n",
       "\n",
       "    .dataframe thead th {\n",
       "        text-align: right;\n",
       "    }\n",
       "</style>\n",
       "<table border=\"1\" class=\"dataframe\">\n",
       "  <thead>\n",
       "    <tr style=\"text-align: right;\">\n",
       "      <th></th>\n",
       "      <th>Age</th>\n",
       "      <th>Workclass</th>\n",
       "      <th>Fnlwgt</th>\n",
       "      <th>Education</th>\n",
       "      <th>Education_num</th>\n",
       "      <th>Marital_status</th>\n",
       "      <th>Occupation</th>\n",
       "      <th>Relationship</th>\n",
       "      <th>Race</th>\n",
       "      <th>Sex</th>\n",
       "      <th>Capital_gain</th>\n",
       "      <th>Capital_loss</th>\n",
       "      <th>Hours_per_week</th>\n",
       "      <th>Native_country</th>\n",
       "      <th>Income</th>\n",
       "    </tr>\n",
       "  </thead>\n",
       "  <tbody>\n",
       "    <tr>\n",
       "      <th>0</th>\n",
       "      <td>50</td>\n",
       "      <td>Self-emp-not-inc</td>\n",
       "      <td>83311</td>\n",
       "      <td>Bachelors</td>\n",
       "      <td>13</td>\n",
       "      <td>Married-civ-spouse</td>\n",
       "      <td>Exec-managerial</td>\n",
       "      <td>Husband</td>\n",
       "      <td>White</td>\n",
       "      <td>Male</td>\n",
       "      <td>0</td>\n",
       "      <td>0</td>\n",
       "      <td>13</td>\n",
       "      <td>United-States</td>\n",
       "      <td>&lt;=50K</td>\n",
       "    </tr>\n",
       "    <tr>\n",
       "      <th>1</th>\n",
       "      <td>38</td>\n",
       "      <td>Private</td>\n",
       "      <td>215646</td>\n",
       "      <td>HS-grad</td>\n",
       "      <td>9</td>\n",
       "      <td>Divorced</td>\n",
       "      <td>Handlers-cleaners</td>\n",
       "      <td>Not-in-family</td>\n",
       "      <td>White</td>\n",
       "      <td>Male</td>\n",
       "      <td>0</td>\n",
       "      <td>0</td>\n",
       "      <td>40</td>\n",
       "      <td>United-States</td>\n",
       "      <td>&lt;=50K</td>\n",
       "    </tr>\n",
       "    <tr>\n",
       "      <th>2</th>\n",
       "      <td>53</td>\n",
       "      <td>Private</td>\n",
       "      <td>234721</td>\n",
       "      <td>11th</td>\n",
       "      <td>7</td>\n",
       "      <td>Married-civ-spouse</td>\n",
       "      <td>Handlers-cleaners</td>\n",
       "      <td>Husband</td>\n",
       "      <td>Black</td>\n",
       "      <td>Male</td>\n",
       "      <td>0</td>\n",
       "      <td>0</td>\n",
       "      <td>40</td>\n",
       "      <td>United-States</td>\n",
       "      <td>&lt;=50K</td>\n",
       "    </tr>\n",
       "    <tr>\n",
       "      <th>3</th>\n",
       "      <td>28</td>\n",
       "      <td>Private</td>\n",
       "      <td>338409</td>\n",
       "      <td>Bachelors</td>\n",
       "      <td>13</td>\n",
       "      <td>Married-civ-spouse</td>\n",
       "      <td>Prof-specialty</td>\n",
       "      <td>Wife</td>\n",
       "      <td>Black</td>\n",
       "      <td>Female</td>\n",
       "      <td>0</td>\n",
       "      <td>0</td>\n",
       "      <td>40</td>\n",
       "      <td>Cuba</td>\n",
       "      <td>&lt;=50K</td>\n",
       "    </tr>\n",
       "    <tr>\n",
       "      <th>4</th>\n",
       "      <td>37</td>\n",
       "      <td>Private</td>\n",
       "      <td>284582</td>\n",
       "      <td>Masters</td>\n",
       "      <td>14</td>\n",
       "      <td>Married-civ-spouse</td>\n",
       "      <td>Exec-managerial</td>\n",
       "      <td>Wife</td>\n",
       "      <td>White</td>\n",
       "      <td>Female</td>\n",
       "      <td>0</td>\n",
       "      <td>0</td>\n",
       "      <td>40</td>\n",
       "      <td>United-States</td>\n",
       "      <td>&lt;=50K</td>\n",
       "    </tr>\n",
       "    <tr>\n",
       "      <th>...</th>\n",
       "      <td>...</td>\n",
       "      <td>...</td>\n",
       "      <td>...</td>\n",
       "      <td>...</td>\n",
       "      <td>...</td>\n",
       "      <td>...</td>\n",
       "      <td>...</td>\n",
       "      <td>...</td>\n",
       "      <td>...</td>\n",
       "      <td>...</td>\n",
       "      <td>...</td>\n",
       "      <td>...</td>\n",
       "      <td>...</td>\n",
       "      <td>...</td>\n",
       "      <td>...</td>\n",
       "    </tr>\n",
       "    <tr>\n",
       "      <th>32555</th>\n",
       "      <td>27</td>\n",
       "      <td>Private</td>\n",
       "      <td>257302</td>\n",
       "      <td>Assoc-acdm</td>\n",
       "      <td>12</td>\n",
       "      <td>Married-civ-spouse</td>\n",
       "      <td>Tech-support</td>\n",
       "      <td>Wife</td>\n",
       "      <td>White</td>\n",
       "      <td>Female</td>\n",
       "      <td>0</td>\n",
       "      <td>0</td>\n",
       "      <td>38</td>\n",
       "      <td>United-States</td>\n",
       "      <td>&lt;=50K</td>\n",
       "    </tr>\n",
       "    <tr>\n",
       "      <th>32556</th>\n",
       "      <td>40</td>\n",
       "      <td>Private</td>\n",
       "      <td>154374</td>\n",
       "      <td>HS-grad</td>\n",
       "      <td>9</td>\n",
       "      <td>Married-civ-spouse</td>\n",
       "      <td>Machine-op-inspct</td>\n",
       "      <td>Husband</td>\n",
       "      <td>White</td>\n",
       "      <td>Male</td>\n",
       "      <td>0</td>\n",
       "      <td>0</td>\n",
       "      <td>40</td>\n",
       "      <td>United-States</td>\n",
       "      <td>&gt;50K</td>\n",
       "    </tr>\n",
       "    <tr>\n",
       "      <th>32557</th>\n",
       "      <td>58</td>\n",
       "      <td>Private</td>\n",
       "      <td>151910</td>\n",
       "      <td>HS-grad</td>\n",
       "      <td>9</td>\n",
       "      <td>Widowed</td>\n",
       "      <td>Adm-clerical</td>\n",
       "      <td>Unmarried</td>\n",
       "      <td>White</td>\n",
       "      <td>Female</td>\n",
       "      <td>0</td>\n",
       "      <td>0</td>\n",
       "      <td>40</td>\n",
       "      <td>United-States</td>\n",
       "      <td>&lt;=50K</td>\n",
       "    </tr>\n",
       "    <tr>\n",
       "      <th>32558</th>\n",
       "      <td>22</td>\n",
       "      <td>Private</td>\n",
       "      <td>201490</td>\n",
       "      <td>HS-grad</td>\n",
       "      <td>9</td>\n",
       "      <td>Never-married</td>\n",
       "      <td>Adm-clerical</td>\n",
       "      <td>Own-child</td>\n",
       "      <td>White</td>\n",
       "      <td>Male</td>\n",
       "      <td>0</td>\n",
       "      <td>0</td>\n",
       "      <td>20</td>\n",
       "      <td>United-States</td>\n",
       "      <td>&lt;=50K</td>\n",
       "    </tr>\n",
       "    <tr>\n",
       "      <th>32559</th>\n",
       "      <td>52</td>\n",
       "      <td>Self-emp-inc</td>\n",
       "      <td>287927</td>\n",
       "      <td>HS-grad</td>\n",
       "      <td>9</td>\n",
       "      <td>Married-civ-spouse</td>\n",
       "      <td>Exec-managerial</td>\n",
       "      <td>Wife</td>\n",
       "      <td>White</td>\n",
       "      <td>Female</td>\n",
       "      <td>15024</td>\n",
       "      <td>0</td>\n",
       "      <td>40</td>\n",
       "      <td>United-States</td>\n",
       "      <td>&gt;50K</td>\n",
       "    </tr>\n",
       "  </tbody>\n",
       "</table>\n",
       "<p>32560 rows × 15 columns</p>\n",
       "</div>"
      ],
      "text/plain": [
       "       Age          Workclass  Fnlwgt    Education  Education_num  \\\n",
       "0       50   Self-emp-not-inc   83311    Bachelors             13   \n",
       "1       38            Private  215646      HS-grad              9   \n",
       "2       53            Private  234721         11th              7   \n",
       "3       28            Private  338409    Bachelors             13   \n",
       "4       37            Private  284582      Masters             14   \n",
       "...    ...                ...     ...          ...            ...   \n",
       "32555   27            Private  257302   Assoc-acdm             12   \n",
       "32556   40            Private  154374      HS-grad              9   \n",
       "32557   58            Private  151910      HS-grad              9   \n",
       "32558   22            Private  201490      HS-grad              9   \n",
       "32559   52       Self-emp-inc  287927      HS-grad              9   \n",
       "\n",
       "            Marital_status          Occupation    Relationship    Race  \\\n",
       "0       Married-civ-spouse     Exec-managerial         Husband   White   \n",
       "1                 Divorced   Handlers-cleaners   Not-in-family   White   \n",
       "2       Married-civ-spouse   Handlers-cleaners         Husband   Black   \n",
       "3       Married-civ-spouse      Prof-specialty            Wife   Black   \n",
       "4       Married-civ-spouse     Exec-managerial            Wife   White   \n",
       "...                    ...                 ...             ...     ...   \n",
       "32555   Married-civ-spouse        Tech-support            Wife   White   \n",
       "32556   Married-civ-spouse   Machine-op-inspct         Husband   White   \n",
       "32557              Widowed        Adm-clerical       Unmarried   White   \n",
       "32558        Never-married        Adm-clerical       Own-child   White   \n",
       "32559   Married-civ-spouse     Exec-managerial            Wife   White   \n",
       "\n",
       "           Sex  Capital_gain  Capital_loss  Hours_per_week  Native_country  \\\n",
       "0         Male             0             0              13   United-States   \n",
       "1         Male             0             0              40   United-States   \n",
       "2         Male             0             0              40   United-States   \n",
       "3       Female             0             0              40            Cuba   \n",
       "4       Female             0             0              40   United-States   \n",
       "...        ...           ...           ...             ...             ...   \n",
       "32555   Female             0             0              38   United-States   \n",
       "32556     Male             0             0              40   United-States   \n",
       "32557   Female             0             0              40   United-States   \n",
       "32558     Male             0             0              20   United-States   \n",
       "32559   Female         15024             0              40   United-States   \n",
       "\n",
       "       Income  \n",
       "0       <=50K  \n",
       "1       <=50K  \n",
       "2       <=50K  \n",
       "3       <=50K  \n",
       "4       <=50K  \n",
       "...       ...  \n",
       "32555   <=50K  \n",
       "32556    >50K  \n",
       "32557   <=50K  \n",
       "32558   <=50K  \n",
       "32559    >50K  \n",
       "\n",
       "[32560 rows x 15 columns]"
      ]
     },
     "execution_count": 4,
     "metadata": {},
     "output_type": "execute_result"
    }
   ],
   "source": [
    "df = pd.read_csv(r'https://raw.githubusercontent.com/dsrscientist/dataset1/master/census_income.csv')\n",
    "df"
   ]
  },
  {
   "cell_type": "code",
   "execution_count": 5,
   "id": "067e1eb2",
   "metadata": {},
   "outputs": [
    {
     "data": {
      "text/plain": [
       "Index(['Age', 'Workclass', 'Fnlwgt', 'Education', 'Education_num',\n",
       "       'Marital_status', 'Occupation', 'Relationship', 'Race', 'Sex',\n",
       "       'Capital_gain', 'Capital_loss', 'Hours_per_week', 'Native_country',\n",
       "       'Income'],\n",
       "      dtype='object')"
      ]
     },
     "execution_count": 5,
     "metadata": {},
     "output_type": "execute_result"
    }
   ],
   "source": [
    "df.columns"
   ]
  },
  {
   "cell_type": "code",
   "execution_count": 6,
   "id": "70beaed3",
   "metadata": {},
   "outputs": [
    {
     "name": "stdout",
     "output_type": "stream",
     "text": [
      "<class 'pandas.core.frame.DataFrame'>\n",
      "RangeIndex: 32560 entries, 0 to 32559\n",
      "Data columns (total 15 columns):\n",
      " #   Column          Non-Null Count  Dtype \n",
      "---  ------          --------------  ----- \n",
      " 0   Age             32560 non-null  int64 \n",
      " 1   Workclass       32560 non-null  object\n",
      " 2   Fnlwgt          32560 non-null  int64 \n",
      " 3   Education       32560 non-null  object\n",
      " 4   Education_num   32560 non-null  int64 \n",
      " 5   Marital_status  32560 non-null  object\n",
      " 6   Occupation      32560 non-null  object\n",
      " 7   Relationship    32560 non-null  object\n",
      " 8   Race            32560 non-null  object\n",
      " 9   Sex             32560 non-null  object\n",
      " 10  Capital_gain    32560 non-null  int64 \n",
      " 11  Capital_loss    32560 non-null  int64 \n",
      " 12  Hours_per_week  32560 non-null  int64 \n",
      " 13  Native_country  32560 non-null  object\n",
      " 14  Income          32560 non-null  object\n",
      "dtypes: int64(6), object(9)\n",
      "memory usage: 3.7+ MB\n"
     ]
    }
   ],
   "source": [
    "df.info()"
   ]
  },
  {
   "cell_type": "code",
   "execution_count": 7,
   "id": "82fb6b57",
   "metadata": {},
   "outputs": [
    {
     "data": {
      "text/plain": [
       " ?                    1836\n",
       " Federal-gov           960\n",
       " Local-gov            2093\n",
       " Never-worked            7\n",
       " Private             22696\n",
       " Self-emp-inc         1116\n",
       " Self-emp-not-inc     2541\n",
       " State-gov            1297\n",
       " Without-pay            14\n",
       "dtype: int64"
      ]
     },
     "execution_count": 7,
     "metadata": {},
     "output_type": "execute_result"
    }
   ],
   "source": [
    "pd.get_dummies(df['Workclass']).sum()"
   ]
  },
  {
   "cell_type": "markdown",
   "id": "75baab01",
   "metadata": {},
   "source": [
    "We can obesrve there are 1836 null values in this column"
   ]
  },
  {
   "cell_type": "code",
   "execution_count": 8,
   "id": "a81bad54",
   "metadata": {},
   "outputs": [
    {
     "data": {
      "text/plain": [
       " 10th              933\n",
       " 11th             1175\n",
       " 12th              433\n",
       " 1st-4th           168\n",
       " 5th-6th           333\n",
       " 7th-8th           646\n",
       " 9th               514\n",
       " Assoc-acdm       1067\n",
       " Assoc-voc        1382\n",
       " Bachelors        5354\n",
       " Doctorate         413\n",
       " HS-grad         10501\n",
       " Masters          1723\n",
       " Preschool          51\n",
       " Prof-school       576\n",
       " Some-college     7291\n",
       "dtype: int64"
      ]
     },
     "execution_count": 8,
     "metadata": {},
     "output_type": "execute_result"
    }
   ],
   "source": [
    "pd.get_dummies(df['Education']).sum()"
   ]
  },
  {
   "cell_type": "code",
   "execution_count": 9,
   "id": "6d2c7c07",
   "metadata": {},
   "outputs": [
    {
     "data": {
      "text/plain": [
       "Index(['Age', 'Workclass', 'Fnlwgt', 'Education', 'Education_num',\n",
       "       'Marital_status', 'Occupation', 'Relationship', 'Race', 'Sex',\n",
       "       'Capital_gain', 'Capital_loss', 'Hours_per_week', 'Native_country',\n",
       "       'Income'],\n",
       "      dtype='object')"
      ]
     },
     "execution_count": 9,
     "metadata": {},
     "output_type": "execute_result"
    }
   ],
   "source": [
    "df.columns"
   ]
  },
  {
   "cell_type": "code",
   "execution_count": 10,
   "id": "561bad4e",
   "metadata": {},
   "outputs": [
    {
     "data": {
      "text/plain": [
       "1        51\n",
       "2       168\n",
       "3       333\n",
       "4       646\n",
       "5       514\n",
       "6       933\n",
       "7      1175\n",
       "8       433\n",
       "9     10501\n",
       "10     7291\n",
       "11     1382\n",
       "12     1067\n",
       "13     5354\n",
       "14     1723\n",
       "15      576\n",
       "16      413\n",
       "dtype: int64"
      ]
     },
     "execution_count": 10,
     "metadata": {},
     "output_type": "execute_result"
    }
   ],
   "source": [
    "pd.get_dummies(df['Education_num']).sum()"
   ]
  },
  {
   "cell_type": "markdown",
   "id": "340c8513",
   "metadata": {},
   "source": [
    "We can observe Education and Education number gives us same information we can drop any of these two columns. In this case we will drop Education column."
   ]
  },
  {
   "cell_type": "code",
   "execution_count": 11,
   "id": "6cdae7fd",
   "metadata": {
    "scrolled": true
   },
   "outputs": [
    {
     "data": {
      "text/plain": [
       " Divorced                  4443\n",
       " Married-AF-spouse           23\n",
       " Married-civ-spouse       14976\n",
       " Married-spouse-absent      418\n",
       " Never-married            10682\n",
       " Separated                 1025\n",
       " Widowed                    993\n",
       "dtype: int64"
      ]
     },
     "execution_count": 11,
     "metadata": {},
     "output_type": "execute_result"
    }
   ],
   "source": [
    "pd.get_dummies(df['Marital_status']).sum()"
   ]
  },
  {
   "cell_type": "markdown",
   "id": "88375963",
   "metadata": {},
   "source": [
    "We can observe data is of object type and we need to convert the data using labelencoder."
   ]
  },
  {
   "cell_type": "code",
   "execution_count": 12,
   "id": "87c787c0",
   "metadata": {},
   "outputs": [
    {
     "data": {
      "text/plain": [
       " ?                    1843\n",
       " Adm-clerical         3769\n",
       " Armed-Forces            9\n",
       " Craft-repair         4099\n",
       " Exec-managerial      4066\n",
       " Farming-fishing       994\n",
       " Handlers-cleaners    1370\n",
       " Machine-op-inspct    2002\n",
       " Other-service        3295\n",
       " Priv-house-serv       149\n",
       " Prof-specialty       4140\n",
       " Protective-serv       649\n",
       " Sales                3650\n",
       " Tech-support          928\n",
       " Transport-moving     1597\n",
       "dtype: int64"
      ]
     },
     "execution_count": 12,
     "metadata": {},
     "output_type": "execute_result"
    }
   ],
   "source": [
    "pd.get_dummies(df['Occupation']).sum()"
   ]
  },
  {
   "cell_type": "markdown",
   "id": "94a8cfbe",
   "metadata": {},
   "source": [
    "We can observe data is of object type and has 1843 null values."
   ]
  },
  {
   "cell_type": "code",
   "execution_count": 13,
   "id": "985679e2",
   "metadata": {},
   "outputs": [
    {
     "data": {
      "text/plain": [
       " Husband           13193\n",
       " Not-in-family      8304\n",
       " Other-relative      981\n",
       " Own-child          5068\n",
       " Unmarried          3446\n",
       " Wife               1568\n",
       "dtype: int64"
      ]
     },
     "execution_count": 13,
     "metadata": {},
     "output_type": "execute_result"
    }
   ],
   "source": [
    "pd.get_dummies(df['Relationship']).sum()"
   ]
  },
  {
   "cell_type": "markdown",
   "id": "b258bdb5",
   "metadata": {},
   "source": [
    "Data is of object type and needs to be converted."
   ]
  },
  {
   "cell_type": "code",
   "execution_count": 14,
   "id": "234a4799",
   "metadata": {},
   "outputs": [
    {
     "data": {
      "text/plain": [
       " Amer-Indian-Eskimo      311\n",
       " Asian-Pac-Islander     1039\n",
       " Black                  3124\n",
       " Other                   271\n",
       " White                 27815\n",
       "dtype: int64"
      ]
     },
     "execution_count": 14,
     "metadata": {},
     "output_type": "execute_result"
    }
   ],
   "source": [
    "pd.get_dummies(df['Race']).sum()"
   ]
  },
  {
   "cell_type": "code",
   "execution_count": 15,
   "id": "772fe50d",
   "metadata": {},
   "outputs": [
    {
     "data": {
      "text/plain": [
       " Female    10771\n",
       " Male      21789\n",
       "dtype: int64"
      ]
     },
     "execution_count": 15,
     "metadata": {},
     "output_type": "execute_result"
    }
   ],
   "source": [
    "pd.get_dummies(df['Sex']).sum()"
   ]
  },
  {
   "cell_type": "code",
   "execution_count": 16,
   "id": "6168edae",
   "metadata": {},
   "outputs": [
    {
     "data": {
      "text/plain": [
       " ?                               583\n",
       " Cambodia                         19\n",
       " Canada                          121\n",
       " China                            75\n",
       " Columbia                         59\n",
       " Cuba                             95\n",
       " Dominican-Republic               70\n",
       " Ecuador                          28\n",
       " El-Salvador                     106\n",
       " England                          90\n",
       " France                           29\n",
       " Germany                         137\n",
       " Greece                           29\n",
       " Guatemala                        64\n",
       " Haiti                            44\n",
       " Holand-Netherlands                1\n",
       " Honduras                         13\n",
       " Hong                             20\n",
       " Hungary                          13\n",
       " India                           100\n",
       " Iran                             43\n",
       " Ireland                          24\n",
       " Italy                            73\n",
       " Jamaica                          81\n",
       " Japan                            62\n",
       " Laos                             18\n",
       " Mexico                          643\n",
       " Nicaragua                        34\n",
       " Outlying-US(Guam-USVI-etc)       14\n",
       " Peru                             31\n",
       " Philippines                     198\n",
       " Poland                           60\n",
       " Portugal                         37\n",
       " Puerto-Rico                     114\n",
       " Scotland                         12\n",
       " South                            80\n",
       " Taiwan                           51\n",
       " Thailand                         18\n",
       " Trinadad&Tobago                  19\n",
       " United-States                 29169\n",
       " Vietnam                          67\n",
       " Yugoslavia                       16\n",
       "dtype: int64"
      ]
     },
     "execution_count": 16,
     "metadata": {},
     "output_type": "execute_result"
    }
   ],
   "source": [
    "pd.get_dummies(df['Native_country']).sum()"
   ]
  },
  {
   "cell_type": "markdown",
   "id": "dde712b1",
   "metadata": {},
   "source": [
    "We can observe 583 null values in this column"
   ]
  },
  {
   "cell_type": "code",
   "execution_count": 17,
   "id": "475bc9b9",
   "metadata": {},
   "outputs": [
    {
     "data": {
      "text/plain": [
       " <=50K    24719\n",
       " >50K      7841\n",
       "dtype: int64"
      ]
     },
     "execution_count": 17,
     "metadata": {},
     "output_type": "execute_result"
    }
   ],
   "source": [
    "pd.get_dummies(df['Income']).sum()"
   ]
  },
  {
   "cell_type": "markdown",
   "id": "76e14904",
   "metadata": {},
   "source": [
    "Observations:\n",
    "1)There are null values in Workclass,Occupation and Native_country columns.\n",
    "2)LabelEncoder will be used to convert categorical data.\n",
    "3)Target column - Income needs to be balanced."
   ]
  },
  {
   "cell_type": "markdown",
   "id": "27d7db1c",
   "metadata": {},
   "source": [
    "Handling missing values"
   ]
  },
  {
   "cell_type": "markdown",
   "id": "45f1ffb3",
   "metadata": {},
   "source": [
    "We will drop the rows with '?' values. Columns with value '?' are categorical and if we replace the data it can be biased hence dropping rows."
   ]
  },
  {
   "cell_type": "code",
   "execution_count": 18,
   "id": "cdd08fce",
   "metadata": {},
   "outputs": [
    {
     "data": {
      "text/plain": [
       " Federal-gov           960\n",
       " Local-gov            2093\n",
       " Never-worked            7\n",
       " Private             22696\n",
       " Self-emp-inc         1116\n",
       " Self-emp-not-inc     2541\n",
       " State-gov            1297\n",
       " Without-pay            14\n",
       "dtype: int64"
      ]
     },
     "execution_count": 18,
     "metadata": {},
     "output_type": "execute_result"
    }
   ],
   "source": [
    "df.drop(df[df['Workclass'] == ' ?'].index,inplace=True)\n",
    "pd.get_dummies(df['Workclass']).sum()"
   ]
  },
  {
   "cell_type": "code",
   "execution_count": 19,
   "id": "6e8efb1b",
   "metadata": {},
   "outputs": [
    {
     "data": {
      "text/plain": [
       " Cambodia                         18\n",
       " Canada                          107\n",
       " China                            68\n",
       " Columbia                         56\n",
       " Cuba                             92\n",
       " Dominican-Republic               67\n",
       " Ecuador                          27\n",
       " El-Salvador                     100\n",
       " England                          86\n",
       " France                           27\n",
       " Germany                         128\n",
       " Greece                           29\n",
       " Guatemala                        63\n",
       " Haiti                            42\n",
       " Holand-Netherlands                1\n",
       " Honduras                         12\n",
       " Hong                             19\n",
       " Hungary                          13\n",
       " India                           100\n",
       " Iran                             42\n",
       " Ireland                          24\n",
       " Italy                            68\n",
       " Jamaica                          80\n",
       " Japan                            59\n",
       " Laos                             17\n",
       " Mexico                          610\n",
       " Nicaragua                        33\n",
       " Outlying-US(Guam-USVI-etc)       14\n",
       " Peru                             30\n",
       " Philippines                     188\n",
       " Poland                           56\n",
       " Portugal                         34\n",
       " Puerto-Rico                     109\n",
       " Scotland                         11\n",
       " South                            71\n",
       " Taiwan                           42\n",
       " Thailand                         17\n",
       " Trinadad&Tobago                  18\n",
       " United-States                 27510\n",
       " Vietnam                          64\n",
       " Yugoslavia                       16\n",
       "dtype: int64"
      ]
     },
     "execution_count": 19,
     "metadata": {},
     "output_type": "execute_result"
    }
   ],
   "source": [
    "df.drop(df[df['Native_country'] == ' ?'].index,inplace=True)\n",
    "pd.get_dummies(df['Native_country']).sum()"
   ]
  },
  {
   "cell_type": "code",
   "execution_count": 20,
   "id": "ee449eb7",
   "metadata": {},
   "outputs": [
    {
     "data": {
      "text/plain": [
       " Adm-clerical         3720\n",
       " Armed-Forces            9\n",
       " Craft-repair         4030\n",
       " Exec-managerial      3992\n",
       " Farming-fishing       989\n",
       " Handlers-cleaners    1350\n",
       " Machine-op-inspct    1966\n",
       " Other-service        3212\n",
       " Priv-house-serv       143\n",
       " Prof-specialty       4038\n",
       " Protective-serv       644\n",
       " Sales                3584\n",
       " Tech-support          912\n",
       " Transport-moving     1572\n",
       "dtype: int64"
      ]
     },
     "execution_count": 20,
     "metadata": {},
     "output_type": "execute_result"
    }
   ],
   "source": [
    "df.drop(df[df['Occupation'] == ' ?'].index,inplace=True)\n",
    "pd.get_dummies(df['Occupation']).sum()"
   ]
  },
  {
   "cell_type": "code",
   "execution_count": 21,
   "id": "b0f934bf",
   "metadata": {},
   "outputs": [
    {
     "data": {
      "text/plain": [
       "(30161, 15)"
      ]
     },
     "execution_count": 21,
     "metadata": {},
     "output_type": "execute_result"
    }
   ],
   "source": [
    "df.shape"
   ]
  },
  {
   "cell_type": "markdown",
   "id": "02046180",
   "metadata": {},
   "source": [
    "Percentage Data Loss"
   ]
  },
  {
   "cell_type": "code",
   "execution_count": 22,
   "id": "cfa7eb42",
   "metadata": {},
   "outputs": [
    {
     "data": {
      "text/plain": [
       "7.367936117936118"
      ]
     },
     "execution_count": 22,
     "metadata": {},
     "output_type": "execute_result"
    }
   ],
   "source": [
    "data_lost = ((32560-30161)/32560)*100\n",
    "data_lost"
   ]
  },
  {
   "cell_type": "markdown",
   "id": "a9f7d9ee",
   "metadata": {},
   "source": [
    "Using LabelEncoder"
   ]
  },
  {
   "cell_type": "code",
   "execution_count": 23,
   "id": "cdf343b9",
   "metadata": {},
   "outputs": [
    {
     "data": {
      "text/plain": [
       "2    22286\n",
       "4     2499\n",
       "1     2067\n",
       "5     1278\n",
       "3     1074\n",
       "0      943\n",
       "6       14\n",
       "Name: Workclass, dtype: int64"
      ]
     },
     "execution_count": 23,
     "metadata": {},
     "output_type": "execute_result"
    }
   ],
   "source": [
    "df['Workclass'] = le.fit_transform(df['Workclass'])\n",
    "df['Workclass'].value_counts()"
   ]
  },
  {
   "cell_type": "code",
   "execution_count": 24,
   "id": "faf9731b",
   "metadata": {},
   "outputs": [
    {
     "data": {
      "text/plain": [
       "9     4038\n",
       "2     4030\n",
       "3     3992\n",
       "0     3720\n",
       "11    3584\n",
       "7     3212\n",
       "6     1966\n",
       "13    1572\n",
       "5     1350\n",
       "4      989\n",
       "12     912\n",
       "10     644\n",
       "8      143\n",
       "1        9\n",
       "Name: Occupation, dtype: int64"
      ]
     },
     "execution_count": 24,
     "metadata": {},
     "output_type": "execute_result"
    }
   ],
   "source": [
    "df['Occupation'] = le.fit_transform(df['Occupation'])\n",
    "df['Occupation'].value_counts()"
   ]
  },
  {
   "cell_type": "code",
   "execution_count": 25,
   "id": "05181b15",
   "metadata": {},
   "outputs": [
    {
     "data": {
      "text/plain": [
       "2    14065\n",
       "4     9725\n",
       "0     4214\n",
       "5      939\n",
       "6      827\n",
       "3      370\n",
       "1       21\n",
       "Name: Marital_status, dtype: int64"
      ]
     },
     "execution_count": 25,
     "metadata": {},
     "output_type": "execute_result"
    }
   ],
   "source": [
    "df['Marital_status'] = le.fit_transform(df['Marital_status'])\n",
    "df['Marital_status'].value_counts()"
   ]
  },
  {
   "cell_type": "code",
   "execution_count": 26,
   "id": "16b2b36c",
   "metadata": {},
   "outputs": [
    {
     "data": {
      "text/plain": [
       "0    12463\n",
       "1     7725\n",
       "3     4466\n",
       "4     3212\n",
       "5     1406\n",
       "2      889\n",
       "Name: Relationship, dtype: int64"
      ]
     },
     "execution_count": 26,
     "metadata": {},
     "output_type": "execute_result"
    }
   ],
   "source": [
    "df['Relationship'] = le.fit_transform(df['Relationship'])\n",
    "df['Relationship'].value_counts()"
   ]
  },
  {
   "cell_type": "code",
   "execution_count": 27,
   "id": "833b4ef3",
   "metadata": {},
   "outputs": [
    {
     "data": {
      "text/plain": [
       "4    25932\n",
       "2     2817\n",
       "1      895\n",
       "0      286\n",
       "3      231\n",
       "Name: Race, dtype: int64"
      ]
     },
     "execution_count": 27,
     "metadata": {},
     "output_type": "execute_result"
    }
   ],
   "source": [
    "df['Race'] = le.fit_transform(df['Race'])\n",
    "df['Race'].value_counts()"
   ]
  },
  {
   "cell_type": "code",
   "execution_count": 28,
   "id": "0a4a428f",
   "metadata": {},
   "outputs": [
    {
     "data": {
      "text/plain": [
       "1    20379\n",
       "0     9782\n",
       "Name: Sex, dtype: int64"
      ]
     },
     "execution_count": 28,
     "metadata": {},
     "output_type": "execute_result"
    }
   ],
   "source": [
    "df['Sex'] = le.fit_transform(df['Sex'])\n",
    "df['Sex'].value_counts()"
   ]
  },
  {
   "cell_type": "code",
   "execution_count": 29,
   "id": "a57e946b",
   "metadata": {},
   "outputs": [
    {
     "data": {
      "text/plain": [
       "38    27503\n",
       "25      610\n",
       "29      188\n",
       "10      128\n",
       "32      109\n",
       "1       107\n",
       "18      100\n",
       "7       100\n",
       "4        92\n",
       "8        86\n",
       "22       80\n",
       "34       71\n",
       "2        68\n",
       "21       68\n",
       "5        67\n",
       "39       64\n",
       "12       63\n",
       "23       59\n",
       "30       56\n",
       "3        56\n",
       "19       42\n",
       "35       42\n",
       "13       42\n",
       "31       34\n",
       "26       33\n",
       "28       30\n",
       "11       29\n",
       "9        27\n",
       "6        27\n",
       "20       24\n",
       "16       19\n",
       "0        18\n",
       "37       18\n",
       "36       17\n",
       "24       17\n",
       "40       16\n",
       "27       14\n",
       "17       13\n",
       "15       12\n",
       "33       11\n",
       "14        1\n",
       "Name: Native_country, dtype: int64"
      ]
     },
     "execution_count": 29,
     "metadata": {},
     "output_type": "execute_result"
    }
   ],
   "source": [
    "df['Native_country'] = le.fit_transform(df['Native_country'])\n",
    "df['Native_country'].value_counts()"
   ]
  },
  {
   "cell_type": "code",
   "execution_count": 30,
   "id": "a099d297",
   "metadata": {},
   "outputs": [
    {
     "data": {
      "text/plain": [
       "0    22653\n",
       "1     7508\n",
       "Name: Income, dtype: int64"
      ]
     },
     "execution_count": 30,
     "metadata": {},
     "output_type": "execute_result"
    }
   ],
   "source": [
    "df['Income'] = le.fit_transform(df['Income'])\n",
    "df['Income'].value_counts()"
   ]
  },
  {
   "cell_type": "code",
   "execution_count": 31,
   "id": "41accd08",
   "metadata": {},
   "outputs": [
    {
     "data": {
      "text/html": [
       "<div>\n",
       "<style scoped>\n",
       "    .dataframe tbody tr th:only-of-type {\n",
       "        vertical-align: middle;\n",
       "    }\n",
       "\n",
       "    .dataframe tbody tr th {\n",
       "        vertical-align: top;\n",
       "    }\n",
       "\n",
       "    .dataframe thead th {\n",
       "        text-align: right;\n",
       "    }\n",
       "</style>\n",
       "<table border=\"1\" class=\"dataframe\">\n",
       "  <thead>\n",
       "    <tr style=\"text-align: right;\">\n",
       "      <th></th>\n",
       "      <th>Age</th>\n",
       "      <th>Workclass</th>\n",
       "      <th>Fnlwgt</th>\n",
       "      <th>Education_num</th>\n",
       "      <th>Marital_status</th>\n",
       "      <th>Occupation</th>\n",
       "      <th>Relationship</th>\n",
       "      <th>Race</th>\n",
       "      <th>Sex</th>\n",
       "      <th>Capital_gain</th>\n",
       "      <th>Capital_loss</th>\n",
       "      <th>Hours_per_week</th>\n",
       "      <th>Native_country</th>\n",
       "      <th>Income</th>\n",
       "    </tr>\n",
       "  </thead>\n",
       "  <tbody>\n",
       "    <tr>\n",
       "      <th>count</th>\n",
       "      <td>30161.000000</td>\n",
       "      <td>30161.000000</td>\n",
       "      <td>3.016100e+04</td>\n",
       "      <td>30161.000000</td>\n",
       "      <td>30161.000000</td>\n",
       "      <td>30161.000000</td>\n",
       "      <td>30161.000000</td>\n",
       "      <td>30161.000000</td>\n",
       "      <td>30161.000000</td>\n",
       "      <td>30161.000000</td>\n",
       "      <td>30161.000000</td>\n",
       "      <td>30161.000000</td>\n",
       "      <td>30161.000000</td>\n",
       "      <td>30161.000000</td>\n",
       "    </tr>\n",
       "    <tr>\n",
       "      <th>mean</th>\n",
       "      <td>38.437883</td>\n",
       "      <td>2.199231</td>\n",
       "      <td>1.897976e+05</td>\n",
       "      <td>10.121216</td>\n",
       "      <td>2.580087</td>\n",
       "      <td>5.960048</td>\n",
       "      <td>1.418355</td>\n",
       "      <td>3.678592</td>\n",
       "      <td>0.675674</td>\n",
       "      <td>1091.971984</td>\n",
       "      <td>88.375419</td>\n",
       "      <td>40.931269</td>\n",
       "      <td>36.382514</td>\n",
       "      <td>0.248931</td>\n",
       "    </tr>\n",
       "    <tr>\n",
       "      <th>std</th>\n",
       "      <td>13.134882</td>\n",
       "      <td>0.953804</td>\n",
       "      <td>1.056527e+05</td>\n",
       "      <td>2.549983</td>\n",
       "      <td>1.498018</td>\n",
       "      <td>4.029487</td>\n",
       "      <td>1.601363</td>\n",
       "      <td>0.834721</td>\n",
       "      <td>0.468130</td>\n",
       "      <td>7406.466659</td>\n",
       "      <td>404.304753</td>\n",
       "      <td>11.980182</td>\n",
       "      <td>6.105467</td>\n",
       "      <td>0.432401</td>\n",
       "    </tr>\n",
       "    <tr>\n",
       "      <th>min</th>\n",
       "      <td>17.000000</td>\n",
       "      <td>0.000000</td>\n",
       "      <td>1.376900e+04</td>\n",
       "      <td>1.000000</td>\n",
       "      <td>0.000000</td>\n",
       "      <td>0.000000</td>\n",
       "      <td>0.000000</td>\n",
       "      <td>0.000000</td>\n",
       "      <td>0.000000</td>\n",
       "      <td>0.000000</td>\n",
       "      <td>0.000000</td>\n",
       "      <td>1.000000</td>\n",
       "      <td>0.000000</td>\n",
       "      <td>0.000000</td>\n",
       "    </tr>\n",
       "    <tr>\n",
       "      <th>25%</th>\n",
       "      <td>28.000000</td>\n",
       "      <td>2.000000</td>\n",
       "      <td>1.176280e+05</td>\n",
       "      <td>9.000000</td>\n",
       "      <td>2.000000</td>\n",
       "      <td>2.000000</td>\n",
       "      <td>0.000000</td>\n",
       "      <td>4.000000</td>\n",
       "      <td>0.000000</td>\n",
       "      <td>0.000000</td>\n",
       "      <td>0.000000</td>\n",
       "      <td>40.000000</td>\n",
       "      <td>38.000000</td>\n",
       "      <td>0.000000</td>\n",
       "    </tr>\n",
       "    <tr>\n",
       "      <th>50%</th>\n",
       "      <td>37.000000</td>\n",
       "      <td>2.000000</td>\n",
       "      <td>1.784290e+05</td>\n",
       "      <td>10.000000</td>\n",
       "      <td>2.000000</td>\n",
       "      <td>6.000000</td>\n",
       "      <td>1.000000</td>\n",
       "      <td>4.000000</td>\n",
       "      <td>1.000000</td>\n",
       "      <td>0.000000</td>\n",
       "      <td>0.000000</td>\n",
       "      <td>40.000000</td>\n",
       "      <td>38.000000</td>\n",
       "      <td>0.000000</td>\n",
       "    </tr>\n",
       "    <tr>\n",
       "      <th>75%</th>\n",
       "      <td>47.000000</td>\n",
       "      <td>2.000000</td>\n",
       "      <td>2.376300e+05</td>\n",
       "      <td>13.000000</td>\n",
       "      <td>4.000000</td>\n",
       "      <td>9.000000</td>\n",
       "      <td>3.000000</td>\n",
       "      <td>4.000000</td>\n",
       "      <td>1.000000</td>\n",
       "      <td>0.000000</td>\n",
       "      <td>0.000000</td>\n",
       "      <td>45.000000</td>\n",
       "      <td>38.000000</td>\n",
       "      <td>0.000000</td>\n",
       "    </tr>\n",
       "    <tr>\n",
       "      <th>max</th>\n",
       "      <td>90.000000</td>\n",
       "      <td>6.000000</td>\n",
       "      <td>1.484705e+06</td>\n",
       "      <td>16.000000</td>\n",
       "      <td>6.000000</td>\n",
       "      <td>13.000000</td>\n",
       "      <td>5.000000</td>\n",
       "      <td>4.000000</td>\n",
       "      <td>1.000000</td>\n",
       "      <td>99999.000000</td>\n",
       "      <td>4356.000000</td>\n",
       "      <td>99.000000</td>\n",
       "      <td>40.000000</td>\n",
       "      <td>1.000000</td>\n",
       "    </tr>\n",
       "  </tbody>\n",
       "</table>\n",
       "</div>"
      ],
      "text/plain": [
       "                Age     Workclass        Fnlwgt  Education_num  \\\n",
       "count  30161.000000  30161.000000  3.016100e+04   30161.000000   \n",
       "mean      38.437883      2.199231  1.897976e+05      10.121216   \n",
       "std       13.134882      0.953804  1.056527e+05       2.549983   \n",
       "min       17.000000      0.000000  1.376900e+04       1.000000   \n",
       "25%       28.000000      2.000000  1.176280e+05       9.000000   \n",
       "50%       37.000000      2.000000  1.784290e+05      10.000000   \n",
       "75%       47.000000      2.000000  2.376300e+05      13.000000   \n",
       "max       90.000000      6.000000  1.484705e+06      16.000000   \n",
       "\n",
       "       Marital_status    Occupation  Relationship          Race           Sex  \\\n",
       "count    30161.000000  30161.000000  30161.000000  30161.000000  30161.000000   \n",
       "mean         2.580087      5.960048      1.418355      3.678592      0.675674   \n",
       "std          1.498018      4.029487      1.601363      0.834721      0.468130   \n",
       "min          0.000000      0.000000      0.000000      0.000000      0.000000   \n",
       "25%          2.000000      2.000000      0.000000      4.000000      0.000000   \n",
       "50%          2.000000      6.000000      1.000000      4.000000      1.000000   \n",
       "75%          4.000000      9.000000      3.000000      4.000000      1.000000   \n",
       "max          6.000000     13.000000      5.000000      4.000000      1.000000   \n",
       "\n",
       "       Capital_gain  Capital_loss  Hours_per_week  Native_country  \\\n",
       "count  30161.000000  30161.000000    30161.000000    30161.000000   \n",
       "mean    1091.971984     88.375419       40.931269       36.382514   \n",
       "std     7406.466659    404.304753       11.980182        6.105467   \n",
       "min        0.000000      0.000000        1.000000        0.000000   \n",
       "25%        0.000000      0.000000       40.000000       38.000000   \n",
       "50%        0.000000      0.000000       40.000000       38.000000   \n",
       "75%        0.000000      0.000000       45.000000       38.000000   \n",
       "max    99999.000000   4356.000000       99.000000       40.000000   \n",
       "\n",
       "             Income  \n",
       "count  30161.000000  \n",
       "mean       0.248931  \n",
       "std        0.432401  \n",
       "min        0.000000  \n",
       "25%        0.000000  \n",
       "50%        0.000000  \n",
       "75%        0.000000  \n",
       "max        1.000000  "
      ]
     },
     "execution_count": 31,
     "metadata": {},
     "output_type": "execute_result"
    }
   ],
   "source": [
    "df.describe()"
   ]
  },
  {
   "cell_type": "markdown",
   "id": "046b954b",
   "metadata": {},
   "source": [
    "Key Observations"
   ]
  },
  {
   "cell_type": "markdown",
   "id": "0ea39f71",
   "metadata": {},
   "source": [
    "1) Slight difference in mean and 50% indicates skewnwss in data.\n",
    "2) There is difference in 75% and max values which indicates outliers."
   ]
  },
  {
   "cell_type": "code",
   "execution_count": 32,
   "id": "3448d1dc",
   "metadata": {},
   "outputs": [
    {
     "data": {
      "text/plain": [
       "array([[<AxesSubplot:title={'center':'Age'}>,\n",
       "        <AxesSubplot:title={'center':'Workclass'}>,\n",
       "        <AxesSubplot:title={'center':'Fnlwgt'}>,\n",
       "        <AxesSubplot:title={'center':'Education_num'}>,\n",
       "        <AxesSubplot:title={'center':'Marital_status'}>,\n",
       "        <AxesSubplot:title={'center':'Occupation'}>],\n",
       "       [<AxesSubplot:title={'center':'Relationship'}>,\n",
       "        <AxesSubplot:title={'center':'Race'}>,\n",
       "        <AxesSubplot:title={'center':'Sex'}>,\n",
       "        <AxesSubplot:title={'center':'Capital_gain'}>,\n",
       "        <AxesSubplot:title={'center':'Capital_loss'}>,\n",
       "        <AxesSubplot:title={'center':'Hours_per_week'}>],\n",
       "       [<AxesSubplot:title={'center':'Native_country'}>,\n",
       "        <AxesSubplot:title={'center':'Income'}>, <AxesSubplot:>,\n",
       "        <AxesSubplot:>, <AxesSubplot:>, <AxesSubplot:>],\n",
       "       [<AxesSubplot:>, <AxesSubplot:>, <AxesSubplot:>, <AxesSubplot:>,\n",
       "        <AxesSubplot:>, <AxesSubplot:>]], dtype=object)"
      ]
     },
     "execution_count": 32,
     "metadata": {},
     "output_type": "execute_result"
    },
    {
     "data": {
      "image/png": "[encoded data removed]",
      "text/plain": [
       "<Figure size 1440x1440 with 24 Axes>"
      ]
     },
     "metadata": {
      "needs_background": "light"
     },
     "output_type": "display_data"
    }
   ],
   "source": [
    "df.hist(figsize=(20,20),grid=True,layout=(4,6),bins=30)"
   ]
  },
  {
   "cell_type": "markdown",
   "id": "f047c74c",
   "metadata": {},
   "source": [
    "Checking Correlation"
   ]
  },
  {
   "cell_type": "code",
   "execution_count": 35,
   "id": "f9bd5c8a",
   "metadata": {},
   "outputs": [
    {
     "data": {
      "text/plain": [
       "Relationship     -0.251009\n",
       "Marital_status   -0.193504\n",
       "Fnlwgt           -0.008978\n",
       "Workclass         0.018103\n",
       "Native_country    0.023273\n",
       "Occupation        0.051551\n",
       "Race              0.071666\n",
       "Capital_loss      0.150050\n",
       "Sex               0.216715\n",
       "Capital_gain      0.221200\n",
       "Hours_per_week    0.229480\n",
       "Age               0.242000\n",
       "Education_num     0.335317\n",
       "Income            1.000000\n",
       "Name: Income, dtype: float64"
      ]
     },
     "execution_count": 35,
     "metadata": {},
     "output_type": "execute_result"
    }
   ],
   "source": [
    "df.corr()['Income'].sort_values()"
   ]
  },
  {
   "cell_type": "code",
   "execution_count": 36,
   "id": "f081c275",
   "metadata": {},
   "outputs": [
    {
     "data": {
      "image/png": "[encoded data removed]",
      "text/plain": [
       "<Figure size 1584x504 with 2 Axes>"
      ]
     },
     "metadata": {
      "needs_background": "light"
     },
     "output_type": "display_data"
    }
   ],
   "source": [
    "corr_mat = df.corr()\n",
    "plt.figure(figsize=[22,7])\n",
    "sns.heatmap(corr_mat,annot=True)\n",
    "plt.title('Correlation Matrix')\n",
    "plt.savefig('Correlation_matrix.jpg')\n",
    "plt.show()"
   ]
  },
  {
   "cell_type": "markdown",
   "id": "92d07139",
   "metadata": {},
   "source": [
    "Checking multicollinearity"
   ]
  },
  {
   "cell_type": "code",
   "execution_count": 41,
   "id": "6752d202",
   "metadata": {},
   "outputs": [],
   "source": [
    "df.drop(['Education'],axis=1,inplace=True)"
   ]
  },
  {
   "cell_type": "code",
   "execution_count": 42,
   "id": "7ff9306a",
   "metadata": {},
   "outputs": [],
   "source": [
    "x = df.drop(['Income'],axis=1)\n",
    "y = df['Income']"
   ]
  },
  {
   "cell_type": "code",
   "execution_count": 43,
   "id": "6af92fd9",
   "metadata": {},
   "outputs": [
    {
     "data": {
      "text/plain": [
       "array([[ 0.880275  ,  1.88801789, -1.00790871, ..., -0.21858977,\n",
       "        -2.33149486,  0.26492864],\n",
       "       [-0.03333799, -0.20888368,  0.24465878, ..., -0.21858977,\n",
       "        -0.07773541,  0.26492864],\n",
       "       [ 1.10867824, -0.20888368,  0.42520607, ..., -0.21858977,\n",
       "        -0.07773541,  0.26492864],\n",
       "       ...,\n",
       "       [ 1.48935032, -0.20888368, -0.35861051, ..., -0.21858977,\n",
       "        -0.07773541,  0.26492864],\n",
       "       [-1.25148865, -0.20888368,  0.11067045, ..., -0.21858977,\n",
       "        -1.74718685,  0.26492864],\n",
       "       [ 1.03254383,  0.8395671 ,  0.92880758, ..., -0.21858977,\n",
       "        -0.07773541,  0.26492864]])"
      ]
     },
     "execution_count": 43,
     "metadata": {},
     "output_type": "execute_result"
    }
   ],
   "source": [
    "scaler = StandardScaler()\n",
    "X_scaled = scaler.fit_transform(x)\n",
    "X_scaled"
   ]
  },
  {
   "cell_type": "code",
   "execution_count": 44,
   "id": "6f274229",
   "metadata": {},
   "outputs": [
    {
     "data": {
      "text/html": [
       "<div>\n",
       "<style scoped>\n",
       "    .dataframe tbody tr th:only-of-type {\n",
       "        vertical-align: middle;\n",
       "    }\n",
       "\n",
       "    .dataframe tbody tr th {\n",
       "        vertical-align: top;\n",
       "    }\n",
       "\n",
       "    .dataframe thead th {\n",
       "        text-align: right;\n",
       "    }\n",
       "</style>\n",
       "<table border=\"1\" class=\"dataframe\">\n",
       "  <thead>\n",
       "    <tr style=\"text-align: right;\">\n",
       "      <th></th>\n",
       "      <th>vif</th>\n",
       "      <th>Features</th>\n",
       "    </tr>\n",
       "  </thead>\n",
       "  <tbody>\n",
       "    <tr>\n",
       "      <th>0</th>\n",
       "      <td>1.158382</td>\n",
       "      <td>Age</td>\n",
       "    </tr>\n",
       "    <tr>\n",
       "      <th>1</th>\n",
       "      <td>1.015598</td>\n",
       "      <td>Workclass</td>\n",
       "    </tr>\n",
       "    <tr>\n",
       "      <th>2</th>\n",
       "      <td>1.014235</td>\n",
       "      <td>Fnlwgt</td>\n",
       "    </tr>\n",
       "    <tr>\n",
       "      <th>3</th>\n",
       "      <td>1.070933</td>\n",
       "      <td>Education_num</td>\n",
       "    </tr>\n",
       "    <tr>\n",
       "      <th>4</th>\n",
       "      <td>1.127503</td>\n",
       "      <td>Marital_status</td>\n",
       "    </tr>\n",
       "    <tr>\n",
       "      <th>5</th>\n",
       "      <td>1.013774</td>\n",
       "      <td>Occupation</td>\n",
       "    </tr>\n",
       "    <tr>\n",
       "      <th>6</th>\n",
       "      <td>1.674664</td>\n",
       "      <td>Relationship</td>\n",
       "    </tr>\n",
       "    <tr>\n",
       "      <th>7</th>\n",
       "      <td>1.034811</td>\n",
       "      <td>Race</td>\n",
       "    </tr>\n",
       "    <tr>\n",
       "      <th>8</th>\n",
       "      <td>1.566759</td>\n",
       "      <td>Sex</td>\n",
       "    </tr>\n",
       "    <tr>\n",
       "      <th>9</th>\n",
       "      <td>1.029036</td>\n",
       "      <td>Capital_gain</td>\n",
       "    </tr>\n",
       "    <tr>\n",
       "      <th>10</th>\n",
       "      <td>1.015495</td>\n",
       "      <td>Capital_loss</td>\n",
       "    </tr>\n",
       "    <tr>\n",
       "      <th>11</th>\n",
       "      <td>1.132220</td>\n",
       "      <td>Hours_per_week</td>\n",
       "    </tr>\n",
       "    <tr>\n",
       "      <th>12</th>\n",
       "      <td>1.028264</td>\n",
       "      <td>Native_country</td>\n",
       "    </tr>\n",
       "  </tbody>\n",
       "</table>\n",
       "</div>"
      ],
      "text/plain": [
       "         vif        Features\n",
       "0   1.158382             Age\n",
       "1   1.015598       Workclass\n",
       "2   1.014235          Fnlwgt\n",
       "3   1.070933   Education_num\n",
       "4   1.127503  Marital_status\n",
       "5   1.013774      Occupation\n",
       "6   1.674664    Relationship\n",
       "7   1.034811            Race\n",
       "8   1.566759             Sex\n",
       "9   1.029036    Capital_gain\n",
       "10  1.015495    Capital_loss\n",
       "11  1.132220  Hours_per_week\n",
       "12  1.028264  Native_country"
      ]
     },
     "execution_count": 44,
     "metadata": {},
     "output_type": "execute_result"
    }
   ],
   "source": [
    "vif = pd.DataFrame()\n",
    "vif['vif'] = [variance_inflation_factor(X_scaled,i) for i in range(X_scaled.shape[1])]\n",
    "vif['Features'] = x.columns\n",
    "\n",
    "vif"
   ]
  },
  {
   "cell_type": "markdown",
   "id": "0f0bd840",
   "metadata": {},
   "source": [
    "We can observe Multi colinearity doesnt exist."
   ]
  },
  {
   "cell_type": "markdown",
   "id": "58843662",
   "metadata": {},
   "source": [
    "Checking Skewness"
   ]
  },
  {
   "cell_type": "code",
   "execution_count": 45,
   "id": "1375ceba",
   "metadata": {},
   "outputs": [
    {
     "data": {
      "text/plain": [
       "Age                0.530223\n",
       "Workclass          1.154786\n",
       "Fnlwgt             1.459212\n",
       "Education_num     -0.305328\n",
       "Marital_status    -0.009387\n",
       "Occupation         0.110420\n",
       "Relationship       0.820275\n",
       "Race              -2.506976\n",
       "Sex               -0.750584\n",
       "Capital_gain      11.902511\n",
       "Capital_loss       4.526294\n",
       "Hours_per_week     0.330856\n",
       "Native_country    -4.178826\n",
       "Income             1.161357\n",
       "dtype: float64"
      ]
     },
     "execution_count": 45,
     "metadata": {},
     "output_type": "execute_result"
    }
   ],
   "source": [
    "df.skew()"
   ]
  },
  {
   "cell_type": "code",
   "execution_count": 46,
   "id": "e3b8d470",
   "metadata": {},
   "outputs": [],
   "source": [
    "columns = ('Workclass','Fnlwgt','Relationship','Race','Sex','Capital_gain','Capital_loss','Native_country')\n",
    "\n",
    "for col in columns:\n",
    "    if df.skew().loc[col]>0.55:\n",
    "        df[col] = np.log1p(df[col])"
   ]
  },
  {
   "cell_type": "code",
   "execution_count": 47,
   "id": "46e04b47",
   "metadata": {},
   "outputs": [
    {
     "data": {
      "text/plain": [
       "Age               0.530223\n",
       "Workclass        -0.884646\n",
       "Fnlwgt           -0.838473\n",
       "Education_num    -0.305328\n",
       "Marital_status   -0.009387\n",
       "Occupation        0.110420\n",
       "Relationship      0.317904\n",
       "Race             -2.506976\n",
       "Sex              -0.750584\n",
       "Capital_gain      3.073907\n",
       "Capital_loss      4.272304\n",
       "Hours_per_week    0.330856\n",
       "Native_country   -4.178826\n",
       "Income            1.161357\n",
       "dtype: float64"
      ]
     },
     "execution_count": 47,
     "metadata": {},
     "output_type": "execute_result"
    }
   ],
   "source": [
    "df.skew()"
   ]
  },
  {
   "cell_type": "markdown",
   "id": "77f570c7",
   "metadata": {},
   "source": [
    "We can observe skewness has been reduced and lies in rage between 0.009 to 4.2"
   ]
  },
  {
   "cell_type": "markdown",
   "id": "61dca675",
   "metadata": {},
   "source": [
    "Checking outliers"
   ]
  },
  {
   "cell_type": "code",
   "execution_count": 49,
   "id": "14648890",
   "metadata": {},
   "outputs": [
    {
     "data": {
      "text/plain": [
       "Age                  AxesSubplot(0.125,0.787927;0.352273x0.0920732)\n",
       "Workclass         AxesSubplot(0.547727,0.787927;0.352273x0.0920732)\n",
       "Fnlwgt               AxesSubplot(0.125,0.677439;0.352273x0.0920732)\n",
       "Education_num     AxesSubplot(0.547727,0.677439;0.352273x0.0920732)\n",
       "Marital_status       AxesSubplot(0.125,0.566951;0.352273x0.0920732)\n",
       "Occupation        AxesSubplot(0.547727,0.566951;0.352273x0.0920732)\n",
       "Relationship         AxesSubplot(0.125,0.456463;0.352273x0.0920732)\n",
       "Race              AxesSubplot(0.547727,0.456463;0.352273x0.0920732)\n",
       "Sex                  AxesSubplot(0.125,0.345976;0.352273x0.0920732)\n",
       "Capital_gain      AxesSubplot(0.547727,0.345976;0.352273x0.0920732)\n",
       "Capital_loss         AxesSubplot(0.125,0.235488;0.352273x0.0920732)\n",
       "Hours_per_week    AxesSubplot(0.547727,0.235488;0.352273x0.0920732)\n",
       "Native_country          AxesSubplot(0.125,0.125;0.352273x0.0920732)\n",
       "Income               AxesSubplot(0.547727,0.125;0.352273x0.0920732)\n",
       "dtype: object"
      ]
     },
     "execution_count": 49,
     "metadata": {},
     "output_type": "execute_result"
    },
    {
     "data": {
      "image/png": "[encoded data removed]",
      "text/plain": [
       "<Figure size 432x288 with 14 Axes>"
      ]
     },
     "metadata": {
      "needs_background": "light"
     },
     "output_type": "display_data"
    }
   ],
   "source": [
    "df.plot(kind='box',subplots=True,layout=(7,2))"
   ]
  },
  {
   "cell_type": "markdown",
   "id": "307162a6",
   "metadata": {},
   "source": [
    "We can observe outliers are present hence we will remove the outliers now."
   ]
  },
  {
   "cell_type": "code",
   "execution_count": 60,
   "id": "72fef8f9",
   "metadata": {},
   "outputs": [
    {
     "data": {
      "text/plain": [
       "(array([    4,    37,    40, ..., 23503, 23618, 23619], dtype=int64),\n",
       " array([12, 12,  9, ...,  9, 12,  9], dtype=int64))"
      ]
     },
     "execution_count": 60,
     "metadata": {},
     "output_type": "execute_result"
    }
   ],
   "source": [
    "z=np.abs(zscore(df))\n",
    "threshold=3\n",
    "np.where(z>3)"
   ]
  },
  {
   "cell_type": "code",
   "execution_count": 61,
   "id": "33e5897a",
   "metadata": {},
   "outputs": [
    {
     "data": {
      "text/html": [
       "<div>\n",
       "<style scoped>\n",
       "    .dataframe tbody tr th:only-of-type {\n",
       "        vertical-align: middle;\n",
       "    }\n",
       "\n",
       "    .dataframe tbody tr th {\n",
       "        vertical-align: top;\n",
       "    }\n",
       "\n",
       "    .dataframe thead th {\n",
       "        text-align: right;\n",
       "    }\n",
       "</style>\n",
       "<table border=\"1\" class=\"dataframe\">\n",
       "  <thead>\n",
       "    <tr style=\"text-align: right;\">\n",
       "      <th></th>\n",
       "      <th>Age</th>\n",
       "      <th>Workclass</th>\n",
       "      <th>Fnlwgt</th>\n",
       "      <th>Education_num</th>\n",
       "      <th>Marital_status</th>\n",
       "      <th>Occupation</th>\n",
       "      <th>Relationship</th>\n",
       "      <th>Race</th>\n",
       "      <th>Sex</th>\n",
       "      <th>Capital_gain</th>\n",
       "      <th>Capital_loss</th>\n",
       "      <th>Hours_per_week</th>\n",
       "      <th>Native_country</th>\n",
       "      <th>Income</th>\n",
       "    </tr>\n",
       "  </thead>\n",
       "  <tbody>\n",
       "    <tr>\n",
       "      <th>0</th>\n",
       "      <td>50</td>\n",
       "      <td>1.609438</td>\n",
       "      <td>11.330348</td>\n",
       "      <td>13</td>\n",
       "      <td>2</td>\n",
       "      <td>3</td>\n",
       "      <td>0.000000</td>\n",
       "      <td>4</td>\n",
       "      <td>1</td>\n",
       "      <td>0.0</td>\n",
       "      <td>0.0</td>\n",
       "      <td>13</td>\n",
       "      <td>38</td>\n",
       "      <td>0</td>\n",
       "    </tr>\n",
       "    <tr>\n",
       "      <th>1</th>\n",
       "      <td>38</td>\n",
       "      <td>1.098612</td>\n",
       "      <td>12.281398</td>\n",
       "      <td>9</td>\n",
       "      <td>0</td>\n",
       "      <td>5</td>\n",
       "      <td>0.693147</td>\n",
       "      <td>4</td>\n",
       "      <td>1</td>\n",
       "      <td>0.0</td>\n",
       "      <td>0.0</td>\n",
       "      <td>40</td>\n",
       "      <td>38</td>\n",
       "      <td>0</td>\n",
       "    </tr>\n",
       "    <tr>\n",
       "      <th>2</th>\n",
       "      <td>53</td>\n",
       "      <td>1.098612</td>\n",
       "      <td>12.366157</td>\n",
       "      <td>7</td>\n",
       "      <td>2</td>\n",
       "      <td>5</td>\n",
       "      <td>0.000000</td>\n",
       "      <td>2</td>\n",
       "      <td>1</td>\n",
       "      <td>0.0</td>\n",
       "      <td>0.0</td>\n",
       "      <td>40</td>\n",
       "      <td>38</td>\n",
       "      <td>0</td>\n",
       "    </tr>\n",
       "    <tr>\n",
       "      <th>4</th>\n",
       "      <td>37</td>\n",
       "      <td>1.098612</td>\n",
       "      <td>12.558780</td>\n",
       "      <td>14</td>\n",
       "      <td>2</td>\n",
       "      <td>3</td>\n",
       "      <td>1.791759</td>\n",
       "      <td>4</td>\n",
       "      <td>0</td>\n",
       "      <td>0.0</td>\n",
       "      <td>0.0</td>\n",
       "      <td>40</td>\n",
       "      <td>38</td>\n",
       "      <td>0</td>\n",
       "    </tr>\n",
       "    <tr>\n",
       "      <th>6</th>\n",
       "      <td>52</td>\n",
       "      <td>1.609438</td>\n",
       "      <td>12.253161</td>\n",
       "      <td>9</td>\n",
       "      <td>2</td>\n",
       "      <td>3</td>\n",
       "      <td>0.000000</td>\n",
       "      <td>4</td>\n",
       "      <td>1</td>\n",
       "      <td>0.0</td>\n",
       "      <td>0.0</td>\n",
       "      <td>45</td>\n",
       "      <td>38</td>\n",
       "      <td>1</td>\n",
       "    </tr>\n",
       "    <tr>\n",
       "      <th>...</th>\n",
       "      <td>...</td>\n",
       "      <td>...</td>\n",
       "      <td>...</td>\n",
       "      <td>...</td>\n",
       "      <td>...</td>\n",
       "      <td>...</td>\n",
       "      <td>...</td>\n",
       "      <td>...</td>\n",
       "      <td>...</td>\n",
       "      <td>...</td>\n",
       "      <td>...</td>\n",
       "      <td>...</td>\n",
       "      <td>...</td>\n",
       "      <td>...</td>\n",
       "    </tr>\n",
       "    <tr>\n",
       "      <th>32554</th>\n",
       "      <td>22</td>\n",
       "      <td>1.098612</td>\n",
       "      <td>12.644821</td>\n",
       "      <td>10</td>\n",
       "      <td>4</td>\n",
       "      <td>10</td>\n",
       "      <td>0.693147</td>\n",
       "      <td>4</td>\n",
       "      <td>1</td>\n",
       "      <td>0.0</td>\n",
       "      <td>0.0</td>\n",
       "      <td>40</td>\n",
       "      <td>38</td>\n",
       "      <td>0</td>\n",
       "    </tr>\n",
       "    <tr>\n",
       "      <th>32555</th>\n",
       "      <td>27</td>\n",
       "      <td>1.098612</td>\n",
       "      <td>12.458010</td>\n",
       "      <td>12</td>\n",
       "      <td>2</td>\n",
       "      <td>12</td>\n",
       "      <td>1.791759</td>\n",
       "      <td>4</td>\n",
       "      <td>0</td>\n",
       "      <td>0.0</td>\n",
       "      <td>0.0</td>\n",
       "      <td>38</td>\n",
       "      <td>38</td>\n",
       "      <td>0</td>\n",
       "    </tr>\n",
       "    <tr>\n",
       "      <th>32556</th>\n",
       "      <td>40</td>\n",
       "      <td>1.098612</td>\n",
       "      <td>11.947140</td>\n",
       "      <td>9</td>\n",
       "      <td>2</td>\n",
       "      <td>6</td>\n",
       "      <td>0.000000</td>\n",
       "      <td>4</td>\n",
       "      <td>1</td>\n",
       "      <td>0.0</td>\n",
       "      <td>0.0</td>\n",
       "      <td>40</td>\n",
       "      <td>38</td>\n",
       "      <td>1</td>\n",
       "    </tr>\n",
       "    <tr>\n",
       "      <th>32557</th>\n",
       "      <td>58</td>\n",
       "      <td>1.098612</td>\n",
       "      <td>11.931050</td>\n",
       "      <td>9</td>\n",
       "      <td>6</td>\n",
       "      <td>0</td>\n",
       "      <td>1.609438</td>\n",
       "      <td>4</td>\n",
       "      <td>0</td>\n",
       "      <td>0.0</td>\n",
       "      <td>0.0</td>\n",
       "      <td>40</td>\n",
       "      <td>38</td>\n",
       "      <td>0</td>\n",
       "    </tr>\n",
       "    <tr>\n",
       "      <th>32558</th>\n",
       "      <td>22</td>\n",
       "      <td>1.098612</td>\n",
       "      <td>12.213500</td>\n",
       "      <td>9</td>\n",
       "      <td>4</td>\n",
       "      <td>0</td>\n",
       "      <td>1.386294</td>\n",
       "      <td>4</td>\n",
       "      <td>1</td>\n",
       "      <td>0.0</td>\n",
       "      <td>0.0</td>\n",
       "      <td>20</td>\n",
       "      <td>38</td>\n",
       "      <td>0</td>\n",
       "    </tr>\n",
       "  </tbody>\n",
       "</table>\n",
       "<p>22095 rows × 14 columns</p>\n",
       "</div>"
      ],
      "text/plain": [
       "       Age  Workclass     Fnlwgt  Education_num  Marital_status  Occupation  \\\n",
       "0       50   1.609438  11.330348             13               2           3   \n",
       "1       38   1.098612  12.281398              9               0           5   \n",
       "2       53   1.098612  12.366157              7               2           5   \n",
       "4       37   1.098612  12.558780             14               2           3   \n",
       "6       52   1.609438  12.253161              9               2           3   \n",
       "...    ...        ...        ...            ...             ...         ...   \n",
       "32554   22   1.098612  12.644821             10               4          10   \n",
       "32555   27   1.098612  12.458010             12               2          12   \n",
       "32556   40   1.098612  11.947140              9               2           6   \n",
       "32557   58   1.098612  11.931050              9               6           0   \n",
       "32558   22   1.098612  12.213500              9               4           0   \n",
       "\n",
       "       Relationship  Race  Sex  Capital_gain  Capital_loss  Hours_per_week  \\\n",
       "0          0.000000     4    1           0.0           0.0              13   \n",
       "1          0.693147     4    1           0.0           0.0              40   \n",
       "2          0.000000     2    1           0.0           0.0              40   \n",
       "4          1.791759     4    0           0.0           0.0              40   \n",
       "6          0.000000     4    1           0.0           0.0              45   \n",
       "...             ...   ...  ...           ...           ...             ...   \n",
       "32554      0.693147     4    1           0.0           0.0              40   \n",
       "32555      1.791759     4    0           0.0           0.0              38   \n",
       "32556      0.000000     4    1           0.0           0.0              40   \n",
       "32557      1.609438     4    0           0.0           0.0              40   \n",
       "32558      1.386294     4    1           0.0           0.0              20   \n",
       "\n",
       "       Native_country  Income  \n",
       "0                  38       0  \n",
       "1                  38       0  \n",
       "2                  38       0  \n",
       "4                  38       0  \n",
       "6                  38       1  \n",
       "...               ...     ...  \n",
       "32554              38       0  \n",
       "32555              38       0  \n",
       "32556              38       1  \n",
       "32557              38       0  \n",
       "32558              38       0  \n",
       "\n",
       "[22095 rows x 14 columns]"
      ]
     },
     "execution_count": 61,
     "metadata": {},
     "output_type": "execute_result"
    }
   ],
   "source": [
    "df_new = df[(z<3).all(axis=1)]\n",
    "df_new"
   ]
  },
  {
   "cell_type": "code",
   "execution_count": 52,
   "id": "5280d4b9",
   "metadata": {},
   "outputs": [
    {
     "data": {
      "text/plain": [
       "(23629, 14)"
      ]
     },
     "execution_count": 52,
     "metadata": {},
     "output_type": "execute_result"
    }
   ],
   "source": [
    "df_new.shape"
   ]
  },
  {
   "cell_type": "code",
   "execution_count": 53,
   "id": "b3f63a57",
   "metadata": {},
   "outputs": [
    {
     "data": {
      "text/plain": [
       "21.657106859852128"
      ]
     },
     "execution_count": 53,
     "metadata": {},
     "output_type": "execute_result"
    }
   ],
   "source": [
    "ab = ((30161-23629)/30161)*100\n",
    "ab"
   ]
  },
  {
   "cell_type": "markdown",
   "id": "141c9eb9",
   "metadata": {},
   "source": [
    "As we can observe we cannot eleminate 21% data hence we will not remove outliers."
   ]
  },
  {
   "cell_type": "markdown",
   "id": "7fc47919",
   "metadata": {},
   "source": [
    "Balancing data in target column 'Income'."
   ]
  },
  {
   "cell_type": "markdown",
   "id": "e2effa5d",
   "metadata": {},
   "source": [
    "!pip install -U imbalanced.learn"
   ]
  },
  {
   "cell_type": "code",
   "execution_count": 63,
   "id": "9b81138f",
   "metadata": {},
   "outputs": [],
   "source": [
    "from imblearn.over_sampling import SMOTE"
   ]
  },
  {
   "cell_type": "code",
   "execution_count": 64,
   "id": "21b529b9",
   "metadata": {},
   "outputs": [],
   "source": [
    "smt = SMOTE()\n",
    "trainx,trainy=smt.fit_resample(x,y)"
   ]
  },
  {
   "cell_type": "code",
   "execution_count": 65,
   "id": "77390bd0",
   "metadata": {},
   "outputs": [
    {
     "data": {
      "text/plain": [
       "Age  Workclass  Fnlwgt  Education_num  Marital_status  Occupation  Relationship  Race  Sex  Capital_gain  Capital_loss  Hours_per_week  Native_country\n",
       "38   2          207202  9              2               6           0             4     1    0             0             48              38                3\n",
       "42   2          201728  10             2               10          0             4     1    0             0             40              38                3\n",
       "52   2          123011  10             2               3           0             4     1    0             0             45              38                3\n",
       "40   2          123306  11             2               9           0             4     1    0             0             40              38                3\n",
       "41   3          204235  13             2               9           0             4     1    0             0             46              38                3\n",
       "                                                                                                                                                         ..\n",
       "34   5          287908  9              4               7           3             2     1    0             0             42              38                1\n",
       "                318982  14             2               6           0             4     1    0             1848          40              38                1\n",
       "                327902  13             2               9           0             4     1    0             0             55              38                1\n",
       "                355700  9              5               0           4             4     0    0             0             20              38                1\n",
       "90   4          282095  10             2               4           0             4     1    0             0             40              38                1\n",
       "Length: 45131, dtype: int64"
      ]
     },
     "execution_count": 65,
     "metadata": {},
     "output_type": "execute_result"
    }
   ],
   "source": [
    "trainx.value_counts()"
   ]
  },
  {
   "cell_type": "code",
   "execution_count": 66,
   "id": "0dd49f16",
   "metadata": {},
   "outputs": [
    {
     "data": {
      "text/plain": [
       "0    22653\n",
       "1    22653\n",
       "Name: Income, dtype: int64"
      ]
     },
     "execution_count": 66,
     "metadata": {},
     "output_type": "execute_result"
    }
   ],
   "source": [
    "trainy.value_counts()"
   ]
  },
  {
   "cell_type": "code",
   "execution_count": 67,
   "id": "fa6949f8",
   "metadata": {},
   "outputs": [
    {
     "name": "stdout",
     "output_type": "stream",
     "text": [
      "Accuracy score for random state:  0  is  0.8334559561233362\n",
      "Accuracy score for random state:  0  is  0.5937395491940338\n",
      "Accuracy score for random state:  0  is  0.8796067152698817\n",
      "Accuracy score for random state:  0  is  0.7120593940204668\n",
      "Accuracy score for random state:  0  is  0.6568791385191626\n",
      "Accuracy score for random state:  1  is  0.8307805497960002\n",
      "Accuracy score for random state:  1  is  0.5918667647648986\n",
      "Accuracy score for random state:  1  is  0.8811450739080998\n",
      "Accuracy score for random state:  1  is  0.7027623570329744\n",
      "Accuracy score for random state:  1  is  0.655273894722761\n",
      "Accuracy score for random state:  2  is  0.8325195639087687\n",
      "Accuracy score for random state:  2  is  0.5924687311885493\n",
      "Accuracy score for random state:  2  is  0.8794729449535148\n",
      "Accuracy score for random state:  2  is  0.7068423516821617\n",
      "Accuracy score for random state:  2  is  0.6596883151628654\n",
      "Accuracy score for random state:  3  is  0.8324526787505853\n",
      "Accuracy score for random state:  3  is  0.5968831516286536\n",
      "Accuracy score for random state:  3  is  0.88134572938265\n",
      "Accuracy score for random state:  3  is  0.7083807103203799\n",
      "Accuracy score for random state:  3  is  0.6210286937328606\n",
      "Accuracy score for random state:  4  is  0.8331884154906026\n",
      "Accuracy score for random state:  4  is  0.5948097117249682\n",
      "Accuracy score for random state:  4  is  0.8778008159989298\n",
      "Accuracy score for random state:  4  is  0.702361046083874\n",
      "Accuracy score for random state:  4  is  0.6219650859474283\n",
      "Accuracy score for random state:  5  is  0.8274362918868303\n",
      "Accuracy score for random state:  5  is  0.5918667647648986\n",
      "Accuracy score for random state:  5  is  0.8751254096715939\n",
      "Accuracy score for random state:  5  is  0.7081800548458297\n",
      "Accuracy score for random state:  5  is  0.6154772256036386\n",
      "Accuracy score for random state:  6  is  0.8338572670724367\n",
      "Accuracy score for random state:  6  is  0.5956792187813524\n",
      "Accuracy score for random state:  6  is  0.8788709785298642\n",
      "Accuracy score for random state:  6  is  0.710253494749515\n",
      "Accuracy score for random state:  6  is  0.6616279847501839\n",
      "Accuracy score for random state:  7  is  0.8317169420105679\n",
      "Accuracy score for random state:  7  is  0.5871848036920607\n",
      "Accuracy score for random state:  7  is  0.8787372082134974\n",
      "Accuracy score for random state:  7  is  0.7029630125075246\n",
      "Accuracy score for random state:  7  is  0.6861748378034914\n",
      "Accuracy score for random state:  8  is  0.8339910373888034\n",
      "Accuracy score for random state:  8  is  0.5889907029630125\n",
      "Accuracy score for random state:  8  is  0.8827503177045014\n",
      "Accuracy score for random state:  8  is  0.7073774329476289\n",
      "Accuracy score for random state:  8  is  0.6813591064142867\n",
      "Accuracy score for random state:  9  is  0.8355293960270216\n",
      "Accuracy score for random state:  9  is  0.5906628319175975\n",
      "Accuracy score for random state:  9  is  0.8812788442244666\n",
      "Accuracy score for random state:  9  is  0.7082469400040131\n",
      "Accuracy score for random state:  9  is  0.6645040465520701\n",
      "Accuracy score for random state:  10  is  0.8321851381178517\n",
      "Accuracy score for random state:  10  is  0.5942077453013176\n",
      "Accuracy score for random state:  10  is  0.8821483512808508\n",
      "Accuracy score for random state:  10  is  0.7047689117784763\n",
      "Accuracy score for random state:  10  is  0.6217644304728781\n",
      "Accuracy score for random state:  11  is  0.8309143201123671\n",
      "Accuracy score for random state:  11  is  0.5944084007758679\n",
      "Accuracy score for random state:  11  is  0.8760618018861615\n",
      "Accuracy score for random state:  11  is  0.7050364524112099\n",
      "Accuracy score for random state:  11  is  0.6651728981339041\n",
      "Accuracy score for random state:  12  is  0.8346598889706374\n",
      "Accuracy score for random state:  12  is  0.585713330212026\n",
      "Accuracy score for random state:  12  is  0.8826165473881346\n",
      "Accuracy score for random state:  12  is  0.70169219450204\n",
      "Accuracy score for random state:  12  is  0.6519965219717745\n",
      "Accuracy score for random state:  13  is  0.8295766169486991\n",
      "Accuracy score for random state:  13  is  0.5920005350812655\n",
      "Accuracy score for random state:  13  is  0.8780014714734801\n",
      "Accuracy score for random state:  13  is  0.705705303993044\n",
      "Accuracy score for random state:  13  is  0.6664437161393887\n",
      "Accuracy score for random state:  14  is  0.8300448130559829\n",
      "Accuracy score for random state:  14  is  0.5831716942010567\n",
      "Accuracy score for random state:  14  is  0.8801417965353489\n",
      "Accuracy score for random state:  14  is  0.7085813657949301\n",
      "Accuracy score for random state:  14  is  0.6553407798809444\n",
      "Accuracy score for random state:  15  is  0.8247608855594943\n",
      "Accuracy score for random state:  15  is  0.5950103671995184\n",
      "Accuracy score for random state:  15  is  0.8761286870443449\n",
      "Accuracy score for random state:  15  is  0.7049026820948432\n",
      "Accuracy score for random state:  15  is  0.6247073774329476\n",
      "Accuracy score for random state:  16  is  0.8300448130559829\n",
      "Accuracy score for random state:  16  is  0.5900608654939469\n",
      "Accuracy score for random state:  16  is  0.8815463848572002\n",
      "Accuracy score for random state:  16  is  0.7087820212694803\n",
      "Accuracy score for random state:  16  is  0.6589525784228479\n",
      "Accuracy score for random state:  17  is  0.8341916928633536\n",
      "Accuracy score for random state:  17  is  0.590261520968497\n",
      "Accuracy score for random state:  17  is  0.8804762223262658\n",
      "Accuracy score for random state:  17  is  0.699685639756538\n",
      "Accuracy score for random state:  17  is  0.6537355360845428\n",
      "Accuracy score for random state:  18  is  0.8239582636612935\n",
      "Accuracy score for random state:  18  is  0.5943415156176844\n",
      "Accuracy score for random state:  18  is  0.8704434485987559\n",
      "Accuracy score for random state:  18  is  0.7038325195639088\n",
      "Accuracy score for random state:  18  is  0.6200254163601097\n",
      "Accuracy score for random state:  19  is  0.834258578021537\n",
      "Accuracy score for random state:  19  is  0.5960805297304528\n",
      "Accuracy score for random state:  19  is  0.8755267206206943\n",
      "Accuracy score for random state:  19  is  0.7056384188348606\n",
      "Accuracy score for random state:  19  is  0.6616279847501839\n",
      "Accuracy score for random state:  20  is  0.8288408802086817\n",
      "Accuracy score for random state:  20  is  0.5884556216975453\n",
      "Accuracy score for random state:  20  is  0.8796067152698817\n",
      "Accuracy score for random state:  20  is  0.7009564577620226\n",
      "Accuracy score for random state:  20  is  0.6563440572536954\n",
      "Accuracy score for random state:  21  is  0.8287071098923149\n",
      "Accuracy score for random state:  21  is  0.5925356163467327\n",
      "Accuracy score for random state:  21  is  0.8802086816935322\n",
      "Accuracy score for random state:  21  is  0.7075112032639957\n",
      "Accuracy score for random state:  21  is  0.6550063540900274\n",
      "Accuracy score for random state:  22  is  0.8351280850779212\n",
      "Accuracy score for random state:  22  is  0.5920005350812655\n",
      "Accuracy score for random state:  22  is  0.8816132700153836\n",
      "Accuracy score for random state:  22  is  0.7054377633603104\n",
      "Accuracy score for random state:  22  is  0.6163467326600227\n",
      "Accuracy score for random state:  23  is  0.8246271152431276\n",
      "Accuracy score for random state:  23  is  0.588388736539362\n",
      "Accuracy score for random state:  23  is  0.8784027824225804\n",
      "Accuracy score for random state:  23  is  0.7144003745568859\n",
      "Accuracy score for random state:  23  is  0.6576817604173634\n",
      "Accuracy score for random state:  24  is  0.8319844826433015\n",
      "Accuracy score for random state:  24  is  0.5962143000468196\n",
      "Accuracy score for random state:  24  is  0.878335897264397\n",
      "Accuracy score for random state:  24  is  0.7123938198113838\n",
      "Accuracy score for random state:  24  is  0.6233027891110963\n",
      "Accuracy score for random state:  25  is  0.8318507123269346\n",
      "Accuracy score for random state:  25  is  0.5928031569794663\n",
      "Accuracy score for random state:  25  is  0.8761286870443449\n",
      "Accuracy score for random state:  25  is  0.7022941609256906\n",
      "Accuracy score for random state:  25  is  0.6607584776937997\n",
      "Accuracy score for random state:  26  is  0.8331884154906026\n",
      "Accuracy score for random state:  26  is  0.5964149555213698\n",
      "Accuracy score for random state:  26  is  0.8767975386261788\n",
      "Accuracy score for random state:  26  is  0.7107885760149822\n",
      "Accuracy score for random state:  26  is  0.6691191224667247\n",
      "Accuracy score for random state:  27  is  0.8293090763159655\n",
      "Accuracy score for random state:  27  is  0.592936927295833\n",
      "Accuracy score for random state:  27  is  0.8802086816935322\n",
      "Accuracy score for random state:  27  is  0.7058390743094107\n",
      "Accuracy score for random state:  27  is  0.6546719282991105\n",
      "Accuracy score for random state:  28  is  0.8298441575814327\n",
      "Accuracy score for random state:  28  is  0.5887231623302789\n",
      "Accuracy score for random state:  28  is  0.8806099926426326\n",
      "Accuracy score for random state:  28  is  0.7068423516821617\n",
      "Accuracy score for random state:  28  is  0.6285198314494014\n",
      "Accuracy score for random state:  29  is  0.8304461240050832\n",
      "Accuracy score for random state:  29  is  0.5884556216975453\n",
      "Accuracy score for random state:  29  is  0.8794060597953314\n",
      "Accuracy score for random state:  29  is  0.7100528392749649\n",
      "Accuracy score for random state:  29  is  0.6608922480101665\n",
      "Accuracy score for random state:  30  is  0.8341916928633536\n",
      "Accuracy score for random state:  30  is  0.5920005350812655\n",
      "Accuracy score for random state:  30  is  0.8762624573607116\n",
      "Accuracy score for random state:  30  is  0.7039662898802755\n",
      "Accuracy score for random state:  30  is  0.6305932713530867\n",
      "Accuracy score for random state:  31  is  0.8358638218179386\n",
      "Accuracy score for random state:  31  is  0.5970838071032037\n",
      "Accuracy score for random state:  31  is  0.8790716340044145\n",
      "Accuracy score for random state:  31  is  0.7077118587385459\n",
      "Accuracy score for random state:  31  is  0.6277172095512006\n",
      "Accuracy score for random state:  32  is  0.8303123536887165\n",
      "Accuracy score for random state:  32  is  0.5934051234031168\n",
      "Accuracy score for random state:  32  is  0.8747240987224935\n",
      "Accuracy score for random state:  32  is  0.7025617015584242\n",
      "Accuracy score for random state:  32  is  0.6598889706374156\n",
      "Accuracy score for random state:  33  is  0.8300448130559829\n",
      "Accuracy score for random state:  33  is  0.5913316834994314\n",
      "Accuracy score for random state:  33  is  0.8730519697679086\n",
      "Accuracy score for random state:  33  is  0.7037656344057254\n",
      "Accuracy score for random state:  33  is  0.6842351682161728\n",
      "Accuracy score for random state:  34  is  0.8299779278977995\n",
      "Accuracy score for random state:  34  is  0.5913316834994314\n",
      "Accuracy score for random state:  34  is  0.8743227877733931\n",
      "Accuracy score for random state:  34  is  0.7027623570329744\n",
      "Accuracy score for random state:  34  is  0.6635676543375025\n",
      "Accuracy score for random state:  35  is  0.8255635074576951\n",
      "Accuracy score for random state:  35  is  0.5887900474884623\n",
      "Accuracy score for random state:  35  is  0.8785365527389473\n",
      "Accuracy score for random state:  35  is  0.7062403852585112\n",
      "Accuracy score for random state:  35  is  0.6602902815865159\n",
      "Accuracy score for random state:  36  is  0.8274362918868303\n",
      "Accuracy score for random state:  36  is  0.5847769379974583\n",
      "Accuracy score for random state:  36  is  0.8787372082134974\n",
      "Accuracy score for random state:  36  is  0.7123938198113838\n",
      "Accuracy score for random state:  36  is  0.6578155307337302\n",
      "Accuracy score for random state:  37  is  0.834258578021537\n",
      "Accuracy score for random state:  37  is  0.5945421710922346\n",
      "Accuracy score for random state:  37  is  0.8744565580897599\n",
      "Accuracy score for random state:  37  is  0.7079793993712795\n",
      "Accuracy score for random state:  37  is  0.6587519229482978\n",
      "Accuracy score for random state:  38  is  0.8360644772924888\n",
      "Accuracy score for random state:  38  is  0.5940070898267674\n",
      "Accuracy score for random state:  38  is  0.8817470403317503\n",
      "Accuracy score for random state:  38  is  0.7022272757675072\n",
      "Accuracy score for random state:  38  is  0.6665774864557554\n",
      "Accuracy score for random state:  39  is  0.8335228412815197\n",
      "Accuracy score for random state:  39  is  0.5918667647648986\n",
      "Accuracy score for random state:  39  is  0.8822152364390342\n",
      "Accuracy score for random state:  39  is  0.7079793993712795\n",
      "Accuracy score for random state:  39  is  0.6243060664838472\n",
      "Accuracy score for random state:  40  is  0.8332553006487861\n",
      "Accuracy score for random state:  40  is  0.5912647983412481\n",
      "Accuracy score for random state:  40  is  0.8802086816935322\n",
      "Accuracy score for random state:  40  is  0.7100528392749649\n",
      "Accuracy score for random state:  40  is  0.6283860611330346\n",
      "Accuracy score for random state:  41  is  0.8291084208414153\n",
      "Accuracy score for random state:  41  is  0.5924687311885493\n",
      "Accuracy score for random state:  41  is  0.8817470403317503\n",
      "Accuracy score for random state:  41  is  0.7084475954785633\n",
      "Accuracy score for random state:  41  is  0.6637014246538693\n",
      "Accuracy score for random state:  42  is  0.8315162865360176\n",
      "Accuracy score for random state:  42  is  0.592936927295833\n",
      "Accuracy score for random state:  42  is  0.8773995050498294\n",
      "Accuracy score for random state:  42  is  0.7069092368403451\n",
      "Accuracy score for random state:  42  is  0.6610260183265333\n",
      "Accuracy score for random state:  43  is  0.828038258310481\n",
      "Accuracy score for random state:  43  is  0.5960805297304528\n",
      "Accuracy score for random state:  43  is  0.8760618018861615\n",
      "Accuracy score for random state:  43  is  0.710253494749515\n",
      "Accuracy score for random state:  43  is  0.6846364791652733\n",
      "Accuracy score for random state:  44  is  0.8327871045415023\n",
      "Accuracy score for random state:  44  is  0.5877867701157113\n",
      "Accuracy score for random state:  44  is  0.8796067152698817\n",
      "Accuracy score for random state:  44  is  0.7015584241856732\n",
      "Accuracy score for random state:  44  is  0.6279847501839342\n",
      "Accuracy score for random state:  45  is  0.8285064544177647\n",
      "Accuracy score for random state:  45  is  0.5938733195104007\n",
      "Accuracy score for random state:  45  is  0.8777339308407465\n",
      "Accuracy score for random state:  45  is  0.705370878202127\n",
      "Accuracy score for random state:  45  is  0.6235703297438299\n",
      "Accuracy score for random state:  46  is  0.8333221858069695\n",
      "Accuracy score for random state:  46  is  0.5875192294829777\n",
      "Accuracy score for random state:  46  is  0.880342452009899\n",
      "Accuracy score for random state:  46  is  0.7127951307604843\n",
      "Accuracy score for random state:  46  is  0.6804895993579024\n",
      "Accuracy score for random state:  47  is  0.8374690656143402\n",
      "Accuracy score for random state:  47  is  0.5901946358103137\n",
      "Accuracy score for random state:  47  is  0.8816132700153836\n",
      "Accuracy score for random state:  47  is  0.7105210353822486\n",
      "Accuracy score for random state:  47  is  0.659621430004682\n",
      "Accuracy score for random state:  48  is  0.8331215303324192\n",
      "Accuracy score for random state:  48  is  0.5954785633068023\n",
      "Accuracy score for random state:  48  is  0.877332619891646\n",
      "Accuracy score for random state:  48  is  0.7087151361112969\n",
      "Accuracy score for random state:  48  is  0.6606915925356164\n",
      "Accuracy score for random state:  49  is  0.8398100461507592\n",
      "Accuracy score for random state:  49  is  0.5911979131830647\n",
      "Accuracy score for random state:  49  is  0.8824158919135844\n",
      "Accuracy score for random state:  49  is  0.7034312086148083\n",
      "Accuracy score for random state:  49  is  0.6558089759882282\n",
      "\n",
      "\n",
      "\n",
      "\n",
      "\n"
     ]
    }
   ],
   "source": [
    "model = [DecisionTreeClassifier(),SVC(),RandomForestClassifier(),KNeighborsClassifier(),LogisticRegression()]\n",
    "\n",
    "for i in range(0,50):\n",
    "    x_train,x_test,y_train,y_test = train_test_split(trainx,trainy,test_size=0.33,random_state=i)\n",
    "    for models in model:\n",
    "        models.fit(x_train,y_train)\n",
    "        prediction = models.predict(x_test)\n",
    "        accu_Score = accuracy_score(y_test,prediction)\n",
    "        print(\"Accuracy score for random state: \", i, \" is \",accu_Score)\n",
    "print()\n",
    "print()\n",
    "print()\n",
    "print()\n",
    "print()"
   ]
  },
  {
   "cell_type": "markdown",
   "id": "ff667fa5",
   "metadata": {},
   "source": [
    "We can observe the highest accuracy Score:0.8827503177045014 is at random state 8 and for model: RandomForestClassifier."
   ]
  },
  {
   "cell_type": "markdown",
   "id": "80d9da0c",
   "metadata": {},
   "source": [
    "Best Parameter"
   ]
  },
  {
   "cell_type": "code",
   "execution_count": 70,
   "id": "de0fe91f",
   "metadata": {},
   "outputs": [
    {
     "data": {
      "text/plain": [
       "{'max_features': 'auto'}"
      ]
     },
     "execution_count": 70,
     "metadata": {},
     "output_type": "execute_result"
    }
   ],
   "source": [
    "x1_train,x1_test,y1_train,y1_test = train_test_split(trainx,trainy,test_size=0.33,random_state=8)\n",
    "rfc = RandomForestClassifier()\n",
    "parameters={'max_features': ['auto','sqrt','log2']}\n",
    "gridsearch =GridSearchCV(rfc,parameters)\n",
    "gridsearch.fit(x_train,y_train)\n",
    "gridsearch.best_params_"
   ]
  },
  {
   "cell_type": "code",
   "execution_count": 71,
   "id": "47cd07b5",
   "metadata": {},
   "outputs": [
    {
     "name": "stdout",
     "output_type": "stream",
     "text": [
      "Accuracy Score is:  0.8822821215972175\n"
     ]
    }
   ],
   "source": [
    "Rfc = RandomForestClassifier(max_features='auto')\n",
    "Rfc.fit(x_train,y_train)\n",
    "predictions = Rfc.predict(x_test)\n",
    "AccScore = accuracy_score(y_test,predictions)\n",
    "print(\"Accuracy Score is: \",AccScore)"
   ]
  },
  {
   "cell_type": "markdown",
   "id": "2ace2d65",
   "metadata": {},
   "source": [
    "Accuracy score is 88% with RandomForestClassifier"
   ]
  },
  {
   "cell_type": "code",
   "execution_count": 72,
   "id": "40d701fa",
   "metadata": {},
   "outputs": [],
   "source": [
    "score = cross_val_score(Rfc,x,y,cv=5)"
   ]
  },
  {
   "cell_type": "code",
   "execution_count": 73,
   "id": "b906bf90",
   "metadata": {},
   "outputs": [
    {
     "name": "stdout",
     "output_type": "stream",
     "text": [
      "Croos Val Score:  [0.85347257 0.84930371 0.85643236 0.8589191  0.85527188]\n",
      "Mean Score:  0.8546799246496171\n",
      "std Score:  0.0032172471587898835\n"
     ]
    }
   ],
   "source": [
    "print(\"Croos Val Score: \",score)\n",
    "print(\"Mean Score: \",score.mean())\n",
    "print(\"std Score: \",score.std())"
   ]
  },
  {
   "cell_type": "code",
   "execution_count": null,
   "id": "f51ce106",
   "metadata": {},
   "outputs": [],
   "source": []
  }
 ],
 "metadata": {
  "kernelspec": {
   "display_name": "Python 3 (ipykernel)",
   "language": "python",
   "name": "python3"
  },
  "language_info": {
   "codemirror_mode": {
    "name": "ipython",
    "version": 3
   },
   "file_extension": ".py",
   "mimetype": "text/x-python",
   "name": "python",
   "nbconvert_exporter": "python",
   "pygments_lexer": "ipython3",
   "version": "3.9.7"
  }
 },
 "nbformat": 4,
 "nbformat_minor": 5
}
